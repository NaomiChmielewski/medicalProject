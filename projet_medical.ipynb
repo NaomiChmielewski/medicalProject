{
 "cells": [
  {
   "cell_type": "code",
   "execution_count": 1,
   "metadata": {
    "id": "PzE_6rs06hI1"
   },
   "outputs": [],
   "source": [
    "import numpy as np\n",
    "import pandas as pd\n",
    "\n",
    "from sklearn import svm\n",
    "from sklearn.model_selection import KFold, StratifiedKFold\n",
    "from sklearn.model_selection import GridSearchCV\n",
    "from sklearn.decomposition import PCA, KernelPCA\n",
    "from sklearn.discriminant_analysis import LinearDiscriminantAnalysis\n",
    "from sklearn.linear_model import LogisticRegression\n",
    "from sklearn.ensemble import AdaBoostClassifier\n",
    "from sklearn.preprocessing import LabelEncoder\n",
    "\n",
    "from xgboost import XGBClassifier\n",
    "\n",
    "import matplotlib.pyplot as plt\n",
    "import seaborn as sns"
   ]
  },
  {
   "cell_type": "code",
   "execution_count": 2,
   "metadata": {
    "colab": {
     "base_uri": "https://localhost:8080/",
     "height": 741
    },
    "id": "0-NY05TC6soP",
    "outputId": "634f8cf7-1b64-4c6f-8453-6777ecc197f2"
   },
   "outputs": [
    {
     "data": {
      "text/html": [
       "<div>\n",
       "<style scoped>\n",
       "    .dataframe tbody tr th:only-of-type {\n",
       "        vertical-align: middle;\n",
       "    }\n",
       "\n",
       "    .dataframe tbody tr th {\n",
       "        vertical-align: top;\n",
       "    }\n",
       "\n",
       "    .dataframe thead th {\n",
       "        text-align: right;\n",
       "    }\n",
       "</style>\n",
       "<table border=\"1\" class=\"dataframe\">\n",
       "  <thead>\n",
       "    <tr style=\"text-align: right;\">\n",
       "      <th></th>\n",
       "      <th>ID</th>\n",
       "      <th>N_Days</th>\n",
       "      <th>Status</th>\n",
       "      <th>Drug</th>\n",
       "      <th>Age</th>\n",
       "      <th>Sex</th>\n",
       "      <th>Ascites</th>\n",
       "      <th>Hepatomegaly</th>\n",
       "      <th>Spiders</th>\n",
       "      <th>Edema</th>\n",
       "      <th>Bilirubin</th>\n",
       "      <th>Cholesterol</th>\n",
       "      <th>Albumin</th>\n",
       "      <th>Copper</th>\n",
       "      <th>Alk_Phos</th>\n",
       "      <th>SGOT</th>\n",
       "      <th>Tryglicerides</th>\n",
       "      <th>Platelets</th>\n",
       "      <th>Prothrombin</th>\n",
       "      <th>Stage</th>\n",
       "    </tr>\n",
       "  </thead>\n",
       "  <tbody>\n",
       "    <tr>\n",
       "      <th>0</th>\n",
       "      <td>1</td>\n",
       "      <td>400</td>\n",
       "      <td>D</td>\n",
       "      <td>D-penicillamine</td>\n",
       "      <td>21464</td>\n",
       "      <td>F</td>\n",
       "      <td>Y</td>\n",
       "      <td>Y</td>\n",
       "      <td>Y</td>\n",
       "      <td>Y</td>\n",
       "      <td>14.5</td>\n",
       "      <td>261.0</td>\n",
       "      <td>2.60</td>\n",
       "      <td>156.0</td>\n",
       "      <td>1718.0</td>\n",
       "      <td>137.95</td>\n",
       "      <td>172.0</td>\n",
       "      <td>190.0</td>\n",
       "      <td>12.2</td>\n",
       "      <td>4.0</td>\n",
       "    </tr>\n",
       "    <tr>\n",
       "      <th>1</th>\n",
       "      <td>2</td>\n",
       "      <td>4500</td>\n",
       "      <td>C</td>\n",
       "      <td>D-penicillamine</td>\n",
       "      <td>20617</td>\n",
       "      <td>F</td>\n",
       "      <td>N</td>\n",
       "      <td>Y</td>\n",
       "      <td>Y</td>\n",
       "      <td>N</td>\n",
       "      <td>1.1</td>\n",
       "      <td>302.0</td>\n",
       "      <td>4.14</td>\n",
       "      <td>54.0</td>\n",
       "      <td>7394.8</td>\n",
       "      <td>113.52</td>\n",
       "      <td>88.0</td>\n",
       "      <td>221.0</td>\n",
       "      <td>10.6</td>\n",
       "      <td>3.0</td>\n",
       "    </tr>\n",
       "    <tr>\n",
       "      <th>2</th>\n",
       "      <td>3</td>\n",
       "      <td>1012</td>\n",
       "      <td>D</td>\n",
       "      <td>D-penicillamine</td>\n",
       "      <td>25594</td>\n",
       "      <td>M</td>\n",
       "      <td>N</td>\n",
       "      <td>N</td>\n",
       "      <td>N</td>\n",
       "      <td>S</td>\n",
       "      <td>1.4</td>\n",
       "      <td>176.0</td>\n",
       "      <td>3.48</td>\n",
       "      <td>210.0</td>\n",
       "      <td>516.0</td>\n",
       "      <td>96.10</td>\n",
       "      <td>55.0</td>\n",
       "      <td>151.0</td>\n",
       "      <td>12.0</td>\n",
       "      <td>4.0</td>\n",
       "    </tr>\n",
       "    <tr>\n",
       "      <th>3</th>\n",
       "      <td>4</td>\n",
       "      <td>1925</td>\n",
       "      <td>D</td>\n",
       "      <td>D-penicillamine</td>\n",
       "      <td>19994</td>\n",
       "      <td>F</td>\n",
       "      <td>N</td>\n",
       "      <td>Y</td>\n",
       "      <td>Y</td>\n",
       "      <td>S</td>\n",
       "      <td>1.8</td>\n",
       "      <td>244.0</td>\n",
       "      <td>2.54</td>\n",
       "      <td>64.0</td>\n",
       "      <td>6121.8</td>\n",
       "      <td>60.63</td>\n",
       "      <td>92.0</td>\n",
       "      <td>183.0</td>\n",
       "      <td>10.3</td>\n",
       "      <td>4.0</td>\n",
       "    </tr>\n",
       "    <tr>\n",
       "      <th>4</th>\n",
       "      <td>5</td>\n",
       "      <td>1504</td>\n",
       "      <td>CL</td>\n",
       "      <td>Placebo</td>\n",
       "      <td>13918</td>\n",
       "      <td>F</td>\n",
       "      <td>N</td>\n",
       "      <td>Y</td>\n",
       "      <td>Y</td>\n",
       "      <td>N</td>\n",
       "      <td>3.4</td>\n",
       "      <td>279.0</td>\n",
       "      <td>3.53</td>\n",
       "      <td>143.0</td>\n",
       "      <td>671.0</td>\n",
       "      <td>113.15</td>\n",
       "      <td>72.0</td>\n",
       "      <td>136.0</td>\n",
       "      <td>10.9</td>\n",
       "      <td>3.0</td>\n",
       "    </tr>\n",
       "    <tr>\n",
       "      <th>5</th>\n",
       "      <td>6</td>\n",
       "      <td>2503</td>\n",
       "      <td>D</td>\n",
       "      <td>Placebo</td>\n",
       "      <td>24201</td>\n",
       "      <td>F</td>\n",
       "      <td>N</td>\n",
       "      <td>Y</td>\n",
       "      <td>N</td>\n",
       "      <td>N</td>\n",
       "      <td>0.8</td>\n",
       "      <td>248.0</td>\n",
       "      <td>3.98</td>\n",
       "      <td>50.0</td>\n",
       "      <td>944.0</td>\n",
       "      <td>93.00</td>\n",
       "      <td>63.0</td>\n",
       "      <td>NaN</td>\n",
       "      <td>11.0</td>\n",
       "      <td>3.0</td>\n",
       "    </tr>\n",
       "    <tr>\n",
       "      <th>6</th>\n",
       "      <td>7</td>\n",
       "      <td>1832</td>\n",
       "      <td>C</td>\n",
       "      <td>Placebo</td>\n",
       "      <td>20284</td>\n",
       "      <td>F</td>\n",
       "      <td>N</td>\n",
       "      <td>Y</td>\n",
       "      <td>N</td>\n",
       "      <td>N</td>\n",
       "      <td>1.0</td>\n",
       "      <td>322.0</td>\n",
       "      <td>4.09</td>\n",
       "      <td>52.0</td>\n",
       "      <td>824.0</td>\n",
       "      <td>60.45</td>\n",
       "      <td>213.0</td>\n",
       "      <td>204.0</td>\n",
       "      <td>9.7</td>\n",
       "      <td>3.0</td>\n",
       "    </tr>\n",
       "    <tr>\n",
       "      <th>7</th>\n",
       "      <td>8</td>\n",
       "      <td>2466</td>\n",
       "      <td>D</td>\n",
       "      <td>Placebo</td>\n",
       "      <td>19379</td>\n",
       "      <td>F</td>\n",
       "      <td>N</td>\n",
       "      <td>N</td>\n",
       "      <td>N</td>\n",
       "      <td>N</td>\n",
       "      <td>0.3</td>\n",
       "      <td>280.0</td>\n",
       "      <td>4.00</td>\n",
       "      <td>52.0</td>\n",
       "      <td>4651.2</td>\n",
       "      <td>28.38</td>\n",
       "      <td>189.0</td>\n",
       "      <td>373.0</td>\n",
       "      <td>11.0</td>\n",
       "      <td>3.0</td>\n",
       "    </tr>\n",
       "    <tr>\n",
       "      <th>8</th>\n",
       "      <td>9</td>\n",
       "      <td>2400</td>\n",
       "      <td>D</td>\n",
       "      <td>D-penicillamine</td>\n",
       "      <td>15526</td>\n",
       "      <td>F</td>\n",
       "      <td>N</td>\n",
       "      <td>N</td>\n",
       "      <td>Y</td>\n",
       "      <td>N</td>\n",
       "      <td>3.2</td>\n",
       "      <td>562.0</td>\n",
       "      <td>3.08</td>\n",
       "      <td>79.0</td>\n",
       "      <td>2276.0</td>\n",
       "      <td>144.15</td>\n",
       "      <td>88.0</td>\n",
       "      <td>251.0</td>\n",
       "      <td>11.0</td>\n",
       "      <td>2.0</td>\n",
       "    </tr>\n",
       "    <tr>\n",
       "      <th>9</th>\n",
       "      <td>10</td>\n",
       "      <td>51</td>\n",
       "      <td>D</td>\n",
       "      <td>Placebo</td>\n",
       "      <td>25772</td>\n",
       "      <td>F</td>\n",
       "      <td>Y</td>\n",
       "      <td>N</td>\n",
       "      <td>Y</td>\n",
       "      <td>Y</td>\n",
       "      <td>12.6</td>\n",
       "      <td>200.0</td>\n",
       "      <td>2.74</td>\n",
       "      <td>140.0</td>\n",
       "      <td>918.0</td>\n",
       "      <td>147.25</td>\n",
       "      <td>143.0</td>\n",
       "      <td>302.0</td>\n",
       "      <td>11.5</td>\n",
       "      <td>4.0</td>\n",
       "    </tr>\n",
       "    <tr>\n",
       "      <th>10</th>\n",
       "      <td>11</td>\n",
       "      <td>3762</td>\n",
       "      <td>D</td>\n",
       "      <td>Placebo</td>\n",
       "      <td>19619</td>\n",
       "      <td>F</td>\n",
       "      <td>N</td>\n",
       "      <td>Y</td>\n",
       "      <td>Y</td>\n",
       "      <td>N</td>\n",
       "      <td>1.4</td>\n",
       "      <td>259.0</td>\n",
       "      <td>4.16</td>\n",
       "      <td>46.0</td>\n",
       "      <td>1104.0</td>\n",
       "      <td>79.05</td>\n",
       "      <td>79.0</td>\n",
       "      <td>258.0</td>\n",
       "      <td>12.0</td>\n",
       "      <td>4.0</td>\n",
       "    </tr>\n",
       "    <tr>\n",
       "      <th>11</th>\n",
       "      <td>12</td>\n",
       "      <td>304</td>\n",
       "      <td>D</td>\n",
       "      <td>Placebo</td>\n",
       "      <td>21600</td>\n",
       "      <td>F</td>\n",
       "      <td>N</td>\n",
       "      <td>N</td>\n",
       "      <td>Y</td>\n",
       "      <td>N</td>\n",
       "      <td>3.6</td>\n",
       "      <td>236.0</td>\n",
       "      <td>3.52</td>\n",
       "      <td>94.0</td>\n",
       "      <td>591.0</td>\n",
       "      <td>82.15</td>\n",
       "      <td>95.0</td>\n",
       "      <td>71.0</td>\n",
       "      <td>13.6</td>\n",
       "      <td>4.0</td>\n",
       "    </tr>\n",
       "    <tr>\n",
       "      <th>12</th>\n",
       "      <td>13</td>\n",
       "      <td>3577</td>\n",
       "      <td>C</td>\n",
       "      <td>Placebo</td>\n",
       "      <td>16688</td>\n",
       "      <td>F</td>\n",
       "      <td>N</td>\n",
       "      <td>N</td>\n",
       "      <td>N</td>\n",
       "      <td>N</td>\n",
       "      <td>0.7</td>\n",
       "      <td>281.0</td>\n",
       "      <td>3.85</td>\n",
       "      <td>40.0</td>\n",
       "      <td>1181.0</td>\n",
       "      <td>88.35</td>\n",
       "      <td>130.0</td>\n",
       "      <td>244.0</td>\n",
       "      <td>10.6</td>\n",
       "      <td>3.0</td>\n",
       "    </tr>\n",
       "    <tr>\n",
       "      <th>13</th>\n",
       "      <td>14</td>\n",
       "      <td>1217</td>\n",
       "      <td>D</td>\n",
       "      <td>Placebo</td>\n",
       "      <td>20535</td>\n",
       "      <td>M</td>\n",
       "      <td>Y</td>\n",
       "      <td>Y</td>\n",
       "      <td>N</td>\n",
       "      <td>Y</td>\n",
       "      <td>0.8</td>\n",
       "      <td>NaN</td>\n",
       "      <td>2.27</td>\n",
       "      <td>43.0</td>\n",
       "      <td>728.0</td>\n",
       "      <td>71.00</td>\n",
       "      <td>NaN</td>\n",
       "      <td>156.0</td>\n",
       "      <td>11.0</td>\n",
       "      <td>4.0</td>\n",
       "    </tr>\n",
       "    <tr>\n",
       "      <th>14</th>\n",
       "      <td>15</td>\n",
       "      <td>3584</td>\n",
       "      <td>D</td>\n",
       "      <td>D-penicillamine</td>\n",
       "      <td>23612</td>\n",
       "      <td>F</td>\n",
       "      <td>N</td>\n",
       "      <td>N</td>\n",
       "      <td>N</td>\n",
       "      <td>N</td>\n",
       "      <td>0.8</td>\n",
       "      <td>231.0</td>\n",
       "      <td>3.87</td>\n",
       "      <td>173.0</td>\n",
       "      <td>9009.8</td>\n",
       "      <td>127.71</td>\n",
       "      <td>96.0</td>\n",
       "      <td>295.0</td>\n",
       "      <td>11.0</td>\n",
       "      <td>3.0</td>\n",
       "    </tr>\n",
       "    <tr>\n",
       "      <th>15</th>\n",
       "      <td>16</td>\n",
       "      <td>3672</td>\n",
       "      <td>C</td>\n",
       "      <td>Placebo</td>\n",
       "      <td>14772</td>\n",
       "      <td>F</td>\n",
       "      <td>N</td>\n",
       "      <td>N</td>\n",
       "      <td>N</td>\n",
       "      <td>N</td>\n",
       "      <td>0.7</td>\n",
       "      <td>204.0</td>\n",
       "      <td>3.66</td>\n",
       "      <td>28.0</td>\n",
       "      <td>685.0</td>\n",
       "      <td>72.85</td>\n",
       "      <td>58.0</td>\n",
       "      <td>198.0</td>\n",
       "      <td>10.8</td>\n",
       "      <td>3.0</td>\n",
       "    </tr>\n",
       "    <tr>\n",
       "      <th>16</th>\n",
       "      <td>17</td>\n",
       "      <td>769</td>\n",
       "      <td>D</td>\n",
       "      <td>Placebo</td>\n",
       "      <td>19060</td>\n",
       "      <td>F</td>\n",
       "      <td>N</td>\n",
       "      <td>Y</td>\n",
       "      <td>N</td>\n",
       "      <td>N</td>\n",
       "      <td>2.7</td>\n",
       "      <td>274.0</td>\n",
       "      <td>3.15</td>\n",
       "      <td>159.0</td>\n",
       "      <td>1533.0</td>\n",
       "      <td>117.80</td>\n",
       "      <td>128.0</td>\n",
       "      <td>224.0</td>\n",
       "      <td>10.5</td>\n",
       "      <td>4.0</td>\n",
       "    </tr>\n",
       "    <tr>\n",
       "      <th>17</th>\n",
       "      <td>18</td>\n",
       "      <td>131</td>\n",
       "      <td>D</td>\n",
       "      <td>D-penicillamine</td>\n",
       "      <td>19698</td>\n",
       "      <td>F</td>\n",
       "      <td>N</td>\n",
       "      <td>Y</td>\n",
       "      <td>Y</td>\n",
       "      <td>Y</td>\n",
       "      <td>11.4</td>\n",
       "      <td>178.0</td>\n",
       "      <td>2.80</td>\n",
       "      <td>588.0</td>\n",
       "      <td>961.0</td>\n",
       "      <td>280.55</td>\n",
       "      <td>200.0</td>\n",
       "      <td>283.0</td>\n",
       "      <td>12.4</td>\n",
       "      <td>4.0</td>\n",
       "    </tr>\n",
       "    <tr>\n",
       "      <th>18</th>\n",
       "      <td>19</td>\n",
       "      <td>4232</td>\n",
       "      <td>C</td>\n",
       "      <td>D-penicillamine</td>\n",
       "      <td>18102</td>\n",
       "      <td>F</td>\n",
       "      <td>N</td>\n",
       "      <td>Y</td>\n",
       "      <td>N</td>\n",
       "      <td>S</td>\n",
       "      <td>0.7</td>\n",
       "      <td>235.0</td>\n",
       "      <td>3.56</td>\n",
       "      <td>39.0</td>\n",
       "      <td>1881.0</td>\n",
       "      <td>93.00</td>\n",
       "      <td>123.0</td>\n",
       "      <td>209.0</td>\n",
       "      <td>11.0</td>\n",
       "      <td>3.0</td>\n",
       "    </tr>\n",
       "    <tr>\n",
       "      <th>19</th>\n",
       "      <td>20</td>\n",
       "      <td>1356</td>\n",
       "      <td>D</td>\n",
       "      <td>Placebo</td>\n",
       "      <td>21898</td>\n",
       "      <td>F</td>\n",
       "      <td>N</td>\n",
       "      <td>Y</td>\n",
       "      <td>N</td>\n",
       "      <td>N</td>\n",
       "      <td>5.1</td>\n",
       "      <td>374.0</td>\n",
       "      <td>3.51</td>\n",
       "      <td>140.0</td>\n",
       "      <td>1919.0</td>\n",
       "      <td>122.45</td>\n",
       "      <td>135.0</td>\n",
       "      <td>322.0</td>\n",
       "      <td>13.0</td>\n",
       "      <td>4.0</td>\n",
       "    </tr>\n",
       "  </tbody>\n",
       "</table>\n",
       "</div>"
      ],
      "text/plain": [
       "    ID  N_Days Status             Drug    Age Sex Ascites Hepatomegaly  \\\n",
       "0    1     400      D  D-penicillamine  21464   F       Y            Y   \n",
       "1    2    4500      C  D-penicillamine  20617   F       N            Y   \n",
       "2    3    1012      D  D-penicillamine  25594   M       N            N   \n",
       "3    4    1925      D  D-penicillamine  19994   F       N            Y   \n",
       "4    5    1504     CL          Placebo  13918   F       N            Y   \n",
       "5    6    2503      D          Placebo  24201   F       N            Y   \n",
       "6    7    1832      C          Placebo  20284   F       N            Y   \n",
       "7    8    2466      D          Placebo  19379   F       N            N   \n",
       "8    9    2400      D  D-penicillamine  15526   F       N            N   \n",
       "9   10      51      D          Placebo  25772   F       Y            N   \n",
       "10  11    3762      D          Placebo  19619   F       N            Y   \n",
       "11  12     304      D          Placebo  21600   F       N            N   \n",
       "12  13    3577      C          Placebo  16688   F       N            N   \n",
       "13  14    1217      D          Placebo  20535   M       Y            Y   \n",
       "14  15    3584      D  D-penicillamine  23612   F       N            N   \n",
       "15  16    3672      C          Placebo  14772   F       N            N   \n",
       "16  17     769      D          Placebo  19060   F       N            Y   \n",
       "17  18     131      D  D-penicillamine  19698   F       N            Y   \n",
       "18  19    4232      C  D-penicillamine  18102   F       N            Y   \n",
       "19  20    1356      D          Placebo  21898   F       N            Y   \n",
       "\n",
       "   Spiders Edema  Bilirubin  Cholesterol  Albumin  Copper  Alk_Phos    SGOT  \\\n",
       "0        Y     Y       14.5        261.0     2.60   156.0    1718.0  137.95   \n",
       "1        Y     N        1.1        302.0     4.14    54.0    7394.8  113.52   \n",
       "2        N     S        1.4        176.0     3.48   210.0     516.0   96.10   \n",
       "3        Y     S        1.8        244.0     2.54    64.0    6121.8   60.63   \n",
       "4        Y     N        3.4        279.0     3.53   143.0     671.0  113.15   \n",
       "5        N     N        0.8        248.0     3.98    50.0     944.0   93.00   \n",
       "6        N     N        1.0        322.0     4.09    52.0     824.0   60.45   \n",
       "7        N     N        0.3        280.0     4.00    52.0    4651.2   28.38   \n",
       "8        Y     N        3.2        562.0     3.08    79.0    2276.0  144.15   \n",
       "9        Y     Y       12.6        200.0     2.74   140.0     918.0  147.25   \n",
       "10       Y     N        1.4        259.0     4.16    46.0    1104.0   79.05   \n",
       "11       Y     N        3.6        236.0     3.52    94.0     591.0   82.15   \n",
       "12       N     N        0.7        281.0     3.85    40.0    1181.0   88.35   \n",
       "13       N     Y        0.8          NaN     2.27    43.0     728.0   71.00   \n",
       "14       N     N        0.8        231.0     3.87   173.0    9009.8  127.71   \n",
       "15       N     N        0.7        204.0     3.66    28.0     685.0   72.85   \n",
       "16       N     N        2.7        274.0     3.15   159.0    1533.0  117.80   \n",
       "17       Y     Y       11.4        178.0     2.80   588.0     961.0  280.55   \n",
       "18       N     S        0.7        235.0     3.56    39.0    1881.0   93.00   \n",
       "19       N     N        5.1        374.0     3.51   140.0    1919.0  122.45   \n",
       "\n",
       "    Tryglicerides  Platelets  Prothrombin  Stage  \n",
       "0           172.0      190.0         12.2    4.0  \n",
       "1            88.0      221.0         10.6    3.0  \n",
       "2            55.0      151.0         12.0    4.0  \n",
       "3            92.0      183.0         10.3    4.0  \n",
       "4            72.0      136.0         10.9    3.0  \n",
       "5            63.0        NaN         11.0    3.0  \n",
       "6           213.0      204.0          9.7    3.0  \n",
       "7           189.0      373.0         11.0    3.0  \n",
       "8            88.0      251.0         11.0    2.0  \n",
       "9           143.0      302.0         11.5    4.0  \n",
       "10           79.0      258.0         12.0    4.0  \n",
       "11           95.0       71.0         13.6    4.0  \n",
       "12          130.0      244.0         10.6    3.0  \n",
       "13            NaN      156.0         11.0    4.0  \n",
       "14           96.0      295.0         11.0    3.0  \n",
       "15           58.0      198.0         10.8    3.0  \n",
       "16          128.0      224.0         10.5    4.0  \n",
       "17          200.0      283.0         12.4    4.0  \n",
       "18          123.0      209.0         11.0    3.0  \n",
       "19          135.0      322.0         13.0    4.0  "
      ]
     },
     "execution_count": 2,
     "metadata": {},
     "output_type": "execute_result"
    }
   ],
   "source": [
    "cirrhosis = pd.read_csv('cirrhosis.csv', header=0, sep=',')\n",
    "cirrhosis.head(20)"
   ]
  },
  {
   "cell_type": "markdown",
   "metadata": {
    "id": "e-rzpogK60Gx"
   },
   "source": [
    "# Data Preprocessing"
   ]
  },
  {
   "cell_type": "code",
   "execution_count": 3,
   "metadata": {
    "colab": {
     "base_uri": "https://localhost:8080/"
    },
    "id": "NVLquFa46uWi",
    "outputId": "e0581622-d0a2-447d-841b-c1d84df285ab"
   },
   "outputs": [
    {
     "data": {
      "text/plain": [
       "ID                 int64\n",
       "N_Days             int64\n",
       "Status            object\n",
       "Drug              object\n",
       "Age                int64\n",
       "Sex               object\n",
       "Ascites           object\n",
       "Hepatomegaly      object\n",
       "Spiders           object\n",
       "Edema             object\n",
       "Bilirubin        float64\n",
       "Cholesterol      float64\n",
       "Albumin          float64\n",
       "Copper           float64\n",
       "Alk_Phos         float64\n",
       "SGOT             float64\n",
       "Tryglicerides    float64\n",
       "Platelets        float64\n",
       "Prothrombin      float64\n",
       "Stage            float64\n",
       "dtype: object"
      ]
     },
     "execution_count": 3,
     "metadata": {},
     "output_type": "execute_result"
    }
   ],
   "source": [
    "# feature dtypes:\n",
    "cirrhosis.dtypes"
   ]
  },
  {
   "cell_type": "code",
   "execution_count": 4,
   "metadata": {
    "id": "a2L2tIDQgXos"
   },
   "outputs": [],
   "source": [
    "cirrhosis.drop('ID', axis=1, inplace=True)\n",
    "cirrhosis.drop('N_Days', axis=1, inplace=True)"
   ]
  },
  {
   "cell_type": "code",
   "execution_count": 5,
   "metadata": {
    "colab": {
     "base_uri": "https://localhost:8080/"
    },
    "id": "m9n8emC066xv",
    "outputId": "677fa03c-c39e-412a-96e1-850857a676aa"
   },
   "outputs": [
    {
     "data": {
      "text/plain": [
       "Drug             0.25\n",
       "Ascites          0.25\n",
       "Hepatomegaly     0.25\n",
       "Spiders          0.25\n",
       "Cholesterol      0.32\n",
       "Copper           0.26\n",
       "Alk_Phos         0.25\n",
       "SGOT             0.25\n",
       "Tryglicerides    0.33\n",
       "Platelets        0.03\n",
       "Prothrombin      0.00\n",
       "Stage            0.01\n",
       "dtype: float64"
      ]
     },
     "execution_count": 5,
     "metadata": {},
     "output_type": "execute_result"
    }
   ],
   "source": [
    "def get_percentage_missing(series):\n",
    "    \"\"\" Calculates percentage of NaN values in DataFrame\n",
    "    :param series: Pandas DataFrame object\n",
    "    :return: float\n",
    "    \"\"\"\n",
    "    num = series.isnull().sum()\n",
    "    den = len(series)\n",
    "    return round(num/den, 2)\n",
    "\n",
    "# Only include columns that contain any NaN values\n",
    "df_with_any_null_values = cirrhosis[cirrhosis.columns[cirrhosis.isnull().any()].tolist()]\n",
    "\n",
    "get_percentage_missing(df_with_any_null_values)"
   ]
  },
  {
   "cell_type": "code",
   "execution_count": 6,
   "metadata": {
    "id": "DAQHU7rs67Es"
   },
   "outputs": [],
   "source": [
    "# Drop rows where target value is missing\n",
    "cirrhosis=cirrhosis.dropna(subset=['Stage'])"
   ]
  },
  {
   "cell_type": "code",
   "execution_count": 7,
   "metadata": {
    "id": "svlEMigo6898"
   },
   "outputs": [],
   "source": [
    "# save the names of the variables with missing values (one for object and one for float columns)\n",
    "\n",
    "df_with_any_null_values = cirrhosis[cirrhosis.columns[cirrhosis.isnull().any()].tolist()]\n",
    "\n",
    "obj_cols = list(df_with_any_null_values.select_dtypes(include='object'))\n",
    "float_cols = list(df_with_any_null_values.select_dtypes(include='float64'))\n",
    "\n",
    "obj_cols_with_nan = get_percentage_missing(df_with_any_null_values[obj_cols]).keys()\n",
    "float_cols_with_nan = get_percentage_missing(df_with_any_null_values[float_cols]).keys()"
   ]
  },
  {
   "cell_type": "code",
   "execution_count": 8,
   "metadata": {
    "colab": {
     "base_uri": "https://localhost:8080/"
    },
    "id": "ptnin6SP6-j2",
    "outputId": "f81f9c97-c7f8-4288-e8d3-96d120321d75"
   },
   "outputs": [
    {
     "name": "stdout",
     "output_type": "stream",
     "text": [
      "Value count for Drug : {'D-penicillamine': 158, 'Placebo': 154, 'NaN': 100}\n",
      "Value count for Ascites : {'N': 288, 'Y': 24, 'NaN': 100}\n",
      "Value count for Hepatomegaly : {'Y': 160, 'N': 152, 'NaN': 100}\n",
      "Value count for Spiders : {'N': 222, 'Y': 90, 'NaN': 100}\n"
     ]
    }
   ],
   "source": [
    "# explore data in categorical columns with missing values to determine how to replace the missing values\n",
    "\n",
    "for col in obj_cols_with_nan:\n",
    "    val_counts = {}\n",
    "    for value in cirrhosis[col].value_counts().keys():\n",
    "        val_counts[value] = cirrhosis[col].value_counts()[value]\n",
    "    val_counts['NaN'] = cirrhosis[col].isna().sum()\n",
    "    print('Value count for', col, ':', val_counts)"
   ]
  },
  {
   "cell_type": "code",
   "execution_count": 9,
   "metadata": {
    "id": "rIm2stkkUoI6"
   },
   "outputs": [],
   "source": [
    "# Drop all rows with missing values\n",
    "\n",
    "#cirrhosis=cirrhosis.dropna()\n",
    "#cirrhosis.shape"
   ]
  },
  {
   "cell_type": "code",
   "execution_count": 10,
   "metadata": {
    "colab": {
     "base_uri": "https://localhost:8080/"
    },
    "id": "xy5VamuH7AdM",
    "outputId": "6243db8f-ce96-4957-8669-1b5ce353bb9d"
   },
   "outputs": [],
   "source": [
    "# First try of filling missing values\n",
    "\n",
    "cirrhosis['Ascites'] = cirrhosis['Ascites'].fillna('N')  \n",
    "#cirrhosis['Hepatomegaly'] = cirrhosis['Ascites'].fillna('Y')  \n",
    "cirrhosis.drop('Hepatomegaly', axis=1, inplace=True)\n",
    "cirrhosis.drop('Status', axis=1, inplace=True)\n",
    "cirrhosis['Spiders'] = cirrhosis['Spiders'].fillna('N')\n",
    "cirrhosis['Cholesterol'] = cirrhosis['Cholesterol'].fillna(cirrhosis['Cholesterol'].median())\n",
    "cirrhosis['Copper'] = cirrhosis['Copper'].fillna(cirrhosis['Copper'].median())\n",
    "cirrhosis['Alk_Phos'] = cirrhosis['Alk_Phos'].fillna(cirrhosis['Alk_Phos'].median())\n",
    "cirrhosis['SGOT'] = cirrhosis['SGOT'].fillna(cirrhosis['SGOT'].median())\n",
    "cirrhosis['Tryglicerides'] = cirrhosis['Tryglicerides'].fillna(cirrhosis['Tryglicerides'].median())\n",
    "cirrhosis['Platelets'] = cirrhosis['Platelets'].fillna(cirrhosis['Platelets'].median())\n",
    "cirrhosis['Prothrombin'] = cirrhosis['Prothrombin'].fillna(cirrhosis['Prothrombin'].median())\n",
    "cirrhosis['Drug'] = cirrhosis['Drug'].fillna('No drugs')\n",
    "#cirrhosis['Drug'] = cirrhosis['Drug'].fillna('D-penicillamine')"
   ]
  },
  {
   "cell_type": "code",
   "execution_count": 11,
   "metadata": {
    "colab": {
     "base_uri": "https://localhost:8080/"
    },
    "id": "l4v3-y6GZhK8",
    "outputId": "6a87d258-dc5a-476a-eaaf-f5acd70e9670"
   },
   "outputs": [
    {
     "data": {
      "text/plain": [
       "0      4.0\n",
       "1      3.0\n",
       "2      4.0\n",
       "3      4.0\n",
       "4      3.0\n",
       "      ... \n",
       "413    3.0\n",
       "414    4.0\n",
       "415    3.0\n",
       "416    3.0\n",
       "417    4.0\n",
       "Name: Stage, Length: 412, dtype: float64"
      ]
     },
     "execution_count": 11,
     "metadata": {},
     "output_type": "execute_result"
    }
   ],
   "source": [
    "cirrhosis['Stage']"
   ]
  },
  {
   "cell_type": "code",
   "execution_count": 12,
   "metadata": {
    "colab": {
     "base_uri": "https://localhost:8080/"
    },
    "id": "sRD3OS6zWYeK",
    "outputId": "c175434c-a85c-46fe-8461-21e66727a880"
   },
   "outputs": [
    {
     "data": {
      "text/plain": [
       "0      1\n",
       "1      0\n",
       "2      1\n",
       "3      1\n",
       "4      0\n",
       "      ..\n",
       "413    0\n",
       "414    1\n",
       "415    0\n",
       "416    0\n",
       "417    1\n",
       "Name: Stage, Length: 412, dtype: int32"
      ]
     },
     "execution_count": 12,
     "metadata": {},
     "output_type": "execute_result"
    }
   ],
   "source": [
    "# Binary Classification\n",
    "cirrhosis['Stage'] = np.where(cirrhosis['Stage'] == 4, 1, 0)\n",
    "cirrhosis['Stage']"
   ]
  },
  {
   "cell_type": "code",
   "execution_count": 13,
   "metadata": {
    "colab": {
     "base_uri": "https://localhost:8080/"
    },
    "id": "yVO-ks_e7CJI",
    "outputId": "f589611f-11f7-4c36-bd8e-ab14df65700a"
   },
   "outputs": [
    {
     "data": {
      "text/plain": [
       "Series([], dtype: float64)"
      ]
     },
     "execution_count": 13,
     "metadata": {},
     "output_type": "execute_result"
    }
   ],
   "source": [
    "# Check that all missing values are gone\n",
    "df_with_any_null_values = cirrhosis[cirrhosis.columns[cirrhosis.isnull().any()].tolist()]\n",
    "\n",
    "get_percentage_missing(df_with_any_null_values)"
   ]
  },
  {
   "cell_type": "code",
   "execution_count": 14,
   "metadata": {
    "colab": {
     "base_uri": "https://localhost:8080/"
    },
    "id": "F2xzN9PB7Kfu",
    "outputId": "399a1a41-2514-4a89-93d6-643d80097182"
   },
   "outputs": [],
   "source": [
    "# convert data to be usable in sklearn classifiers\n",
    "le = LabelEncoder()\n",
    "obj_cols = cirrhosis.select_dtypes(include=('object')).columns\n",
    "\n",
    "for col in obj_cols:\n",
    "    cirrhosis[col] = le.fit_transform(cirrhosis[col])\n",
    "\n",
    "cirrhosis_y = cirrhosis.iloc[:,-1].values\n",
    "cirrhosis_X = cirrhosis.iloc[:,:-1]\n",
    "cirrhosis_X = cirrhosis_X.values"
   ]
  },
  {
   "cell_type": "markdown",
   "metadata": {
    "id": "pM4WrPlA7N9E"
   },
   "source": [
    "# SVM"
   ]
  },
  {
   "cell_type": "code",
   "execution_count": 15,
   "metadata": {
    "id": "FL8DICoR7Min"
   },
   "outputs": [],
   "source": [
    "#kfold = KFold(n_splits=5, shuffle=True)\n",
    "kfold = StratifiedKFold(n_splits=5, shuffle=True, random_state=1)"
   ]
  },
  {
   "cell_type": "code",
   "execution_count": 16,
   "metadata": {
    "colab": {
     "base_uri": "https://localhost:8080/"
    },
    "id": "0NBMzMUL7RGJ",
    "outputId": "f8ae6336-6cca-4b75-b33a-8d68366d82af"
   },
   "outputs": [
    {
     "name": "stdout",
     "output_type": "stream",
     "text": [
      "Best parameters: {'C': 100000.0, 'kernel': 'poly'}\n",
      "Train accuracy: 0.7\n",
      "Test accuracy: 0.73\n",
      "Best parameters: {'C': 100000.0, 'kernel': 'poly'}\n",
      "Train accuracy: 0.76\n",
      "Test accuracy: 0.69\n",
      "Best parameters: {'C': 100000.0, 'kernel': 'poly'}\n",
      "Train accuracy: 0.72\n",
      "Test accuracy: 0.6\n",
      "Best parameters: {'C': 599.4842503189421, 'kernel': 'poly'}\n",
      "Train accuracy: 0.71\n",
      "Test accuracy: 0.68\n",
      "Best parameters: {'C': 100000.0, 'kernel': 'poly'}\n",
      "Train accuracy: 0.74\n",
      "Test accuracy: 0.67\n",
      "Average train accuracy over 5 folds: 0.73\n",
      "Average test accuracy over 5 folds: 0.67\n"
     ]
    }
   ],
   "source": [
    "acc_train = []\n",
    "acc_test = []\n",
    "\n",
    "C_list = np.logspace(-5, 5, num=10, base=10)\n",
    "kernel_list = ['poly', 'rbf', 'sigmoid']\n",
    "param_grid = dict(C=C_list, kernel=kernel_list)\n",
    "#param_grid = dict(C=C_list)\n",
    "\n",
    "for fold, (train_ids, test_ids) in enumerate(kfold.split(cirrhosis_X, cirrhosis_y)):\n",
    "    X_train, X_test = cirrhosis_X[train_ids], cirrhosis_X[test_ids]\n",
    "    Y_train, Y_test = cirrhosis_y[train_ids], cirrhosis_y[test_ids]\n",
    "    \n",
    "    clf = GridSearchCV(svm.SVC(), param_grid=param_grid, n_jobs=-1, refit=True, cv=5)\n",
    "    clf.fit(X_train, Y_train)\n",
    "    \n",
    "    print('Best parameters:', clf.best_params_)\n",
    "    print('Train accuracy:', round(clf.score(X_train, Y_train),2))\n",
    "    print('Test accuracy:', round(clf.score(X_test, Y_test),2))\n",
    "    \n",
    "    acc_train.append(clf.score(X_train, Y_train))\n",
    "    acc_test.append(clf.score(X_test, Y_test))\n",
    "final_acc_test = round(np.mean(acc_test),2)\n",
    "final_acc_train = round(np.mean(acc_train),2)\n",
    "\n",
    "print('Average train accuracy over 5 folds:', final_acc_train)\n",
    "print('Average test accuracy over 5 folds:', final_acc_test)"
   ]
  },
  {
   "cell_type": "code",
   "execution_count": 17,
   "metadata": {
    "colab": {
     "base_uri": "https://localhost:8080/",
     "height": 595
    },
    "id": "45OG9H7l-tVX",
    "outputId": "b03bed45-09a1-49e1-de25-93e1124bb652"
   },
   "outputs": [
    {
     "data": {
      "text/plain": [
       "(array([-10000.,  -7500.,  -5000.,  -2500.,      0.,   2500.,   5000.,\n",
       "          7500.,  10000.,  12500.]),\n",
       " <a list of 10 Text major ticklabel objects>)"
      ]
     },
     "execution_count": 17,
     "metadata": {},
     "output_type": "execute_result"
    },
    {
     "data": {
      "image/png": "[encoded data removed]",
      "text/plain": [
       "<Figure size 1800x576 with 1 Axes>"
      ]
     },
     "metadata": {
      "needs_background": "light"
     },
     "output_type": "display_data"
    }
   ],
   "source": [
    "pca = PCA(n_components=3)\n",
    "pca.fit(cirrhosis_X)\n",
    "cirrhosis_X_pca = pca.transform(cirrhosis_X)\n",
    "\n",
    "plt.figure(figsize=(25,8))\n",
    "sns.scatterplot(x=cirrhosis_X_pca[:,0], y=cirrhosis_X_pca[:, 1], hue=cirrhosis_y, palette='terrain')\n",
    "plt.title('Principal Components vs Class distribution', fontsize=16)\n",
    "plt.ylabel('Principal Component 2', fontsize=16)\n",
    "plt.xlabel('Principal Component 1', fontsize=16)\n",
    "plt.xticks(rotation='vertical')"
   ]
  },
  {
   "cell_type": "code",
   "execution_count": null,
   "metadata": {
    "colab": {
     "base_uri": "https://localhost:8080/",
     "height": 561
    },
    "id": "R33VBZPcA4Y2",
    "outputId": "4dfed8ab-7bd1-44d0-e5bf-08399dd3a589"
   },
   "outputs": [],
   "source": [
    "kernel_pca = KernelPCA(\n",
    "                n_components=2, kernel='rbf', gamma=1, fit_inverse_transform=True, alpha=0.1\n",
    "            )\n",
    "kernel_pca.fit(cirrhosis_X)\n",
    "cirrhosis_X_pca = kernel_pca.transform(cirrhosis_X)\n",
    "\n",
    "plt.figure(figsize=(25,8))\n",
    "sns.scatterplot(x=cirrhosis_X_pca[:,0], y=cirrhosis_X_pca[:, 1], hue=cirrhosis_y, palette='terrain')\n",
    "plt.title('Principal Components vs Class distribution', fontsize=16)\n",
    "plt.ylabel('Principal Component 2', fontsize=16)\n",
    "plt.xlabel('Principal Component 1', fontsize=16)\n",
    "plt.xticks(rotation='vertical')"
   ]
  },
  {
   "cell_type": "code",
   "execution_count": null,
   "metadata": {
    "colab": {
     "base_uri": "https://localhost:8080/",
     "height": 1000
    },
    "id": "zrfybfl_BsAi",
    "outputId": "e0c971ad-c9ab-4786-bd2c-7207074ac6dc"
   },
   "outputs": [],
   "source": [
    "gamma_list = np.logspace(-5, 5, num=5, base=10)\n",
    "alpha_list = np.logspace(-5, 2, num=5, base=10)\n",
    "kernel_list = ['linear', 'rbf', 'cosine']\n",
    "\n",
    "for gamma in gamma_list:\n",
    "    for alpha in alpha_list:\n",
    "        for kernel in kernel_list:    \n",
    "            kernel_pca = KernelPCA(\n",
    "                    n_components=2, kernel=kernel, gamma=gamma, fit_inverse_transform=True, alpha=alpha\n",
    "                )\n",
    "\n",
    "            kernel_pca.fit(cirrhosis_X)\n",
    "            cirrhosis_X_kpca = kernel_pca.transform(cirrhosis_X)\n",
    "            \n",
    "            fig = plt.figure()\n",
    "            plt.scatter(cirrhosis_X_kpca[:,0], cirrhosis_X_kpca[:, 1], marker='o', c=cirrhosis_y, s=25, edgecolor='k') \n",
    "            plt.title('2-component KPCA on BC with {gamma}, {alpha}, {kernel}'.format(gamma=np.round(gamma,4), alpha=np.round(alpha,4), kernel=kernel))\n",
    "            plt.xlabel('PC_1')\n",
    "            plt.ylabel('PC_2')\n",
    "            plt.show()"
   ]
  },
  {
   "cell_type": "code",
   "execution_count": 20,
   "metadata": {
    "colab": {
     "base_uri": "https://localhost:8080/"
    },
    "id": "Sq87VyZ0CwKk",
    "outputId": "0c455a24-81f9-4069-8f87-3a21af57c2ab"
   },
   "outputs": [
    {
     "name": "stdout",
     "output_type": "stream",
     "text": [
      "Train accuracy: 0.76\n",
      "Test accuracy: 0.77\n",
      "Train accuracy: 0.76\n",
      "Test accuracy: 0.61\n",
      "Train accuracy: 0.77\n",
      "Test accuracy: 0.62\n",
      "Train accuracy: 0.74\n",
      "Test accuracy: 0.65\n",
      "Train accuracy: 0.76\n",
      "Test accuracy: 0.71\n",
      "Average train accuracy over 5 folds: 0.76\n",
      "Average test accuracy over 5 folds: 0.67\n"
     ]
    }
   ],
   "source": [
    "acc_train = []\n",
    "acc_test = []\n",
    "\n",
    "for fold, (train_ids, test_ids) in enumerate(kfold.split(cirrhosis_X, cirrhosis_y)):\n",
    "    X_train, X_test = cirrhosis_X[train_ids], cirrhosis_X[test_ids]\n",
    "    Y_train, Y_test = cirrhosis_y[train_ids], cirrhosis_y[test_ids]\n",
    "\n",
    "    pca = PCA(n_components=4)\n",
    "    pca.fit(X_train)\n",
    "    X_train_pca = pca.transform(X_train)\n",
    "    X_test_pca = pca.transform(X_test)\n",
    "    \n",
    "    clf = svm.SVC(kernel='rbf', C=500)\n",
    "    clf.fit(X_train_pca, Y_train)\n",
    "    \n",
    "    print('Train accuracy:', round(clf.score(X_train_pca, Y_train),2))\n",
    "    print('Test accuracy:', round(clf.score(X_test_pca, Y_test),2))\n",
    "    \n",
    "    acc_train.append(clf.score(X_train_pca, Y_train))\n",
    "    acc_test.append(clf.score(X_test_pca, Y_test))\n",
    "final_acc_test = round(np.mean(acc_test),2)\n",
    "final_acc_train = round(np.mean(acc_train),2)\n",
    "\n",
    "print('Average train accuracy over 5 folds:', final_acc_train)\n",
    "print('Average test accuracy over 5 folds:', final_acc_test)"
   ]
  },
  {
   "cell_type": "code",
   "execution_count": 21,
   "metadata": {
    "colab": {
     "base_uri": "https://localhost:8080/"
    },
    "id": "i7fewMvMFO87",
    "outputId": "57a9b13a-2c2b-4efd-a7c2-fb71ee8491de"
   },
   "outputs": [
    {
     "name": "stdout",
     "output_type": "stream",
     "text": [
      "Train accuracy: 0.67\n",
      "Test accuracy: 0.61\n",
      "Train accuracy: 0.67\n",
      "Test accuracy: 0.6\n",
      "Train accuracy: 0.68\n",
      "Test accuracy: 0.65\n",
      "Train accuracy: 0.67\n",
      "Test accuracy: 0.63\n",
      "Train accuracy: 0.66\n",
      "Test accuracy: 0.65\n",
      "Average train accuracy over 5 folds: 0.67\n",
      "Average test accuracy over 5 folds: 0.63\n"
     ]
    }
   ],
   "source": [
    "acc_train = []\n",
    "acc_test = []\n",
    "\n",
    "for fold, (train_ids, test_ids) in enumerate(kfold.split(cirrhosis_X, cirrhosis_y)):\n",
    "    X_train, X_test = cirrhosis_X[train_ids], cirrhosis_X[test_ids]\n",
    "    Y_train, Y_test = cirrhosis_y[train_ids], cirrhosis_y[test_ids]\n",
    "\n",
    "    kernel_pca = KernelPCA(n_components=2, kernel='cosine')\n",
    "    kernel_pca.fit(X_train)\n",
    "    X_train_pca = kernel_pca.transform(X_train)\n",
    "    X_test_pca = kernel_pca.transform(X_test)\n",
    "    \n",
    "    clf = svm.SVC(kernel='rbf', C=500)\n",
    "    clf.fit(X_train_pca, Y_train)\n",
    "    \n",
    "    print('Train accuracy:', round(clf.score(X_train_pca, Y_train),2))\n",
    "    print('Test accuracy:', round(clf.score(X_test_pca, Y_test),2))\n",
    "    \n",
    "    acc_train.append(clf.score(X_train_pca, Y_train))\n",
    "    acc_test.append(clf.score(X_test_pca, Y_test))\n",
    "final_acc_test = round(np.mean(acc_test),2)\n",
    "final_acc_train = round(np.mean(acc_train),2)\n",
    "\n",
    "print('Average train accuracy over 5 folds:', final_acc_train)\n",
    "print('Average test accuracy over 5 folds:', final_acc_test)"
   ]
  },
  {
   "cell_type": "code",
   "execution_count": 22,
   "metadata": {
    "colab": {
     "base_uri": "https://localhost:8080/"
    },
    "id": "qzVqb-waGZYI",
    "outputId": "d1d591df-8456-46f3-c213-a6d98de6f11b"
   },
   "outputs": [
    {
     "name": "stdout",
     "output_type": "stream",
     "text": [
      "Train accuracy: 0.74\n",
      "Test accuracy: 0.75\n",
      "Train accuracy: 0.77\n",
      "Test accuracy: 0.72\n",
      "Train accuracy: 0.77\n",
      "Test accuracy: 0.68\n",
      "Train accuracy: 0.75\n",
      "Test accuracy: 0.74\n",
      "Train accuracy: 0.77\n",
      "Test accuracy: 0.72\n",
      "Average train accuracy over 5 folds: 0.76\n",
      "Average test accuracy over 5 folds: 0.72\n"
     ]
    }
   ],
   "source": [
    "acc_train = []\n",
    "acc_test = []\n",
    "\n",
    "for fold, (train_ids, test_ids) in enumerate(kfold.split(cirrhosis_X, cirrhosis_y)):\n",
    "    X_train, X_test = cirrhosis_X[train_ids], cirrhosis_X[test_ids]\n",
    "    Y_train, Y_test = cirrhosis_y[train_ids], cirrhosis_y[test_ids]\n",
    "\n",
    "    lda = LinearDiscriminantAnalysis(n_components=1)\n",
    "    lda.fit(X_train, Y_train)\n",
    "    X_lda_train = lda.transform(X_train)\n",
    "    X_lda_test = lda.transform(X_test)\n",
    "    \n",
    "    clf = svm.SVC(kernel='rbf', C=10)\n",
    "    clf.fit(X_lda_train, Y_train)\n",
    "    \n",
    "    print('Train accuracy:', round(clf.score(X_lda_train, Y_train),2))\n",
    "    print('Test accuracy:', round(clf.score(X_lda_test, Y_test),2))\n",
    "    \n",
    "    acc_train.append(clf.score(X_lda_train, Y_train))\n",
    "    acc_test.append(clf.score(X_lda_test, Y_test))\n",
    "final_acc_test = round(np.mean(acc_test),2)\n",
    "final_acc_train = round(np.mean(acc_train),2)\n",
    "\n",
    "print('Average train accuracy over 5 folds:', final_acc_train)\n",
    "print('Average test accuracy over 5 folds:', final_acc_test)"
   ]
  },
  {
   "cell_type": "markdown",
   "metadata": {
    "id": "9SjtptQJJcNa"
   },
   "source": [
    "# Logistic Regression with Feature Selection"
   ]
  },
  {
   "cell_type": "code",
   "execution_count": 23,
   "metadata": {
    "colab": {
     "base_uri": "https://localhost:8080/"
    },
    "id": "w-vhUZctHfKN",
    "outputId": "32d4dfd2-b4ef-4d55-d8ce-990f3ed1956f"
   },
   "outputs": [
    {
     "name": "stdout",
     "output_type": "stream",
     "text": [
      "Train accuracy: 0.69\n",
      "Test accuracy: 0.73\n",
      "Train accuracy: 0.72\n",
      "Test accuracy: 0.7\n",
      "Train accuracy: 0.72\n",
      "Test accuracy: 0.7\n",
      "Train accuracy: 0.72\n",
      "Test accuracy: 0.74\n",
      "Train accuracy: 0.73\n",
      "Test accuracy: 0.67\n",
      "Average train accuracy over 5 folds: 0.72\n",
      "Average test accuracy over 5 folds: 0.71\n"
     ]
    }
   ],
   "source": [
    "acc_train = []\n",
    "acc_test = []\n",
    "\n",
    "for fold, (train_ids, test_ids) in enumerate(kfold.split(cirrhosis_X, cirrhosis_y)):\n",
    "    X_train, X_test = cirrhosis_X[train_ids], cirrhosis_X[test_ids]\n",
    "    Y_train, Y_test = cirrhosis_y[train_ids], cirrhosis_y[test_ids]\n",
    "\n",
    "    clf = LogisticRegression(solver='saga', penalty='elasticnet', l1_ratio=0.5, max_iter=5000)\n",
    "    clf.fit(X_train, Y_train)\n",
    "    \n",
    "    print('Train accuracy:', round(clf.score(X_train, Y_train),2))\n",
    "    print('Test accuracy:', round(clf.score(X_test, Y_test),2))\n",
    "    \n",
    "    acc_train.append(clf.score(X_train, Y_train))\n",
    "    acc_test.append(clf.score(X_test, Y_test))\n",
    "final_acc_test = round(np.mean(acc_test),2)\n",
    "final_acc_train = round(np.mean(acc_train),2)\n",
    "\n",
    "print('Average train accuracy over 5 folds:', final_acc_train)\n",
    "print('Average test accuracy over 5 folds:', final_acc_test)"
   ]
  },
  {
   "cell_type": "code",
   "execution_count": 24,
   "metadata": {
    "id": "wVNP4mf2Ia8F"
   },
   "outputs": [],
   "source": [
    "# try linear SVC with lasso\n",
    "# try different preprocessing"
   ]
  },
  {
   "cell_type": "markdown",
   "metadata": {
    "id": "D06rzzCrNg-3"
   },
   "source": [
    "# AdaBoost"
   ]
  },
  {
   "cell_type": "code",
   "execution_count": 25,
   "metadata": {
    "colab": {
     "base_uri": "https://localhost:8080/"
    },
    "id": "OADb03X9OUJb",
    "outputId": "ce4de978-e209-40df-c1db-3c1e93620ce3"
   },
   "outputs": [
    {
     "name": "stdout",
     "output_type": "stream",
     "text": [
      "Best parameters: {'learning_rate': 0.01, 'n_estimators': 200}\n",
      "Train accuracy: 0.75\n",
      "Test accuracy: 0.73\n",
      "Best parameters: {'learning_rate': 0.1, 'n_estimators': 50}\n",
      "Train accuracy: 0.81\n",
      "Test accuracy: 0.7\n",
      "Best parameters: {'learning_rate': 0.1, 'n_estimators': 150}\n",
      "Train accuracy: 0.85\n",
      "Test accuracy: 0.7\n",
      "Best parameters: {'learning_rate': 0.3, 'n_estimators': 20}\n",
      "Train accuracy: 0.78\n",
      "Test accuracy: 0.74\n",
      "Best parameters: {'learning_rate': 0.3, 'n_estimators': 10}\n",
      "Train accuracy: 0.78\n",
      "Test accuracy: 0.66\n",
      "Average train accuracy over 5 folds: 0.79\n",
      "Average test accuracy over 5 folds: 0.71\n"
     ]
    }
   ],
   "source": [
    "acc_train = []\n",
    "acc_test = []\n",
    "\n",
    "n_estimator_list = [5, 10, 20, 50, 70, 100, 150, 200]\n",
    "lr_list = [0.01, 0.1, 0.3, 0.5, 1, 2, 5, 10, 100]\n",
    "param_grid = dict(n_estimators=n_estimator_list, learning_rate=lr_list)\n",
    "\n",
    "for fold, (train_ids, test_ids) in enumerate(kfold.split(cirrhosis_X, cirrhosis_y)):\n",
    "    X_train, X_test = cirrhosis_X[train_ids], cirrhosis_X[test_ids]\n",
    "    Y_train, Y_test = cirrhosis_y[train_ids], cirrhosis_y[test_ids]\n",
    "    \n",
    "    clf = GridSearchCV(AdaBoostClassifier(), param_grid=param_grid, n_jobs=-1, refit=True, cv=5)\n",
    "    clf.fit(X_train, Y_train)\n",
    "    \n",
    "    print('Best parameters:', clf.best_params_)\n",
    "    print('Train accuracy:', round(clf.score(X_train, Y_train),2))\n",
    "    print('Test accuracy:', round(clf.score(X_test, Y_test),2))\n",
    "    \n",
    "    acc_train.append(clf.score(X_train, Y_train))\n",
    "    acc_test.append(clf.score(X_test, Y_test))\n",
    "final_acc_test = round(np.mean(acc_test),2)\n",
    "final_acc_train = round(np.mean(acc_train),2)\n",
    "\n",
    "print('Average train accuracy over 5 folds:', final_acc_train)\n",
    "print('Average test accuracy over 5 folds:', final_acc_test)"
   ]
  },
  {
   "cell_type": "markdown",
   "metadata": {
    "id": "_5Do7VTfYNm2"
   },
   "source": [
    "# XGBoost"
   ]
  },
  {
   "cell_type": "code",
   "execution_count": 26,
   "metadata": {
    "colab": {
     "base_uri": "https://localhost:8080/"
    },
    "id": "og2Gfzg9O_ya",
    "outputId": "e28541d5-0d84-4de4-d77b-b428e1b61973"
   },
   "outputs": [
    {
     "name": "stdout",
     "output_type": "stream",
     "text": [
      "Best parameters: {'learning_rate': 0.1, 'max_depth': 2}\n",
      "Train accuracy: 0.86\n",
      "Test accuracy: 0.81\n",
      "Best parameters: {'learning_rate': 0.1, 'max_depth': 2}\n",
      "Train accuracy: 0.88\n",
      "Test accuracy: 0.75\n",
      "Best parameters: {'learning_rate': 0.3, 'max_depth': 2}\n",
      "Train accuracy: 0.97\n",
      "Test accuracy: 0.73\n",
      "Best parameters: {'learning_rate': 0.5, 'max_depth': 2}\n",
      "Train accuracy: 0.99\n",
      "Test accuracy: 0.73\n",
      "Best parameters: {'learning_rate': 0.1, 'max_depth': 4}\n",
      "Train accuracy: 0.99\n",
      "Test accuracy: 0.76\n",
      "Average train accuracy over 5 folds: 0.94\n",
      "Average test accuracy over 5 folds: 0.75\n"
     ]
    }
   ],
   "source": [
    "acc_train = []\n",
    "acc_test = []\n",
    "\n",
    "max_depth_list = [2, 3, 4, 5, 10, 15, 20, 50, 100, 200]\n",
    "lr_list = [0.01, 0.1, 0.3, 0.5, 0.75, 1, 2, 5, 10, 100]\n",
    "\n",
    "param_grid = dict(max_depth=max_depth_list, learning_rate=lr_list)\n",
    "\n",
    "for fold, (train_ids, test_ids) in enumerate(kfold.split(cirrhosis_X, cirrhosis_y)):\n",
    "    X_train, X_test = cirrhosis_X[train_ids], cirrhosis_X[test_ids]\n",
    "    Y_train, Y_test = cirrhosis_y[train_ids], cirrhosis_y[test_ids]\n",
    "    \n",
    "    clf = GridSearchCV(XGBClassifier(), param_grid=param_grid, n_jobs=-1, refit=True, cv=5)\n",
    "    clf.fit(X_train, Y_train)\n",
    "    \n",
    "    print('Best parameters:', clf.best_params_)\n",
    "    print('Train accuracy:', round(clf.score(X_train, Y_train),2))\n",
    "    print('Test accuracy:', round(clf.score(X_test, Y_test),2))\n",
    "    \n",
    "    acc_train.append(clf.score(X_train, Y_train))\n",
    "    acc_test.append(clf.score(X_test, Y_test))\n",
    "final_acc_test = round(np.mean(acc_test),2)\n",
    "final_acc_train = round(np.mean(acc_train),2)\n",
    "\n",
    "print('Average train accuracy over 5 folds:', final_acc_train)\n",
    "print('Average test accuracy over 5 folds:', final_acc_test)"
   ]
  },
  {
   "cell_type": "code",
   "execution_count": 27,
   "metadata": {
    "colab": {
     "base_uri": "https://localhost:8080/"
    },
    "id": "Gk_Qq5bvZFnV",
    "outputId": "92afba82-ba0d-428c-aa3a-7089ec7765a1"
   },
   "outputs": [
    {
     "data": {
      "text/plain": [
       "array([0, 0, 0, 0, 0, 1, 0, 1, 0, 1, 1, 0, 0, 0, 0, 0, 0, 0, 0, 0, 0, 0,\n",
       "       1, 0, 0, 0, 0, 1, 1, 0, 0, 0, 0, 0, 0, 1, 1, 0, 0, 0, 1, 1, 0, 0,\n",
       "       0, 0, 1, 0, 0, 1, 1, 1, 1, 0, 0, 0, 1, 1, 0, 0, 1, 1, 0, 0, 1, 1,\n",
       "       0, 1, 0, 0, 0, 0, 0, 0, 1, 1, 1, 1, 0, 0, 0, 1])"
      ]
     },
     "execution_count": 27,
     "metadata": {},
     "output_type": "execute_result"
    }
   ],
   "source": [
    "Y_test"
   ]
  },
  {
   "cell_type": "code",
   "execution_count": 28,
   "metadata": {
    "colab": {
     "base_uri": "https://localhost:8080/"
    },
    "id": "mfwE5Tk6cmWd",
    "outputId": "150e6fe5-e88b-4b3b-bac5-d9d9fe9ea69d"
   },
   "outputs": [
    {
     "data": {
      "text/plain": [
       "array([0, 1, 0, 0, 0, 1, 0, 1, 0, 0, 1, 0, 0, 0, 0, 0, 0, 0, 0, 0, 0, 1,\n",
       "       1, 0, 0, 1, 0, 1, 1, 0, 0, 0, 0, 0, 0, 1, 1, 0, 0, 0, 0, 0, 0, 0,\n",
       "       0, 0, 0, 0, 0, 1, 0, 0, 0, 0, 0, 0, 1, 0, 0, 0, 0, 0, 0, 0, 1, 0,\n",
       "       1, 0, 0, 0, 0, 0, 1, 0, 0, 0, 1, 1, 0, 0, 0, 0])"
      ]
     },
     "execution_count": 28,
     "metadata": {},
     "output_type": "execute_result"
    }
   ],
   "source": [
    "clf.predict(X_test)"
   ]
  },
  {
   "cell_type": "code",
   "execution_count": 120,
   "metadata": {
    "colab": {
     "base_uri": "https://localhost:8080/"
    },
    "id": "ZHcGAB-Fcp6D",
    "outputId": "c02b3f3f-1ffc-412d-cb55-04716633192a"
   },
   "outputs": [
    {
     "name": "stderr",
     "output_type": "stream",
     "text": [
      "C:\\Users\\alexb\\AppData\\Local\\Programs\\Python\\Python37\\lib\\site-packages\\xgboost\\sklearn.py:1224: UserWarning: The use of label encoder in XGBClassifier is deprecated and will be removed in a future release. To remove this warning, do the following: 1) Pass option use_label_encoder=False when constructing XGBClassifier object; and 2) Encode your labels (y) as integers starting with 0, i.e. 0, 1, 2, ..., [num_class - 1].\n",
      "  warnings.warn(label_encoder_deprecation_msg, UserWarning)\n"
     ]
    },
    {
     "name": "stdout",
     "output_type": "stream",
     "text": [
      "[16:26:15] WARNING: C:/Users/Administrator/workspace/xgboost-win64_release_1.5.1/src/learner.cc:1115: Starting in XGBoost 1.3.0, the default evaluation metric used with the objective 'binary:logistic' was changed from 'error' to 'logloss'. Explicitly set eval_metric if you'd like to restore the old behavior.\n",
      "Train accuracy: 0.86\n",
      "Test accuracy: 0.81\n"
     ]
    },
    {
     "name": "stderr",
     "output_type": "stream",
     "text": [
      "C:\\Users\\alexb\\AppData\\Local\\Programs\\Python\\Python37\\lib\\site-packages\\xgboost\\sklearn.py:1224: UserWarning: The use of label encoder in XGBClassifier is deprecated and will be removed in a future release. To remove this warning, do the following: 1) Pass option use_label_encoder=False when constructing XGBClassifier object; and 2) Encode your labels (y) as integers starting with 0, i.e. 0, 1, 2, ..., [num_class - 1].\n",
      "  warnings.warn(label_encoder_deprecation_msg, UserWarning)\n",
      "C:\\Users\\alexb\\AppData\\Local\\Programs\\Python\\Python37\\lib\\site-packages\\xgboost\\sklearn.py:1224: UserWarning: The use of label encoder in XGBClassifier is deprecated and will be removed in a future release. To remove this warning, do the following: 1) Pass option use_label_encoder=False when constructing XGBClassifier object; and 2) Encode your labels (y) as integers starting with 0, i.e. 0, 1, 2, ..., [num_class - 1].\n",
      "  warnings.warn(label_encoder_deprecation_msg, UserWarning)\n"
     ]
    },
    {
     "name": "stdout",
     "output_type": "stream",
     "text": [
      "[16:26:15] WARNING: C:/Users/Administrator/workspace/xgboost-win64_release_1.5.1/src/learner.cc:1115: Starting in XGBoost 1.3.0, the default evaluation metric used with the objective 'binary:logistic' was changed from 'error' to 'logloss'. Explicitly set eval_metric if you'd like to restore the old behavior.\n",
      "Train accuracy: 0.88\n",
      "Test accuracy: 0.75\n",
      "[16:26:15] WARNING: C:/Users/Administrator/workspace/xgboost-win64_release_1.5.1/src/learner.cc:1115: Starting in XGBoost 1.3.0, the default evaluation metric used with the objective 'binary:logistic' was changed from 'error' to 'logloss'. Explicitly set eval_metric if you'd like to restore the old behavior.\n",
      "Train accuracy: 0.88\n",
      "Test accuracy: 0.74\n"
     ]
    },
    {
     "name": "stderr",
     "output_type": "stream",
     "text": [
      "C:\\Users\\alexb\\AppData\\Local\\Programs\\Python\\Python37\\lib\\site-packages\\xgboost\\sklearn.py:1224: UserWarning: The use of label encoder in XGBClassifier is deprecated and will be removed in a future release. To remove this warning, do the following: 1) Pass option use_label_encoder=False when constructing XGBClassifier object; and 2) Encode your labels (y) as integers starting with 0, i.e. 0, 1, 2, ..., [num_class - 1].\n",
      "  warnings.warn(label_encoder_deprecation_msg, UserWarning)\n"
     ]
    },
    {
     "name": "stdout",
     "output_type": "stream",
     "text": [
      "[16:26:15] WARNING: C:/Users/Administrator/workspace/xgboost-win64_release_1.5.1/src/learner.cc:1115: Starting in XGBoost 1.3.0, the default evaluation metric used with the objective 'binary:logistic' was changed from 'error' to 'logloss'. Explicitly set eval_metric if you'd like to restore the old behavior.\n",
      "Train accuracy: 0.88\n",
      "Test accuracy: 0.77\n"
     ]
    },
    {
     "name": "stderr",
     "output_type": "stream",
     "text": [
      "C:\\Users\\alexb\\AppData\\Local\\Programs\\Python\\Python37\\lib\\site-packages\\xgboost\\sklearn.py:1224: UserWarning: The use of label encoder in XGBClassifier is deprecated and will be removed in a future release. To remove this warning, do the following: 1) Pass option use_label_encoder=False when constructing XGBClassifier object; and 2) Encode your labels (y) as integers starting with 0, i.e. 0, 1, 2, ..., [num_class - 1].\n",
      "  warnings.warn(label_encoder_deprecation_msg, UserWarning)\n"
     ]
    },
    {
     "name": "stdout",
     "output_type": "stream",
     "text": [
      "[16:26:16] WARNING: C:/Users/Administrator/workspace/xgboost-win64_release_1.5.1/src/learner.cc:1115: Starting in XGBoost 1.3.0, the default evaluation metric used with the objective 'binary:logistic' was changed from 'error' to 'logloss'. Explicitly set eval_metric if you'd like to restore the old behavior.\n",
      "Train accuracy: 0.88\n",
      "Test accuracy: 0.74\n",
      "Average train accuracy over 5 folds: 0.88\n",
      "Average test accuracy over 5 folds: 0.76\n"
     ]
    }
   ],
   "source": [
    "acc_train = []\n",
    "acc_test = []\n",
    "\n",
    "max_depth_list = [2, 3, 4, 5, 10, 15, 20, 50, 100, 200]\n",
    "lr_list = [0.1, 0.2, 0.3, 0.4, 0.5, 0.6, 0.7]\n",
    "\n",
    "#param_grid = dict(learning_rate=lr_list)\n",
    "\n",
    "for fold, (train_ids, test_ids) in enumerate(kfold.split(cirrhosis_X, cirrhosis_y)):\n",
    "    X_train, X_test = cirrhosis_X[train_ids], cirrhosis_X[test_ids]\n",
    "    Y_train, Y_test = cirrhosis_y[train_ids], cirrhosis_y[test_ids]\n",
    "    \n",
    "    #clf = GridSearchCV(XGBClassifier(max_depth=2), param_grid=param_grid, n_jobs=-1, refit=True, cv=5)\n",
    "    clf = XGBClassifier(max_depth=2, eta=0.1)\n",
    "    clf.fit(X_train, Y_train)\n",
    "    \n",
    "    #print('Best parameters:', clf.best_params_)\n",
    "    print('Train accuracy:', round(clf.score(X_train, Y_train),2))\n",
    "    print('Test accuracy:', round(clf.score(X_test, Y_test),2))\n",
    "    \n",
    "    acc_train.append(clf.score(X_train, Y_train))\n",
    "    acc_test.append(clf.score(X_test, Y_test))\n",
    "final_acc_test = round(np.mean(acc_test),2)\n",
    "final_acc_train = round(np.mean(acc_train),2)\n",
    "\n",
    "print('Average train accuracy over 5 folds:', final_acc_train)\n",
    "print('Average test accuracy over 5 folds:', final_acc_test)"
   ]
  },
  {
   "cell_type": "code",
   "execution_count": 30,
   "metadata": {
    "colab": {
     "base_uri": "https://localhost:8080/"
    },
    "id": "lFtTuZ11sOaS",
    "outputId": "c6d0c73b-010f-497e-89a5-ae9f41a838ab"
   },
   "outputs": [
    {
     "name": "stdout",
     "output_type": "stream",
     "text": [
      "Best parameters: {'n_neighbors': 4}\n",
      "Train accuracy: 0.73\n",
      "Test accuracy: 0.67\n",
      "Best parameters: {'n_neighbors': 3}\n",
      "Train accuracy: 0.81\n",
      "Test accuracy: 0.55\n",
      "Best parameters: {'n_neighbors': 3}\n",
      "Train accuracy: 0.79\n",
      "Test accuracy: 0.62\n",
      "Best parameters: {'n_neighbors': 4}\n",
      "Train accuracy: 0.75\n",
      "Test accuracy: 0.66\n",
      "Best parameters: {'n_neighbors': 7}\n",
      "Train accuracy: 0.71\n",
      "Test accuracy: 0.68\n",
      "Average train accuracy over 5 folds: 0.76\n",
      "Average test accuracy over 5 folds: 0.64\n"
     ]
    }
   ],
   "source": [
    "from sklearn.neighbors import KNeighborsClassifier\n",
    "acc_train = []\n",
    "acc_test = []\n",
    "\n",
    "#max_depth_list = [2, 3, 4, 5, 10, 15, 20, 50, 100, 200]\n",
    "#lr_list = [0.1, 0.2, 0.3, 0.4, 0.5, 0.6, 0.7]\n",
    "n_list = [2, 3, 4, 5, 6, 7, 8, 9, 10]\n",
    "\n",
    "param_grid = dict(n_neighbors=n_list)\n",
    "\n",
    "for fold, (train_ids, test_ids) in enumerate(kfold.split(cirrhosis_X, cirrhosis_y)):\n",
    "    X_train, X_test = cirrhosis_X[train_ids], cirrhosis_X[test_ids]\n",
    "    Y_train, Y_test = cirrhosis_y[train_ids], cirrhosis_y[test_ids]\n",
    "    \n",
    "    clf = GridSearchCV(KNeighborsClassifier(), param_grid=param_grid, n_jobs=-1, refit=True, cv=5)\n",
    "    #clf = KNeighborsClassifier(n_neighbors = 5)\n",
    "    clf.fit(X_train, Y_train)\n",
    "    \n",
    "    print('Best parameters:', clf.best_params_)\n",
    "    print('Train accuracy:', round(clf.score(X_train, Y_train),2))\n",
    "    print('Test accuracy:', round(clf.score(X_test, Y_test),2))\n",
    "    \n",
    "    acc_train.append(clf.score(X_train, Y_train))\n",
    "    acc_test.append(clf.score(X_test, Y_test))\n",
    "final_acc_test = round(np.mean(acc_test),2)\n",
    "final_acc_train = round(np.mean(acc_train),2)\n",
    "\n",
    "print('Average train accuracy over 5 folds:', final_acc_train)\n",
    "print('Average test accuracy over 5 folds:', final_acc_test)"
   ]
  },
  {
   "cell_type": "markdown",
   "metadata": {},
   "source": [
    "# Neural Network"
   ]
  },
  {
   "cell_type": "code",
   "execution_count": 192,
   "metadata": {
    "id": "jpRwkFMwwV-T"
   },
   "outputs": [
    {
     "name": "stdout",
     "output_type": "stream",
     "text": [
      "Train accuracy: 0.65\n",
      "Test accuracy: 0.65\n",
      "Train accuracy: 0.65\n",
      "Test accuracy: 0.65\n",
      "Train accuracy: 0.65\n",
      "Test accuracy: 0.65\n",
      "Train accuracy: 0.65\n",
      "Test accuracy: 0.65\n",
      "Train accuracy: 0.64\n",
      "Test accuracy: 0.66\n",
      "Average train accuracy over 5 folds: 0.65\n",
      "Average test accuracy over 5 folds: 0.65\n"
     ]
    }
   ],
   "source": [
    "from sklearn.neural_network import MLPClassifier\n",
    "\n",
    "acc_train = []\n",
    "acc_test = []\n",
    "\n",
    "\n",
    "for fold, (train_ids, test_ids) in enumerate(kfold.split(cirrhosis_X, cirrhosis_y)):\n",
    "    X_train, X_test = cirrhosis_X[train_ids], cirrhosis_X[test_ids]\n",
    "    Y_train, Y_test = cirrhosis_y[train_ids], cirrhosis_y[test_ids]\n",
    "    \n",
    "    clf=MLPClassifier(hidden_layer_sizes=(32,32),activation=\"tanh\",solver=\"sgd\",\n",
    "                      learning_rate='adaptive', learning_rate_init=0.001,\n",
    "                      n_iter_no_change=10,max_iter=1000,alpha=0.0001)\n",
    "    clf.fit(X_train, Y_train)\n",
    "    \n",
    "    print('Train accuracy:', round(clf.score(X_train, Y_train),2))\n",
    "    print('Test accuracy:', round(clf.score(X_test, Y_test),2))\n",
    "    \n",
    "    acc_train.append(clf.score(X_train, Y_train))\n",
    "    acc_test.append(clf.score(X_test, Y_test))\n",
    "final_acc_test = round(np.mean(acc_test),2)\n",
    "final_acc_train = round(np.mean(acc_train),2)\n",
    "\n",
    "print('Average train accuracy over 5 folds:', final_acc_train)\n",
    "print('Average test accuracy over 5 folds:', final_acc_test)"
   ]
  },
  {
   "cell_type": "markdown",
   "metadata": {},
   "source": [
    "# Random Forest"
   ]
  },
  {
   "cell_type": "code",
   "execution_count": 194,
   "metadata": {},
   "outputs": [
    {
     "name": "stdout",
     "output_type": "stream",
     "text": [
      "Train accuracy: 0.98\n",
      "Test accuracy: 0.77\n",
      "Train accuracy: 0.99\n",
      "Test accuracy: 0.72\n",
      "Train accuracy: 1.0\n",
      "Test accuracy: 0.74\n",
      "Train accuracy: 0.99\n",
      "Test accuracy: 0.77\n",
      "Train accuracy: 0.99\n",
      "Test accuracy: 0.73\n",
      "Average train accuracy over 5 folds: 0.99\n",
      "Average test accuracy over 5 folds: 0.75\n"
     ]
    }
   ],
   "source": [
    "from sklearn.ensemble import RandomForestClassifier\n",
    "acc_train = []\n",
    "acc_test = []\n",
    "\n",
    "max_depth_list =  [2,5,10,20,50, 100]\n",
    "n_estimators_list=[10,50,100,200,500]\n",
    "\n",
    "param_grid = dict(max_depth=max_depth_list,\n",
    "                  n_estimators=n_estimators_list\n",
    "                 )\n",
    "\n",
    "for fold, (train_ids, test_ids) in enumerate(kfold.split(cirrhosis_X, cirrhosis_y)):\n",
    "    X_train, X_test = cirrhosis_X[train_ids], cirrhosis_X[test_ids]\n",
    "    Y_train, Y_test = cirrhosis_y[train_ids], cirrhosis_y[test_ids]\n",
    "    \n",
    "    #clf = GridSearchCV(RandomForestClassifier(), param_grid=param_grid, n_jobs=-1, refit=True, cv=5)\n",
    "    clf=RandomForestClassifier(max_depth=10,n_estimators=200)\n",
    "    clf.fit(X_train, Y_train)\n",
    "    \n",
    "    #print('Best parameters:', clf.best_params_)\n",
    "    print('Train accuracy:', round(clf.score(X_train, Y_train),2))\n",
    "    print('Test accuracy:', round(clf.score(X_test, Y_test),2))\n",
    "    \n",
    "    acc_train.append(clf.score(X_train, Y_train))\n",
    "    acc_test.append(clf.score(X_test, Y_test))\n",
    "final_acc_test = round(np.mean(acc_test),2)\n",
    "final_acc_train = round(np.mean(acc_train),2)\n",
    "\n",
    "print('Average train accuracy over 5 folds:', final_acc_train)\n",
    "print('Average test accuracy over 5 folds:', final_acc_test)"
   ]
  },
  {
   "cell_type": "code",
   "execution_count": 195,
   "metadata": {},
   "outputs": [
    {
     "data": {
      "image/png": "[encoded data removed]",
      "text/plain": [
       "<Figure size 432x288 with 1 Axes>"
      ]
     },
     "metadata": {
      "needs_background": "light"
     },
     "output_type": "display_data"
    }
   ],
   "source": [
    "feature_names = [f\"feature {i}\" for i in range(X_train.shape[1])]\n",
    "importances = clf.feature_importances_\n",
    "std = np.std([tree.feature_importances_ for tree in clf.estimators_], axis=0)\n",
    "forest_importances = pd.Series(importances, index=feature_names)\n",
    "\n",
    "fig, ax = plt.subplots()\n",
    "forest_importances.plot.bar(yerr=std, ax=ax)\n",
    "ax.set_title(\"Feature importances using MDI\")\n",
    "ax.set_ylabel(\"Mean decrease in impurity\")\n",
    "fig.tight_layout()\n"
   ]
  },
  {
   "cell_type": "code",
   "execution_count": 124,
   "metadata": {},
   "outputs": [],
   "source": [
    "cirrhosis_X_red=cirrhosis_X[:,[1,6,8,13,14]]\n",
    "cirrhosis_X_red=cirrhosis_X[:,[1,6,7,8,9,10,11,12,13,14]]"
   ]
  },
  {
   "cell_type": "code",
   "execution_count": 125,
   "metadata": {},
   "outputs": [
    {
     "name": "stderr",
     "output_type": "stream",
     "text": [
      "C:\\Users\\alexb\\AppData\\Local\\Programs\\Python\\Python37\\lib\\site-packages\\xgboost\\sklearn.py:1224: UserWarning: The use of label encoder in XGBClassifier is deprecated and will be removed in a future release. To remove this warning, do the following: 1) Pass option use_label_encoder=False when constructing XGBClassifier object; and 2) Encode your labels (y) as integers starting with 0, i.e. 0, 1, 2, ..., [num_class - 1].\n",
      "  warnings.warn(label_encoder_deprecation_msg, UserWarning)\n",
      "C:\\Users\\alexb\\AppData\\Local\\Programs\\Python\\Python37\\lib\\site-packages\\xgboost\\sklearn.py:1224: UserWarning: The use of label encoder in XGBClassifier is deprecated and will be removed in a future release. To remove this warning, do the following: 1) Pass option use_label_encoder=False when constructing XGBClassifier object; and 2) Encode your labels (y) as integers starting with 0, i.e. 0, 1, 2, ..., [num_class - 1].\n",
      "  warnings.warn(label_encoder_deprecation_msg, UserWarning)\n"
     ]
    },
    {
     "name": "stdout",
     "output_type": "stream",
     "text": [
      "[16:30:25] WARNING: C:/Users/Administrator/workspace/xgboost-win64_release_1.5.1/src/learner.cc:1115: Starting in XGBoost 1.3.0, the default evaluation metric used with the objective 'binary:logistic' was changed from 'error' to 'logloss'. Explicitly set eval_metric if you'd like to restore the old behavior.\n",
      "Train accuracy: 0.86\n",
      "Test accuracy: 0.83\n",
      "[16:30:25] WARNING: C:/Users/Administrator/workspace/xgboost-win64_release_1.5.1/src/learner.cc:1115: Starting in XGBoost 1.3.0, the default evaluation metric used with the objective 'binary:logistic' was changed from 'error' to 'logloss'. Explicitly set eval_metric if you'd like to restore the old behavior.\n",
      "Train accuracy: 0.87\n",
      "Test accuracy: 0.75\n"
     ]
    },
    {
     "name": "stderr",
     "output_type": "stream",
     "text": [
      "C:\\Users\\alexb\\AppData\\Local\\Programs\\Python\\Python37\\lib\\site-packages\\xgboost\\sklearn.py:1224: UserWarning: The use of label encoder in XGBClassifier is deprecated and will be removed in a future release. To remove this warning, do the following: 1) Pass option use_label_encoder=False when constructing XGBClassifier object; and 2) Encode your labels (y) as integers starting with 0, i.e. 0, 1, 2, ..., [num_class - 1].\n",
      "  warnings.warn(label_encoder_deprecation_msg, UserWarning)\n",
      "C:\\Users\\alexb\\AppData\\Local\\Programs\\Python\\Python37\\lib\\site-packages\\xgboost\\sklearn.py:1224: UserWarning: The use of label encoder in XGBClassifier is deprecated and will be removed in a future release. To remove this warning, do the following: 1) Pass option use_label_encoder=False when constructing XGBClassifier object; and 2) Encode your labels (y) as integers starting with 0, i.e. 0, 1, 2, ..., [num_class - 1].\n",
      "  warnings.warn(label_encoder_deprecation_msg, UserWarning)\n"
     ]
    },
    {
     "name": "stdout",
     "output_type": "stream",
     "text": [
      "[16:30:25] WARNING: C:/Users/Administrator/workspace/xgboost-win64_release_1.5.1/src/learner.cc:1115: Starting in XGBoost 1.3.0, the default evaluation metric used with the objective 'binary:logistic' was changed from 'error' to 'logloss'. Explicitly set eval_metric if you'd like to restore the old behavior.\n",
      "Train accuracy: 0.88\n",
      "Test accuracy: 0.72\n",
      "[16:30:25] WARNING: C:/Users/Administrator/workspace/xgboost-win64_release_1.5.1/src/learner.cc:1115: Starting in XGBoost 1.3.0, the default evaluation metric used with the objective 'binary:logistic' was changed from 'error' to 'logloss'. Explicitly set eval_metric if you'd like to restore the old behavior.\n",
      "Train accuracy: 0.88\n",
      "Test accuracy: 0.73\n"
     ]
    },
    {
     "name": "stderr",
     "output_type": "stream",
     "text": [
      "C:\\Users\\alexb\\AppData\\Local\\Programs\\Python\\Python37\\lib\\site-packages\\xgboost\\sklearn.py:1224: UserWarning: The use of label encoder in XGBClassifier is deprecated and will be removed in a future release. To remove this warning, do the following: 1) Pass option use_label_encoder=False when constructing XGBClassifier object; and 2) Encode your labels (y) as integers starting with 0, i.e. 0, 1, 2, ..., [num_class - 1].\n",
      "  warnings.warn(label_encoder_deprecation_msg, UserWarning)\n"
     ]
    },
    {
     "name": "stdout",
     "output_type": "stream",
     "text": [
      "[16:30:26] WARNING: C:/Users/Administrator/workspace/xgboost-win64_release_1.5.1/src/learner.cc:1115: Starting in XGBoost 1.3.0, the default evaluation metric used with the objective 'binary:logistic' was changed from 'error' to 'logloss'. Explicitly set eval_metric if you'd like to restore the old behavior.\n",
      "Train accuracy: 0.87\n",
      "Test accuracy: 0.77\n",
      "Average train accuracy over 5 folds: 0.87\n",
      "Average test accuracy over 5 folds: 0.76\n"
     ]
    }
   ],
   "source": [
    "acc_train = []\n",
    "acc_test = []\n",
    "\n",
    "max_depth_list = [2, 3, 4, 5, 10, 15, 20, 50, 100, 200]\n",
    "lr_list = [0.1, 0.2, 0.3, 0.4, 0.5, 0.6, 0.7]\n",
    "\n",
    "param_grid = dict(max_depth=max_depth_list,\n",
    "                  learning_rate=lr_list\n",
    "                 )\n",
    "\n",
    "for fold, (train_ids, test_ids) in enumerate(kfold.split(cirrhosis_X_red, cirrhosis_y)):\n",
    "    X_train, X_test = cirrhosis_X_red[train_ids], cirrhosis_X_red[test_ids]\n",
    "    Y_train, Y_test = cirrhosis_y[train_ids], cirrhosis_y[test_ids]\n",
    "    \n",
    "    #clf = GridSearchCV(XGBClassifier(), param_grid=param_grid, n_jobs=-1, refit=True, cv=5)\n",
    "    clf = XGBClassifier(max_depth=2, learning_rate=0.1)\n",
    "    clf.fit(X_train, Y_train)\n",
    "    \n",
    "    #print('Best parameters:', clf.best_params_)\n",
    "    print('Train accuracy:', round(clf.score(X_train, Y_train),2))\n",
    "    print('Test accuracy:', round(clf.score(X_test, Y_test),2))\n",
    "    \n",
    "    acc_train.append(clf.score(X_train, Y_train))\n",
    "    acc_test.append(clf.score(X_test, Y_test))\n",
    "final_acc_test = round(np.mean(acc_test),2)\n",
    "final_acc_train = round(np.mean(acc_train),2)\n",
    "\n",
    "print('Average train accuracy over 5 folds:', final_acc_train)\n",
    "print('Average test accuracy over 5 folds:', final_acc_test)"
   ]
  },
  {
   "cell_type": "markdown",
   "metadata": {},
   "source": [
    "# Gaussian Naive Bayes"
   ]
  },
  {
   "cell_type": "code",
   "execution_count": 196,
   "metadata": {},
   "outputs": [
    {
     "name": "stdout",
     "output_type": "stream",
     "text": [
      "Train accuracy: 0.72\n",
      "Test accuracy: 0.73\n",
      "Train accuracy: 0.73\n",
      "Test accuracy: 0.69\n",
      "Train accuracy: 0.73\n",
      "Test accuracy: 0.67\n",
      "Train accuracy: 0.73\n",
      "Test accuracy: 0.78\n",
      "Train accuracy: 0.72\n",
      "Test accuracy: 0.72\n",
      "Average train accuracy over 5 folds: 0.73\n",
      "Average test accuracy over 5 folds: 0.72\n"
     ]
    }
   ],
   "source": [
    "from sklearn.naive_bayes import GaussianNB\n",
    "\n",
    "acc_train = []\n",
    "acc_test = []\n",
    "              \n",
    "\n",
    "for fold, (train_ids, test_ids) in enumerate(kfold.split(cirrhosis_X_red, cirrhosis_y)):\n",
    "    X_train, X_test = cirrhosis_X_red[train_ids], cirrhosis_X_red[test_ids]\n",
    "    Y_train, Y_test = cirrhosis_y[train_ids], cirrhosis_y[test_ids]\n",
    "    \n",
    "    clf = GaussianNB()\n",
    "    clf.fit(X_train, Y_train)\n",
    "    \n",
    "    print('Train accuracy:', round(clf.score(X_train, Y_train),2))\n",
    "    print('Test accuracy:', round(clf.score(X_test, Y_test),2))\n",
    "    \n",
    "    acc_train.append(clf.score(X_train, Y_train))\n",
    "    acc_test.append(clf.score(X_test, Y_test))\n",
    "final_acc_test = round(np.mean(acc_test),2)\n",
    "final_acc_train = round(np.mean(acc_train),2)\n",
    "\n",
    "print('Average train accuracy over 5 folds:', final_acc_train)\n",
    "print('Average test accuracy over 5 folds:', final_acc_test)"
   ]
  },
  {
   "cell_type": "markdown",
   "metadata": {},
   "source": [
    "# Quadratic Discriminant Analysis"
   ]
  },
  {
   "cell_type": "code",
   "execution_count": 197,
   "metadata": {},
   "outputs": [
    {
     "name": "stdout",
     "output_type": "stream",
     "text": [
      "Train accuracy: 0.78\n",
      "Test accuracy: 0.72\n",
      "Train accuracy: 0.76\n",
      "Test accuracy: 0.7\n",
      "Train accuracy: 0.78\n",
      "Test accuracy: 0.72\n",
      "Train accuracy: 0.78\n",
      "Test accuracy: 0.78\n",
      "Train accuracy: 0.76\n",
      "Test accuracy: 0.65\n",
      "Average train accuracy over 5 folds: 0.77\n",
      "Average test accuracy over 5 folds: 0.71\n"
     ]
    }
   ],
   "source": [
    "from sklearn.discriminant_analysis import QuadraticDiscriminantAnalysis\n",
    "\n",
    "acc_train = []\n",
    "acc_test = []\n",
    "\n",
    "for fold, (train_ids, test_ids) in enumerate(kfold.split(cirrhosis_X, cirrhosis_y)):\n",
    "    X_train, X_test = cirrhosis_X[train_ids], cirrhosis_X[test_ids]\n",
    "    Y_train, Y_test = cirrhosis_y[train_ids], cirrhosis_y[test_ids]\n",
    "    \n",
    "    clf = QuadraticDiscriminantAnalysis()\n",
    "    clf.fit(X_train,Y_train)\n",
    "    \n",
    "    print('Train accuracy:', round(clf.score(X_train, Y_train),2))\n",
    "    print('Test accuracy:', round(clf.score(X_test, Y_test),2))\n",
    "    \n",
    "    acc_train.append(clf.score(X_train, Y_train))\n",
    "    acc_test.append(clf.score(X_test, Y_test))\n",
    "final_acc_test = round(np.mean(acc_test),2)\n",
    "final_acc_train = round(np.mean(acc_train),2)\n",
    "\n",
    "print('Average train accuracy over 5 folds:', final_acc_train)\n",
    "print('Average test accuracy over 5 folds:', final_acc_test)"
   ]
  }
 ],
 "metadata": {
  "accelerator": "GPU",
  "colab": {
   "collapsed_sections": [],
   "machine_shape": "hm",
   "name": "projet_medical.ipynb",
   "provenance": []
  },
  "kernelspec": {
   "display_name": "Python 3 (ipykernel)",
   "language": "python",
   "name": "python3"
  },
  "language_info": {
   "codemirror_mode": {
    "name": "ipython",
    "version": 3
   },
   "file_extension": ".py",
   "mimetype": "text/x-python",
   "name": "python",
   "nbconvert_exporter": "python",
   "pygments_lexer": "ipython3",
   "version": "3.7.9"
  }
 },
 "nbformat": 4,
 "nbformat_minor": 1
}
