{
 "cells": [
  {
   "cell_type": "code",
   "execution_count": 12,
   "metadata": {
    "id": "PzE_6rs06hI1"
   },
   "outputs": [],
   "source": [
    "import numpy as np\n",
    "import pandas as pd\n",
    "\n",
    "from sklearn import svm\n",
    "from sklearn.svm import LinearSVC\n",
    "from sklearn import model_selection\n",
    "from sklearn.model_selection import KFold, StratifiedKFold, GridSearchCV, train_test_split\n",
    "from sklearn.decomposition import PCA, KernelPCA\n",
    "from sklearn.discriminant_analysis import LinearDiscriminantAnalysis, QuadraticDiscriminantAnalysis\n",
    "from sklearn.linear_model import LogisticRegression, Lasso, ElasticNet\n",
    "from sklearn.ensemble import AdaBoostClassifier, VotingClassifier, RandomForestClassifier\n",
    "from sklearn.preprocessing import LabelEncoder\n",
    "from sklearn.naive_bayes import GaussianNB\n",
    "\n",
    "import warnings\n",
    "warnings.filterwarnings('ignore')\n",
    "\n",
    "from xgboost import XGBClassifier\n",
    "\n",
    "import matplotlib.pyplot as plt\n",
    "import seaborn as sns\n",
    "\n",
    "import time"
   ]
  },
  {
   "cell_type": "markdown",
   "metadata": {},
   "source": [
    "# Data Preprocessing"
   ]
  },
  {
   "cell_type": "code",
   "execution_count": 13,
   "metadata": {
    "colab": {
     "base_uri": "https://localhost:8080/",
     "height": 741
    },
    "id": "0-NY05TC6soP",
    "outputId": "634f8cf7-1b64-4c6f-8453-6777ecc197f2"
   },
   "outputs": [
    {
     "data": {
      "text/html": [
       "<div>\n",
       "<style scoped>\n",
       "    .dataframe tbody tr th:only-of-type {\n",
       "        vertical-align: middle;\n",
       "    }\n",
       "\n",
       "    .dataframe tbody tr th {\n",
       "        vertical-align: top;\n",
       "    }\n",
       "\n",
       "    .dataframe thead th {\n",
       "        text-align: right;\n",
       "    }\n",
       "</style>\n",
       "<table border=\"1\" class=\"dataframe\">\n",
       "  <thead>\n",
       "    <tr style=\"text-align: right;\">\n",
       "      <th></th>\n",
       "      <th>ID</th>\n",
       "      <th>N_Days</th>\n",
       "      <th>Status</th>\n",
       "      <th>Drug</th>\n",
       "      <th>Age</th>\n",
       "      <th>Sex</th>\n",
       "      <th>Ascites</th>\n",
       "      <th>Hepatomegaly</th>\n",
       "      <th>Spiders</th>\n",
       "      <th>Edema</th>\n",
       "      <th>Bilirubin</th>\n",
       "      <th>Cholesterol</th>\n",
       "      <th>Albumin</th>\n",
       "      <th>Copper</th>\n",
       "      <th>Alk_Phos</th>\n",
       "      <th>SGOT</th>\n",
       "      <th>Tryglicerides</th>\n",
       "      <th>Platelets</th>\n",
       "      <th>Prothrombin</th>\n",
       "      <th>Stage</th>\n",
       "    </tr>\n",
       "  </thead>\n",
       "  <tbody>\n",
       "    <tr>\n",
       "      <th>0</th>\n",
       "      <td>1</td>\n",
       "      <td>400</td>\n",
       "      <td>D</td>\n",
       "      <td>D-penicillamine</td>\n",
       "      <td>21464</td>\n",
       "      <td>F</td>\n",
       "      <td>Y</td>\n",
       "      <td>Y</td>\n",
       "      <td>Y</td>\n",
       "      <td>Y</td>\n",
       "      <td>14.5</td>\n",
       "      <td>261.0</td>\n",
       "      <td>2.60</td>\n",
       "      <td>156.0</td>\n",
       "      <td>1718.0</td>\n",
       "      <td>137.95</td>\n",
       "      <td>172.0</td>\n",
       "      <td>190.0</td>\n",
       "      <td>12.2</td>\n",
       "      <td>4.0</td>\n",
       "    </tr>\n",
       "    <tr>\n",
       "      <th>1</th>\n",
       "      <td>2</td>\n",
       "      <td>4500</td>\n",
       "      <td>C</td>\n",
       "      <td>D-penicillamine</td>\n",
       "      <td>20617</td>\n",
       "      <td>F</td>\n",
       "      <td>N</td>\n",
       "      <td>Y</td>\n",
       "      <td>Y</td>\n",
       "      <td>N</td>\n",
       "      <td>1.1</td>\n",
       "      <td>302.0</td>\n",
       "      <td>4.14</td>\n",
       "      <td>54.0</td>\n",
       "      <td>7394.8</td>\n",
       "      <td>113.52</td>\n",
       "      <td>88.0</td>\n",
       "      <td>221.0</td>\n",
       "      <td>10.6</td>\n",
       "      <td>3.0</td>\n",
       "    </tr>\n",
       "    <tr>\n",
       "      <th>2</th>\n",
       "      <td>3</td>\n",
       "      <td>1012</td>\n",
       "      <td>D</td>\n",
       "      <td>D-penicillamine</td>\n",
       "      <td>25594</td>\n",
       "      <td>M</td>\n",
       "      <td>N</td>\n",
       "      <td>N</td>\n",
       "      <td>N</td>\n",
       "      <td>S</td>\n",
       "      <td>1.4</td>\n",
       "      <td>176.0</td>\n",
       "      <td>3.48</td>\n",
       "      <td>210.0</td>\n",
       "      <td>516.0</td>\n",
       "      <td>96.10</td>\n",
       "      <td>55.0</td>\n",
       "      <td>151.0</td>\n",
       "      <td>12.0</td>\n",
       "      <td>4.0</td>\n",
       "    </tr>\n",
       "    <tr>\n",
       "      <th>3</th>\n",
       "      <td>4</td>\n",
       "      <td>1925</td>\n",
       "      <td>D</td>\n",
       "      <td>D-penicillamine</td>\n",
       "      <td>19994</td>\n",
       "      <td>F</td>\n",
       "      <td>N</td>\n",
       "      <td>Y</td>\n",
       "      <td>Y</td>\n",
       "      <td>S</td>\n",
       "      <td>1.8</td>\n",
       "      <td>244.0</td>\n",
       "      <td>2.54</td>\n",
       "      <td>64.0</td>\n",
       "      <td>6121.8</td>\n",
       "      <td>60.63</td>\n",
       "      <td>92.0</td>\n",
       "      <td>183.0</td>\n",
       "      <td>10.3</td>\n",
       "      <td>4.0</td>\n",
       "    </tr>\n",
       "    <tr>\n",
       "      <th>4</th>\n",
       "      <td>5</td>\n",
       "      <td>1504</td>\n",
       "      <td>CL</td>\n",
       "      <td>Placebo</td>\n",
       "      <td>13918</td>\n",
       "      <td>F</td>\n",
       "      <td>N</td>\n",
       "      <td>Y</td>\n",
       "      <td>Y</td>\n",
       "      <td>N</td>\n",
       "      <td>3.4</td>\n",
       "      <td>279.0</td>\n",
       "      <td>3.53</td>\n",
       "      <td>143.0</td>\n",
       "      <td>671.0</td>\n",
       "      <td>113.15</td>\n",
       "      <td>72.0</td>\n",
       "      <td>136.0</td>\n",
       "      <td>10.9</td>\n",
       "      <td>3.0</td>\n",
       "    </tr>\n",
       "    <tr>\n",
       "      <th>5</th>\n",
       "      <td>6</td>\n",
       "      <td>2503</td>\n",
       "      <td>D</td>\n",
       "      <td>Placebo</td>\n",
       "      <td>24201</td>\n",
       "      <td>F</td>\n",
       "      <td>N</td>\n",
       "      <td>Y</td>\n",
       "      <td>N</td>\n",
       "      <td>N</td>\n",
       "      <td>0.8</td>\n",
       "      <td>248.0</td>\n",
       "      <td>3.98</td>\n",
       "      <td>50.0</td>\n",
       "      <td>944.0</td>\n",
       "      <td>93.00</td>\n",
       "      <td>63.0</td>\n",
       "      <td>NaN</td>\n",
       "      <td>11.0</td>\n",
       "      <td>3.0</td>\n",
       "    </tr>\n",
       "    <tr>\n",
       "      <th>6</th>\n",
       "      <td>7</td>\n",
       "      <td>1832</td>\n",
       "      <td>C</td>\n",
       "      <td>Placebo</td>\n",
       "      <td>20284</td>\n",
       "      <td>F</td>\n",
       "      <td>N</td>\n",
       "      <td>Y</td>\n",
       "      <td>N</td>\n",
       "      <td>N</td>\n",
       "      <td>1.0</td>\n",
       "      <td>322.0</td>\n",
       "      <td>4.09</td>\n",
       "      <td>52.0</td>\n",
       "      <td>824.0</td>\n",
       "      <td>60.45</td>\n",
       "      <td>213.0</td>\n",
       "      <td>204.0</td>\n",
       "      <td>9.7</td>\n",
       "      <td>3.0</td>\n",
       "    </tr>\n",
       "    <tr>\n",
       "      <th>7</th>\n",
       "      <td>8</td>\n",
       "      <td>2466</td>\n",
       "      <td>D</td>\n",
       "      <td>Placebo</td>\n",
       "      <td>19379</td>\n",
       "      <td>F</td>\n",
       "      <td>N</td>\n",
       "      <td>N</td>\n",
       "      <td>N</td>\n",
       "      <td>N</td>\n",
       "      <td>0.3</td>\n",
       "      <td>280.0</td>\n",
       "      <td>4.00</td>\n",
       "      <td>52.0</td>\n",
       "      <td>4651.2</td>\n",
       "      <td>28.38</td>\n",
       "      <td>189.0</td>\n",
       "      <td>373.0</td>\n",
       "      <td>11.0</td>\n",
       "      <td>3.0</td>\n",
       "    </tr>\n",
       "    <tr>\n",
       "      <th>8</th>\n",
       "      <td>9</td>\n",
       "      <td>2400</td>\n",
       "      <td>D</td>\n",
       "      <td>D-penicillamine</td>\n",
       "      <td>15526</td>\n",
       "      <td>F</td>\n",
       "      <td>N</td>\n",
       "      <td>N</td>\n",
       "      <td>Y</td>\n",
       "      <td>N</td>\n",
       "      <td>3.2</td>\n",
       "      <td>562.0</td>\n",
       "      <td>3.08</td>\n",
       "      <td>79.0</td>\n",
       "      <td>2276.0</td>\n",
       "      <td>144.15</td>\n",
       "      <td>88.0</td>\n",
       "      <td>251.0</td>\n",
       "      <td>11.0</td>\n",
       "      <td>2.0</td>\n",
       "    </tr>\n",
       "    <tr>\n",
       "      <th>9</th>\n",
       "      <td>10</td>\n",
       "      <td>51</td>\n",
       "      <td>D</td>\n",
       "      <td>Placebo</td>\n",
       "      <td>25772</td>\n",
       "      <td>F</td>\n",
       "      <td>Y</td>\n",
       "      <td>N</td>\n",
       "      <td>Y</td>\n",
       "      <td>Y</td>\n",
       "      <td>12.6</td>\n",
       "      <td>200.0</td>\n",
       "      <td>2.74</td>\n",
       "      <td>140.0</td>\n",
       "      <td>918.0</td>\n",
       "      <td>147.25</td>\n",
       "      <td>143.0</td>\n",
       "      <td>302.0</td>\n",
       "      <td>11.5</td>\n",
       "      <td>4.0</td>\n",
       "    </tr>\n",
       "    <tr>\n",
       "      <th>10</th>\n",
       "      <td>11</td>\n",
       "      <td>3762</td>\n",
       "      <td>D</td>\n",
       "      <td>Placebo</td>\n",
       "      <td>19619</td>\n",
       "      <td>F</td>\n",
       "      <td>N</td>\n",
       "      <td>Y</td>\n",
       "      <td>Y</td>\n",
       "      <td>N</td>\n",
       "      <td>1.4</td>\n",
       "      <td>259.0</td>\n",
       "      <td>4.16</td>\n",
       "      <td>46.0</td>\n",
       "      <td>1104.0</td>\n",
       "      <td>79.05</td>\n",
       "      <td>79.0</td>\n",
       "      <td>258.0</td>\n",
       "      <td>12.0</td>\n",
       "      <td>4.0</td>\n",
       "    </tr>\n",
       "    <tr>\n",
       "      <th>11</th>\n",
       "      <td>12</td>\n",
       "      <td>304</td>\n",
       "      <td>D</td>\n",
       "      <td>Placebo</td>\n",
       "      <td>21600</td>\n",
       "      <td>F</td>\n",
       "      <td>N</td>\n",
       "      <td>N</td>\n",
       "      <td>Y</td>\n",
       "      <td>N</td>\n",
       "      <td>3.6</td>\n",
       "      <td>236.0</td>\n",
       "      <td>3.52</td>\n",
       "      <td>94.0</td>\n",
       "      <td>591.0</td>\n",
       "      <td>82.15</td>\n",
       "      <td>95.0</td>\n",
       "      <td>71.0</td>\n",
       "      <td>13.6</td>\n",
       "      <td>4.0</td>\n",
       "    </tr>\n",
       "    <tr>\n",
       "      <th>12</th>\n",
       "      <td>13</td>\n",
       "      <td>3577</td>\n",
       "      <td>C</td>\n",
       "      <td>Placebo</td>\n",
       "      <td>16688</td>\n",
       "      <td>F</td>\n",
       "      <td>N</td>\n",
       "      <td>N</td>\n",
       "      <td>N</td>\n",
       "      <td>N</td>\n",
       "      <td>0.7</td>\n",
       "      <td>281.0</td>\n",
       "      <td>3.85</td>\n",
       "      <td>40.0</td>\n",
       "      <td>1181.0</td>\n",
       "      <td>88.35</td>\n",
       "      <td>130.0</td>\n",
       "      <td>244.0</td>\n",
       "      <td>10.6</td>\n",
       "      <td>3.0</td>\n",
       "    </tr>\n",
       "    <tr>\n",
       "      <th>13</th>\n",
       "      <td>14</td>\n",
       "      <td>1217</td>\n",
       "      <td>D</td>\n",
       "      <td>Placebo</td>\n",
       "      <td>20535</td>\n",
       "      <td>M</td>\n",
       "      <td>Y</td>\n",
       "      <td>Y</td>\n",
       "      <td>N</td>\n",
       "      <td>Y</td>\n",
       "      <td>0.8</td>\n",
       "      <td>NaN</td>\n",
       "      <td>2.27</td>\n",
       "      <td>43.0</td>\n",
       "      <td>728.0</td>\n",
       "      <td>71.00</td>\n",
       "      <td>NaN</td>\n",
       "      <td>156.0</td>\n",
       "      <td>11.0</td>\n",
       "      <td>4.0</td>\n",
       "    </tr>\n",
       "    <tr>\n",
       "      <th>14</th>\n",
       "      <td>15</td>\n",
       "      <td>3584</td>\n",
       "      <td>D</td>\n",
       "      <td>D-penicillamine</td>\n",
       "      <td>23612</td>\n",
       "      <td>F</td>\n",
       "      <td>N</td>\n",
       "      <td>N</td>\n",
       "      <td>N</td>\n",
       "      <td>N</td>\n",
       "      <td>0.8</td>\n",
       "      <td>231.0</td>\n",
       "      <td>3.87</td>\n",
       "      <td>173.0</td>\n",
       "      <td>9009.8</td>\n",
       "      <td>127.71</td>\n",
       "      <td>96.0</td>\n",
       "      <td>295.0</td>\n",
       "      <td>11.0</td>\n",
       "      <td>3.0</td>\n",
       "    </tr>\n",
       "    <tr>\n",
       "      <th>15</th>\n",
       "      <td>16</td>\n",
       "      <td>3672</td>\n",
       "      <td>C</td>\n",
       "      <td>Placebo</td>\n",
       "      <td>14772</td>\n",
       "      <td>F</td>\n",
       "      <td>N</td>\n",
       "      <td>N</td>\n",
       "      <td>N</td>\n",
       "      <td>N</td>\n",
       "      <td>0.7</td>\n",
       "      <td>204.0</td>\n",
       "      <td>3.66</td>\n",
       "      <td>28.0</td>\n",
       "      <td>685.0</td>\n",
       "      <td>72.85</td>\n",
       "      <td>58.0</td>\n",
       "      <td>198.0</td>\n",
       "      <td>10.8</td>\n",
       "      <td>3.0</td>\n",
       "    </tr>\n",
       "    <tr>\n",
       "      <th>16</th>\n",
       "      <td>17</td>\n",
       "      <td>769</td>\n",
       "      <td>D</td>\n",
       "      <td>Placebo</td>\n",
       "      <td>19060</td>\n",
       "      <td>F</td>\n",
       "      <td>N</td>\n",
       "      <td>Y</td>\n",
       "      <td>N</td>\n",
       "      <td>N</td>\n",
       "      <td>2.7</td>\n",
       "      <td>274.0</td>\n",
       "      <td>3.15</td>\n",
       "      <td>159.0</td>\n",
       "      <td>1533.0</td>\n",
       "      <td>117.80</td>\n",
       "      <td>128.0</td>\n",
       "      <td>224.0</td>\n",
       "      <td>10.5</td>\n",
       "      <td>4.0</td>\n",
       "    </tr>\n",
       "    <tr>\n",
       "      <th>17</th>\n",
       "      <td>18</td>\n",
       "      <td>131</td>\n",
       "      <td>D</td>\n",
       "      <td>D-penicillamine</td>\n",
       "      <td>19698</td>\n",
       "      <td>F</td>\n",
       "      <td>N</td>\n",
       "      <td>Y</td>\n",
       "      <td>Y</td>\n",
       "      <td>Y</td>\n",
       "      <td>11.4</td>\n",
       "      <td>178.0</td>\n",
       "      <td>2.80</td>\n",
       "      <td>588.0</td>\n",
       "      <td>961.0</td>\n",
       "      <td>280.55</td>\n",
       "      <td>200.0</td>\n",
       "      <td>283.0</td>\n",
       "      <td>12.4</td>\n",
       "      <td>4.0</td>\n",
       "    </tr>\n",
       "    <tr>\n",
       "      <th>18</th>\n",
       "      <td>19</td>\n",
       "      <td>4232</td>\n",
       "      <td>C</td>\n",
       "      <td>D-penicillamine</td>\n",
       "      <td>18102</td>\n",
       "      <td>F</td>\n",
       "      <td>N</td>\n",
       "      <td>Y</td>\n",
       "      <td>N</td>\n",
       "      <td>S</td>\n",
       "      <td>0.7</td>\n",
       "      <td>235.0</td>\n",
       "      <td>3.56</td>\n",
       "      <td>39.0</td>\n",
       "      <td>1881.0</td>\n",
       "      <td>93.00</td>\n",
       "      <td>123.0</td>\n",
       "      <td>209.0</td>\n",
       "      <td>11.0</td>\n",
       "      <td>3.0</td>\n",
       "    </tr>\n",
       "    <tr>\n",
       "      <th>19</th>\n",
       "      <td>20</td>\n",
       "      <td>1356</td>\n",
       "      <td>D</td>\n",
       "      <td>Placebo</td>\n",
       "      <td>21898</td>\n",
       "      <td>F</td>\n",
       "      <td>N</td>\n",
       "      <td>Y</td>\n",
       "      <td>N</td>\n",
       "      <td>N</td>\n",
       "      <td>5.1</td>\n",
       "      <td>374.0</td>\n",
       "      <td>3.51</td>\n",
       "      <td>140.0</td>\n",
       "      <td>1919.0</td>\n",
       "      <td>122.45</td>\n",
       "      <td>135.0</td>\n",
       "      <td>322.0</td>\n",
       "      <td>13.0</td>\n",
       "      <td>4.0</td>\n",
       "    </tr>\n",
       "  </tbody>\n",
       "</table>\n",
       "</div>"
      ],
      "text/plain": [
       "    ID  N_Days Status             Drug    Age Sex Ascites Hepatomegaly  \\\n",
       "0    1     400      D  D-penicillamine  21464   F       Y            Y   \n",
       "1    2    4500      C  D-penicillamine  20617   F       N            Y   \n",
       "2    3    1012      D  D-penicillamine  25594   M       N            N   \n",
       "3    4    1925      D  D-penicillamine  19994   F       N            Y   \n",
       "4    5    1504     CL          Placebo  13918   F       N            Y   \n",
       "5    6    2503      D          Placebo  24201   F       N            Y   \n",
       "6    7    1832      C          Placebo  20284   F       N            Y   \n",
       "7    8    2466      D          Placebo  19379   F       N            N   \n",
       "8    9    2400      D  D-penicillamine  15526   F       N            N   \n",
       "9   10      51      D          Placebo  25772   F       Y            N   \n",
       "10  11    3762      D          Placebo  19619   F       N            Y   \n",
       "11  12     304      D          Placebo  21600   F       N            N   \n",
       "12  13    3577      C          Placebo  16688   F       N            N   \n",
       "13  14    1217      D          Placebo  20535   M       Y            Y   \n",
       "14  15    3584      D  D-penicillamine  23612   F       N            N   \n",
       "15  16    3672      C          Placebo  14772   F       N            N   \n",
       "16  17     769      D          Placebo  19060   F       N            Y   \n",
       "17  18     131      D  D-penicillamine  19698   F       N            Y   \n",
       "18  19    4232      C  D-penicillamine  18102   F       N            Y   \n",
       "19  20    1356      D          Placebo  21898   F       N            Y   \n",
       "\n",
       "   Spiders Edema  Bilirubin  Cholesterol  Albumin  Copper  Alk_Phos    SGOT  \\\n",
       "0        Y     Y       14.5        261.0     2.60   156.0    1718.0  137.95   \n",
       "1        Y     N        1.1        302.0     4.14    54.0    7394.8  113.52   \n",
       "2        N     S        1.4        176.0     3.48   210.0     516.0   96.10   \n",
       "3        Y     S        1.8        244.0     2.54    64.0    6121.8   60.63   \n",
       "4        Y     N        3.4        279.0     3.53   143.0     671.0  113.15   \n",
       "5        N     N        0.8        248.0     3.98    50.0     944.0   93.00   \n",
       "6        N     N        1.0        322.0     4.09    52.0     824.0   60.45   \n",
       "7        N     N        0.3        280.0     4.00    52.0    4651.2   28.38   \n",
       "8        Y     N        3.2        562.0     3.08    79.0    2276.0  144.15   \n",
       "9        Y     Y       12.6        200.0     2.74   140.0     918.0  147.25   \n",
       "10       Y     N        1.4        259.0     4.16    46.0    1104.0   79.05   \n",
       "11       Y     N        3.6        236.0     3.52    94.0     591.0   82.15   \n",
       "12       N     N        0.7        281.0     3.85    40.0    1181.0   88.35   \n",
       "13       N     Y        0.8          NaN     2.27    43.0     728.0   71.00   \n",
       "14       N     N        0.8        231.0     3.87   173.0    9009.8  127.71   \n",
       "15       N     N        0.7        204.0     3.66    28.0     685.0   72.85   \n",
       "16       N     N        2.7        274.0     3.15   159.0    1533.0  117.80   \n",
       "17       Y     Y       11.4        178.0     2.80   588.0     961.0  280.55   \n",
       "18       N     S        0.7        235.0     3.56    39.0    1881.0   93.00   \n",
       "19       N     N        5.1        374.0     3.51   140.0    1919.0  122.45   \n",
       "\n",
       "    Tryglicerides  Platelets  Prothrombin  Stage  \n",
       "0           172.0      190.0         12.2    4.0  \n",
       "1            88.0      221.0         10.6    3.0  \n",
       "2            55.0      151.0         12.0    4.0  \n",
       "3            92.0      183.0         10.3    4.0  \n",
       "4            72.0      136.0         10.9    3.0  \n",
       "5            63.0        NaN         11.0    3.0  \n",
       "6           213.0      204.0          9.7    3.0  \n",
       "7           189.0      373.0         11.0    3.0  \n",
       "8            88.0      251.0         11.0    2.0  \n",
       "9           143.0      302.0         11.5    4.0  \n",
       "10           79.0      258.0         12.0    4.0  \n",
       "11           95.0       71.0         13.6    4.0  \n",
       "12          130.0      244.0         10.6    3.0  \n",
       "13            NaN      156.0         11.0    4.0  \n",
       "14           96.0      295.0         11.0    3.0  \n",
       "15           58.0      198.0         10.8    3.0  \n",
       "16          128.0      224.0         10.5    4.0  \n",
       "17          200.0      283.0         12.4    4.0  \n",
       "18          123.0      209.0         11.0    3.0  \n",
       "19          135.0      322.0         13.0    4.0  "
      ]
     },
     "execution_count": 13,
     "metadata": {},
     "output_type": "execute_result"
    }
   ],
   "source": [
    "cirrhosis = pd.read_csv('cirrhosis.csv', header=0, sep=',')\n",
    "cirrhosis.head(20)"
   ]
  },
  {
   "cell_type": "code",
   "execution_count": 14,
   "metadata": {},
   "outputs": [],
   "source": [
    "import pandas as pd\n",
    "df=cirrhosis.head()\n",
    "df1=df.iloc[:,:11]\n",
    "df2=df.iloc[:,11:]\n",
    "with open('mytable.tex','w') as tf:\n",
    "    tf.write(df1.to_latex())\n",
    "    tf.write(df2.to_latex())\n"
   ]
  },
  {
   "cell_type": "code",
   "execution_count": 15,
   "metadata": {
    "colab": {
     "base_uri": "https://localhost:8080/"
    },
    "id": "NVLquFa46uWi",
    "outputId": "e0581622-d0a2-447d-841b-c1d84df285ab"
   },
   "outputs": [
    {
     "data": {
      "text/plain": [
       "ID                 int64\n",
       "N_Days             int64\n",
       "Status            object\n",
       "Drug              object\n",
       "Age                int64\n",
       "Sex               object\n",
       "Ascites           object\n",
       "Hepatomegaly      object\n",
       "Spiders           object\n",
       "Edema             object\n",
       "Bilirubin        float64\n",
       "Cholesterol      float64\n",
       "Albumin          float64\n",
       "Copper           float64\n",
       "Alk_Phos         float64\n",
       "SGOT             float64\n",
       "Tryglicerides    float64\n",
       "Platelets        float64\n",
       "Prothrombin      float64\n",
       "Stage            float64\n",
       "dtype: object"
      ]
     },
     "execution_count": 15,
     "metadata": {},
     "output_type": "execute_result"
    }
   ],
   "source": [
    "# feature dtypes:\n",
    "cirrhosis.dtypes"
   ]
  },
  {
   "cell_type": "markdown",
   "metadata": {},
   "source": [
    "From the data description on kaggle:\n",
    "\n",
    "Attribute Information\n",
    "\n",
    "1) ID: unique identifier\n",
    "\n",
    "2) N_Days: number of days between registration and the earlier of death, transplantation, or study analysis time in July 1986\n",
    "\n",
    "3) Status: status of the patient C (censored), CL (censored due to liver tx), or D (death)\n",
    "\n",
    "4) Drug: type of drug D-penicillamine or placebo\n",
    "\n",
    "5) Age: age in [days]\n",
    "\n",
    "6) Sex: M (male) or F (female)\n",
    "\n",
    "7) Ascites: presence of ascites N (No) or Y (Yes)\n",
    "\n",
    "8) Hepatomegaly: presence of hepatomegaly N (No) or Y (Yes)\n",
    "\n",
    "9) Spiders: presence of spiders N (No) or Y (Yes)\n",
    "\n",
    "10) Edema: presence of edema N (no edema and no diuretic therapy for edema), S (edema present without diuretics, or edema resolved by diuretics), or Y (edema despite diuretic therapy)\n",
    "\n",
    "11) Bilirubin: serum bilirubin in [mg/dl]\n",
    "\n",
    "12) Cholesterol: serum cholesterol in [mg/dl]\n",
    "\n",
    "13) Albumin: albumin in [gm/dl]\n",
    "\n",
    "14) Copper: urine copper in [ug/day]\n",
    "\n",
    "15) Alk_Phos: alkaline phosphatase in [U/liter]\n",
    "\n",
    "16) SGOT: SGOT in [U/ml]\n",
    "\n",
    "17) Triglycerides: triglicerides in [mg/dl]\n",
    "\n",
    "18) Platelets: platelets per cubic [ml/1000]\n",
    "\n",
    "19) Prothrombin: prothrombin time in seconds [s]\n",
    "\n",
    "20) Stage: histologic stage of disease (1, 2, 3, or 4)"
   ]
  },
  {
   "cell_type": "code",
   "execution_count": 16,
   "metadata": {
    "id": "a2L2tIDQgXos"
   },
   "outputs": [],
   "source": [
    "# Drop ID as we will not need it for prediction\n",
    "cirrhosis.drop('ID', axis=1, inplace=True)\n",
    "\n",
    "# Drop N_Days and Status to prevent data leakage\n",
    "cirrhosis.drop('N_Days', axis=1, inplace=True)\n",
    "cirrhosis.drop('Status', axis=1, inplace=True)"
   ]
  },
  {
   "cell_type": "code",
   "execution_count": 17,
   "metadata": {
    "colab": {
     "base_uri": "https://localhost:8080/"
    },
    "id": "m9n8emC066xv",
    "outputId": "677fa03c-c39e-412a-96e1-850857a676aa"
   },
   "outputs": [
    {
     "data": {
      "text/plain": [
       "Drug             0.25\n",
       "Ascites          0.25\n",
       "Hepatomegaly     0.25\n",
       "Spiders          0.25\n",
       "Cholesterol      0.32\n",
       "Copper           0.26\n",
       "Alk_Phos         0.25\n",
       "SGOT             0.25\n",
       "Tryglicerides    0.33\n",
       "Platelets        0.03\n",
       "Prothrombin      0.00\n",
       "Stage            0.01\n",
       "dtype: float64"
      ]
     },
     "execution_count": 17,
     "metadata": {},
     "output_type": "execute_result"
    }
   ],
   "source": [
    "def get_percentage_missing(series):\n",
    "    \"\"\" Calculates percentage of NaN values in DataFrame\n",
    "    :param series: Pandas DataFrame object\n",
    "    :return: float\n",
    "    \"\"\"\n",
    "    num = series.isnull().sum()\n",
    "    den = len(series)\n",
    "    return round(num/den, 2)\n",
    "\n",
    "# Only include columns that contain any NaN values\n",
    "df_with_any_null_values = cirrhosis[cirrhosis.columns[cirrhosis.isnull().any()].tolist()]\n",
    "\n",
    "get_percentage_missing(df_with_any_null_values)"
   ]
  },
  {
   "cell_type": "markdown",
   "metadata": {},
   "source": [
    "Missing values (from kaggle data description):\n",
    "    \n",
    "The first 312 cases in the dataset participated in the randomized trial and contain largely complete data. The additional 112 cases did not participate in the clinical trial but consented to have basic measurements recorded and to be followed for survival. Six of those cases were lost to follow-up shortly after diagnosis, so the data here are on an additional 106 cases as well as the 312 randomized participants."
   ]
  },
  {
   "cell_type": "code",
   "execution_count": 18,
   "metadata": {
    "id": "DAQHU7rs67Es"
   },
   "outputs": [],
   "source": [
    "# Drop rows where target value is missing\n",
    "cirrhosis=cirrhosis.dropna(subset=['Stage'])"
   ]
  },
  {
   "cell_type": "code",
   "execution_count": 19,
   "metadata": {},
   "outputs": [
    {
     "data": {
      "text/plain": [
       "0.35"
      ]
     },
     "execution_count": 19,
     "metadata": {},
     "output_type": "execute_result"
    }
   ],
   "source": [
    "# Proportion of cirrhosis/no cirrhosis\n",
    "round(len(cirrhosis[cirrhosis['Stage']==4])/len(cirrhosis),2)"
   ]
  },
  {
   "cell_type": "code",
   "execution_count": 20,
   "metadata": {},
   "outputs": [
    {
     "data": {
      "image/png": "[encoded data removed]",
      "text/plain": [
       "<Figure size 432x288 with 1 Axes>"
      ]
     },
     "metadata": {
      "needs_background": "light"
     },
     "output_type": "display_data"
    },
    {
     "data": {
      "image/png": "[encoded data removed]",
      "text/plain": [
       "<Figure size 432x288 with 1 Axes>"
      ]
     },
     "metadata": {
      "needs_background": "light"
     },
     "output_type": "display_data"
    },
    {
     "data": {
      "image/png": "[encoded data removed]",
      "text/plain": [
       "<Figure size 432x288 with 1 Axes>"
      ]
     },
     "metadata": {
      "needs_background": "light"
     },
     "output_type": "display_data"
    },
    {
     "data": {
      "image/png": "[encoded data removed]",
      "text/plain": [
       "<Figure size 432x288 with 1 Axes>"
      ]
     },
     "metadata": {
      "needs_background": "light"
     },
     "output_type": "display_data"
    },
    {
     "data": {
      "image/png": "[encoded data removed]",
      "text/plain": [
       "<Figure size 432x288 with 1 Axes>"
      ]
     },
     "metadata": {
      "needs_background": "light"
     },
     "output_type": "display_data"
    },
    {
     "data": {
      "image/png": "[encoded data removed]",
      "text/plain": [
       "<Figure size 432x288 with 1 Axes>"
      ]
     },
     "metadata": {
      "needs_background": "light"
     },
     "output_type": "display_data"
    },
    {
     "data": {
      "image/png": "[encoded data removed]",
      "text/plain": [
       "<Figure size 432x288 with 1 Axes>"
      ]
     },
     "metadata": {
      "needs_background": "light"
     },
     "output_type": "display_data"
    },
    {
     "data": {
      "image/png": "[encoded data removed]",
      "text/plain": [
       "<Figure size 432x288 with 1 Axes>"
      ]
     },
     "metadata": {
      "needs_background": "light"
     },
     "output_type": "display_data"
    },
    {
     "data": {
      "image/png": "[encoded data removed]",
      "text/plain": [
       "<Figure size 432x288 with 1 Axes>"
      ]
     },
     "metadata": {
      "needs_background": "light"
     },
     "output_type": "display_data"
    },
    {
     "data": {
      "image/png": "[encoded data removed]",
      "text/plain": [
       "<Figure size 432x288 with 1 Axes>"
      ]
     },
     "metadata": {
      "needs_background": "light"
     },
     "output_type": "display_data"
    }
   ],
   "source": [
    "# Outlier detection\n",
    "float_cols = list(cirrhosis.select_dtypes(include='float64'))\n",
    "\n",
    "for col in float_cols:\n",
    "    plt.figure()    \n",
    "    sns.boxplot(cirrhosis[col])"
   ]
  },
  {
   "cell_type": "code",
   "execution_count": 21,
   "metadata": {},
   "outputs": [
    {
     "data": {
      "text/plain": [
       "165"
      ]
     },
     "execution_count": 21,
     "metadata": {},
     "output_type": "execute_result"
    }
   ],
   "source": [
    "cirrhosis['SGOT'].argmax()"
   ]
  },
  {
   "cell_type": "code",
   "execution_count": 22,
   "metadata": {},
   "outputs": [
    {
     "data": {
      "text/plain": [
       "Drug             Placebo\n",
       "Age                15105\n",
       "Sex                    F\n",
       "Ascites                N\n",
       "Hepatomegaly           Y\n",
       "Spiders                N\n",
       "Edema                  N\n",
       "Bilirubin            5.7\n",
       "Cholesterol       1480.0\n",
       "Albumin             3.26\n",
       "Copper              84.0\n",
       "Alk_Phos          1960.0\n",
       "SGOT              457.25\n",
       "Tryglicerides      108.0\n",
       "Platelets          213.0\n",
       "Prothrombin          9.5\n",
       "Stage                2.0\n",
       "Name: 165, dtype: object"
      ]
     },
     "execution_count": 22,
     "metadata": {},
     "output_type": "execute_result"
    }
   ],
   "source": [
    "cirrhosis.iloc[165]"
   ]
  },
  {
   "cell_type": "code",
   "execution_count": 23,
   "metadata": {},
   "outputs": [
    {
     "data": {
      "text/plain": [
       "74"
      ]
     },
     "execution_count": 23,
     "metadata": {},
     "output_type": "execute_result"
    }
   ],
   "source": [
    "cirrhosis['Tryglicerides'].argmax()"
   ]
  },
  {
   "cell_type": "code",
   "execution_count": 24,
   "metadata": {},
   "outputs": [
    {
     "data": {
      "text/plain": [
       "Drug             D-penicillamine\n",
       "Age                        15895\n",
       "Sex                            F\n",
       "Ascites                        Y\n",
       "Hepatomegaly                   Y\n",
       "Spiders                        Y\n",
       "Edema                          S\n",
       "Bilirubin                   17.1\n",
       "Cholesterol                674.0\n",
       "Albumin                     2.53\n",
       "Copper                     207.0\n",
       "Alk_Phos                  2078.0\n",
       "SGOT                       182.9\n",
       "Tryglicerides              598.0\n",
       "Platelets                  268.0\n",
       "Prothrombin                 11.5\n",
       "Stage                        4.0\n",
       "Name: 74, dtype: object"
      ]
     },
     "execution_count": 24,
     "metadata": {},
     "output_type": "execute_result"
    }
   ],
   "source": [
    "cirrhosis.iloc[74]"
   ]
  },
  {
   "cell_type": "code",
   "execution_count": 25,
   "metadata": {
    "id": "svlEMigo6898"
   },
   "outputs": [],
   "source": [
    "# save the names of the variables with missing values (one for object and one for float columns)\n",
    "\n",
    "df_with_any_null_values = cirrhosis[cirrhosis.columns[cirrhosis.isnull().any()].tolist()]\n",
    "\n",
    "obj_cols = list(df_with_any_null_values.select_dtypes(include='object'))\n",
    "float_cols = list(df_with_any_null_values.select_dtypes(include='float64'))\n",
    "\n",
    "obj_cols_with_nan = get_percentage_missing(df_with_any_null_values[obj_cols]).keys()\n",
    "float_cols_with_nan = get_percentage_missing(df_with_any_null_values[float_cols]).keys()"
   ]
  },
  {
   "cell_type": "code",
   "execution_count": 26,
   "metadata": {
    "colab": {
     "base_uri": "https://localhost:8080/"
    },
    "id": "ptnin6SP6-j2",
    "outputId": "f81f9c97-c7f8-4288-e8d3-96d120321d75"
   },
   "outputs": [
    {
     "name": "stdout",
     "output_type": "stream",
     "text": [
      "Value count for Drug : {'D-penicillamine': 158, 'Placebo': 154, 'NaN': 100}\n",
      "Value count for Ascites : {'N': 288, 'Y': 24, 'NaN': 100}\n",
      "Value count for Hepatomegaly : {'Y': 160, 'N': 152, 'NaN': 100}\n",
      "Value count for Spiders : {'N': 222, 'Y': 90, 'NaN': 100}\n"
     ]
    }
   ],
   "source": [
    "# explore data in categorical columns with missing values to determine how to replace the missing values\n",
    "\n",
    "for col in obj_cols_with_nan:\n",
    "    val_counts = {}\n",
    "    for value in cirrhosis[col].value_counts().keys():\n",
    "        val_counts[value] = cirrhosis[col].value_counts()[value]\n",
    "    val_counts['NaN'] = cirrhosis[col].isna().sum()\n",
    "    print('Value count for', col, ':', val_counts)"
   ]
  },
  {
   "cell_type": "markdown",
   "metadata": {},
   "source": [
    "Drug: The data was collected in the frameworks of a study testing the drug D-penicillamine. The 100 missing values stem from patients that did not participate in the study but consented to have their data recorded. We thus decided to fill the missing values with an additional class 'No drugs'. \n",
    "\n",
    "Ascites: Ascites is a medical condition strongly connected to a malfunctioning of the liver, often caused by cirrhosis. As the ratio of Y to N is quite small, we decided to replace the missing values with 'N'.\n",
    "\n",
    "Hepatomegaly: (From Wikipedia) [Hepatomegaly is the condition of having an enlarged liver. It is a non-specific medical sign having many causes, which can broadly be broken down into infection, hepatic tumours, or metabolic disorder.] This is a rather un-specific condition, and the proportions of Y and N are almost equal. We decided to drop this predictor all together.\n",
    "\n",
    "Spiders:(From Wikipedia) [A spider angioma is a type of swollen, spider-like blood vessel on the skin. They are common and often benign, presenting in around 10–15% of healthy adults and young children. However, having more than three spider angiomas is likely to be abnormal and may be a sign of liver disease and/or Hepatitis C.] The proportions of Y and N are in favour of N, but not considerably. However, as spiders seem to be common and not typically a sure-fire indicator of liver disease unless found in high quantities, we decided to fill the missing values with 'N'."
   ]
  },
  {
   "cell_type": "code",
   "execution_count": 27,
   "metadata": {
    "colab": {
     "base_uri": "https://localhost:8080/"
    },
    "id": "xy5VamuH7AdM",
    "outputId": "6243db8f-ce96-4957-8669-1b5ce353bb9d"
   },
   "outputs": [],
   "source": [
    "# First try of filling missing values\n",
    "\n",
    "cirrhosis['Drug'] = cirrhosis['Drug'].fillna('Placebo')\n",
    "cirrhosis['Ascites'] = cirrhosis['Ascites'].fillna('N')  \n",
    "cirrhosis.drop('Hepatomegaly', axis=1, inplace=True)\n",
    "cirrhosis['Spiders'] = cirrhosis['Spiders'].fillna('N')\n",
    "\n",
    "# Missing float values are all filled with the median\n",
    "cirrhosis['Cholesterol'] = cirrhosis['Cholesterol'].fillna(cirrhosis['Cholesterol'].median())\n",
    "cirrhosis['Copper'] = cirrhosis['Copper'].fillna(cirrhosis['Copper'].median())\n",
    "cirrhosis['Alk_Phos'] = cirrhosis['Alk_Phos'].fillna(cirrhosis['Alk_Phos'].median())\n",
    "cirrhosis['SGOT'] = cirrhosis['SGOT'].fillna(cirrhosis['SGOT'].median())\n",
    "cirrhosis['Tryglicerides'] = cirrhosis['Tryglicerides'].fillna(cirrhosis['Tryglicerides'].median())\n",
    "cirrhosis['Platelets'] = cirrhosis['Platelets'].fillna(cirrhosis['Platelets'].median())\n",
    "cirrhosis['Prothrombin'] = cirrhosis['Prothrombin'].fillna(cirrhosis['Prothrombin'].median())"
   ]
  },
  {
   "cell_type": "code",
   "execution_count": 28,
   "metadata": {},
   "outputs": [
    {
     "data": {
      "text/html": [
       "<div>\n",
       "<style scoped>\n",
       "    .dataframe tbody tr th:only-of-type {\n",
       "        vertical-align: middle;\n",
       "    }\n",
       "\n",
       "    .dataframe tbody tr th {\n",
       "        vertical-align: top;\n",
       "    }\n",
       "\n",
       "    .dataframe thead th {\n",
       "        text-align: right;\n",
       "    }\n",
       "</style>\n",
       "<table border=\"1\" class=\"dataframe\">\n",
       "  <thead>\n",
       "    <tr style=\"text-align: right;\">\n",
       "      <th></th>\n",
       "      <th>Drug</th>\n",
       "      <th>Age</th>\n",
       "      <th>Sex</th>\n",
       "      <th>Ascites</th>\n",
       "      <th>Spiders</th>\n",
       "      <th>Edema</th>\n",
       "      <th>Bilirubin</th>\n",
       "      <th>Cholesterol</th>\n",
       "      <th>Albumin</th>\n",
       "      <th>Copper</th>\n",
       "      <th>Alk_Phos</th>\n",
       "      <th>SGOT</th>\n",
       "      <th>Tryglicerides</th>\n",
       "      <th>Platelets</th>\n",
       "      <th>Prothrombin</th>\n",
       "      <th>Stage</th>\n",
       "    </tr>\n",
       "  </thead>\n",
       "  <tbody>\n",
       "    <tr>\n",
       "      <th>0</th>\n",
       "      <td>D-penicillamine</td>\n",
       "      <td>21464</td>\n",
       "      <td>F</td>\n",
       "      <td>Y</td>\n",
       "      <td>Y</td>\n",
       "      <td>Y</td>\n",
       "      <td>14.5</td>\n",
       "      <td>261.0</td>\n",
       "      <td>2.60</td>\n",
       "      <td>156.0</td>\n",
       "      <td>1718.0</td>\n",
       "      <td>137.95</td>\n",
       "      <td>172.0</td>\n",
       "      <td>190.0</td>\n",
       "      <td>12.2</td>\n",
       "      <td>4.0</td>\n",
       "    </tr>\n",
       "    <tr>\n",
       "      <th>1</th>\n",
       "      <td>D-penicillamine</td>\n",
       "      <td>20617</td>\n",
       "      <td>F</td>\n",
       "      <td>N</td>\n",
       "      <td>Y</td>\n",
       "      <td>N</td>\n",
       "      <td>1.1</td>\n",
       "      <td>302.0</td>\n",
       "      <td>4.14</td>\n",
       "      <td>54.0</td>\n",
       "      <td>7394.8</td>\n",
       "      <td>113.52</td>\n",
       "      <td>88.0</td>\n",
       "      <td>221.0</td>\n",
       "      <td>10.6</td>\n",
       "      <td>3.0</td>\n",
       "    </tr>\n",
       "    <tr>\n",
       "      <th>2</th>\n",
       "      <td>D-penicillamine</td>\n",
       "      <td>25594</td>\n",
       "      <td>M</td>\n",
       "      <td>N</td>\n",
       "      <td>N</td>\n",
       "      <td>S</td>\n",
       "      <td>1.4</td>\n",
       "      <td>176.0</td>\n",
       "      <td>3.48</td>\n",
       "      <td>210.0</td>\n",
       "      <td>516.0</td>\n",
       "      <td>96.10</td>\n",
       "      <td>55.0</td>\n",
       "      <td>151.0</td>\n",
       "      <td>12.0</td>\n",
       "      <td>4.0</td>\n",
       "    </tr>\n",
       "    <tr>\n",
       "      <th>3</th>\n",
       "      <td>D-penicillamine</td>\n",
       "      <td>19994</td>\n",
       "      <td>F</td>\n",
       "      <td>N</td>\n",
       "      <td>Y</td>\n",
       "      <td>S</td>\n",
       "      <td>1.8</td>\n",
       "      <td>244.0</td>\n",
       "      <td>2.54</td>\n",
       "      <td>64.0</td>\n",
       "      <td>6121.8</td>\n",
       "      <td>60.63</td>\n",
       "      <td>92.0</td>\n",
       "      <td>183.0</td>\n",
       "      <td>10.3</td>\n",
       "      <td>4.0</td>\n",
       "    </tr>\n",
       "    <tr>\n",
       "      <th>4</th>\n",
       "      <td>Placebo</td>\n",
       "      <td>13918</td>\n",
       "      <td>F</td>\n",
       "      <td>N</td>\n",
       "      <td>Y</td>\n",
       "      <td>N</td>\n",
       "      <td>3.4</td>\n",
       "      <td>279.0</td>\n",
       "      <td>3.53</td>\n",
       "      <td>143.0</td>\n",
       "      <td>671.0</td>\n",
       "      <td>113.15</td>\n",
       "      <td>72.0</td>\n",
       "      <td>136.0</td>\n",
       "      <td>10.9</td>\n",
       "      <td>3.0</td>\n",
       "    </tr>\n",
       "  </tbody>\n",
       "</table>\n",
       "</div>"
      ],
      "text/plain": [
       "              Drug    Age Sex Ascites Spiders Edema  Bilirubin  Cholesterol  \\\n",
       "0  D-penicillamine  21464   F       Y       Y     Y       14.5        261.0   \n",
       "1  D-penicillamine  20617   F       N       Y     N        1.1        302.0   \n",
       "2  D-penicillamine  25594   M       N       N     S        1.4        176.0   \n",
       "3  D-penicillamine  19994   F       N       Y     S        1.8        244.0   \n",
       "4          Placebo  13918   F       N       Y     N        3.4        279.0   \n",
       "\n",
       "   Albumin  Copper  Alk_Phos    SGOT  Tryglicerides  Platelets  Prothrombin  \\\n",
       "0     2.60   156.0    1718.0  137.95          172.0      190.0         12.2   \n",
       "1     4.14    54.0    7394.8  113.52           88.0      221.0         10.6   \n",
       "2     3.48   210.0     516.0   96.10           55.0      151.0         12.0   \n",
       "3     2.54    64.0    6121.8   60.63           92.0      183.0         10.3   \n",
       "4     3.53   143.0     671.0  113.15           72.0      136.0         10.9   \n",
       "\n",
       "   Stage  \n",
       "0    4.0  \n",
       "1    3.0  \n",
       "2    4.0  \n",
       "3    4.0  \n",
       "4    3.0  "
      ]
     },
     "execution_count": 28,
     "metadata": {},
     "output_type": "execute_result"
    }
   ],
   "source": [
    "cirrhosis.head()"
   ]
  },
  {
   "cell_type": "markdown",
   "metadata": {},
   "source": [
    "We decided to test binary classification on this data set, differentiating between cirrhosis (Stage=4.0) and no cirrhosis (Stage=1.0, 2.0, 3.0) "
   ]
  },
  {
   "cell_type": "code",
   "execution_count": 29,
   "metadata": {
    "colab": {
     "base_uri": "https://localhost:8080/"
    },
    "id": "sRD3OS6zWYeK",
    "outputId": "c175434c-a85c-46fe-8461-21e66727a880"
   },
   "outputs": [],
   "source": [
    "# Binary Classification\n",
    "cirrhosis['Stage'] = np.where(cirrhosis['Stage'] == 4, 1, 0)"
   ]
  },
  {
   "cell_type": "code",
   "execution_count": 30,
   "metadata": {
    "colab": {
     "base_uri": "https://localhost:8080/"
    },
    "id": "yVO-ks_e7CJI",
    "outputId": "f589611f-11f7-4c36-bd8e-ab14df65700a"
   },
   "outputs": [
    {
     "data": {
      "text/plain": [
       "Series([], dtype: float64)"
      ]
     },
     "execution_count": 30,
     "metadata": {},
     "output_type": "execute_result"
    }
   ],
   "source": [
    "# Check that all missing values are gone\n",
    "df_with_any_null_values = cirrhosis[cirrhosis.columns[cirrhosis.isnull().any()].tolist()]\n",
    "\n",
    "get_percentage_missing(df_with_any_null_values)"
   ]
  },
  {
   "cell_type": "code",
   "execution_count": 31,
   "metadata": {
    "colab": {
     "base_uri": "https://localhost:8080/"
    },
    "id": "F2xzN9PB7Kfu",
    "outputId": "399a1a41-2514-4a89-93d6-643d80097182"
   },
   "outputs": [],
   "source": [
    "# convert data to be usable in sklearn classifiers\n",
    "le = LabelEncoder()\n",
    "obj_cols = cirrhosis.select_dtypes(include=('object')).columns\n",
    "\n",
    "for col in obj_cols:\n",
    "    cirrhosis[col] = le.fit_transform(cirrhosis[col])\n",
    "\n",
    "cirrhosis_y = cirrhosis.iloc[:,-1].values\n",
    "cirrhosis_X = cirrhosis.iloc[:,:-1]\n",
    "cirrhosis_X = cirrhosis_X.values"
   ]
  },
  {
   "cell_type": "code",
   "execution_count": 32,
   "metadata": {},
   "outputs": [],
   "source": [
    "# Create dictionary to compare accuracies and computation time between classifiers\n",
    "comparison_dict = {}"
   ]
  },
  {
   "cell_type": "markdown",
   "metadata": {
    "id": "pM4WrPlA7N9E"
   },
   "source": [
    "# First Simple Classifier"
   ]
  },
  {
   "cell_type": "markdown",
   "metadata": {},
   "source": [
    "## SVM"
   ]
  },
  {
   "cell_type": "code",
   "execution_count": 33,
   "metadata": {
    "id": "FL8DICoR7Min"
   },
   "outputs": [],
   "source": [
    "kfold = StratifiedKFold(n_splits=5, shuffle=True, random_state=1)"
   ]
  },
  {
   "cell_type": "code",
   "execution_count": 49,
   "metadata": {},
   "outputs": [
    {
     "name": "stdout",
     "output_type": "stream",
     "text": [
      "Best parameters: {'C': 100000.0, 'kernel': 'poly'}\n",
      "Train accuracy: 0.72\n",
      "Total k-fold computation time; 54.33\n"
     ]
    }
   ],
   "source": [
    "C_list = np.logspace(-5,5, num=10, base=10)\n",
    "kernel_list = ['poly', 'rbf', 'sigmoid']\n",
    "param_grid = dict(C=C_list, kernel=kernel_list)\n",
    "\n",
    "clf = GridSearchCV(svm.SVC(), param_grid=param_grid, n_jobs=-1, refit=True, cv=5)\n",
    "clf.fit(cirrhosis_X, cirrhosis_y)\n",
    "\n",
    "print('Best parameters:', clf.best_params_)\n",
    "print('Train accuracy:', round(clf.score(cirrhosis_X, cirrhosis_y),2))\n",
    "\n",
    "acc_train = []\n",
    "acc_test = []\n",
    "\n",
    "tik = time.time()\n",
    "for fold, (train_ids, test_ids) in enumerate(kfold.split(cirrhosis_X, cirrhosis_y)):\n",
    "    X_train, X_test = cirrhosis_X[train_ids], cirrhosis_X[test_ids]\n",
    "    Y_train, Y_test = cirrhosis_y[train_ids], cirrhosis_y[test_ids]\n",
    "    \n",
    "    clf_final = svm.SVC(C=clf.best_params_['C'],kernel=clf.best_params_['kernel'])\n",
    "    clf_final.fit(X_train, Y_train)\n",
    "    \n",
    "    print('Train accuracy:', round(clf_final.score(X_train, Y_train),2))\n",
    "    print('Test accuracy:', round(clf_final.score(X_test, Y_test),2))\n",
    "    \n",
    "    acc_train.append(clf_final.score(X_train, Y_train))\n",
    "    acc_test.append(clf_final.score(X_test, Y_test))\n",
    "tok = time.time()    \n",
    "\n",
    "final_acc_test = round(np.mean(acc_test),2)\n",
    "final_acc_train = round(np.mean(acc_train),2)\n",
    "\n",
    "print('Average train accuracy over 5 folds:', final_acc_train)\n",
    "print('Average test accuracy over 5 folds:', final_acc_test)\n",
    "print('Total k-fold computation time;', round(tok-tik, 2))\n",
    "comparison_dict['SVC'] = [final_acc_test, round(tok-tik,2)]\n"
   ]
  },
  {
   "cell_type": "markdown",
   "metadata": {},
   "source": [
    "# Dimensionality Reduction"
   ]
  },
  {
   "cell_type": "markdown",
   "metadata": {},
   "source": [
    "## PCA"
   ]
  },
  {
   "cell_type": "code",
   "execution_count": null,
   "metadata": {
    "colab": {
     "base_uri": "https://localhost:8080/",
     "height": 595
    },
    "id": "45OG9H7l-tVX",
    "outputId": "b03bed45-09a1-49e1-de25-93e1124bb652"
   },
   "outputs": [
    {
     "data": {
      "text/plain": [
       "Text(0.5, 0, 'Principal Component 1')"
      ]
     },
     "execution_count": 23,
     "metadata": {},
     "output_type": "execute_result"
    },
    {
     "data": {
      "image/png": "[encoded data removed]",
      "text/plain": [
       "<Figure size 1800x576 with 1 Axes>"
      ]
     },
     "metadata": {
      "needs_background": "light"
     },
     "output_type": "display_data"
    }
   ],
   "source": [
    "pca = PCA(n_components=3)\n",
    "pca.fit(cirrhosis_X)\n",
    "cirrhosis_X_pca = pca.transform(cirrhosis_X)\n",
    "\n",
    "plt.figure(figsize=(25,8))\n",
    "sns.scatterplot(x=cirrhosis_X_pca[:,0], y=cirrhosis_X_pca[:, 1], hue=cirrhosis_y, palette='terrain')\n",
    "plt.title('Principal Components vs Class distribution', fontsize=16)\n",
    "plt.ylabel('Principal Component 2', fontsize=16)\n",
    "plt.xlabel('Principal Component 1', fontsize=16)\n",
    "#plt.xticks(rotation='vertical')"
   ]
  },
  {
   "cell_type": "markdown",
   "metadata": {},
   "source": [
    "## Kernel PCA"
   ]
  },
  {
   "cell_type": "code",
   "execution_count": null,
   "metadata": {
    "colab": {
     "base_uri": "https://localhost:8080/",
     "height": 561
    },
    "id": "R33VBZPcA4Y2",
    "outputId": "4dfed8ab-7bd1-44d0-e5bf-08399dd3a589"
   },
   "outputs": [
    {
     "data": {
      "text/plain": [
       "(array([-0.1,  0. ,  0.1,  0.2,  0.3,  0.4,  0.5,  0.6,  0.7,  0.8]),\n",
       " [Text(0, 0, ''),\n",
       "  Text(0, 0, ''),\n",
       "  Text(0, 0, ''),\n",
       "  Text(0, 0, ''),\n",
       "  Text(0, 0, ''),\n",
       "  Text(0, 0, ''),\n",
       "  Text(0, 0, ''),\n",
       "  Text(0, 0, ''),\n",
       "  Text(0, 0, ''),\n",
       "  Text(0, 0, '')])"
      ]
     },
     "execution_count": 24,
     "metadata": {},
     "output_type": "execute_result"
    },
    {
     "data": {
      "image/png": "[encoded data removed]",
      "text/plain": [
       "<Figure size 1800x576 with 1 Axes>"
      ]
     },
     "metadata": {
      "needs_background": "light"
     },
     "output_type": "display_data"
    }
   ],
   "source": [
    "kernel_pca = KernelPCA(\n",
    "                n_components=2, kernel='rbf', gamma=1, fit_inverse_transform=True, alpha=0.1\n",
    "            )\n",
    "kernel_pca.fit(cirrhosis_X)\n",
    "cirrhosis_X_pca = kernel_pca.transform(cirrhosis_X)\n",
    "\n",
    "plt.figure(figsize=(25,8))\n",
    "sns.scatterplot(x=cirrhosis_X_pca[:,0], y=cirrhosis_X_pca[:, 1], hue=cirrhosis_y, palette='terrain')\n",
    "plt.title('Principal Components vs Class distribution', fontsize=16)\n",
    "plt.ylabel('Principal Component 2', fontsize=16)\n",
    "plt.xlabel('Principal Component 1', fontsize=16)\n",
    "plt.xticks(rotation='vertical')"
   ]
  },
  {
   "cell_type": "code",
   "execution_count": null,
   "metadata": {
    "colab": {
     "base_uri": "https://localhost:8080/",
     "height": 1000
    },
    "id": "zrfybfl_BsAi",
    "outputId": "e0c971ad-c9ab-4786-bd2c-7207074ac6dc"
   },
   "outputs": [],
   "source": [
    "gamma_list = np.logspace(-5, 5, num=5, base=10)\n",
    "alpha_list = np.logspace(-5, 2, num=5, base=10)\n",
    "kernel_list = ['linear', 'rbf', 'cosine']\n",
    "\n",
    "for gamma in gamma_list:\n",
    "    for alpha in alpha_list:\n",
    "        for kernel in kernel_list:    \n",
    "            kernel_pca = KernelPCA(\n",
    "                    n_components=2, kernel=kernel, gamma=gamma, fit_inverse_transform=True, alpha=alpha\n",
    "                )\n",
    "\n",
    "            kernel_pca.fit(cirrhosis_X)\n",
    "            cirrhosis_X_kpca = kernel_pca.transform(cirrhosis_X)\n",
    "            \n",
    "            fig = plt.figure()\n",
    "            plt.scatter(cirrhosis_X_kpca[:,0], cirrhosis_X_kpca[:, 1], marker='o', c=cirrhosis_y, s=25, edgecolor='k') \n",
    "            plt.title('2-component KPCA on BC with {gamma}, {alpha}, {kernel}'.format(gamma=np.round(gamma,4), alpha=np.round(alpha,4), kernel=kernel))\n",
    "            plt.xlabel('PC_1')\n",
    "            plt.ylabel('PC_2')\n",
    "            plt.show()"
   ]
  },
  {
   "cell_type": "markdown",
   "metadata": {},
   "source": [
    "## PCA+SVM"
   ]
  },
  {
   "cell_type": "code",
   "execution_count": null,
   "metadata": {
    "colab": {
     "base_uri": "https://localhost:8080/"
    },
    "id": "Sq87VyZ0CwKk",
    "outputId": "0c455a24-81f9-4069-8f87-3a21af57c2ab"
   },
   "outputs": [
    {
     "name": "stdout",
     "output_type": "stream",
     "text": [
      "Train accuracy: 0.66\n",
      "Test accuracy: 0.67\n",
      "Train accuracy: 0.7\n",
      "Test accuracy: 0.61\n",
      "Train accuracy: 0.69\n",
      "Test accuracy: 0.61\n",
      "Train accuracy: 0.7\n",
      "Test accuracy: 0.62\n",
      "Train accuracy: 0.7\n",
      "Test accuracy: 0.65\n",
      "Average train accuracy over 5 folds: 0.69\n",
      "Average test accuracy over 5 folds: 0.63\n",
      "Total k-fold computation time; 1557.3\n"
     ]
    }
   ],
   "source": [
    "acc_train = []\n",
    "acc_test = []\n",
    "\n",
    "C_list = np.logspace(-5, 5, num=10, base=10)\n",
    "kernel_list = ['poly', 'rbf', 'sigmoid']\n",
    "param_grid = dict(C=C_list, kernel=kernel_list)\n",
    "\n",
    "tik = time.time()\n",
    "for fold, (train_ids, test_ids) in enumerate(kfold.split(cirrhosis_X, cirrhosis_y)):\n",
    "    X_train, X_test = cirrhosis_X[train_ids], cirrhosis_X[test_ids]\n",
    "    Y_train, Y_test = cirrhosis_y[train_ids], cirrhosis_y[test_ids]\n",
    "\n",
    "    pca = PCA(n_components=4)\n",
    "    pca.fit(X_train)\n",
    "    X_train_pca = pca.transform(X_train)\n",
    "    X_test_pca = pca.transform(X_test)\n",
    "    \n",
    "    clf = GridSearchCV(svm.SVC(), param_grid=param_grid, n_jobs=-1, refit=True, cv=5)\n",
    "    #clf = svm.SVC(kernel='rbf', C=500)\n",
    "    clf.fit(X_train_pca, Y_train)\n",
    "    \n",
    "    print('Train accuracy:', round(clf.score(X_train_pca, Y_train),2))\n",
    "    print('Test accuracy:', round(clf.score(X_test_pca, Y_test),2))\n",
    "    \n",
    "    acc_train.append(clf.score(X_train_pca, Y_train))\n",
    "    acc_test.append(clf.score(X_test_pca, Y_test))\n",
    "tok = time.time()\n",
    "    \n",
    "final_acc_test = round(np.mean(acc_test),2)\n",
    "final_acc_train = round(np.mean(acc_train),2)\n",
    "\n",
    "print('Average train accuracy over 5 folds:', final_acc_train)\n",
    "print('Average test accuracy over 5 folds:', final_acc_test)\n",
    "print('Total k-fold computation time;', round(tok-tik, 2))\n",
    "comparison_dict['PCA+SVC'] = [final_acc_test, round(tok-tik,2)]"
   ]
  },
  {
   "cell_type": "markdown",
   "metadata": {},
   "source": [
    "## Kernel PCA+SVM"
   ]
  },
  {
   "cell_type": "code",
   "execution_count": null,
   "metadata": {
    "colab": {
     "base_uri": "https://localhost:8080/"
    },
    "id": "i7fewMvMFO87",
    "outputId": "57a9b13a-2c2b-4efd-a7c2-fb71ee8491de"
   },
   "outputs": [
    {
     "name": "stdout",
     "output_type": "stream",
     "text": [
      "Best parameters: {'C': 1e-05, 'kernel': 'poly'}\n",
      "Train accuracy: 0.65\n",
      "Test accuracy: 0.65\n",
      "Best parameters: {'C': 1e-05, 'kernel': 'poly'}\n",
      "Train accuracy: 0.65\n",
      "Test accuracy: 0.65\n",
      "Best parameters: {'C': 1e-05, 'kernel': 'poly'}\n",
      "Train accuracy: 0.65\n",
      "Test accuracy: 0.65\n",
      "Best parameters: {'C': 1e-05, 'kernel': 'poly'}\n",
      "Train accuracy: 0.65\n",
      "Test accuracy: 0.65\n",
      "Best parameters: {'C': 1e-05, 'kernel': 'poly'}\n",
      "Train accuracy: 0.65\n",
      "Test accuracy: 0.66\n",
      "Average train accuracy over 5 folds: 0.65\n",
      "Average test accuracy over 5 folds: 0.65\n",
      "Total k-fold computation time; 616.83\n"
     ]
    }
   ],
   "source": [
    "acc_train = []\n",
    "acc_test = []\n",
    "\n",
    "C_list = np.logspace(-5, 5, num=10, base=10)\n",
    "kernel_list = ['poly', 'rbf', 'sigmoid']\n",
    "param_grid = dict(C=C_list, kernel=kernel_list)\n",
    "\n",
    "tik = time.time()\n",
    "for fold, (train_ids, test_ids) in enumerate(kfold.split(cirrhosis_X, cirrhosis_y)):\n",
    "    X_train, X_test = cirrhosis_X[train_ids], cirrhosis_X[test_ids]\n",
    "    Y_train, Y_test = cirrhosis_y[train_ids], cirrhosis_y[test_ids]\n",
    "\n",
    "    kernel_pca = KernelPCA(n_components=2, kernel='cosine')\n",
    "    kernel_pca.fit(X_train)\n",
    "    X_train_pca = kernel_pca.transform(X_train)\n",
    "    X_test_pca = kernel_pca.transform(X_test)\n",
    "    \n",
    "    clf = GridSearchCV(svm.SVC(), param_grid=param_grid, n_jobs=-1, refit=True, cv=5)\n",
    "    clf.fit(X_train_pca, Y_train)\n",
    "    \n",
    "    print('Best parameters:', clf.best_params_)\n",
    "    print('Train accuracy:', round(clf.score(X_train_pca, Y_train),2))\n",
    "    print('Test accuracy:', round(clf.score(X_test_pca, Y_test),2))\n",
    "    \n",
    "    acc_train.append(clf.score(X_train_pca, Y_train))\n",
    "    acc_test.append(clf.score(X_test_pca, Y_test))\n",
    "tok = time.time()    \n",
    "\n",
    "final_acc_test = round(np.mean(acc_test),2)\n",
    "final_acc_train = round(np.mean(acc_train),2)\n",
    "\n",
    "print('Average train accuracy over 5 folds:', final_acc_train)\n",
    "print('Average test accuracy over 5 folds:', final_acc_test)\n",
    "print('Total k-fold computation time;', round(tok-tik, 2))\n",
    "comparison_dict['KPCA+SVC'] = [final_acc_test, round(tok-tik,2)]"
   ]
  },
  {
   "cell_type": "markdown",
   "metadata": {},
   "source": [
    "## LDA+SVM"
   ]
  },
  {
   "cell_type": "code",
   "execution_count": 39,
   "metadata": {
    "colab": {
     "base_uri": "https://localhost:8080/"
    },
    "id": "qzVqb-waGZYI",
    "outputId": "d1d591df-8456-46f3-c213-a6d98de6f11b"
   },
   "outputs": [],
   "source": [
    "acc_train = []\n",
    "acc_test = []\n",
    "\n",
    "C_list = np.logspace(-5, 5, num=10, base=10)\n",
    "kernel_list = ['poly', 'rbf', 'sigmoid']\n",
    "param_grid = dict(C=C_list, kernel=kernel_list)\n",
    "\n",
    "tik = time.time()\n",
    "for fold, (train_ids, test_ids) in enumerate(kfold.split(cirrhosis_X, cirrhosis_y)):\n",
    "    X_train, X_test = cirrhosis_X[train_ids], cirrhosis_X[test_ids]\n",
    "    Y_train, Y_test = cirrhosis_y[train_ids], cirrhosis_y[test_ids]\n",
    "\n",
    "    lda = LinearDiscriminantAnalysis(n_components=1)\n",
    "    lda.fit(X_train, Y_train)\n",
    "    X_lda_train = lda.transform(X_train)\n",
    "    X_lda_test = lda.transform(X_test)\n",
    "    \n",
    "    clf = GridSearchCV(svm.SVC(), param_grid=param_grid, n_jobs=-1, refit=True, cv=5)\n",
    "    clf.fit(X_lda_train, Y_train)\n",
    "    \n",
    "    print('Best parameters:', clf.best_params_)\n",
    "    print('Train accuracy:', round(clf.score(X_lda_train, Y_train),2))\n",
    "    print('Test accuracy:', round(clf.score(X_lda_test, Y_test),2))\n",
    "    \n",
    "    acc_train.append(clf.score(X_lda_train, Y_train))\n",
    "    acc_test.append(clf.score(X_lda_test, Y_test))\n",
    "\n",
    "tok = time.time()    \n",
    "    \n",
    "final_acc_test = round(np.mean(acc_test),2)\n",
    "final_acc_train = round(np.mean(acc_train),2)\n",
    "\n",
    "print('Average train accuracy over 5 folds:', final_acc_train)\n",
    "print('Average test accuracy over 5 folds:', final_acc_test)\n",
    "print('Total k-fold computation time;', round(tok-tik, 2))\n",
    "comparison_dict['LDA+SVC'] = [final_acc_test, round(tok-tik,2)]\n",
    "\n",
    "plt.figure()\n",
    "plt.scatter(X_lda_train[Y_train==0, 0], X_lda_train[Y_train == 0, 0])\n",
    "plt.scatter(X_lda_train[Y_train==1, 0], X_lda_train[Y_train == 1, 0])\n",
    "plt.legend(loc=\"best\", shadow=False, scatterpoints=1)\n",
    "plt.title(\"LDA seperation\")\n",
    "plt.show()"
   ]
  },
  {
   "cell_type": "markdown",
   "metadata": {},
   "source": [
    "## QDA+SVM"
   ]
  },
  {
   "cell_type": "code",
   "execution_count": null,
   "metadata": {},
   "outputs": [
    {
     "name": "stdout",
     "output_type": "stream",
     "text": [
      "Train accuracy: 0.75\n",
      "Test accuracy: 0.71\n",
      "Train accuracy: 0.76\n",
      "Test accuracy: 0.69\n",
      "Train accuracy: 0.78\n",
      "Test accuracy: 0.72\n",
      "Train accuracy: 0.77\n",
      "Test accuracy: 0.77\n",
      "Train accuracy: 0.78\n",
      "Test accuracy: 0.65\n",
      "Average train accuracy over 5 folds: 0.77\n",
      "Average test accuracy over 5 folds: 0.71\n",
      "Total k-fold computation time; 0.42\n"
     ]
    }
   ],
   "source": [
    "acc_train = []\n",
    "acc_test = []\n",
    "\n",
    "reg_list = np.logspace(-4, 1, num=5, base=10)\n",
    "tol_list = np.logspace(-4, 1, num=5, base=10)\n",
    "param_grid = dict(tol=tol_list, reg_param=reg_list)\n",
    "\n",
    "tik = time.time()\n",
    "for fold, (train_ids, test_ids) in enumerate(kfold.split(cirrhosis_X, cirrhosis_y)):\n",
    "    X_train, X_test = cirrhosis_X[train_ids], cirrhosis_X[test_ids]\n",
    "    Y_train, Y_test = cirrhosis_y[train_ids], cirrhosis_y[test_ids]\n",
    "    \n",
    "    clf = GridSearchCV(QuadraticDiscriminantAnalysis(), param_grid=param_grid, n_jobs=-1, refit=True, cv=5)\n",
    "    clf.fit(X_train,Y_train)\n",
    "    \n",
    "    print('Train accuracy:', round(clf.score(X_train, Y_train),2))\n",
    "    print('Test accuracy:', round(clf.score(X_test, Y_test),2))\n",
    "    \n",
    "    acc_train.append(clf.score(X_train, Y_train))\n",
    "    acc_test.append(clf.score(X_test, Y_test))\n",
    "tok = time.time()\n",
    "\n",
    "final_acc_test = round(np.mean(acc_test),2)\n",
    "final_acc_train = round(np.mean(acc_train),2)\n",
    "\n",
    "print('Average train accuracy over 5 folds:', final_acc_train)\n",
    "print('Average test accuracy over 5 folds:', final_acc_test)\n",
    "print('Total k-fold computation time;', round(tok-tik, 2))\n",
    "comparison_dict['QDA+SVC'] = [final_acc_test, round(tok-tik,2)]"
   ]
  },
  {
   "cell_type": "markdown",
   "metadata": {},
   "source": [
    "# Boosting"
   ]
  },
  {
   "cell_type": "markdown",
   "metadata": {
    "id": "D06rzzCrNg-3"
   },
   "source": [
    "## AdaBoost"
   ]
  },
  {
   "cell_type": "code",
   "execution_count": 52,
   "metadata": {},
   "outputs": [
    {
     "name": "stdout",
     "output_type": "stream",
     "text": [
      "Best parameters: {'learning_rate': 0.3, 'n_estimators': 10}\n",
      "Train accuracy: 0.77\n",
      "Train accuracy: 0.75\n",
      "Test accuracy: 0.75\n",
      "Train accuracy: 0.78\n",
      "Test accuracy: 0.71\n",
      "Train accuracy: 0.78\n",
      "Test accuracy: 0.7\n",
      "Train accuracy: 0.76\n",
      "Test accuracy: 0.78\n",
      "Train accuracy: 0.78\n",
      "Test accuracy: 0.66\n",
      "Average train accuracy over 5 folds: 0.77\n",
      "Average test accuracy over 5 folds: 0.72\n",
      "Total k-fold computation time; 0.22\n"
     ]
    }
   ],
   "source": [
    "n_estimator_list = [5, 10, 20, 50, 70, 100, 150, 200]\n",
    "lr_list = [0.01, 0.1, 0.3, 0.5, 1, 2, 5, 10, 100]\n",
    "param_grid = dict(n_estimators=n_estimator_list, learning_rate=lr_list)\n",
    "\n",
    "clf = GridSearchCV(AdaBoostClassifier(), param_grid=param_grid, n_jobs=-1, refit=True, cv=5)\n",
    "clf.fit(cirrhosis_X, cirrhosis_y)\n",
    "\n",
    "print('Best parameters:', clf.best_params_)\n",
    "print('Train accuracy:', round(clf.score(cirrhosis_X, cirrhosis_y),2))\n",
    "\n",
    "acc_train = []\n",
    "acc_test = []\n",
    "\n",
    "tik = time.time()\n",
    "for fold, (train_ids, test_ids) in enumerate(kfold.split(cirrhosis_X, cirrhosis_y)):\n",
    "    X_train, X_test = cirrhosis_X[train_ids], cirrhosis_X[test_ids]\n",
    "    Y_train, Y_test = cirrhosis_y[train_ids], cirrhosis_y[test_ids]\n",
    "    \n",
    "    clf_final = AdaBoostClassifier( n_estimators=clf.best_params_['n_estimators'],\n",
    "                                    learning_rate=clf.best_params_['learning_rate'])\n",
    "    clf_final.fit(X_train, Y_train)\n",
    "    \n",
    "    print('Train accuracy:', round(clf_final.score(X_train, Y_train),2))\n",
    "    print('Test accuracy:', round(clf_final.score(X_test, Y_test),2))\n",
    "    \n",
    "    acc_train.append(clf_final.score(X_train, Y_train))\n",
    "    acc_test.append(clf_final.score(X_test, Y_test))\n",
    "tok = time.time()    \n",
    "\n",
    "final_acc_test = round(np.mean(acc_test),2)\n",
    "final_acc_train = round(np.mean(acc_train),2)\n",
    "\n",
    "print('Average train accuracy over 5 folds:', final_acc_train)\n",
    "print('Average test accuracy over 5 folds:', final_acc_test)\n",
    "print('Total k-fold computation time;', round(tok-tik, 2))\n",
    "comparison_dict['AdaBoost'] = [final_acc_test, round(tok-tik,2)]"
   ]
  },
  {
   "cell_type": "markdown",
   "metadata": {
    "id": "_5Do7VTfYNm2"
   },
   "source": [
    "## XGBoost"
   ]
  },
  {
   "cell_type": "code",
   "execution_count": null,
   "metadata": {},
   "outputs": [],
   "source": [
    "max_depth_list = [2, 3, 4, 5, 10, 15]\n",
    "lr_list = [0.1, 0.3, 0.5, 0.75, 1, 2]\n",
    "param_grid = dict(max_depth=max_depth_list, learning_rate=lr_list)\n",
    "\n",
    "clf = GridSearchCV(XGBClassifier(), param_grid=param_grid, n_jobs=-1, refit=True, cv=5)\n",
    "clf.fit(cirrhosis_X, cirrhosis_y)\n",
    "\n",
    "print('Best parameters:', clf.best_params_)\n",
    "print('Train accuracy:', round(clf.score(cirrhosis_X, cirrhosis_y),2))\n",
    "\n",
    "acc_train = []\n",
    "acc_test = []\n",
    "\n",
    "tik = time.time()\n",
    "for fold, (train_ids, test_ids) in enumerate(kfold.split(cirrhosis_X, cirrhosis_y)):\n",
    "    X_train, X_test = cirrhosis_X[train_ids], cirrhosis_X[test_ids]\n",
    "    Y_train, Y_test = cirrhosis_y[train_ids], cirrhosis_y[test_ids]\n",
    "    \n",
    "    clf_final = XGBClassifier(  max_depth=clf.best_params_['max_depth'],\n",
    "                                learning_rate=clf.best_params_['learning_rate'])\n",
    "    clf_final.fit(X_train, Y_train)\n",
    "    \n",
    "    print('Train accuracy:', round(clf_final.score(X_train, Y_train),2))\n",
    "    print('Test accuracy:', round(clf_final.score(X_test, Y_test),2))\n",
    "    \n",
    "    acc_train.append(clf_final.score(X_train, Y_train))\n",
    "    acc_test.append(clf_final.score(X_test, Y_test))\n",
    "tok = time.time()    \n",
    "\n",
    "final_acc_test = round(np.mean(acc_test),2)\n",
    "final_acc_train = round(np.mean(acc_train),2)\n",
    "\n",
    "print('Average train accuracy over 5 folds:', final_acc_train)\n",
    "print('Average test accuracy over 5 folds:', final_acc_test)\n",
    "print('Total k-fold computation time;', round(tok-tik, 2))\n",
    "comparison_dict['XGBoost'] = [final_acc_test, round(tok-tik,2)]"
   ]
  },
  {
   "cell_type": "code",
   "execution_count": null,
   "metadata": {
    "colab": {
     "base_uri": "https://localhost:8080/"
    },
    "id": "Gk_Qq5bvZFnV",
    "outputId": "92afba82-ba0d-428c-aa3a-7089ec7765a1"
   },
   "outputs": [
    {
     "data": {
      "text/plain": [
       "array([0, 0, 0, 0, 0, 1, 0, 1, 0, 1, 1, 0, 0, 0, 0, 0, 0, 0, 0, 0, 0, 0,\n",
       "       1, 0, 0, 0, 0, 1, 1, 0, 0, 0, 0, 0, 0, 1, 1, 0, 0, 0, 1, 1, 0, 0,\n",
       "       0, 0, 1, 0, 0, 1, 1, 1, 1, 0, 0, 0, 1, 1, 0, 0, 1, 1, 0, 0, 1, 1,\n",
       "       0, 1, 0, 0, 0, 0, 0, 0, 1, 1, 1, 1, 0, 0, 0, 1])"
      ]
     },
     "execution_count": 32,
     "metadata": {},
     "output_type": "execute_result"
    }
   ],
   "source": [
    "Y_test"
   ]
  },
  {
   "cell_type": "code",
   "execution_count": null,
   "metadata": {
    "colab": {
     "base_uri": "https://localhost:8080/"
    },
    "id": "mfwE5Tk6cmWd",
    "outputId": "150e6fe5-e88b-4b3b-bac5-d9d9fe9ea69d"
   },
   "outputs": [
    {
     "data": {
      "text/plain": [
       "array([1, 1, 1, 0, 0, 1, 0, 1, 0, 0, 1, 1, 0, 0, 0, 0, 0, 0, 0, 0, 0, 1,\n",
       "       0, 0, 0, 1, 0, 0, 1, 0, 0, 0, 0, 0, 0, 1, 1, 0, 0, 0, 1, 0, 0, 0,\n",
       "       0, 0, 0, 0, 0, 1, 0, 0, 0, 0, 0, 0, 1, 0, 0, 0, 1, 0, 0, 0, 1, 0,\n",
       "       0, 0, 0, 0, 0, 0, 1, 0, 0, 0, 1, 1, 0, 1, 0, 0])"
      ]
     },
     "execution_count": 33,
     "metadata": {},
     "output_type": "execute_result"
    }
   ],
   "source": [
    "clf.predict(X_test)"
   ]
  },
  {
   "cell_type": "markdown",
   "metadata": {},
   "source": [
    "# Various other methods"
   ]
  },
  {
   "cell_type": "markdown",
   "metadata": {},
   "source": [
    "## KNN"
   ]
  },
  {
   "cell_type": "code",
   "execution_count": 55,
   "metadata": {},
   "outputs": [
    {
     "name": "stdout",
     "output_type": "stream",
     "text": [
      "Best parameters: {'n_neighbors': 3}\n",
      "Train accuracy: 0.79\n",
      "Train accuracy: 0.81\n",
      "Test accuracy: 0.64\n",
      "Train accuracy: 0.81\n",
      "Test accuracy: 0.55\n",
      "Train accuracy: 0.79\n",
      "Test accuracy: 0.62\n",
      "Train accuracy: 0.79\n",
      "Test accuracy: 0.61\n",
      "Train accuracy: 0.77\n",
      "Test accuracy: 0.66\n",
      "Average train accuracy over 5 folds: 0.79\n",
      "Average test accuracy over 5 folds: 0.62\n",
      "Total k-fold computation time; 0.5\n"
     ]
    }
   ],
   "source": [
    "from sklearn.neighbors import KNeighborsClassifier\n",
    "\n",
    "n_list = [2, 3, 4, 5, 6, 7, 8, 9, 10]\n",
    "param_grid = dict(n_neighbors=n_list)\n",
    "\n",
    "clf = GridSearchCV(KNeighborsClassifier(), param_grid=param_grid, n_jobs=-1, refit=True, cv=5)\n",
    "clf.fit(cirrhosis_X, cirrhosis_y)\n",
    "\n",
    "print('Best parameters:', clf.best_params_)\n",
    "print('Train accuracy:', round(clf.score(cirrhosis_X, cirrhosis_y),2))\n",
    "\n",
    "acc_train = []\n",
    "acc_test = []\n",
    "\n",
    "tik = time.time()\n",
    "for fold, (train_ids, test_ids) in enumerate(kfold.split(cirrhosis_X, cirrhosis_y)):\n",
    "    X_train, X_test = cirrhosis_X[train_ids], cirrhosis_X[test_ids]\n",
    "    Y_train, Y_test = cirrhosis_y[train_ids], cirrhosis_y[test_ids]\n",
    "    \n",
    "    clf_final = KNeighborsClassifier( n_neighbors=clf.best_params_['n_neighbors'])\n",
    "    clf_final.fit(X_train, Y_train)\n",
    "    \n",
    "    print('Train accuracy:', round(clf_final.score(X_train, Y_train),2))\n",
    "    print('Test accuracy:', round(clf_final.score(X_test, Y_test),2))\n",
    "    \n",
    "    acc_train.append(clf_final.score(X_train, Y_train))\n",
    "    acc_test.append(clf_final.score(X_test, Y_test))\n",
    "tok = time.time()    \n",
    "\n",
    "final_acc_test = round(np.mean(acc_test),2)\n",
    "final_acc_train = round(np.mean(acc_train),2)\n",
    "\n",
    "print('Average train accuracy over 5 folds:', final_acc_train)\n",
    "print('Average test accuracy over 5 folds:', final_acc_test)\n",
    "print('Total k-fold computation time;', round(tok-tik, 2))\n",
    "comparison_dict['KNeighbors'] = [final_acc_test, round(tok-tik,2)]"
   ]
  },
  {
   "cell_type": "markdown",
   "metadata": {},
   "source": [
    "## Neural Network"
   ]
  },
  {
   "cell_type": "code",
   "execution_count": null,
   "metadata": {
    "id": "jpRwkFMwwV-T"
   },
   "outputs": [
    {
     "name": "stdout",
     "output_type": "stream",
     "text": [
      "Train accuracy: 0.65\n",
      "Test accuracy: 0.64\n",
      "Train accuracy: 0.65\n",
      "Test accuracy: 0.65\n",
      "Train accuracy: 0.65\n",
      "Test accuracy: 0.65\n",
      "Train accuracy: 0.65\n",
      "Test accuracy: 0.65\n",
      "Train accuracy: 0.65\n",
      "Test accuracy: 0.66\n",
      "Average train accuracy over 5 folds: 0.65\n",
      "Average test accuracy over 5 folds: 0.65\n",
      "Total k-fold computation time; 0.45\n"
     ]
    }
   ],
   "source": [
    "from sklearn.neural_network import MLPClassifier\n",
    "\n",
    "acc_train = []\n",
    "acc_test = []\n",
    "\n",
    "tik = time.time()\n",
    "for fold, (train_ids, test_ids) in enumerate(kfold.split(cirrhosis_X, cirrhosis_y)):\n",
    "    X_train, X_test = cirrhosis_X[train_ids], cirrhosis_X[test_ids]\n",
    "    Y_train, Y_test = cirrhosis_y[train_ids], cirrhosis_y[test_ids]\n",
    "    \n",
    "    clf=MLPClassifier(hidden_layer_sizes=(32,32),activation=\"tanh\",solver=\"sgd\",\n",
    "                      learning_rate='adaptive', learning_rate_init=0.001,\n",
    "                      n_iter_no_change=10,max_iter=1000,alpha=0.0001)\n",
    "    clf.fit(X_train, Y_train)\n",
    "    \n",
    "    print('Train accuracy:', round(clf.score(X_train, Y_train),2))\n",
    "    print('Test accuracy:', round(clf.score(X_test, Y_test),2))\n",
    "    \n",
    "    acc_train.append(clf.score(X_train, Y_train))\n",
    "    acc_test.append(clf.score(X_test, Y_test))\n",
    "tok = time.time()\n",
    "\n",
    "final_acc_test = round(np.mean(acc_test),2)\n",
    "final_acc_train = round(np.mean(acc_train),2)\n",
    "\n",
    "print('Average train accuracy over 5 folds:', final_acc_train)\n",
    "print('Average test accuracy over 5 folds:', final_acc_test)\n",
    "print('Total k-fold computation time;', round(tok-tik, 2))\n",
    "comparison_dict['NN'] = [final_acc_test, round(tok-tik,2)]"
   ]
  },
  {
   "cell_type": "markdown",
   "metadata": {},
   "source": [
    "## Gaussian Naive Bayes"
   ]
  },
  {
   "cell_type": "code",
   "execution_count": 56,
   "metadata": {},
   "outputs": [
    {
     "name": "stdout",
     "output_type": "stream",
     "text": [
      "Train accuracy: 0.72\n",
      "Test accuracy: 0.71\n",
      "Train accuracy: 0.74\n",
      "Test accuracy: 0.71\n",
      "Train accuracy: 0.73\n",
      "Test accuracy: 0.73\n",
      "Train accuracy: 0.74\n",
      "Test accuracy: 0.79\n",
      "Train accuracy: 0.75\n",
      "Test accuracy: 0.71\n",
      "Average train accuracy over 5 folds: 0.74\n",
      "Average test accuracy over 5 folds: 0.73\n",
      "Total k-fold computation time; 0.05\n"
     ]
    }
   ],
   "source": [
    "acc_train = []\n",
    "acc_test = []\n",
    "              \n",
    "tik = time.time()\n",
    "for fold, (train_ids, test_ids) in enumerate(kfold.split(cirrhosis_X, cirrhosis_y)):\n",
    "    X_train, X_test = cirrhosis_X[train_ids], cirrhosis_X[test_ids]\n",
    "    Y_train, Y_test = cirrhosis_y[train_ids], cirrhosis_y[test_ids]\n",
    "    \n",
    "    clf = GaussianNB()\n",
    "    clf.fit(X_train, Y_train)\n",
    "    \n",
    "    print('Train accuracy:', round(clf.score(X_train, Y_train),2))\n",
    "    print('Test accuracy:', round(clf.score(X_test, Y_test),2))\n",
    "    \n",
    "    acc_train.append(clf.score(X_train, Y_train))\n",
    "    acc_test.append(clf.score(X_test, Y_test))\n",
    "tok = time.time()\n",
    "\n",
    "final_acc_test = round(np.mean(acc_test),2)\n",
    "final_acc_train = round(np.mean(acc_train),2)\n",
    "\n",
    "print('Average train accuracy over 5 folds:', final_acc_train)\n",
    "print('Average test accuracy over 5 folds:', final_acc_test)\n",
    "print('Total k-fold computation time;', round(tok-tik, 2))\n",
    "comparison_dict['Gaussian_Naive_Bayes'] = [final_acc_test, round(tok-tik,2)]"
   ]
  },
  {
   "cell_type": "markdown",
   "metadata": {},
   "source": [
    "## Random Forest"
   ]
  },
  {
   "cell_type": "code",
   "execution_count": 61,
   "metadata": {},
   "outputs": [
    {
     "name": "stdout",
     "output_type": "stream",
     "text": [
      "Best parameters: {'max_depth': 10, 'n_estimators': 50}\n",
      "Train accuracy: 0.98\n",
      "Train accuracy: 0.98\n",
      "Test accuracy: 0.75\n",
      "Train accuracy: 0.99\n",
      "Test accuracy: 0.72\n",
      "Train accuracy: 0.98\n",
      "Test accuracy: 0.72\n",
      "Train accuracy: 0.99\n",
      "Test accuracy: 0.76\n",
      "Train accuracy: 1.0\n",
      "Test accuracy: 0.74\n",
      "Average train accuracy over 5 folds: 0.99\n",
      "Average test accuracy over 5 folds: 0.74\n",
      "Total k-fold computation time; 1.12\n"
     ]
    }
   ],
   "source": [
    "from sklearn.ensemble import RandomForestClassifier\n",
    "\n",
    "max_depth_list =  [2,5,10,20,50,100]\n",
    "n_estimators_list=[10,50,100,200,500]\n",
    "param_grid = dict(max_depth=max_depth_list,\n",
    "                  n_estimators=n_estimators_list)\n",
    "\n",
    "clf = GridSearchCV(RandomForestClassifier(), param_grid=param_grid, n_jobs=-1, refit=True, cv=5)\n",
    "clf.fit(cirrhosis_X, cirrhosis_y)\n",
    "\n",
    "print('Best parameters:', clf.best_params_)\n",
    "print('Train accuracy:', round(clf.score(cirrhosis_X, cirrhosis_y),2))\n",
    "\n",
    "acc_train = []\n",
    "acc_test = []\n",
    "\n",
    "tik = time.time()\n",
    "for fold, (train_ids, test_ids) in enumerate(kfold.split(cirrhosis_X, cirrhosis_y)):\n",
    "    X_train, X_test = cirrhosis_X[train_ids], cirrhosis_X[test_ids]\n",
    "    Y_train, Y_test = cirrhosis_y[train_ids], cirrhosis_y[test_ids]\n",
    "    \n",
    "    clf_final = RandomForestClassifier( max_depth=clf.best_params_['max_depth'],\n",
    "                                        n_estimators=clf.best_params_['n_estimators'])\n",
    "    clf_final.fit(X_train, Y_train)\n",
    "    \n",
    "    print('Train accuracy:', round(clf_final.score(X_train, Y_train),2))\n",
    "    print('Test accuracy:', round(clf_final.score(X_test, Y_test),2))\n",
    "    \n",
    "    acc_train.append(clf_final.score(X_train, Y_train))\n",
    "    acc_test.append(clf_final.score(X_test, Y_test))\n",
    "tok = time.time()    \n",
    "\n",
    "final_acc_test = round(np.mean(acc_test),2)\n",
    "final_acc_train = round(np.mean(acc_train),2)\n",
    "\n",
    "print('Average train accuracy over 5 folds:', final_acc_train)\n",
    "print('Average test accuracy over 5 folds:', final_acc_test)\n",
    "print('Total k-fold computation time;', round(tok-tik, 2))\n",
    "comparison_dict['Random_Forest'] = [final_acc_test, round(tok-tik,2)]"
   ]
  },
  {
   "cell_type": "markdown",
   "metadata": {},
   "source": [
    "# Feature Selection"
   ]
  },
  {
   "cell_type": "markdown",
   "metadata": {},
   "source": [
    "## Using the Random Forest from above"
   ]
  },
  {
   "cell_type": "code",
   "execution_count": 65,
   "metadata": {},
   "outputs": [
    {
     "data": {
      "image/png": "[encoded data removed]",
      "text/plain": [
       "<Figure size 432x288 with 1 Axes>"
      ]
     },
     "metadata": {
      "needs_background": "light"
     },
     "output_type": "display_data"
    }
   ],
   "source": [
    "feature_names=cirrhosis.drop(columns=\"Stage\").columns.values\n",
    "importances = clf_final.feature_importances_\n",
    "std = np.std([tree.feature_importances_ for tree in clf_final.estimators_], axis=0)\n",
    "forest_importances = pd.Series(importances, index=feature_names)\n",
    "\n",
    "fig, ax = plt.subplots()\n",
    "forest_importances.plot.bar(yerr=std, ax=ax)\n",
    "ax.set_title(\"Feature importances using MDI\")\n",
    "ax.set_ylabel(\"Mean decrease in impurity\")\n",
    "fig.tight_layout()\n"
   ]
  },
  {
   "cell_type": "code",
   "execution_count": null,
   "metadata": {},
   "outputs": [],
   "source": [
    "cirrhosis_X_red=cirrhosis_X[:,[1,6,8,13,14]]\n",
    "cirrhosis_X_red=cirrhosis_X[:,[1,6,7,8,9,10,11,12,13,14]]"
   ]
  },
  {
   "cell_type": "code",
   "execution_count": null,
   "metadata": {},
   "outputs": [
    {
     "name": "stdout",
     "output_type": "stream",
     "text": [
      "[18:28:02] WARNING: ../src/learner.cc:1115: Starting in XGBoost 1.3.0, the default evaluation metric used with the objective 'binary:logistic' was changed from 'error' to 'logloss'. Explicitly set eval_metric if you'd like to restore the old behavior.\n",
      "Train accuracy: 0.86\n",
      "Test accuracy: 0.83\n",
      "[18:28:02] WARNING: ../src/learner.cc:1115: Starting in XGBoost 1.3.0, the default evaluation metric used with the objective 'binary:logistic' was changed from 'error' to 'logloss'. Explicitly set eval_metric if you'd like to restore the old behavior.\n",
      "Train accuracy: 0.87\n",
      "Test accuracy: 0.75\n",
      "[18:28:02] WARNING: ../src/learner.cc:1115: Starting in XGBoost 1.3.0, the default evaluation metric used with the objective 'binary:logistic' was changed from 'error' to 'logloss'. Explicitly set eval_metric if you'd like to restore the old behavior.\n",
      "Train accuracy: 0.88\n",
      "Test accuracy: 0.72\n",
      "[18:28:02] WARNING: ../src/learner.cc:1115: Starting in XGBoost 1.3.0, the default evaluation metric used with the objective 'binary:logistic' was changed from 'error' to 'logloss'. Explicitly set eval_metric if you'd like to restore the old behavior.\n",
      "Train accuracy: 0.88\n",
      "Test accuracy: 0.73\n",
      "[18:28:02] WARNING: ../src/learner.cc:1115: Starting in XGBoost 1.3.0, the default evaluation metric used with the objective 'binary:logistic' was changed from 'error' to 'logloss'. Explicitly set eval_metric if you'd like to restore the old behavior.\n",
      "Train accuracy: 0.87\n",
      "Test accuracy: 0.77\n",
      "Average train accuracy over 5 folds: 0.87\n",
      "Average test accuracy over 5 folds: 0.76\n",
      "Total k-fold computation time; 1.06\n"
     ]
    }
   ],
   "source": [
    "acc_train = []\n",
    "acc_test = []\n",
    "\n",
    "tik = time.time()\n",
    "for fold, (train_ids, test_ids) in enumerate(kfold.split(cirrhosis_X_red, cirrhosis_y)):\n",
    "    X_train, X_test = cirrhosis_X_red[train_ids], cirrhosis_X_red[test_ids]\n",
    "    Y_train, Y_test = cirrhosis_y[train_ids], cirrhosis_y[test_ids]\n",
    "    \n",
    "    clf = XGBClassifier(max_depth=2, learning_rate=0.1)\n",
    "    clf.fit(X_train, Y_train)\n",
    "    \n",
    "    print('Train accuracy:', round(clf.score(X_train, Y_train),2))\n",
    "    print('Test accuracy:', round(clf.score(X_test, Y_test),2))\n",
    "    \n",
    "    acc_train.append(clf.score(X_train, Y_train))\n",
    "    acc_test.append(clf.score(X_test, Y_test))\n",
    "tok = time.time()    \n",
    "\n",
    "final_acc_test = round(np.mean(acc_test),2)\n",
    "final_acc_train = round(np.mean(acc_train),2)\n",
    "\n",
    "print('Average train accuracy over 5 folds:', final_acc_train)\n",
    "print('Average test accuracy over 5 folds:', final_acc_test)\n",
    "print('Total k-fold computation time;', round(tok-tik, 2))\n",
    "comparison_dict['Random_Forest_Feature_Selection'] = [final_acc_test, round(tok-tik,2)]"
   ]
  },
  {
   "cell_type": "markdown",
   "metadata": {},
   "source": [
    "## Feature Selection with LASSO"
   ]
  },
  {
   "cell_type": "code",
   "execution_count": null,
   "metadata": {},
   "outputs": [
    {
     "name": "stdout",
     "output_type": "stream",
     "text": [
      "alpha: 1e-05\n",
      "New shape of train data for fold 0 : (329, 15)\n",
      "New shape of train data for fold 1 : (329, 15)\n",
      "New shape of train data for fold 2 : (330, 15)\n",
      "New shape of train data for fold 3 : (330, 15)\n",
      "New shape of train data for fold 4 : (330, 15)\n",
      "alpha: 3.0000000000000004e-05\n",
      "New shape of train data for fold 0 : (329, 15)\n",
      "New shape of train data for fold 1 : (329, 15)\n",
      "New shape of train data for fold 2 : (330, 15)\n",
      "New shape of train data for fold 3 : (330, 15)\n",
      "New shape of train data for fold 4 : (330, 15)\n",
      "alpha: 5e-05\n",
      "New shape of train data for fold 0 : (329, 15)\n",
      "New shape of train data for fold 1 : (329, 15)\n",
      "New shape of train data for fold 2 : (330, 15)\n",
      "New shape of train data for fold 3 : (330, 15)\n",
      "New shape of train data for fold 4 : (330, 15)\n",
      "alpha: 8e-05\n",
      "New shape of train data for fold 0 : (329, 15)\n",
      "New shape of train data for fold 1 : (329, 15)\n",
      "New shape of train data for fold 2 : (330, 15)\n",
      "New shape of train data for fold 3 : (330, 15)\n",
      "New shape of train data for fold 4 : (330, 15)\n",
      "alpha: 0.0001\n",
      "New shape of train data for fold 0 : (329, 15)\n",
      "New shape of train data for fold 1 : (329, 15)\n",
      "New shape of train data for fold 2 : (330, 15)\n",
      "New shape of train data for fold 3 : (330, 15)\n",
      "New shape of train data for fold 4 : (330, 15)\n",
      "alpha: 0.00030000000000000003\n",
      "New shape of train data for fold 0 : (329, 15)\n",
      "New shape of train data for fold 1 : (329, 15)\n",
      "New shape of train data for fold 2 : (330, 15)\n",
      "New shape of train data for fold 3 : (330, 15)\n",
      "New shape of train data for fold 4 : (330, 15)\n",
      "alpha: 0.0005\n",
      "New shape of train data for fold 0 : (329, 15)\n",
      "New shape of train data for fold 1 : (329, 15)\n",
      "New shape of train data for fold 2 : (330, 15)\n",
      "New shape of train data for fold 3 : (330, 15)\n",
      "New shape of train data for fold 4 : (330, 14)\n",
      "alpha: 0.0008\n",
      "New shape of train data for fold 0 : (329, 15)\n",
      "New shape of train data for fold 1 : (329, 14)\n",
      "New shape of train data for fold 2 : (330, 15)\n",
      "New shape of train data for fold 3 : (330, 15)\n",
      "New shape of train data for fold 4 : (330, 14)\n",
      "alpha: 0.001\n",
      "New shape of train data for fold 0 : (329, 15)\n",
      "New shape of train data for fold 1 : (329, 14)\n",
      "New shape of train data for fold 2 : (330, 15)\n",
      "New shape of train data for fold 3 : (330, 14)\n",
      "New shape of train data for fold 4 : (330, 13)\n",
      "alpha: 0.003\n",
      "New shape of train data for fold 0 : (329, 14)\n",
      "New shape of train data for fold 1 : (329, 12)\n",
      "New shape of train data for fold 2 : (330, 14)\n",
      "New shape of train data for fold 3 : (330, 12)\n",
      "New shape of train data for fold 4 : (330, 12)\n",
      "alpha: 0.005\n",
      "New shape of train data for fold 0 : (329, 14)\n",
      "New shape of train data for fold 1 : (329, 11)\n",
      "New shape of train data for fold 2 : (330, 13)\n",
      "New shape of train data for fold 3 : (330, 12)\n",
      "New shape of train data for fold 4 : (330, 12)\n",
      "alpha: 0.008\n",
      "New shape of train data for fold 0 : (329, 13)\n",
      "New shape of train data for fold 1 : (329, 11)\n",
      "New shape of train data for fold 2 : (330, 12)\n",
      "New shape of train data for fold 3 : (330, 10)\n",
      "New shape of train data for fold 4 : (330, 12)\n",
      "alpha: 0.01\n",
      "New shape of train data for fold 0 : (329, 12)\n",
      "New shape of train data for fold 1 : (329, 11)\n",
      "New shape of train data for fold 2 : (330, 11)\n",
      "New shape of train data for fold 3 : (330, 10)\n",
      "New shape of train data for fold 4 : (330, 11)\n",
      "alpha: 0.03\n",
      "New shape of train data for fold 0 : (329, 10)\n",
      "New shape of train data for fold 1 : (329, 10)\n",
      "New shape of train data for fold 2 : (330, 10)\n",
      "New shape of train data for fold 3 : (330, 10)\n",
      "New shape of train data for fold 4 : (330, 10)\n",
      "alpha: 0.05\n",
      "New shape of train data for fold 0 : (329, 9)\n",
      "New shape of train data for fold 1 : (329, 9)\n",
      "New shape of train data for fold 2 : (330, 9)\n",
      "New shape of train data for fold 3 : (330, 9)\n",
      "New shape of train data for fold 4 : (330, 9)\n",
      "alpha: 0.08\n",
      "New shape of train data for fold 0 : (329, 8)\n",
      "New shape of train data for fold 1 : (329, 9)\n",
      "New shape of train data for fold 2 : (330, 9)\n",
      "New shape of train data for fold 3 : (330, 8)\n",
      "New shape of train data for fold 4 : (330, 9)\n",
      "alpha: 0.1\n",
      "New shape of train data for fold 0 : (329, 8)\n",
      "New shape of train data for fold 1 : (329, 8)\n",
      "New shape of train data for fold 2 : (330, 8)\n",
      "New shape of train data for fold 3 : (330, 8)\n",
      "New shape of train data for fold 4 : (330, 9)\n",
      "alpha: 0.30000000000000004\n",
      "New shape of train data for fold 0 : (329, 7)\n",
      "New shape of train data for fold 1 : (329, 6)\n",
      "New shape of train data for fold 2 : (330, 7)\n",
      "New shape of train data for fold 3 : (330, 7)\n",
      "New shape of train data for fold 4 : (330, 7)\n",
      "alpha: 0.5\n",
      "New shape of train data for fold 0 : (329, 7)\n",
      "New shape of train data for fold 1 : (329, 6)\n",
      "New shape of train data for fold 2 : (330, 7)\n",
      "New shape of train data for fold 3 : (330, 7)\n",
      "New shape of train data for fold 4 : (330, 6)\n",
      "alpha: 0.8\n",
      "New shape of train data for fold 0 : (329, 7)\n",
      "New shape of train data for fold 1 : (329, 6)\n",
      "New shape of train data for fold 2 : (330, 6)\n",
      "New shape of train data for fold 3 : (330, 6)\n",
      "New shape of train data for fold 4 : (330, 6)\n",
      "alpha: 1\n",
      "New shape of train data for fold 0 : (329, 7)\n",
      "New shape of train data for fold 1 : (329, 6)\n",
      "New shape of train data for fold 2 : (330, 6)\n",
      "New shape of train data for fold 3 : (330, 6)\n",
      "New shape of train data for fold 4 : (330, 5)\n",
      "alpha: 3\n",
      "New shape of train data for fold 0 : (329, 5)\n",
      "New shape of train data for fold 1 : (329, 5)\n",
      "New shape of train data for fold 2 : (330, 5)\n",
      "New shape of train data for fold 3 : (330, 5)\n",
      "New shape of train data for fold 4 : (330, 5)\n",
      "alpha: 5\n",
      "New shape of train data for fold 0 : (329, 4)\n",
      "New shape of train data for fold 1 : (329, 4)\n",
      "New shape of train data for fold 2 : (330, 5)\n",
      "New shape of train data for fold 3 : (330, 4)\n",
      "New shape of train data for fold 4 : (330, 5)\n",
      "alpha: 8\n",
      "New shape of train data for fold 0 : (329, 3)\n",
      "New shape of train data for fold 1 : (329, 4)\n",
      "New shape of train data for fold 2 : (330, 2)\n",
      "New shape of train data for fold 3 : (330, 3)\n",
      "New shape of train data for fold 4 : (330, 3)\n"
     ]
    }
   ],
   "source": [
    "alpha_list = [k*10**(-i) for i in reversed(range(6)) for k in [1,3,5,8]]\n",
    "\n",
    "acc_train = []\n",
    "acc_test = []\n",
    "selected_features = []\n",
    "\n",
    "tik = time.time()\n",
    "for alpha in alpha_list:\n",
    "    print('alpha:', alpha)\n",
    "    clf_lasso = Lasso(alpha=alpha)\n",
    "    acc_train_alpha = []\n",
    "    acc_test_alpha = []\n",
    "    for fold, (train_ids, test_ids) in enumerate(kfold.split(cirrhosis_X, cirrhosis_y)):\n",
    "        X_train, X_test = cirrhosis_X[train_ids], cirrhosis_X[test_ids]\n",
    "        Y_train, Y_test = cirrhosis_y[train_ids], cirrhosis_y[test_ids]\n",
    "        \n",
    "        clf_lasso.fit(X_train, Y_train)\n",
    "        \n",
    "        support = (clf_lasso.coef_!=0.0)\n",
    "        print('New shape of train data for fold',fold, ':', X_train[:, support].shape)\n",
    "        selected_features.append([i for i, val in enumerate(support) if val])\n",
    "        \n",
    "        preds_lasso_train = (clf_lasso.predict(X_train)>0.5)\n",
    "        acc_train_alpha.append(round(((Y_train==preds_lasso_train).sum()/len(Y_train)),2))\n",
    "        preds_lasso_test = (clf_lasso.predict(X_test)>0.5)\n",
    "        acc_test_alpha.append(round(((Y_test==preds_lasso_test).sum()/len(Y_test)),2))\n",
    "        \n",
    "    acc_train.append(np.mean(acc_train_alpha))\n",
    "    acc_test.append(np.mean(acc_test_alpha))\n",
    "\n",
    "tok = time.time()\n",
    "selected_features=sum(selected_features, [])"
   ]
  },
  {
   "cell_type": "code",
   "execution_count": null,
   "metadata": {},
   "outputs": [
    {
     "data": {
      "text/plain": [
       "Text(0.5, 1.0, 'Test accuracy with Logistic Regression+LASSO Feature Selection')"
      ]
     },
     "execution_count": 46,
     "metadata": {},
     "output_type": "execute_result"
    },
    {
     "data": {
      "image/png": "[encoded data removed]",
      "text/plain": [
       "<Figure size 432x288 with 1 Axes>"
      ]
     },
     "metadata": {
      "needs_background": "light"
     },
     "output_type": "display_data"
    }
   ],
   "source": [
    "plt.plot(alpha_list, acc_test)\n",
    "plt.xscale('log')\n",
    "plt.xlabel('Alpha')\n",
    "plt.ylabel('Accuracy')\n",
    "plt.title('Test accuracy with Logistic Regression+LASSO Feature Selection')"
   ]
  },
  {
   "cell_type": "code",
   "execution_count": null,
   "metadata": {},
   "outputs": [
    {
     "name": "stdout",
     "output_type": "stream",
     "text": [
      "Maximal test accuracy with Logistic Regression + LASSO: 0.73 achieved at alpha = 0.0005\n"
     ]
    }
   ],
   "source": [
    "print('Maximal test accuracy with Logistic Regression + LASSO:', round(np.max(acc_test),2), 'achieved at alpha =', alpha_list[np.argmax(acc_test)])\n",
    "comparison_dict['Lasso']=[round(np.max(acc_test),2), round(tok-tik,2)]"
   ]
  },
  {
   "cell_type": "code",
   "execution_count": null,
   "metadata": {},
   "outputs": [
    {
     "name": "stdout",
     "output_type": "stream",
     "text": [
      "Most frequently selected features: [ 7  9 10 13  1]\n"
     ]
    },
    {
     "data": {
      "image/png": "[encoded data removed]",
      "text/plain": [
       "<Figure size 432x288 with 1 Axes>"
      ]
     },
     "metadata": {
      "needs_background": "light"
     },
     "output_type": "display_data"
    }
   ],
   "source": [
    "y, x, _ = plt.hist(selected_features, bins=range(16))\n",
    "print('Most frequently selected features:', np.argpartition(y, -5)[-5:])"
   ]
  },
  {
   "cell_type": "markdown",
   "metadata": {},
   "source": [
    "## Feature Selection LASSO+SVC"
   ]
  },
  {
   "cell_type": "code",
   "execution_count": null,
   "metadata": {},
   "outputs": [
    {
     "name": "stdout",
     "output_type": "stream",
     "text": [
      "C: 0.01\n",
      "New shape of train data for fold 0 : (329, 7)\n",
      "New shape of train data for fold 1 : (329, 7)\n",
      "New shape of train data for fold 2 : (330, 8)\n",
      "New shape of train data for fold 3 : (330, 9)\n",
      "New shape of train data for fold 4 : (330, 7)\n",
      "C: 0.03\n",
      "New shape of train data for fold 0 : (329, 11)\n",
      "New shape of train data for fold 1 : (329, 11)\n",
      "New shape of train data for fold 2 : (330, 11)\n",
      "New shape of train data for fold 3 : (330, 10)\n",
      "New shape of train data for fold 4 : (330, 10)\n",
      "C: 0.05\n",
      "New shape of train data for fold 0 : (329, 12)\n",
      "New shape of train data for fold 1 : (329, 11)\n",
      "New shape of train data for fold 2 : (330, 11)\n",
      "New shape of train data for fold 3 : (330, 11)\n",
      "New shape of train data for fold 4 : (330, 11)\n",
      "C: 0.08\n",
      "New shape of train data for fold 0 : (329, 12)\n",
      "New shape of train data for fold 1 : (329, 11)\n",
      "New shape of train data for fold 2 : (330, 11)\n",
      "New shape of train data for fold 3 : (330, 11)\n",
      "New shape of train data for fold 4 : (330, 11)\n",
      "C: 0.1\n",
      "New shape of train data for fold 0 : (329, 13)\n",
      "New shape of train data for fold 1 : (329, 11)\n",
      "New shape of train data for fold 2 : (330, 12)\n",
      "New shape of train data for fold 3 : (330, 9)\n",
      "New shape of train data for fold 4 : (330, 12)\n",
      "C: 0.30000000000000004\n",
      "New shape of train data for fold 0 : (329, 14)\n",
      "New shape of train data for fold 1 : (329, 12)\n",
      "New shape of train data for fold 2 : (330, 14)\n",
      "New shape of train data for fold 3 : (330, 13)\n",
      "New shape of train data for fold 4 : (330, 12)\n",
      "C: 0.5\n",
      "New shape of train data for fold 0 : (329, 14)\n",
      "New shape of train data for fold 1 : (329, 13)\n",
      "New shape of train data for fold 2 : (330, 15)\n",
      "New shape of train data for fold 3 : (330, 14)\n",
      "New shape of train data for fold 4 : (330, 13)\n",
      "C: 0.8\n",
      "New shape of train data for fold 0 : (329, 15)\n",
      "New shape of train data for fold 1 : (329, 14)\n",
      "New shape of train data for fold 2 : (330, 15)\n",
      "New shape of train data for fold 3 : (330, 14)\n",
      "New shape of train data for fold 4 : (330, 14)\n",
      "C: 1\n",
      "New shape of train data for fold 0 : (329, 15)\n",
      "New shape of train data for fold 1 : (329, 15)\n",
      "New shape of train data for fold 2 : (330, 15)\n",
      "New shape of train data for fold 3 : (330, 14)\n",
      "New shape of train data for fold 4 : (330, 14)\n",
      "C: 3\n",
      "New shape of train data for fold 0 : (329, 15)\n",
      "New shape of train data for fold 1 : (329, 15)\n",
      "New shape of train data for fold 2 : (330, 15)\n",
      "New shape of train data for fold 3 : (330, 15)\n",
      "New shape of train data for fold 4 : (330, 15)\n",
      "C: 5\n",
      "New shape of train data for fold 0 : (329, 15)\n",
      "New shape of train data for fold 1 : (329, 15)\n",
      "New shape of train data for fold 2 : (330, 15)\n",
      "New shape of train data for fold 3 : (330, 15)\n",
      "New shape of train data for fold 4 : (330, 15)\n",
      "C: 8\n",
      "New shape of train data for fold 0 : (329, 15)\n",
      "New shape of train data for fold 1 : (329, 15)\n",
      "New shape of train data for fold 2 : (330, 15)\n",
      "New shape of train data for fold 3 : (330, 15)\n",
      "New shape of train data for fold 4 : (330, 15)\n",
      "C: 10\n",
      "New shape of train data for fold 0 : (329, 15)\n",
      "New shape of train data for fold 1 : (329, 15)\n",
      "New shape of train data for fold 2 : (330, 15)\n",
      "New shape of train data for fold 3 : (330, 15)\n",
      "New shape of train data for fold 4 : (330, 15)\n",
      "C: 30\n",
      "New shape of train data for fold 0 : (329, 15)\n",
      "New shape of train data for fold 1 : (329, 15)\n",
      "New shape of train data for fold 2 : (330, 15)\n",
      "New shape of train data for fold 3 : (330, 15)\n",
      "New shape of train data for fold 4 : (330, 15)\n",
      "C: 50\n",
      "New shape of train data for fold 0 : (329, 15)\n",
      "New shape of train data for fold 1 : (329, 15)\n",
      "New shape of train data for fold 2 : (330, 15)\n",
      "New shape of train data for fold 3 : (330, 15)\n",
      "New shape of train data for fold 4 : (330, 15)\n",
      "C: 80\n",
      "New shape of train data for fold 0 : (329, 15)\n",
      "New shape of train data for fold 1 : (329, 15)\n",
      "New shape of train data for fold 2 : (330, 15)\n",
      "New shape of train data for fold 3 : (330, 15)\n",
      "New shape of train data for fold 4 : (330, 15)\n",
      "C: 100\n",
      "New shape of train data for fold 0 : (329, 15)\n",
      "New shape of train data for fold 1 : (329, 15)\n",
      "New shape of train data for fold 2 : (330, 15)\n",
      "New shape of train data for fold 3 : (330, 15)\n",
      "New shape of train data for fold 4 : (330, 15)\n",
      "C: 300\n",
      "New shape of train data for fold 0 : (329, 15)\n",
      "New shape of train data for fold 1 : (329, 15)\n",
      "New shape of train data for fold 2 : (330, 15)\n",
      "New shape of train data for fold 3 : (330, 15)\n",
      "New shape of train data for fold 4 : (330, 15)\n",
      "C: 500\n",
      "New shape of train data for fold 0 : (329, 15)\n",
      "New shape of train data for fold 1 : (329, 15)\n",
      "New shape of train data for fold 2 : (330, 15)\n",
      "New shape of train data for fold 3 : (330, 15)\n",
      "New shape of train data for fold 4 : (330, 15)\n",
      "C: 800\n",
      "New shape of train data for fold 0 : (329, 15)\n",
      "New shape of train data for fold 1 : (329, 15)\n",
      "New shape of train data for fold 2 : (330, 15)\n",
      "New shape of train data for fold 3 : (330, 15)\n",
      "New shape of train data for fold 4 : (330, 15)\n",
      "C: 1000\n",
      "New shape of train data for fold 0 : (329, 15)\n",
      "New shape of train data for fold 1 : (329, 15)\n",
      "New shape of train data for fold 2 : (330, 15)\n",
      "New shape of train data for fold 3 : (330, 15)\n",
      "New shape of train data for fold 4 : (330, 15)\n",
      "C: 3000\n",
      "New shape of train data for fold 0 : (329, 15)\n",
      "New shape of train data for fold 1 : (329, 15)\n",
      "New shape of train data for fold 2 : (330, 15)\n",
      "New shape of train data for fold 3 : (330, 15)\n",
      "New shape of train data for fold 4 : (330, 15)\n",
      "C: 5000\n",
      "New shape of train data for fold 0 : (329, 15)\n",
      "New shape of train data for fold 1 : (329, 15)\n",
      "New shape of train data for fold 2 : (330, 15)\n",
      "New shape of train data for fold 3 : (330, 15)\n",
      "New shape of train data for fold 4 : (330, 15)\n",
      "C: 8000\n",
      "New shape of train data for fold 0 : (329, 15)\n",
      "New shape of train data for fold 1 : (329, 15)\n",
      "New shape of train data for fold 2 : (330, 15)\n",
      "New shape of train data for fold 3 : (330, 15)\n",
      "New shape of train data for fold 4 : (330, 15)\n"
     ]
    }
   ],
   "source": [
    "C_list = [k*10**(i) for i in range(-2,4) for k in [1,3,5,8]]\n",
    "\n",
    "acc_train = []\n",
    "acc_test = []\n",
    "selected_features = []\n",
    "\n",
    "tik = time.time()\n",
    "for C in C_list:\n",
    "    print('C:', C)\n",
    "    clf_svc = LinearSVC(C=C, penalty='l1', dual=False)\n",
    "    acc_train_C = []\n",
    "    acc_test_C = []\n",
    "    \n",
    "    for fold, (train_ids, test_ids) in enumerate(kfold.split(cirrhosis_X, cirrhosis_y)):\n",
    "        X_train, X_test = cirrhosis_X[train_ids], cirrhosis_X[test_ids]\n",
    "        Y_train, Y_test = cirrhosis_y[train_ids], cirrhosis_y[test_ids]\n",
    "        \n",
    "        clf_svc.fit(X_train, Y_train)\n",
    "        \n",
    "        support = (clf_svc.coef_!=0.0).flatten()\n",
    "        print('New shape of train data for fold',fold, ':', X_train[:, support].shape)\n",
    "        selected_features.append([i for i, val in enumerate(support) if val])\n",
    "        \n",
    "        preds_lasso_train = (clf_svc.predict(X_train)>0.5)\n",
    "        acc_train_alpha.append(round(((Y_train==preds_lasso_train).sum()/len(Y_train)),2))\n",
    "        preds_lasso_test = (clf_svc.predict(X_test)>0.5)\n",
    "        acc_test_alpha.append(round(((Y_test==preds_lasso_test).sum()/len(Y_test)),2))\n",
    "        \n",
    "    acc_train.append(np.mean(acc_train_alpha))\n",
    "    acc_test.append(np.mean(acc_test_alpha))\n",
    "\n",
    "tok = time.time()\n",
    "    \n",
    "selected_features=sum(selected_features, [])"
   ]
  },
  {
   "cell_type": "code",
   "execution_count": null,
   "metadata": {},
   "outputs": [
    {
     "data": {
      "text/plain": [
       "Text(0.5, 1.0, 'Test accuracy with LASSO+SVC Feature Selection')"
      ]
     },
     "execution_count": 50,
     "metadata": {},
     "output_type": "execute_result"
    },
    {
     "data": {
      "image/png": "[encoded data removed]",
      "text/plain": [
       "<Figure size 432x288 with 1 Axes>"
      ]
     },
     "metadata": {
      "needs_background": "light"
     },
     "output_type": "display_data"
    }
   ],
   "source": [
    "plt.plot(alpha_list, acc_test)\n",
    "plt.xscale('log')\n",
    "plt.xlabel('C')\n",
    "plt.ylabel('Accuracy')\n",
    "plt.title('Test accuracy with LASSO+SVC Feature Selection')"
   ]
  },
  {
   "cell_type": "code",
   "execution_count": null,
   "metadata": {},
   "outputs": [
    {
     "name": "stdout",
     "output_type": "stream",
     "text": [
      "Maximal test accuracy with Linear SVM + LASSO: 0.72344 achieved at C = 8\n"
     ]
    }
   ],
   "source": [
    "print('Maximal test accuracy with Linear SVM + LASSO:', np.max(acc_test), 'achieved at C =', alpha_list[np.argmax(acc_test)])\n",
    "comparison_dict['Lasso+LinearSVC']=[round(np.max(acc_test),2), round(tok-tik,2)]"
   ]
  },
  {
   "cell_type": "code",
   "execution_count": null,
   "metadata": {},
   "outputs": [
    {
     "name": "stdout",
     "output_type": "stream",
     "text": [
      "Most frequently selected features: [13 10  1  9  7]\n"
     ]
    },
    {
     "data": {
      "image/png": "[encoded data removed]",
      "text/plain": [
       "<Figure size 432x288 with 1 Axes>"
      ]
     },
     "metadata": {
      "needs_background": "light"
     },
     "output_type": "display_data"
    }
   ],
   "source": [
    "y, x, _ = plt.hist(selected_features, bins=range(16))\n",
    "print('Most frequently selected features:', np.argpartition(y, -5)[-5:])"
   ]
  },
  {
   "cell_type": "markdown",
   "metadata": {},
   "source": [
    "## Feature Selection ElasticNet"
   ]
  },
  {
   "cell_type": "code",
   "execution_count": null,
   "metadata": {},
   "outputs": [
    {
     "name": "stdout",
     "output_type": "stream",
     "text": [
      "alpha: 1e-05\n",
      "New shape of train data for fold 0 : (329, 15)\n",
      "New shape of train data for fold 1 : (329, 15)\n",
      "New shape of train data for fold 2 : (330, 15)\n",
      "New shape of train data for fold 3 : (330, 15)\n",
      "New shape of train data for fold 4 : (330, 15)\n",
      "alpha: 3.0000000000000004e-05\n",
      "New shape of train data for fold 0 : (329, 15)\n",
      "New shape of train data for fold 1 : (329, 15)\n",
      "New shape of train data for fold 2 : (330, 15)\n",
      "New shape of train data for fold 3 : (330, 15)\n",
      "New shape of train data for fold 4 : (330, 15)\n",
      "alpha: 5e-05\n",
      "New shape of train data for fold 0 : (329, 15)\n",
      "New shape of train data for fold 1 : (329, 15)\n",
      "New shape of train data for fold 2 : (330, 15)\n",
      "New shape of train data for fold 3 : (330, 15)\n",
      "New shape of train data for fold 4 : (330, 15)\n",
      "alpha: 8e-05\n",
      "New shape of train data for fold 0 : (329, 15)\n",
      "New shape of train data for fold 1 : (329, 15)\n",
      "New shape of train data for fold 2 : (330, 15)\n",
      "New shape of train data for fold 3 : (330, 15)\n",
      "New shape of train data for fold 4 : (330, 15)\n",
      "alpha: 0.0001\n",
      "New shape of train data for fold 0 : (329, 15)\n",
      "New shape of train data for fold 1 : (329, 15)\n",
      "New shape of train data for fold 2 : (330, 15)\n",
      "New shape of train data for fold 3 : (330, 15)\n",
      "New shape of train data for fold 4 : (330, 15)\n",
      "alpha: 0.00030000000000000003\n",
      "New shape of train data for fold 0 : (329, 15)\n",
      "New shape of train data for fold 1 : (329, 15)\n",
      "New shape of train data for fold 2 : (330, 15)\n",
      "New shape of train data for fold 3 : (330, 15)\n",
      "New shape of train data for fold 4 : (330, 15)\n",
      "alpha: 0.0005\n",
      "New shape of train data for fold 0 : (329, 15)\n",
      "New shape of train data for fold 1 : (329, 15)\n",
      "New shape of train data for fold 2 : (330, 15)\n",
      "New shape of train data for fold 3 : (330, 15)\n",
      "New shape of train data for fold 4 : (330, 15)\n",
      "alpha: 0.0008\n",
      "New shape of train data for fold 0 : (329, 15)\n",
      "New shape of train data for fold 1 : (329, 15)\n",
      "New shape of train data for fold 2 : (330, 15)\n",
      "New shape of train data for fold 3 : (330, 15)\n",
      "New shape of train data for fold 4 : (330, 14)\n",
      "alpha: 0.001\n",
      "New shape of train data for fold 0 : (329, 15)\n",
      "New shape of train data for fold 1 : (329, 14)\n",
      "New shape of train data for fold 2 : (330, 15)\n",
      "New shape of train data for fold 3 : (330, 15)\n",
      "New shape of train data for fold 4 : (330, 14)\n",
      "alpha: 0.003\n",
      "New shape of train data for fold 0 : (329, 14)\n",
      "New shape of train data for fold 1 : (329, 13)\n",
      "New shape of train data for fold 2 : (330, 15)\n",
      "New shape of train data for fold 3 : (330, 14)\n",
      "New shape of train data for fold 4 : (330, 12)\n",
      "alpha: 0.005\n",
      "New shape of train data for fold 0 : (329, 14)\n",
      "New shape of train data for fold 1 : (329, 12)\n",
      "New shape of train data for fold 2 : (330, 13)\n",
      "New shape of train data for fold 3 : (330, 12)\n",
      "New shape of train data for fold 4 : (330, 12)\n",
      "alpha: 0.008\n",
      "New shape of train data for fold 0 : (329, 13)\n",
      "New shape of train data for fold 1 : (329, 11)\n",
      "New shape of train data for fold 2 : (330, 13)\n",
      "New shape of train data for fold 3 : (330, 10)\n",
      "New shape of train data for fold 4 : (330, 12)\n",
      "alpha: 0.01\n",
      "New shape of train data for fold 0 : (329, 13)\n",
      "New shape of train data for fold 1 : (329, 11)\n",
      "New shape of train data for fold 2 : (330, 12)\n",
      "New shape of train data for fold 3 : (330, 10)\n",
      "New shape of train data for fold 4 : (330, 12)\n",
      "alpha: 0.03\n",
      "New shape of train data for fold 0 : (329, 12)\n",
      "New shape of train data for fold 1 : (329, 11)\n",
      "New shape of train data for fold 2 : (330, 11)\n",
      "New shape of train data for fold 3 : (330, 11)\n",
      "New shape of train data for fold 4 : (330, 10)\n",
      "alpha: 0.05\n",
      "New shape of train data for fold 0 : (329, 10)\n",
      "New shape of train data for fold 1 : (329, 10)\n",
      "New shape of train data for fold 2 : (330, 10)\n",
      "New shape of train data for fold 3 : (330, 10)\n",
      "New shape of train data for fold 4 : (330, 9)\n",
      "alpha: 0.08\n",
      "New shape of train data for fold 0 : (329, 9)\n",
      "New shape of train data for fold 1 : (329, 9)\n",
      "New shape of train data for fold 2 : (330, 9)\n",
      "New shape of train data for fold 3 : (330, 9)\n",
      "New shape of train data for fold 4 : (330, 9)\n",
      "alpha: 0.1\n",
      "New shape of train data for fold 0 : (329, 9)\n",
      "New shape of train data for fold 1 : (329, 9)\n",
      "New shape of train data for fold 2 : (330, 9)\n",
      "New shape of train data for fold 3 : (330, 8)\n",
      "New shape of train data for fold 4 : (330, 9)\n",
      "alpha: 0.30000000000000004\n",
      "New shape of train data for fold 0 : (329, 8)\n",
      "New shape of train data for fold 1 : (329, 7)\n",
      "New shape of train data for fold 2 : (330, 8)\n",
      "New shape of train data for fold 3 : (330, 7)\n",
      "New shape of train data for fold 4 : (330, 8)\n",
      "alpha: 0.5\n",
      "New shape of train data for fold 0 : (329, 7)\n",
      "New shape of train data for fold 1 : (329, 6)\n",
      "New shape of train data for fold 2 : (330, 7)\n",
      "New shape of train data for fold 3 : (330, 7)\n",
      "New shape of train data for fold 4 : (330, 6)\n",
      "alpha: 0.8\n",
      "New shape of train data for fold 0 : (329, 7)\n",
      "New shape of train data for fold 1 : (329, 6)\n",
      "New shape of train data for fold 2 : (330, 7)\n",
      "New shape of train data for fold 3 : (330, 7)\n",
      "New shape of train data for fold 4 : (330, 6)\n",
      "alpha: 1\n",
      "New shape of train data for fold 0 : (329, 7)\n",
      "New shape of train data for fold 1 : (329, 6)\n",
      "New shape of train data for fold 2 : (330, 6)\n",
      "New shape of train data for fold 3 : (330, 6)\n",
      "New shape of train data for fold 4 : (330, 6)\n",
      "alpha: 3\n",
      "New shape of train data for fold 0 : (329, 5)\n",
      "New shape of train data for fold 1 : (329, 5)\n",
      "New shape of train data for fold 2 : (330, 6)\n",
      "New shape of train data for fold 3 : (330, 5)\n",
      "New shape of train data for fold 4 : (330, 5)\n",
      "alpha: 5\n",
      "New shape of train data for fold 0 : (329, 5)\n",
      "New shape of train data for fold 1 : (329, 5)\n",
      "New shape of train data for fold 2 : (330, 5)\n",
      "New shape of train data for fold 3 : (330, 5)\n",
      "New shape of train data for fold 4 : (330, 5)\n",
      "alpha: 8\n",
      "New shape of train data for fold 0 : (329, 4)\n",
      "New shape of train data for fold 1 : (329, 4)\n",
      "New shape of train data for fold 2 : (330, 4)\n",
      "New shape of train data for fold 3 : (330, 4)\n",
      "New shape of train data for fold 4 : (330, 5)\n"
     ]
    }
   ],
   "source": [
    "alpha_list = [k*10**(-i) for i in reversed(range(6)) for k in [1,3,5,8]]\n",
    "\n",
    "acc_train = []\n",
    "acc_test = []\n",
    "selected_features = []\n",
    "\n",
    "tik = time.time()\n",
    "for alpha in alpha_list:\n",
    "    print('alpha:', alpha)\n",
    "    clf_en = ElasticNet(alpha=alpha, l1_ratio=0.7)\n",
    "    acc_train_alpha = []\n",
    "    acc_test_alpha = []\n",
    "    for fold, (train_ids, test_ids) in enumerate(kfold.split(cirrhosis_X, cirrhosis_y)):\n",
    "        X_train, X_test = cirrhosis_X[train_ids], cirrhosis_X[test_ids]\n",
    "        Y_train, Y_test = cirrhosis_y[train_ids], cirrhosis_y[test_ids]\n",
    "        \n",
    "        clf_en.fit(X_train, Y_train)\n",
    "        \n",
    "        support = (clf_en.coef_!=0.0)\n",
    "        print('New shape of train data for fold',fold, ':', X_train[:, support].shape)\n",
    "        selected_features.append([i for i, val in enumerate(support) if val])\n",
    "        \n",
    "        preds_lasso_train = (clf_en.predict(X_train)>0.5)\n",
    "        acc_train_alpha.append(round(((Y_train==preds_lasso_train).sum()/len(Y_train)),2))\n",
    "        preds_lasso_test = (clf_en.predict(X_test)>0.5)\n",
    "        acc_test_alpha.append(round(((Y_test==preds_lasso_test).sum()/len(Y_test)),2))\n",
    "        \n",
    "    acc_train.append(np.mean(acc_train_alpha))\n",
    "    acc_test.append(np.mean(acc_test_alpha))\n",
    "tok = time.time()\n",
    "\n",
    "selected_features=sum(selected_features, [])"
   ]
  },
  {
   "cell_type": "code",
   "execution_count": null,
   "metadata": {},
   "outputs": [
    {
     "data": {
      "text/plain": [
       "Text(0.5, 1.0, 'Test accuracy with ElasticNet Feature Selection')"
      ]
     },
     "execution_count": 54,
     "metadata": {},
     "output_type": "execute_result"
    },
    {
     "data": {
      "image/png": "[encoded data removed]",
      "text/plain": [
       "<Figure size 432x288 with 1 Axes>"
      ]
     },
     "metadata": {
      "needs_background": "light"
     },
     "output_type": "display_data"
    }
   ],
   "source": [
    "plt.plot(alpha_list, acc_test)\n",
    "plt.xscale('log')\n",
    "plt.xlabel('Alpha')\n",
    "plt.ylabel('Accuracy')\n",
    "plt.title('Test accuracy with ElasticNet Feature Selection')"
   ]
  },
  {
   "cell_type": "code",
   "execution_count": null,
   "metadata": {},
   "outputs": [
    {
     "name": "stdout",
     "output_type": "stream",
     "text": [
      "Maximal test accuracy with Elastic Net: 0.732 achieved at alpha = 0.008\n"
     ]
    }
   ],
   "source": [
    "print('Maximal test accuracy with Elastic Net:', np.max(acc_test), 'achieved at alpha =', alpha_list[np.argmax(acc_test)])\n",
    "comparison_dict['Elasticnet']=[round(np.max(acc_test),2), round(tok-tik,2)]"
   ]
  },
  {
   "cell_type": "code",
   "execution_count": null,
   "metadata": {},
   "outputs": [
    {
     "name": "stdout",
     "output_type": "stream",
     "text": [
      "Most frequently selected features: [ 7 13  1  9 10]\n"
     ]
    },
    {
     "data": {
      "image/png": "[encoded data removed]",
      "text/plain": [
       "<Figure size 432x288 with 1 Axes>"
      ]
     },
     "metadata": {
      "needs_background": "light"
     },
     "output_type": "display_data"
    }
   ],
   "source": [
    "y, x, _ = plt.hist(selected_features, bins=range(16))\n",
    "print('Most frequently selected features:', np.argpartition(y, -5)[-5:])"
   ]
  },
  {
   "cell_type": "markdown",
   "metadata": {},
   "source": [
    "There seems to be a strong consensus on the most important features: 1, 7, 9, 10, 13 which are (in order) Age, Cholesterol, Copper, Alk-Phos, Prothrombin"
   ]
  },
  {
   "cell_type": "markdown",
   "metadata": {},
   "source": [
    "# Ensemble Methods"
   ]
  },
  {
   "cell_type": "markdown",
   "metadata": {},
   "source": [
    "## Majority Vote on XGBoost"
   ]
  },
  {
   "cell_type": "markdown",
   "metadata": {},
   "source": [
    "To improve upon the performance of XGBoost, we train XGBoost on five different training sets and collect the five classifiers. We then use a majority vote on all five trained classifiers and test its performance on a seperate test set that the models never saw during training."
   ]
  },
  {
   "cell_type": "code",
   "execution_count": null,
   "metadata": {},
   "outputs": [],
   "source": [
    "# Train-Test-Split to be used in majority vote\n",
    "cirrhosis_X_train, cirrhosis_X_test, cirrhosis_y_train, cirrhosis_y_test = train_test_split(cirrhosis_X, cirrhosis_y, test_size=0.2, random_state=1)"
   ]
  },
  {
   "cell_type": "code",
   "execution_count": null,
   "metadata": {},
   "outputs": [
    {
     "name": "stdout",
     "output_type": "stream",
     "text": [
      "[18:32:38] WARNING: ../src/learner.cc:1115: Starting in XGBoost 1.3.0, the default evaluation metric used with the objective 'binary:logistic' was changed from 'error' to 'logloss'. Explicitly set eval_metric if you'd like to restore the old behavior.\n",
      "Train accuracy: 0.91\n",
      "Test accuracy: 0.7\n",
      "[18:32:38] WARNING: ../src/learner.cc:1115: Starting in XGBoost 1.3.0, the default evaluation metric used with the objective 'binary:logistic' was changed from 'error' to 'logloss'. Explicitly set eval_metric if you'd like to restore the old behavior.\n",
      "Train accuracy: 0.91\n",
      "Test accuracy: 0.73\n",
      "[18:32:38] WARNING: ../src/learner.cc:1115: Starting in XGBoost 1.3.0, the default evaluation metric used with the objective 'binary:logistic' was changed from 'error' to 'logloss'. Explicitly set eval_metric if you'd like to restore the old behavior.\n",
      "Train accuracy: 0.89\n",
      "Test accuracy: 0.8\n",
      "[18:32:38] WARNING: ../src/learner.cc:1115: Starting in XGBoost 1.3.0, the default evaluation metric used with the objective 'binary:logistic' was changed from 'error' to 'logloss'. Explicitly set eval_metric if you'd like to restore the old behavior.\n",
      "Train accuracy: 0.89\n",
      "Test accuracy: 0.74\n",
      "[18:32:38] WARNING: ../src/learner.cc:1115: Starting in XGBoost 1.3.0, the default evaluation metric used with the objective 'binary:logistic' was changed from 'error' to 'logloss'. Explicitly set eval_metric if you'd like to restore the old behavior.\n",
      "Train accuracy: 0.89\n",
      "Test accuracy: 0.69\n",
      "Average train accuracy over 5 folds: 0.9\n",
      "Average test accuracy over 5 folds: 0.73\n"
     ]
    }
   ],
   "source": [
    "acc_train = []\n",
    "acc_test = []\n",
    "\n",
    "max_depth_list = [2, 3, 4, 5, 10, 15, 20, 50, 100, 200]\n",
    "lr_list = [0.1, 0.2, 0.3, 0.4, 0.5, 0.6, 0.7]\n",
    "\n",
    "model_list = []\n",
    "\n",
    "for fold, (train_ids, test_ids) in enumerate(kfold.split(cirrhosis_X_train, cirrhosis_y_train)):\n",
    "    X_train, X_test = cirrhosis_X_train[train_ids], cirrhosis_X_train[test_ids]\n",
    "    Y_train, Y_test = cirrhosis_y_train[train_ids], cirrhosis_y_train[test_ids]\n",
    "    \n",
    "    clf = XGBClassifier(max_depth=2, eta=0.1)\n",
    "    clf.fit(X_train, Y_train)\n",
    "    model_list.append(clf)\n",
    "    \n",
    "    print('Train accuracy:', round(clf.score(X_train, Y_train),2))\n",
    "    print('Test accuracy:', round(clf.score(X_test, Y_test),2))\n",
    "    \n",
    "    acc_train.append(clf.score(X_train, Y_train))\n",
    "    acc_test.append(clf.score(X_test, Y_test))\n",
    "final_acc_test = round(np.mean(acc_test),2)\n",
    "final_acc_train = round(np.mean(acc_train),2)\n",
    "\n",
    "print('Average train accuracy over 5 folds:', final_acc_train)\n",
    "print('Average test accuracy over 5 folds:', final_acc_test)"
   ]
  },
  {
   "cell_type": "code",
   "execution_count": null,
   "metadata": {},
   "outputs": [],
   "source": [
    "majority_vote = []\n",
    "for i in range(len(cirrhosis_y_test)):\n",
    "    proportions = 0\n",
    "    for model in model_list:\n",
    "        proportions += model.predict(cirrhosis_X_test)[i]\n",
    "    proportions/=5\n",
    "    majority_vote.append(int(proportions>=3/5))\n",
    "majority_vote = np.asarray(majority_vote)"
   ]
  },
  {
   "cell_type": "code",
   "execution_count": 62,
   "metadata": {},
   "outputs": [
    {
     "name": "stdout",
     "output_type": "stream",
     "text": [
      "Accuracy on seperate test set of majority vote: 0.77\n"
     ]
    }
   ],
   "source": [
    "comparison_dict['MajorityVoteXGB'] = [round(sum(majority_vote==cirrhosis_y_test)/len(cirrhosis_y_test),2), 'None']\n",
    "print('Accuracy on seperate test set of majority vote:', comparison_dict['MajorityVoteXGB'][0])"
   ]
  },
  {
   "cell_type": "code",
   "execution_count": 63,
   "metadata": {},
   "outputs": [
    {
     "data": {
      "text/plain": [
       "array([0, 1, 1, 1, 0, 0, 0, 0, 1, 0, 1, 1, 0, 1, 1, 0, 0, 0, 1, 0, 0, 0,\n",
       "       0, 1, 0, 0, 1, 1, 0, 0, 0, 1, 1, 0, 0, 1, 1, 0, 0, 1, 0, 0, 0, 1,\n",
       "       0, 0, 0, 1, 0, 0, 0, 1, 1, 0, 1, 0, 0, 0, 1, 0, 1, 1, 0, 1, 0, 0,\n",
       "       0, 1, 0, 1, 0, 0, 0, 1, 0, 0, 0, 0, 0, 0, 1, 1, 1])"
      ]
     },
     "execution_count": 63,
     "metadata": {},
     "output_type": "execute_result"
    }
   ],
   "source": [
    "cirrhosis_y_test"
   ]
  },
  {
   "cell_type": "code",
   "execution_count": 64,
   "metadata": {},
   "outputs": [
    {
     "data": {
      "text/plain": [
       "array([0, 1, 0, 1, 0, 0, 0, 0, 1, 0, 0, 1, 0, 1, 0, 0, 1, 0, 1, 0, 0, 0,\n",
       "       0, 1, 1, 0, 0, 1, 0, 0, 1, 1, 1, 0, 0, 0, 1, 0, 0, 1, 0, 0, 0, 0,\n",
       "       0, 0, 0, 0, 1, 0, 0, 1, 1, 0, 0, 0, 0, 0, 1, 0, 0, 1, 0, 1, 0, 1,\n",
       "       0, 0, 0, 0, 0, 0, 0, 0, 1, 1, 0, 0, 0, 0, 1, 1, 1])"
      ]
     },
     "execution_count": 64,
     "metadata": {},
     "output_type": "execute_result"
    }
   ],
   "source": [
    "majority_vote"
   ]
  },
  {
   "cell_type": "markdown",
   "metadata": {},
   "source": [
    "## Ensemble Vote Classifier on XGBoost"
   ]
  },
  {
   "cell_type": "markdown",
   "metadata": {},
   "source": [
    "This is a precoded implementation of the majority vote, allowing for weight adjustments of each model. We obtain our best predictions yet.\n",
    "\n",
    "https://rasbt.github.io/mlxtend/user_guide/classifier/EnsembleVoteClassifier/"
   ]
  },
  {
   "cell_type": "code",
   "execution_count": 65,
   "metadata": {},
   "outputs": [
    {
     "name": "stdout",
     "output_type": "stream",
     "text": [
      "[18:33:49] WARNING: ../src/learner.cc:1115: Starting in XGBoost 1.3.0, the default evaluation metric used with the objective 'binary:logistic' was changed from 'error' to 'logloss'. Explicitly set eval_metric if you'd like to restore the old behavior.\n",
      "[18:33:49] WARNING: ../src/learner.cc:1115: Starting in XGBoost 1.3.0, the default evaluation metric used with the objective 'binary:logistic' was changed from 'error' to 'logloss'. Explicitly set eval_metric if you'd like to restore the old behavior.\n",
      "[18:33:49] WARNING: ../src/learner.cc:1115: Starting in XGBoost 1.3.0, the default evaluation metric used with the objective 'binary:logistic' was changed from 'error' to 'logloss'. Explicitly set eval_metric if you'd like to restore the old behavior.\n",
      "[18:33:49] WARNING: ../src/learner.cc:1115: Starting in XGBoost 1.3.0, the default evaluation metric used with the objective 'binary:logistic' was changed from 'error' to 'logloss'. Explicitly set eval_metric if you'd like to restore the old behavior.\n",
      "[18:33:49] WARNING: ../src/learner.cc:1115: Starting in XGBoost 1.3.0, the default evaluation metric used with the objective 'binary:logistic' was changed from 'error' to 'logloss'. Explicitly set eval_metric if you'd like to restore the old behavior.\n",
      "Accuracy on seperate test set of majority vote: 0.8\n"
     ]
    }
   ],
   "source": [
    "from mlxtend.classifier import EnsembleVoteClassifier\n",
    "\n",
    "eclf = EnsembleVoteClassifier(clfs=model_list, weights=[1,1,2,1,0.5])\n",
    "eclf.fit(cirrhosis_X_train, cirrhosis_y_train)\n",
    "eclf.predict(cirrhosis_X_test)\n",
    "eclf.score(cirrhosis_X_test, cirrhosis_y_test)\n",
    "comparison_dict['ECLF_XGBoost'] = [round(eclf.score(cirrhosis_X_test, cirrhosis_y_test),2), 'None']\n",
    "print('Accuracy on seperate test set of majority vote:', comparison_dict['ECLF_XGBoost'][0])"
   ]
  },
  {
   "cell_type": "code",
   "execution_count": 66,
   "metadata": {},
   "outputs": [
    {
     "data": {
      "text/plain": [
       "array([0, 1, 1, 1, 0, 0, 0, 0, 1, 0, 1, 1, 0, 1, 1, 0, 0, 0, 1, 0, 0, 0,\n",
       "       0, 1, 0, 0, 1, 1, 0, 0, 0, 1, 1, 0, 0, 1, 1, 0, 0, 1, 0, 0, 0, 1,\n",
       "       0, 0, 0, 1, 0, 0, 0, 1, 1, 0, 1, 0, 0, 0, 1, 0, 1, 1, 0, 1, 0, 0,\n",
       "       0, 1, 0, 1, 0, 0, 0, 1, 0, 0, 0, 0, 0, 0, 1, 1, 1])"
      ]
     },
     "execution_count": 66,
     "metadata": {},
     "output_type": "execute_result"
    }
   ],
   "source": [
    "cirrhosis_y_test"
   ]
  },
  {
   "cell_type": "code",
   "execution_count": 67,
   "metadata": {},
   "outputs": [
    {
     "data": {
      "text/plain": [
       "array([0, 1, 1, 1, 0, 0, 0, 0, 1, 0, 0, 1, 0, 1, 0, 0, 1, 0, 1, 0, 0, 0,\n",
       "       0, 0, 1, 0, 0, 1, 0, 0, 1, 1, 1, 0, 0, 0, 1, 0, 0, 1, 0, 0, 0, 1,\n",
       "       0, 0, 0, 0, 0, 0, 0, 1, 1, 0, 0, 0, 0, 0, 1, 0, 0, 1, 0, 1, 0, 1,\n",
       "       0, 0, 0, 0, 0, 0, 0, 0, 1, 1, 0, 0, 0, 0, 1, 1, 1])"
      ]
     },
     "execution_count": 67,
     "metadata": {},
     "output_type": "execute_result"
    }
   ],
   "source": [
    "eclf.predict(cirrhosis_X_test)"
   ]
  },
  {
   "cell_type": "markdown",
   "metadata": {},
   "source": [
    "# Comparison of the Methods"
   ]
  },
  {
   "cell_type": "code",
   "execution_count": 86,
   "metadata": {},
   "outputs": [
    {
     "data": {
      "image/png": "[encoded data removed]",
      "text/plain": [
       "<Figure size 1440x720 with 1 Axes>"
      ]
     },
     "metadata": {
      "needs_background": "light"
     },
     "output_type": "display_data"
    }
   ],
   "source": [
    "##Add second y-axis\n",
    "\n",
    "fig = plt.figure(figsize=(20, 10))\n",
    "ax = fig.add_axes([0,0,1,1])\n",
    "dict_sort=dict(sorted(comparison_dict.items(), key=lambda item: item[1][0]))\n",
    "methods = list(comparison_dict.keys())\n",
    "accuracies = [item[0] for item in comparison_dict.values()]\n",
    "times = [item[1] for item in dict_sort.values()]\n",
    "ax.bar(methods, accuracies,alpha=.5)\n",
    "ax.plot(methods, times,lw=5)\n",
    "plt.ylim(0.6)\n",
    "plt.xticks(rotation=45, ha=\"right\")\n",
    "plt.show()"
   ]
  },
  {
   "cell_type": "code",
   "execution_count": 84,
   "metadata": {},
   "outputs": [
    {
     "data": {
      "text/plain": [
       "<Figure size 1440x720 with 0 Axes>"
      ]
     },
     "metadata": {},
     "output_type": "display_data"
    },
    {
     "data": {
      "image/png": "[encoded data removed]",
      "text/plain": [
       "<Figure size 1440x720 with 2 Axes>"
      ]
     },
     "metadata": {
      "needs_background": "light"
     },
     "output_type": "display_data"
    }
   ],
   "source": [
    "fig = plt.figure(figsize=(20, 10))\n",
    "fig, ax1 = plt.subplots(figsize=(20,10))\n",
    "dict_sort=dict(sorted(comparison_dict.items(), key=lambda item: item[1][0]))\n",
    "methods = list(dict_sort.keys())\n",
    "accuracies = [item[0] for item in dict_sort.values()]\n",
    "times = [item[1] for item in dict_sort.values()]\n",
    "ax1.bar(methods, accuracies,alpha = 0.5)\n",
    "ax1.set_xlabel('time (s)')\n",
    "ax1.set_ylabel('accuracy')\n",
    "ax1.tick_params(axis='y')\n",
    "\n",
    "ax2 = ax1.twinx() \n",
    "ax2.set_ylabel('time')  \n",
    "ax2.plot(methods,times)\n",
    "ax2.tick_params(axis='y')\n",
    "plt.ylim(0.6)\n",
    "plt.xticks(rotation=45, ha=\"right\")\n",
    "plt.show()"
   ]
  },
  {
   "cell_type": "code",
   "execution_count": null,
   "metadata": {},
   "outputs": [],
   "source": []
  }
 ],
 "metadata": {
  "accelerator": "GPU",
  "colab": {
   "collapsed_sections": [],
   "machine_shape": "hm",
   "name": "projet_medical.ipynb",
   "provenance": []
  },
  "kernelspec": {
   "display_name": "Python 3",
   "language": "python",
   "name": "python3"
  },
  "language_info": {
   "codemirror_mode": {
    "name": "ipython",
    "version": 3
   },
   "file_extension": ".py",
   "mimetype": "text/x-python",
   "name": "python",
   "nbconvert_exporter": "python",
   "pygments_lexer": "ipython3",
   "version": "3.7.9"
  }
 },
 "nbformat": 4,
 "nbformat_minor": 1
}
