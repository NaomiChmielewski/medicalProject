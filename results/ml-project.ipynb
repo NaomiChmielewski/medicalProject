{
 "cells": [
  {
   "cell_type": "code",
   "execution_count": 1,
   "id": "54f007b1",
   "metadata": {
    "execution": {
     "iopub.execute_input": "2022-03-26T21:57:32.273616Z",
     "iopub.status.busy": "2022-03-26T21:57:32.271507Z",
     "iopub.status.idle": "2022-03-26T21:57:33.904889Z",
     "shell.execute_reply": "2022-03-26T21:57:33.904193Z",
     "shell.execute_reply.started": "2022-03-26T21:40:42.396796Z"
    },
    "id": "PzE_6rs06hI1",
    "papermill": {
     "duration": 1.726367,
     "end_time": "2022-03-26T21:57:33.905100",
     "exception": false,
     "start_time": "2022-03-26T21:57:32.178733",
     "status": "completed"
    },
    "tags": []
   },
   "outputs": [],
   "source": [
    "import numpy as np\n",
    "import pandas as pd\n",
    "\n",
    "from sklearn import svm\n",
    "from sklearn.svm import LinearSVC\n",
    "from sklearn import model_selection\n",
    "from sklearn.model_selection import KFold, StratifiedKFold, GridSearchCV, train_test_split\n",
    "from sklearn.decomposition import PCA, KernelPCA\n",
    "from sklearn.discriminant_analysis import LinearDiscriminantAnalysis, QuadraticDiscriminantAnalysis\n",
    "from sklearn.linear_model import LogisticRegression, Lasso, ElasticNet\n",
    "from sklearn.ensemble import AdaBoostClassifier, VotingClassifier, RandomForestClassifier\n",
    "from sklearn.preprocessing import LabelEncoder\n",
    "from sklearn.naive_bayes import GaussianNB\n",
    "from mlxtend.classifier import EnsembleVoteClassifier\n",
    "\n",
    "import warnings\n",
    "warnings.filterwarnings('ignore')\n",
    "\n",
    "import xgboost\n",
    "xgboost.set_config(verbosity=0)\n",
    "\n",
    "from xgboost import XGBClassifier\n",
    "\n",
    "import matplotlib.pyplot as plt\n",
    "import seaborn as sns\n",
    "\n",
    "import time"
   ]
  },
  {
   "cell_type": "markdown",
   "id": "59f4410d",
   "metadata": {
    "papermill": {
     "duration": 0.074168,
     "end_time": "2022-03-26T21:57:34.058325",
     "exception": false,
     "start_time": "2022-03-26T21:57:33.984157",
     "status": "completed"
    },
    "tags": []
   },
   "source": [
    "# Data Preprocessing"
   ]
  },
  {
   "cell_type": "code",
   "execution_count": 2,
   "id": "b1638b98",
   "metadata": {
    "execution": {
     "iopub.execute_input": "2022-03-26T21:57:34.216427Z",
     "iopub.status.busy": "2022-03-26T21:57:34.215768Z",
     "iopub.status.idle": "2022-03-26T21:57:34.286555Z",
     "shell.execute_reply": "2022-03-26T21:57:34.285955Z",
     "shell.execute_reply.started": "2022-03-26T21:40:44.217778Z"
    },
    "id": "0-NY05TC6soP",
    "outputId": "634f8cf7-1b64-4c6f-8453-6777ecc197f2",
    "papermill": {
     "duration": 0.153063,
     "end_time": "2022-03-26T21:57:34.286695",
     "exception": false,
     "start_time": "2022-03-26T21:57:34.133632",
     "status": "completed"
    },
    "tags": []
   },
   "outputs": [
    {
     "data": {
      "text/html": [
       "<div>\n",
       "<style scoped>\n",
       "    .dataframe tbody tr th:only-of-type {\n",
       "        vertical-align: middle;\n",
       "    }\n",
       "\n",
       "    .dataframe tbody tr th {\n",
       "        vertical-align: top;\n",
       "    }\n",
       "\n",
       "    .dataframe thead th {\n",
       "        text-align: right;\n",
       "    }\n",
       "</style>\n",
       "<table border=\"1\" class=\"dataframe\">\n",
       "  <thead>\n",
       "    <tr style=\"text-align: right;\">\n",
       "      <th></th>\n",
       "      <th>ID</th>\n",
       "      <th>N_Days</th>\n",
       "      <th>Status</th>\n",
       "      <th>Drug</th>\n",
       "      <th>Age</th>\n",
       "      <th>Sex</th>\n",
       "      <th>Ascites</th>\n",
       "      <th>Hepatomegaly</th>\n",
       "      <th>Spiders</th>\n",
       "      <th>Edema</th>\n",
       "      <th>Bilirubin</th>\n",
       "      <th>Cholesterol</th>\n",
       "      <th>Albumin</th>\n",
       "      <th>Copper</th>\n",
       "      <th>Alk_Phos</th>\n",
       "      <th>SGOT</th>\n",
       "      <th>Tryglicerides</th>\n",
       "      <th>Platelets</th>\n",
       "      <th>Prothrombin</th>\n",
       "      <th>Stage</th>\n",
       "    </tr>\n",
       "  </thead>\n",
       "  <tbody>\n",
       "    <tr>\n",
       "      <th>0</th>\n",
       "      <td>1</td>\n",
       "      <td>400</td>\n",
       "      <td>D</td>\n",
       "      <td>D-penicillamine</td>\n",
       "      <td>21464</td>\n",
       "      <td>F</td>\n",
       "      <td>Y</td>\n",
       "      <td>Y</td>\n",
       "      <td>Y</td>\n",
       "      <td>Y</td>\n",
       "      <td>14.5</td>\n",
       "      <td>261.0</td>\n",
       "      <td>2.60</td>\n",
       "      <td>156.0</td>\n",
       "      <td>1718.0</td>\n",
       "      <td>137.95</td>\n",
       "      <td>172.0</td>\n",
       "      <td>190.0</td>\n",
       "      <td>12.2</td>\n",
       "      <td>4.0</td>\n",
       "    </tr>\n",
       "    <tr>\n",
       "      <th>1</th>\n",
       "      <td>2</td>\n",
       "      <td>4500</td>\n",
       "      <td>C</td>\n",
       "      <td>D-penicillamine</td>\n",
       "      <td>20617</td>\n",
       "      <td>F</td>\n",
       "      <td>N</td>\n",
       "      <td>Y</td>\n",
       "      <td>Y</td>\n",
       "      <td>N</td>\n",
       "      <td>1.1</td>\n",
       "      <td>302.0</td>\n",
       "      <td>4.14</td>\n",
       "      <td>54.0</td>\n",
       "      <td>7394.8</td>\n",
       "      <td>113.52</td>\n",
       "      <td>88.0</td>\n",
       "      <td>221.0</td>\n",
       "      <td>10.6</td>\n",
       "      <td>3.0</td>\n",
       "    </tr>\n",
       "    <tr>\n",
       "      <th>2</th>\n",
       "      <td>3</td>\n",
       "      <td>1012</td>\n",
       "      <td>D</td>\n",
       "      <td>D-penicillamine</td>\n",
       "      <td>25594</td>\n",
       "      <td>M</td>\n",
       "      <td>N</td>\n",
       "      <td>N</td>\n",
       "      <td>N</td>\n",
       "      <td>S</td>\n",
       "      <td>1.4</td>\n",
       "      <td>176.0</td>\n",
       "      <td>3.48</td>\n",
       "      <td>210.0</td>\n",
       "      <td>516.0</td>\n",
       "      <td>96.10</td>\n",
       "      <td>55.0</td>\n",
       "      <td>151.0</td>\n",
       "      <td>12.0</td>\n",
       "      <td>4.0</td>\n",
       "    </tr>\n",
       "    <tr>\n",
       "      <th>3</th>\n",
       "      <td>4</td>\n",
       "      <td>1925</td>\n",
       "      <td>D</td>\n",
       "      <td>D-penicillamine</td>\n",
       "      <td>19994</td>\n",
       "      <td>F</td>\n",
       "      <td>N</td>\n",
       "      <td>Y</td>\n",
       "      <td>Y</td>\n",
       "      <td>S</td>\n",
       "      <td>1.8</td>\n",
       "      <td>244.0</td>\n",
       "      <td>2.54</td>\n",
       "      <td>64.0</td>\n",
       "      <td>6121.8</td>\n",
       "      <td>60.63</td>\n",
       "      <td>92.0</td>\n",
       "      <td>183.0</td>\n",
       "      <td>10.3</td>\n",
       "      <td>4.0</td>\n",
       "    </tr>\n",
       "    <tr>\n",
       "      <th>4</th>\n",
       "      <td>5</td>\n",
       "      <td>1504</td>\n",
       "      <td>CL</td>\n",
       "      <td>Placebo</td>\n",
       "      <td>13918</td>\n",
       "      <td>F</td>\n",
       "      <td>N</td>\n",
       "      <td>Y</td>\n",
       "      <td>Y</td>\n",
       "      <td>N</td>\n",
       "      <td>3.4</td>\n",
       "      <td>279.0</td>\n",
       "      <td>3.53</td>\n",
       "      <td>143.0</td>\n",
       "      <td>671.0</td>\n",
       "      <td>113.15</td>\n",
       "      <td>72.0</td>\n",
       "      <td>136.0</td>\n",
       "      <td>10.9</td>\n",
       "      <td>3.0</td>\n",
       "    </tr>\n",
       "    <tr>\n",
       "      <th>5</th>\n",
       "      <td>6</td>\n",
       "      <td>2503</td>\n",
       "      <td>D</td>\n",
       "      <td>Placebo</td>\n",
       "      <td>24201</td>\n",
       "      <td>F</td>\n",
       "      <td>N</td>\n",
       "      <td>Y</td>\n",
       "      <td>N</td>\n",
       "      <td>N</td>\n",
       "      <td>0.8</td>\n",
       "      <td>248.0</td>\n",
       "      <td>3.98</td>\n",
       "      <td>50.0</td>\n",
       "      <td>944.0</td>\n",
       "      <td>93.00</td>\n",
       "      <td>63.0</td>\n",
       "      <td>NaN</td>\n",
       "      <td>11.0</td>\n",
       "      <td>3.0</td>\n",
       "    </tr>\n",
       "    <tr>\n",
       "      <th>6</th>\n",
       "      <td>7</td>\n",
       "      <td>1832</td>\n",
       "      <td>C</td>\n",
       "      <td>Placebo</td>\n",
       "      <td>20284</td>\n",
       "      <td>F</td>\n",
       "      <td>N</td>\n",
       "      <td>Y</td>\n",
       "      <td>N</td>\n",
       "      <td>N</td>\n",
       "      <td>1.0</td>\n",
       "      <td>322.0</td>\n",
       "      <td>4.09</td>\n",
       "      <td>52.0</td>\n",
       "      <td>824.0</td>\n",
       "      <td>60.45</td>\n",
       "      <td>213.0</td>\n",
       "      <td>204.0</td>\n",
       "      <td>9.7</td>\n",
       "      <td>3.0</td>\n",
       "    </tr>\n",
       "    <tr>\n",
       "      <th>7</th>\n",
       "      <td>8</td>\n",
       "      <td>2466</td>\n",
       "      <td>D</td>\n",
       "      <td>Placebo</td>\n",
       "      <td>19379</td>\n",
       "      <td>F</td>\n",
       "      <td>N</td>\n",
       "      <td>N</td>\n",
       "      <td>N</td>\n",
       "      <td>N</td>\n",
       "      <td>0.3</td>\n",
       "      <td>280.0</td>\n",
       "      <td>4.00</td>\n",
       "      <td>52.0</td>\n",
       "      <td>4651.2</td>\n",
       "      <td>28.38</td>\n",
       "      <td>189.0</td>\n",
       "      <td>373.0</td>\n",
       "      <td>11.0</td>\n",
       "      <td>3.0</td>\n",
       "    </tr>\n",
       "    <tr>\n",
       "      <th>8</th>\n",
       "      <td>9</td>\n",
       "      <td>2400</td>\n",
       "      <td>D</td>\n",
       "      <td>D-penicillamine</td>\n",
       "      <td>15526</td>\n",
       "      <td>F</td>\n",
       "      <td>N</td>\n",
       "      <td>N</td>\n",
       "      <td>Y</td>\n",
       "      <td>N</td>\n",
       "      <td>3.2</td>\n",
       "      <td>562.0</td>\n",
       "      <td>3.08</td>\n",
       "      <td>79.0</td>\n",
       "      <td>2276.0</td>\n",
       "      <td>144.15</td>\n",
       "      <td>88.0</td>\n",
       "      <td>251.0</td>\n",
       "      <td>11.0</td>\n",
       "      <td>2.0</td>\n",
       "    </tr>\n",
       "    <tr>\n",
       "      <th>9</th>\n",
       "      <td>10</td>\n",
       "      <td>51</td>\n",
       "      <td>D</td>\n",
       "      <td>Placebo</td>\n",
       "      <td>25772</td>\n",
       "      <td>F</td>\n",
       "      <td>Y</td>\n",
       "      <td>N</td>\n",
       "      <td>Y</td>\n",
       "      <td>Y</td>\n",
       "      <td>12.6</td>\n",
       "      <td>200.0</td>\n",
       "      <td>2.74</td>\n",
       "      <td>140.0</td>\n",
       "      <td>918.0</td>\n",
       "      <td>147.25</td>\n",
       "      <td>143.0</td>\n",
       "      <td>302.0</td>\n",
       "      <td>11.5</td>\n",
       "      <td>4.0</td>\n",
       "    </tr>\n",
       "    <tr>\n",
       "      <th>10</th>\n",
       "      <td>11</td>\n",
       "      <td>3762</td>\n",
       "      <td>D</td>\n",
       "      <td>Placebo</td>\n",
       "      <td>19619</td>\n",
       "      <td>F</td>\n",
       "      <td>N</td>\n",
       "      <td>Y</td>\n",
       "      <td>Y</td>\n",
       "      <td>N</td>\n",
       "      <td>1.4</td>\n",
       "      <td>259.0</td>\n",
       "      <td>4.16</td>\n",
       "      <td>46.0</td>\n",
       "      <td>1104.0</td>\n",
       "      <td>79.05</td>\n",
       "      <td>79.0</td>\n",
       "      <td>258.0</td>\n",
       "      <td>12.0</td>\n",
       "      <td>4.0</td>\n",
       "    </tr>\n",
       "    <tr>\n",
       "      <th>11</th>\n",
       "      <td>12</td>\n",
       "      <td>304</td>\n",
       "      <td>D</td>\n",
       "      <td>Placebo</td>\n",
       "      <td>21600</td>\n",
       "      <td>F</td>\n",
       "      <td>N</td>\n",
       "      <td>N</td>\n",
       "      <td>Y</td>\n",
       "      <td>N</td>\n",
       "      <td>3.6</td>\n",
       "      <td>236.0</td>\n",
       "      <td>3.52</td>\n",
       "      <td>94.0</td>\n",
       "      <td>591.0</td>\n",
       "      <td>82.15</td>\n",
       "      <td>95.0</td>\n",
       "      <td>71.0</td>\n",
       "      <td>13.6</td>\n",
       "      <td>4.0</td>\n",
       "    </tr>\n",
       "    <tr>\n",
       "      <th>12</th>\n",
       "      <td>13</td>\n",
       "      <td>3577</td>\n",
       "      <td>C</td>\n",
       "      <td>Placebo</td>\n",
       "      <td>16688</td>\n",
       "      <td>F</td>\n",
       "      <td>N</td>\n",
       "      <td>N</td>\n",
       "      <td>N</td>\n",
       "      <td>N</td>\n",
       "      <td>0.7</td>\n",
       "      <td>281.0</td>\n",
       "      <td>3.85</td>\n",
       "      <td>40.0</td>\n",
       "      <td>1181.0</td>\n",
       "      <td>88.35</td>\n",
       "      <td>130.0</td>\n",
       "      <td>244.0</td>\n",
       "      <td>10.6</td>\n",
       "      <td>3.0</td>\n",
       "    </tr>\n",
       "    <tr>\n",
       "      <th>13</th>\n",
       "      <td>14</td>\n",
       "      <td>1217</td>\n",
       "      <td>D</td>\n",
       "      <td>Placebo</td>\n",
       "      <td>20535</td>\n",
       "      <td>M</td>\n",
       "      <td>Y</td>\n",
       "      <td>Y</td>\n",
       "      <td>N</td>\n",
       "      <td>Y</td>\n",
       "      <td>0.8</td>\n",
       "      <td>NaN</td>\n",
       "      <td>2.27</td>\n",
       "      <td>43.0</td>\n",
       "      <td>728.0</td>\n",
       "      <td>71.00</td>\n",
       "      <td>NaN</td>\n",
       "      <td>156.0</td>\n",
       "      <td>11.0</td>\n",
       "      <td>4.0</td>\n",
       "    </tr>\n",
       "    <tr>\n",
       "      <th>14</th>\n",
       "      <td>15</td>\n",
       "      <td>3584</td>\n",
       "      <td>D</td>\n",
       "      <td>D-penicillamine</td>\n",
       "      <td>23612</td>\n",
       "      <td>F</td>\n",
       "      <td>N</td>\n",
       "      <td>N</td>\n",
       "      <td>N</td>\n",
       "      <td>N</td>\n",
       "      <td>0.8</td>\n",
       "      <td>231.0</td>\n",
       "      <td>3.87</td>\n",
       "      <td>173.0</td>\n",
       "      <td>9009.8</td>\n",
       "      <td>127.71</td>\n",
       "      <td>96.0</td>\n",
       "      <td>295.0</td>\n",
       "      <td>11.0</td>\n",
       "      <td>3.0</td>\n",
       "    </tr>\n",
       "    <tr>\n",
       "      <th>15</th>\n",
       "      <td>16</td>\n",
       "      <td>3672</td>\n",
       "      <td>C</td>\n",
       "      <td>Placebo</td>\n",
       "      <td>14772</td>\n",
       "      <td>F</td>\n",
       "      <td>N</td>\n",
       "      <td>N</td>\n",
       "      <td>N</td>\n",
       "      <td>N</td>\n",
       "      <td>0.7</td>\n",
       "      <td>204.0</td>\n",
       "      <td>3.66</td>\n",
       "      <td>28.0</td>\n",
       "      <td>685.0</td>\n",
       "      <td>72.85</td>\n",
       "      <td>58.0</td>\n",
       "      <td>198.0</td>\n",
       "      <td>10.8</td>\n",
       "      <td>3.0</td>\n",
       "    </tr>\n",
       "    <tr>\n",
       "      <th>16</th>\n",
       "      <td>17</td>\n",
       "      <td>769</td>\n",
       "      <td>D</td>\n",
       "      <td>Placebo</td>\n",
       "      <td>19060</td>\n",
       "      <td>F</td>\n",
       "      <td>N</td>\n",
       "      <td>Y</td>\n",
       "      <td>N</td>\n",
       "      <td>N</td>\n",
       "      <td>2.7</td>\n",
       "      <td>274.0</td>\n",
       "      <td>3.15</td>\n",
       "      <td>159.0</td>\n",
       "      <td>1533.0</td>\n",
       "      <td>117.80</td>\n",
       "      <td>128.0</td>\n",
       "      <td>224.0</td>\n",
       "      <td>10.5</td>\n",
       "      <td>4.0</td>\n",
       "    </tr>\n",
       "    <tr>\n",
       "      <th>17</th>\n",
       "      <td>18</td>\n",
       "      <td>131</td>\n",
       "      <td>D</td>\n",
       "      <td>D-penicillamine</td>\n",
       "      <td>19698</td>\n",
       "      <td>F</td>\n",
       "      <td>N</td>\n",
       "      <td>Y</td>\n",
       "      <td>Y</td>\n",
       "      <td>Y</td>\n",
       "      <td>11.4</td>\n",
       "      <td>178.0</td>\n",
       "      <td>2.80</td>\n",
       "      <td>588.0</td>\n",
       "      <td>961.0</td>\n",
       "      <td>280.55</td>\n",
       "      <td>200.0</td>\n",
       "      <td>283.0</td>\n",
       "      <td>12.4</td>\n",
       "      <td>4.0</td>\n",
       "    </tr>\n",
       "    <tr>\n",
       "      <th>18</th>\n",
       "      <td>19</td>\n",
       "      <td>4232</td>\n",
       "      <td>C</td>\n",
       "      <td>D-penicillamine</td>\n",
       "      <td>18102</td>\n",
       "      <td>F</td>\n",
       "      <td>N</td>\n",
       "      <td>Y</td>\n",
       "      <td>N</td>\n",
       "      <td>S</td>\n",
       "      <td>0.7</td>\n",
       "      <td>235.0</td>\n",
       "      <td>3.56</td>\n",
       "      <td>39.0</td>\n",
       "      <td>1881.0</td>\n",
       "      <td>93.00</td>\n",
       "      <td>123.0</td>\n",
       "      <td>209.0</td>\n",
       "      <td>11.0</td>\n",
       "      <td>3.0</td>\n",
       "    </tr>\n",
       "    <tr>\n",
       "      <th>19</th>\n",
       "      <td>20</td>\n",
       "      <td>1356</td>\n",
       "      <td>D</td>\n",
       "      <td>Placebo</td>\n",
       "      <td>21898</td>\n",
       "      <td>F</td>\n",
       "      <td>N</td>\n",
       "      <td>Y</td>\n",
       "      <td>N</td>\n",
       "      <td>N</td>\n",
       "      <td>5.1</td>\n",
       "      <td>374.0</td>\n",
       "      <td>3.51</td>\n",
       "      <td>140.0</td>\n",
       "      <td>1919.0</td>\n",
       "      <td>122.45</td>\n",
       "      <td>135.0</td>\n",
       "      <td>322.0</td>\n",
       "      <td>13.0</td>\n",
       "      <td>4.0</td>\n",
       "    </tr>\n",
       "  </tbody>\n",
       "</table>\n",
       "</div>"
      ],
      "text/plain": [
       "    ID  N_Days Status             Drug    Age Sex Ascites Hepatomegaly  \\\n",
       "0    1     400      D  D-penicillamine  21464   F       Y            Y   \n",
       "1    2    4500      C  D-penicillamine  20617   F       N            Y   \n",
       "2    3    1012      D  D-penicillamine  25594   M       N            N   \n",
       "3    4    1925      D  D-penicillamine  19994   F       N            Y   \n",
       "4    5    1504     CL          Placebo  13918   F       N            Y   \n",
       "5    6    2503      D          Placebo  24201   F       N            Y   \n",
       "6    7    1832      C          Placebo  20284   F       N            Y   \n",
       "7    8    2466      D          Placebo  19379   F       N            N   \n",
       "8    9    2400      D  D-penicillamine  15526   F       N            N   \n",
       "9   10      51      D          Placebo  25772   F       Y            N   \n",
       "10  11    3762      D          Placebo  19619   F       N            Y   \n",
       "11  12     304      D          Placebo  21600   F       N            N   \n",
       "12  13    3577      C          Placebo  16688   F       N            N   \n",
       "13  14    1217      D          Placebo  20535   M       Y            Y   \n",
       "14  15    3584      D  D-penicillamine  23612   F       N            N   \n",
       "15  16    3672      C          Placebo  14772   F       N            N   \n",
       "16  17     769      D          Placebo  19060   F       N            Y   \n",
       "17  18     131      D  D-penicillamine  19698   F       N            Y   \n",
       "18  19    4232      C  D-penicillamine  18102   F       N            Y   \n",
       "19  20    1356      D          Placebo  21898   F       N            Y   \n",
       "\n",
       "   Spiders Edema  Bilirubin  Cholesterol  Albumin  Copper  Alk_Phos    SGOT  \\\n",
       "0        Y     Y       14.5        261.0     2.60   156.0    1718.0  137.95   \n",
       "1        Y     N        1.1        302.0     4.14    54.0    7394.8  113.52   \n",
       "2        N     S        1.4        176.0     3.48   210.0     516.0   96.10   \n",
       "3        Y     S        1.8        244.0     2.54    64.0    6121.8   60.63   \n",
       "4        Y     N        3.4        279.0     3.53   143.0     671.0  113.15   \n",
       "5        N     N        0.8        248.0     3.98    50.0     944.0   93.00   \n",
       "6        N     N        1.0        322.0     4.09    52.0     824.0   60.45   \n",
       "7        N     N        0.3        280.0     4.00    52.0    4651.2   28.38   \n",
       "8        Y     N        3.2        562.0     3.08    79.0    2276.0  144.15   \n",
       "9        Y     Y       12.6        200.0     2.74   140.0     918.0  147.25   \n",
       "10       Y     N        1.4        259.0     4.16    46.0    1104.0   79.05   \n",
       "11       Y     N        3.6        236.0     3.52    94.0     591.0   82.15   \n",
       "12       N     N        0.7        281.0     3.85    40.0    1181.0   88.35   \n",
       "13       N     Y        0.8          NaN     2.27    43.0     728.0   71.00   \n",
       "14       N     N        0.8        231.0     3.87   173.0    9009.8  127.71   \n",
       "15       N     N        0.7        204.0     3.66    28.0     685.0   72.85   \n",
       "16       N     N        2.7        274.0     3.15   159.0    1533.0  117.80   \n",
       "17       Y     Y       11.4        178.0     2.80   588.0     961.0  280.55   \n",
       "18       N     S        0.7        235.0     3.56    39.0    1881.0   93.00   \n",
       "19       N     N        5.1        374.0     3.51   140.0    1919.0  122.45   \n",
       "\n",
       "    Tryglicerides  Platelets  Prothrombin  Stage  \n",
       "0           172.0      190.0         12.2    4.0  \n",
       "1            88.0      221.0         10.6    3.0  \n",
       "2            55.0      151.0         12.0    4.0  \n",
       "3            92.0      183.0         10.3    4.0  \n",
       "4            72.0      136.0         10.9    3.0  \n",
       "5            63.0        NaN         11.0    3.0  \n",
       "6           213.0      204.0          9.7    3.0  \n",
       "7           189.0      373.0         11.0    3.0  \n",
       "8            88.0      251.0         11.0    2.0  \n",
       "9           143.0      302.0         11.5    4.0  \n",
       "10           79.0      258.0         12.0    4.0  \n",
       "11           95.0       71.0         13.6    4.0  \n",
       "12          130.0      244.0         10.6    3.0  \n",
       "13            NaN      156.0         11.0    4.0  \n",
       "14           96.0      295.0         11.0    3.0  \n",
       "15           58.0      198.0         10.8    3.0  \n",
       "16          128.0      224.0         10.5    4.0  \n",
       "17          200.0      283.0         12.4    4.0  \n",
       "18          123.0      209.0         11.0    3.0  \n",
       "19          135.0      322.0         13.0    4.0  "
      ]
     },
     "execution_count": 2,
     "metadata": {},
     "output_type": "execute_result"
    }
   ],
   "source": [
    "cirrhosis = pd.read_csv('../input/cirrhosis-prediction-dataset/cirrhosis.csv', \n",
    "                        header=0, sep=',')\n",
    "cirrhosis.head(20)"
   ]
  },
  {
   "cell_type": "code",
   "execution_count": 3,
   "id": "9948b4b8",
   "metadata": {
    "execution": {
     "iopub.execute_input": "2022-03-26T21:57:34.438145Z",
     "iopub.status.busy": "2022-03-26T21:57:34.437183Z",
     "iopub.status.idle": "2022-03-26T21:57:34.484825Z",
     "shell.execute_reply": "2022-03-26T21:57:34.484289Z",
     "shell.execute_reply.started": "2022-03-26T21:40:44.297926Z"
    },
    "papermill": {
     "duration": 0.123972,
     "end_time": "2022-03-26T21:57:34.484992",
     "exception": false,
     "start_time": "2022-03-26T21:57:34.361020",
     "status": "completed"
    },
    "tags": []
   },
   "outputs": [],
   "source": [
    "import pandas as pd\n",
    "df=cirrhosis.head()\n",
    "df1=df.iloc[:,:11]\n",
    "df2=df.iloc[:,11:]\n",
    "with open('mytable.tex','w') as tf:\n",
    "    tf.write(df1.to_latex())\n",
    "    tf.write(df2.to_latex())\n"
   ]
  },
  {
   "cell_type": "code",
   "execution_count": 4,
   "id": "76d80862",
   "metadata": {
    "execution": {
     "iopub.execute_input": "2022-03-26T21:57:34.649661Z",
     "iopub.status.busy": "2022-03-26T21:57:34.648795Z",
     "iopub.status.idle": "2022-03-26T21:57:34.652234Z",
     "shell.execute_reply": "2022-03-26T21:57:34.652718Z",
     "shell.execute_reply.started": "2022-03-26T21:40:44.368637Z"
    },
    "id": "NVLquFa46uWi",
    "outputId": "e0581622-d0a2-447d-841b-c1d84df285ab",
    "papermill": {
     "duration": 0.091212,
     "end_time": "2022-03-26T21:57:34.652882",
     "exception": false,
     "start_time": "2022-03-26T21:57:34.561670",
     "status": "completed"
    },
    "tags": []
   },
   "outputs": [
    {
     "data": {
      "text/plain": [
       "ID                 int64\n",
       "N_Days             int64\n",
       "Status            object\n",
       "Drug              object\n",
       "Age                int64\n",
       "Sex               object\n",
       "Ascites           object\n",
       "Hepatomegaly      object\n",
       "Spiders           object\n",
       "Edema             object\n",
       "Bilirubin        float64\n",
       "Cholesterol      float64\n",
       "Albumin          float64\n",
       "Copper           float64\n",
       "Alk_Phos         float64\n",
       "SGOT             float64\n",
       "Tryglicerides    float64\n",
       "Platelets        float64\n",
       "Prothrombin      float64\n",
       "Stage            float64\n",
       "dtype: object"
      ]
     },
     "execution_count": 4,
     "metadata": {},
     "output_type": "execute_result"
    }
   ],
   "source": [
    "# feature dtypes:\n",
    "cirrhosis.dtypes"
   ]
  },
  {
   "cell_type": "markdown",
   "id": "c67a6236",
   "metadata": {
    "papermill": {
     "duration": 0.074489,
     "end_time": "2022-03-26T21:57:34.803232",
     "exception": false,
     "start_time": "2022-03-26T21:57:34.728743",
     "status": "completed"
    },
    "tags": []
   },
   "source": [
    "From the data description on kaggle:\n",
    "\n",
    "Attribute Information\n",
    "\n",
    "1) ID: unique identifier\n",
    "\n",
    "2) N_Days: number of days between registration and the earlier of death, transplantation, or study analysis time in July 1986\n",
    "\n",
    "3) Status: status of the patient C (censored), CL (censored due to liver tx), or D (death)\n",
    "\n",
    "4) Drug: type of drug D-penicillamine or placebo\n",
    "\n",
    "5) Age: age in [days]\n",
    "\n",
    "6) Sex: M (male) or F (female)\n",
    "\n",
    "7) Ascites: presence of ascites N (No) or Y (Yes)\n",
    "\n",
    "8) Hepatomegaly: presence of hepatomegaly N (No) or Y (Yes)\n",
    "\n",
    "9) Spiders: presence of spiders N (No) or Y (Yes)\n",
    "\n",
    "10) Edema: presence of edema N (no edema and no diuretic therapy for edema), S (edema present without diuretics, or edema resolved by diuretics), or Y (edema despite diuretic therapy)\n",
    "\n",
    "11) Bilirubin: serum bilirubin in [mg/dl]\n",
    "\n",
    "12) Cholesterol: serum cholesterol in [mg/dl]\n",
    "\n",
    "13) Albumin: albumin in [gm/dl]\n",
    "\n",
    "14) Copper: urine copper in [ug/day]\n",
    "\n",
    "15) Alk_Phos: alkaline phosphatase in [U/liter]\n",
    "\n",
    "16) SGOT: SGOT in [U/ml]\n",
    "\n",
    "17) Triglycerides: triglicerides in [mg/dl]\n",
    "\n",
    "18) Platelets: platelets per cubic [ml/1000]\n",
    "\n",
    "19) Prothrombin: prothrombin time in seconds [s]\n",
    "\n",
    "20) Stage: histologic stage of disease (1, 2, 3, or 4)"
   ]
  },
  {
   "cell_type": "code",
   "execution_count": 5,
   "id": "6053424a",
   "metadata": {
    "execution": {
     "iopub.execute_input": "2022-03-26T21:57:34.962726Z",
     "iopub.status.busy": "2022-03-26T21:57:34.962039Z",
     "iopub.status.idle": "2022-03-26T21:57:34.969703Z",
     "shell.execute_reply": "2022-03-26T21:57:34.970431Z",
     "shell.execute_reply.started": "2022-03-26T21:40:46.984966Z"
    },
    "id": "a2L2tIDQgXos",
    "papermill": {
     "duration": 0.092419,
     "end_time": "2022-03-26T21:57:34.970890",
     "exception": false,
     "start_time": "2022-03-26T21:57:34.878471",
     "status": "completed"
    },
    "tags": []
   },
   "outputs": [],
   "source": [
    "# Drop ID as we will not need it for prediction\n",
    "cirrhosis.drop('ID', axis=1, inplace=True)\n",
    "\n",
    "# Drop N_Days and Status to prevent data leakage\n",
    "cirrhosis.drop('N_Days', axis=1, inplace=True)\n",
    "cirrhosis.drop('Status', axis=1, inplace=True)"
   ]
  },
  {
   "cell_type": "code",
   "execution_count": 6,
   "id": "ace49947",
   "metadata": {
    "execution": {
     "iopub.execute_input": "2022-03-26T21:57:35.140195Z",
     "iopub.status.busy": "2022-03-26T21:57:35.128481Z",
     "iopub.status.idle": "2022-03-26T21:57:35.144245Z",
     "shell.execute_reply": "2022-03-26T21:57:35.143652Z",
     "shell.execute_reply.started": "2022-03-26T21:40:47.367471Z"
    },
    "id": "m9n8emC066xv",
    "outputId": "677fa03c-c39e-412a-96e1-850857a676aa",
    "papermill": {
     "duration": 0.095161,
     "end_time": "2022-03-26T21:57:35.144391",
     "exception": false,
     "start_time": "2022-03-26T21:57:35.049230",
     "status": "completed"
    },
    "tags": []
   },
   "outputs": [
    {
     "data": {
      "text/plain": [
       "Drug             0.25\n",
       "Ascites          0.25\n",
       "Hepatomegaly     0.25\n",
       "Spiders          0.25\n",
       "Cholesterol      0.32\n",
       "Copper           0.26\n",
       "Alk_Phos         0.25\n",
       "SGOT             0.25\n",
       "Tryglicerides    0.33\n",
       "Platelets        0.03\n",
       "Prothrombin      0.00\n",
       "Stage            0.01\n",
       "dtype: float64"
      ]
     },
     "execution_count": 6,
     "metadata": {},
     "output_type": "execute_result"
    }
   ],
   "source": [
    "def get_percentage_missing(series):\n",
    "    \"\"\" Calculates percentage of NaN values in DataFrame\n",
    "    :param series: Pandas DataFrame object\n",
    "    :return: float\n",
    "    \"\"\"\n",
    "    num = series.isnull().sum()\n",
    "    den = len(series)\n",
    "    return round(num/den, 2)\n",
    "\n",
    "# Only include columns that contain any NaN values\n",
    "df_with_any_null_values = cirrhosis[cirrhosis.columns[cirrhosis.isnull().any()].tolist()]\n",
    "\n",
    "get_percentage_missing(df_with_any_null_values)"
   ]
  },
  {
   "cell_type": "markdown",
   "id": "bec6db01",
   "metadata": {
    "papermill": {
     "duration": 0.073874,
     "end_time": "2022-03-26T21:57:35.294302",
     "exception": false,
     "start_time": "2022-03-26T21:57:35.220428",
     "status": "completed"
    },
    "tags": []
   },
   "source": [
    "Missing values (from kaggle data description):\n",
    "    \n",
    "The first 312 cases in the dataset participated in the randomized trial and contain largely complete data. The additional 112 cases did not participate in the clinical trial but consented to have basic measurements recorded and to be followed for survival. Six of those cases were lost to follow-up shortly after diagnosis, so the data here are on an additional 106 cases as well as the 312 randomized participants."
   ]
  },
  {
   "cell_type": "code",
   "execution_count": 7,
   "id": "fc4b9599",
   "metadata": {
    "execution": {
     "iopub.execute_input": "2022-03-26T21:57:35.447827Z",
     "iopub.status.busy": "2022-03-26T21:57:35.447096Z",
     "iopub.status.idle": "2022-03-26T21:57:35.453476Z",
     "shell.execute_reply": "2022-03-26T21:57:35.454017Z",
     "shell.execute_reply.started": "2022-03-26T21:40:48.278949Z"
    },
    "id": "DAQHU7rs67Es",
    "papermill": {
     "duration": 0.085432,
     "end_time": "2022-03-26T21:57:35.454191",
     "exception": false,
     "start_time": "2022-03-26T21:57:35.368759",
     "status": "completed"
    },
    "tags": []
   },
   "outputs": [],
   "source": [
    "# Drop rows where target value is missing\n",
    "cirrhosis=cirrhosis.dropna(subset=['Stage'])"
   ]
  },
  {
   "cell_type": "code",
   "execution_count": 8,
   "id": "0b64aa6e",
   "metadata": {
    "execution": {
     "iopub.execute_input": "2022-03-26T21:57:35.609722Z",
     "iopub.status.busy": "2022-03-26T21:57:35.609091Z",
     "iopub.status.idle": "2022-03-26T21:57:35.618677Z",
     "shell.execute_reply": "2022-03-26T21:57:35.618153Z",
     "shell.execute_reply.started": "2022-03-26T21:40:48.841543Z"
    },
    "papermill": {
     "duration": 0.087787,
     "end_time": "2022-03-26T21:57:35.618819",
     "exception": false,
     "start_time": "2022-03-26T21:57:35.531032",
     "status": "completed"
    },
    "tags": []
   },
   "outputs": [
    {
     "data": {
      "text/plain": [
       "0.35"
      ]
     },
     "execution_count": 8,
     "metadata": {},
     "output_type": "execute_result"
    }
   ],
   "source": [
    "# Proportion of cirrhosis/no cirrhosis\n",
    "round(len(cirrhosis[cirrhosis['Stage']==4])/len(cirrhosis),2)"
   ]
  },
  {
   "cell_type": "code",
   "execution_count": 9,
   "id": "57c12339",
   "metadata": {
    "execution": {
     "iopub.execute_input": "2022-03-26T21:57:35.800740Z",
     "iopub.status.busy": "2022-03-26T21:57:35.800035Z",
     "iopub.status.idle": "2022-03-26T21:57:37.548047Z",
     "shell.execute_reply": "2022-03-26T21:57:37.547472Z",
     "shell.execute_reply.started": "2022-03-26T21:40:49.603510Z"
    },
    "papermill": {
     "duration": 1.846817,
     "end_time": "2022-03-26T21:57:37.548195",
     "exception": false,
     "start_time": "2022-03-26T21:57:35.701378",
     "status": "completed"
    },
    "tags": []
   },
   "outputs": [
    {
     "data": {
      "image/png": "[encoded data removed]",
      "text/plain": [
       "<Figure size 432x288 with 1 Axes>"
      ]
     },
     "metadata": {
      "needs_background": "light"
     },
     "output_type": "display_data"
    },
    {
     "data": {
      "image/png": "[encoded data removed]",
      "text/plain": [
       "<Figure size 432x288 with 1 Axes>"
      ]
     },
     "metadata": {
      "needs_background": "light"
     },
     "output_type": "display_data"
    },
    {
     "data": {
      "image/png": "[encoded data removed]",
      "text/plain": [
       "<Figure size 432x288 with 1 Axes>"
      ]
     },
     "metadata": {
      "needs_background": "light"
     },
     "output_type": "display_data"
    },
    {
     "data": {
      "image/png": "[encoded data removed]",
      "text/plain": [
       "<Figure size 432x288 with 1 Axes>"
      ]
     },
     "metadata": {
      "needs_background": "light"
     },
     "output_type": "display_data"
    },
    {
     "data": {
      "image/png": "[encoded data removed]",
      "text/plain": [
       "<Figure size 432x288 with 1 Axes>"
      ]
     },
     "metadata": {
      "needs_background": "light"
     },
     "output_type": "display_data"
    },
    {
     "data": {
      "image/png": "[encoded data removed]",
      "text/plain": [
       "<Figure size 432x288 with 1 Axes>"
      ]
     },
     "metadata": {
      "needs_background": "light"
     },
     "output_type": "display_data"
    },
    {
     "data": {
      "image/png": "[encoded data removed]",
      "text/plain": [
       "<Figure size 432x288 with 1 Axes>"
      ]
     },
     "metadata": {
      "needs_background": "light"
     },
     "output_type": "display_data"
    },
    {
     "data": {
      "image/png": "[encoded data removed]",
      "text/plain": [
       "<Figure size 432x288 with 1 Axes>"
      ]
     },
     "metadata": {
      "needs_background": "light"
     },
     "output_type": "display_data"
    },
    {
     "data": {
      "image/png": "[encoded data removed]",
      "text/plain": [
       "<Figure size 432x288 with 1 Axes>"
      ]
     },
     "metadata": {
      "needs_background": "light"
     },
     "output_type": "display_data"
    },
    {
     "data": {
      "image/png": "[encoded data removed]",
      "text/plain": [
       "<Figure size 432x288 with 1 Axes>"
      ]
     },
     "metadata": {
      "needs_background": "light"
     },
     "output_type": "display_data"
    }
   ],
   "source": [
    "# Outlier detection\n",
    "float_cols = list(cirrhosis.select_dtypes(include='float64'))\n",
    "\n",
    "for col in float_cols:\n",
    "    plt.figure()    \n",
    "    sns.boxplot(cirrhosis[col])"
   ]
  },
  {
   "cell_type": "code",
   "execution_count": 10,
   "id": "03b69933",
   "metadata": {
    "execution": {
     "iopub.execute_input": "2022-03-26T21:57:37.737575Z",
     "iopub.status.busy": "2022-03-26T21:57:37.736752Z",
     "iopub.status.idle": "2022-03-26T21:57:37.740049Z",
     "shell.execute_reply": "2022-03-26T21:57:37.740545Z",
     "shell.execute_reply.started": "2022-03-26T21:40:51.100595Z"
    },
    "papermill": {
     "duration": 0.096949,
     "end_time": "2022-03-26T21:57:37.740711",
     "exception": false,
     "start_time": "2022-03-26T21:57:37.643762",
     "status": "completed"
    },
    "tags": []
   },
   "outputs": [
    {
     "data": {
      "text/plain": [
       "165"
      ]
     },
     "execution_count": 10,
     "metadata": {},
     "output_type": "execute_result"
    }
   ],
   "source": [
    "cirrhosis['SGOT'].argmax()"
   ]
  },
  {
   "cell_type": "code",
   "execution_count": 11,
   "id": "90484256",
   "metadata": {
    "execution": {
     "iopub.execute_input": "2022-03-26T21:57:37.926315Z",
     "iopub.status.busy": "2022-03-26T21:57:37.925108Z",
     "iopub.status.idle": "2022-03-26T21:57:37.933204Z",
     "shell.execute_reply": "2022-03-26T21:57:37.933783Z",
     "shell.execute_reply.started": "2022-03-26T21:40:51.109745Z"
    },
    "papermill": {
     "duration": 0.105939,
     "end_time": "2022-03-26T21:57:37.933979",
     "exception": false,
     "start_time": "2022-03-26T21:57:37.828040",
     "status": "completed"
    },
    "tags": []
   },
   "outputs": [
    {
     "data": {
      "text/plain": [
       "Drug             Placebo\n",
       "Age                15105\n",
       "Sex                    F\n",
       "Ascites                N\n",
       "Hepatomegaly           Y\n",
       "Spiders                N\n",
       "Edema                  N\n",
       "Bilirubin            5.7\n",
       "Cholesterol       1480.0\n",
       "Albumin             3.26\n",
       "Copper              84.0\n",
       "Alk_Phos          1960.0\n",
       "SGOT              457.25\n",
       "Tryglicerides      108.0\n",
       "Platelets          213.0\n",
       "Prothrombin          9.5\n",
       "Stage                2.0\n",
       "Name: 165, dtype: object"
      ]
     },
     "execution_count": 11,
     "metadata": {},
     "output_type": "execute_result"
    }
   ],
   "source": [
    "cirrhosis.iloc[165]"
   ]
  },
  {
   "cell_type": "code",
   "execution_count": 12,
   "id": "ccb13a4e",
   "metadata": {
    "execution": {
     "iopub.execute_input": "2022-03-26T21:57:38.116725Z",
     "iopub.status.busy": "2022-03-26T21:57:38.116053Z",
     "iopub.status.idle": "2022-03-26T21:57:38.122933Z",
     "shell.execute_reply": "2022-03-26T21:57:38.122285Z",
     "shell.execute_reply.started": "2022-03-26T21:40:51.127117Z"
    },
    "papermill": {
     "duration": 0.103641,
     "end_time": "2022-03-26T21:57:38.123077",
     "exception": false,
     "start_time": "2022-03-26T21:57:38.019436",
     "status": "completed"
    },
    "tags": []
   },
   "outputs": [
    {
     "data": {
      "text/plain": [
       "74"
      ]
     },
     "execution_count": 12,
     "metadata": {},
     "output_type": "execute_result"
    }
   ],
   "source": [
    "cirrhosis['Tryglicerides'].argmax()"
   ]
  },
  {
   "cell_type": "code",
   "execution_count": 13,
   "id": "6ba7e796",
   "metadata": {
    "execution": {
     "iopub.execute_input": "2022-03-26T21:57:38.315690Z",
     "iopub.status.busy": "2022-03-26T21:57:38.314826Z",
     "iopub.status.idle": "2022-03-26T21:57:38.318132Z",
     "shell.execute_reply": "2022-03-26T21:57:38.318617Z",
     "shell.execute_reply.started": "2022-03-26T21:40:51.469162Z"
    },
    "papermill": {
     "duration": 0.101513,
     "end_time": "2022-03-26T21:57:38.318786",
     "exception": false,
     "start_time": "2022-03-26T21:57:38.217273",
     "status": "completed"
    },
    "tags": []
   },
   "outputs": [
    {
     "data": {
      "text/plain": [
       "Drug             D-penicillamine\n",
       "Age                        15895\n",
       "Sex                            F\n",
       "Ascites                        Y\n",
       "Hepatomegaly                   Y\n",
       "Spiders                        Y\n",
       "Edema                          S\n",
       "Bilirubin                   17.1\n",
       "Cholesterol                674.0\n",
       "Albumin                     2.53\n",
       "Copper                     207.0\n",
       "Alk_Phos                  2078.0\n",
       "SGOT                       182.9\n",
       "Tryglicerides              598.0\n",
       "Platelets                  268.0\n",
       "Prothrombin                 11.5\n",
       "Stage                        4.0\n",
       "Name: 74, dtype: object"
      ]
     },
     "execution_count": 13,
     "metadata": {},
     "output_type": "execute_result"
    }
   ],
   "source": [
    "cirrhosis.iloc[74]"
   ]
  },
  {
   "cell_type": "code",
   "execution_count": 14,
   "id": "e728965e",
   "metadata": {
    "execution": {
     "iopub.execute_input": "2022-03-26T21:57:38.499985Z",
     "iopub.status.busy": "2022-03-26T21:57:38.498988Z",
     "iopub.status.idle": "2022-03-26T21:57:38.515238Z",
     "shell.execute_reply": "2022-03-26T21:57:38.515728Z",
     "shell.execute_reply.started": "2022-03-26T21:40:51.771355Z"
    },
    "id": "svlEMigo6898",
    "papermill": {
     "duration": 0.107847,
     "end_time": "2022-03-26T21:57:38.515947",
     "exception": false,
     "start_time": "2022-03-26T21:57:38.408100",
     "status": "completed"
    },
    "tags": []
   },
   "outputs": [],
   "source": [
    "# save the names of the variables with missing values (one for object and one for float columns)\n",
    "\n",
    "df_with_any_null_values = cirrhosis[cirrhosis.columns[cirrhosis.isnull().any()].tolist()]\n",
    "\n",
    "obj_cols = list(df_with_any_null_values.select_dtypes(include='object'))\n",
    "float_cols = list(df_with_any_null_values.select_dtypes(include='float64'))\n",
    "\n",
    "obj_cols_with_nan = get_percentage_missing(df_with_any_null_values[obj_cols]).keys()\n",
    "float_cols_with_nan = get_percentage_missing(df_with_any_null_values[float_cols]).keys()"
   ]
  },
  {
   "cell_type": "code",
   "execution_count": 15,
   "id": "06bec92e",
   "metadata": {
    "execution": {
     "iopub.execute_input": "2022-03-26T21:57:38.704520Z",
     "iopub.status.busy": "2022-03-26T21:57:38.696443Z",
     "iopub.status.idle": "2022-03-26T21:57:38.709416Z",
     "shell.execute_reply": "2022-03-26T21:57:38.708734Z",
     "shell.execute_reply.started": "2022-03-26T21:40:52.088337Z"
    },
    "id": "ptnin6SP6-j2",
    "outputId": "f81f9c97-c7f8-4288-e8d3-96d120321d75",
    "papermill": {
     "duration": 0.105557,
     "end_time": "2022-03-26T21:57:38.709571",
     "exception": false,
     "start_time": "2022-03-26T21:57:38.604014",
     "status": "completed"
    },
    "tags": []
   },
   "outputs": [
    {
     "name": "stdout",
     "output_type": "stream",
     "text": [
      "Value count for Drug : {'D-penicillamine': 158, 'Placebo': 154, 'NaN': 100}\n",
      "Value count for Ascites : {'N': 288, 'Y': 24, 'NaN': 100}\n",
      "Value count for Hepatomegaly : {'Y': 160, 'N': 152, 'NaN': 100}\n",
      "Value count for Spiders : {'N': 222, 'Y': 90, 'NaN': 100}\n"
     ]
    }
   ],
   "source": [
    "# explore data in categorical columns with missing values to determine how to replace the missing values\n",
    "\n",
    "for col in obj_cols_with_nan:\n",
    "    val_counts = {}\n",
    "    for value in cirrhosis[col].value_counts().keys():\n",
    "        val_counts[value] = cirrhosis[col].value_counts()[value]\n",
    "    val_counts['NaN'] = cirrhosis[col].isna().sum()\n",
    "    print('Value count for', col, ':', val_counts)"
   ]
  },
  {
   "cell_type": "markdown",
   "id": "2ecdf267",
   "metadata": {
    "papermill": {
     "duration": 0.084585,
     "end_time": "2022-03-26T21:57:38.883701",
     "exception": false,
     "start_time": "2022-03-26T21:57:38.799116",
     "status": "completed"
    },
    "tags": []
   },
   "source": [
    "Drug: The data was collected in the frameworks of a study testing the drug D-penicillamine. The 100 missing values stem from patients that did not participate in the study but consented to have their data recorded. We thus decided to fill the missing values with an additional class 'No drugs'. \n",
    "\n",
    "Ascites: Ascites is a medical condition strongly connected to a malfunctioning of the liver, often caused by cirrhosis. As the ratio of Y to N is quite small, we decided to replace the missing values with 'N'.\n",
    "\n",
    "Hepatomegaly: (From Wikipedia) [Hepatomegaly is the condition of having an enlarged liver. It is a non-specific medical sign having many causes, which can broadly be broken down into infection, hepatic tumours, or metabolic disorder.] This is a rather un-specific condition, and the proportions of Y and N are almost equal. We decided to drop this predictor all together.\n",
    "\n",
    "Spiders:(From Wikipedia) [A spider angioma is a type of swollen, spider-like blood vessel on the skin. They are common and often benign, presenting in around 10–15% of healthy adults and young children. However, having more than three spider angiomas is likely to be abnormal and may be a sign of liver disease and/or Hepatitis C.] The proportions of Y and N are in favour of N, but not considerably. However, as spiders seem to be common and not typically a sure-fire indicator of liver disease unless found in high quantities, we decided to fill the missing values with 'N'."
   ]
  },
  {
   "cell_type": "code",
   "execution_count": 16,
   "id": "9f7536a3",
   "metadata": {
    "execution": {
     "iopub.execute_input": "2022-03-26T21:57:39.057257Z",
     "iopub.status.busy": "2022-03-26T21:57:39.056573Z",
     "iopub.status.idle": "2022-03-26T21:57:39.070973Z",
     "shell.execute_reply": "2022-03-26T21:57:39.071727Z",
     "shell.execute_reply.started": "2022-03-26T21:40:52.687763Z"
    },
    "id": "xy5VamuH7AdM",
    "outputId": "6243db8f-ce96-4957-8669-1b5ce353bb9d",
    "papermill": {
     "duration": 0.103934,
     "end_time": "2022-03-26T21:57:39.072107",
     "exception": false,
     "start_time": "2022-03-26T21:57:38.968173",
     "status": "completed"
    },
    "tags": []
   },
   "outputs": [],
   "source": [
    "# First try of filling missing values\n",
    "\n",
    "cirrhosis['Drug'] = cirrhosis['Drug'].fillna('Placebo')\n",
    "cirrhosis['Ascites'] = cirrhosis['Ascites'].fillna('N')  \n",
    "cirrhosis.drop('Hepatomegaly', axis=1, inplace=True)\n",
    "cirrhosis['Spiders'] = cirrhosis['Spiders'].fillna('N')\n",
    "\n",
    "# Missing float values are all filled with the median\n",
    "cirrhosis['Cholesterol'] = cirrhosis['Cholesterol'].fillna(cirrhosis['Cholesterol'].median())\n",
    "cirrhosis['Copper'] = cirrhosis['Copper'].fillna(cirrhosis['Copper'].median())\n",
    "cirrhosis['Alk_Phos'] = cirrhosis['Alk_Phos'].fillna(cirrhosis['Alk_Phos'].median())\n",
    "cirrhosis['SGOT'] = cirrhosis['SGOT'].fillna(cirrhosis['SGOT'].median())\n",
    "cirrhosis['Tryglicerides'] = cirrhosis['Tryglicerides'].fillna(cirrhosis['Tryglicerides'].median())\n",
    "cirrhosis['Platelets'] = cirrhosis['Platelets'].fillna(cirrhosis['Platelets'].median())\n",
    "cirrhosis['Prothrombin'] = cirrhosis['Prothrombin'].fillna(cirrhosis['Prothrombin'].median())"
   ]
  },
  {
   "cell_type": "code",
   "execution_count": 17,
   "id": "8b973ee0",
   "metadata": {
    "execution": {
     "iopub.execute_input": "2022-03-26T21:57:39.247408Z",
     "iopub.status.busy": "2022-03-26T21:57:39.246720Z",
     "iopub.status.idle": "2022-03-26T21:57:39.269772Z",
     "shell.execute_reply": "2022-03-26T21:57:39.270421Z",
     "shell.execute_reply.started": "2022-03-26T21:40:53.029237Z"
    },
    "papermill": {
     "duration": 0.113555,
     "end_time": "2022-03-26T21:57:39.270624",
     "exception": false,
     "start_time": "2022-03-26T21:57:39.157069",
     "status": "completed"
    },
    "tags": []
   },
   "outputs": [
    {
     "data": {
      "text/html": [
       "<div>\n",
       "<style scoped>\n",
       "    .dataframe tbody tr th:only-of-type {\n",
       "        vertical-align: middle;\n",
       "    }\n",
       "\n",
       "    .dataframe tbody tr th {\n",
       "        vertical-align: top;\n",
       "    }\n",
       "\n",
       "    .dataframe thead th {\n",
       "        text-align: right;\n",
       "    }\n",
       "</style>\n",
       "<table border=\"1\" class=\"dataframe\">\n",
       "  <thead>\n",
       "    <tr style=\"text-align: right;\">\n",
       "      <th></th>\n",
       "      <th>Drug</th>\n",
       "      <th>Age</th>\n",
       "      <th>Sex</th>\n",
       "      <th>Ascites</th>\n",
       "      <th>Spiders</th>\n",
       "      <th>Edema</th>\n",
       "      <th>Bilirubin</th>\n",
       "      <th>Cholesterol</th>\n",
       "      <th>Albumin</th>\n",
       "      <th>Copper</th>\n",
       "      <th>Alk_Phos</th>\n",
       "      <th>SGOT</th>\n",
       "      <th>Tryglicerides</th>\n",
       "      <th>Platelets</th>\n",
       "      <th>Prothrombin</th>\n",
       "      <th>Stage</th>\n",
       "    </tr>\n",
       "  </thead>\n",
       "  <tbody>\n",
       "    <tr>\n",
       "      <th>0</th>\n",
       "      <td>D-penicillamine</td>\n",
       "      <td>21464</td>\n",
       "      <td>F</td>\n",
       "      <td>Y</td>\n",
       "      <td>Y</td>\n",
       "      <td>Y</td>\n",
       "      <td>14.5</td>\n",
       "      <td>261.0</td>\n",
       "      <td>2.60</td>\n",
       "      <td>156.0</td>\n",
       "      <td>1718.0</td>\n",
       "      <td>137.95</td>\n",
       "      <td>172.0</td>\n",
       "      <td>190.0</td>\n",
       "      <td>12.2</td>\n",
       "      <td>4.0</td>\n",
       "    </tr>\n",
       "    <tr>\n",
       "      <th>1</th>\n",
       "      <td>D-penicillamine</td>\n",
       "      <td>20617</td>\n",
       "      <td>F</td>\n",
       "      <td>N</td>\n",
       "      <td>Y</td>\n",
       "      <td>N</td>\n",
       "      <td>1.1</td>\n",
       "      <td>302.0</td>\n",
       "      <td>4.14</td>\n",
       "      <td>54.0</td>\n",
       "      <td>7394.8</td>\n",
       "      <td>113.52</td>\n",
       "      <td>88.0</td>\n",
       "      <td>221.0</td>\n",
       "      <td>10.6</td>\n",
       "      <td>3.0</td>\n",
       "    </tr>\n",
       "    <tr>\n",
       "      <th>2</th>\n",
       "      <td>D-penicillamine</td>\n",
       "      <td>25594</td>\n",
       "      <td>M</td>\n",
       "      <td>N</td>\n",
       "      <td>N</td>\n",
       "      <td>S</td>\n",
       "      <td>1.4</td>\n",
       "      <td>176.0</td>\n",
       "      <td>3.48</td>\n",
       "      <td>210.0</td>\n",
       "      <td>516.0</td>\n",
       "      <td>96.10</td>\n",
       "      <td>55.0</td>\n",
       "      <td>151.0</td>\n",
       "      <td>12.0</td>\n",
       "      <td>4.0</td>\n",
       "    </tr>\n",
       "    <tr>\n",
       "      <th>3</th>\n",
       "      <td>D-penicillamine</td>\n",
       "      <td>19994</td>\n",
       "      <td>F</td>\n",
       "      <td>N</td>\n",
       "      <td>Y</td>\n",
       "      <td>S</td>\n",
       "      <td>1.8</td>\n",
       "      <td>244.0</td>\n",
       "      <td>2.54</td>\n",
       "      <td>64.0</td>\n",
       "      <td>6121.8</td>\n",
       "      <td>60.63</td>\n",
       "      <td>92.0</td>\n",
       "      <td>183.0</td>\n",
       "      <td>10.3</td>\n",
       "      <td>4.0</td>\n",
       "    </tr>\n",
       "    <tr>\n",
       "      <th>4</th>\n",
       "      <td>Placebo</td>\n",
       "      <td>13918</td>\n",
       "      <td>F</td>\n",
       "      <td>N</td>\n",
       "      <td>Y</td>\n",
       "      <td>N</td>\n",
       "      <td>3.4</td>\n",
       "      <td>279.0</td>\n",
       "      <td>3.53</td>\n",
       "      <td>143.0</td>\n",
       "      <td>671.0</td>\n",
       "      <td>113.15</td>\n",
       "      <td>72.0</td>\n",
       "      <td>136.0</td>\n",
       "      <td>10.9</td>\n",
       "      <td>3.0</td>\n",
       "    </tr>\n",
       "  </tbody>\n",
       "</table>\n",
       "</div>"
      ],
      "text/plain": [
       "              Drug    Age Sex Ascites Spiders Edema  Bilirubin  Cholesterol  \\\n",
       "0  D-penicillamine  21464   F       Y       Y     Y       14.5        261.0   \n",
       "1  D-penicillamine  20617   F       N       Y     N        1.1        302.0   \n",
       "2  D-penicillamine  25594   M       N       N     S        1.4        176.0   \n",
       "3  D-penicillamine  19994   F       N       Y     S        1.8        244.0   \n",
       "4          Placebo  13918   F       N       Y     N        3.4        279.0   \n",
       "\n",
       "   Albumin  Copper  Alk_Phos    SGOT  Tryglicerides  Platelets  Prothrombin  \\\n",
       "0     2.60   156.0    1718.0  137.95          172.0      190.0         12.2   \n",
       "1     4.14    54.0    7394.8  113.52           88.0      221.0         10.6   \n",
       "2     3.48   210.0     516.0   96.10           55.0      151.0         12.0   \n",
       "3     2.54    64.0    6121.8   60.63           92.0      183.0         10.3   \n",
       "4     3.53   143.0     671.0  113.15           72.0      136.0         10.9   \n",
       "\n",
       "   Stage  \n",
       "0    4.0  \n",
       "1    3.0  \n",
       "2    4.0  \n",
       "3    4.0  \n",
       "4    3.0  "
      ]
     },
     "execution_count": 17,
     "metadata": {},
     "output_type": "execute_result"
    }
   ],
   "source": [
    "cirrhosis.head()"
   ]
  },
  {
   "cell_type": "markdown",
   "id": "aa60f2ac",
   "metadata": {
    "papermill": {
     "duration": 0.088759,
     "end_time": "2022-03-26T21:57:39.445703",
     "exception": false,
     "start_time": "2022-03-26T21:57:39.356944",
     "status": "completed"
    },
    "tags": []
   },
   "source": [
    "We decided to test binary classification on this data set, differentiating between cirrhosis (Stage=4.0) and no cirrhosis (Stage=1.0, 2.0, 3.0) "
   ]
  },
  {
   "cell_type": "code",
   "execution_count": 18,
   "id": "7117189c",
   "metadata": {
    "execution": {
     "iopub.execute_input": "2022-03-26T21:57:39.622782Z",
     "iopub.status.busy": "2022-03-26T21:57:39.622119Z",
     "iopub.status.idle": "2022-03-26T21:57:39.627189Z",
     "shell.execute_reply": "2022-03-26T21:57:39.627718Z",
     "shell.execute_reply.started": "2022-03-26T21:40:53.707732Z"
    },
    "id": "sRD3OS6zWYeK",
    "outputId": "c175434c-a85c-46fe-8461-21e66727a880",
    "papermill": {
     "duration": 0.095744,
     "end_time": "2022-03-26T21:57:39.627942",
     "exception": false,
     "start_time": "2022-03-26T21:57:39.532198",
     "status": "completed"
    },
    "tags": []
   },
   "outputs": [],
   "source": [
    "# Binary Classification\n",
    "cirrhosis['Stage'] = np.where(cirrhosis['Stage'] == 4, 1, 0)"
   ]
  },
  {
   "cell_type": "code",
   "execution_count": 19,
   "id": "878e1dba",
   "metadata": {
    "execution": {
     "iopub.execute_input": "2022-03-26T21:57:39.814883Z",
     "iopub.status.busy": "2022-03-26T21:57:39.814072Z",
     "iopub.status.idle": "2022-03-26T21:57:39.817150Z",
     "shell.execute_reply": "2022-03-26T21:57:39.817668Z",
     "shell.execute_reply.started": "2022-03-26T21:40:54.184269Z"
    },
    "id": "yVO-ks_e7CJI",
    "outputId": "f589611f-11f7-4c36-bd8e-ab14df65700a",
    "papermill": {
     "duration": 0.103089,
     "end_time": "2022-03-26T21:57:39.817877",
     "exception": false,
     "start_time": "2022-03-26T21:57:39.714788",
     "status": "completed"
    },
    "tags": []
   },
   "outputs": [
    {
     "data": {
      "text/plain": [
       "Series([], dtype: float64)"
      ]
     },
     "execution_count": 19,
     "metadata": {},
     "output_type": "execute_result"
    }
   ],
   "source": [
    "# Check that all missing values are gone\n",
    "df_with_any_null_values = cirrhosis[cirrhosis.columns[cirrhosis.isnull().any()].tolist()]\n",
    "\n",
    "get_percentage_missing(df_with_any_null_values)"
   ]
  },
  {
   "cell_type": "code",
   "execution_count": 20,
   "id": "a3d6e876",
   "metadata": {
    "execution": {
     "iopub.execute_input": "2022-03-26T21:57:39.998459Z",
     "iopub.status.busy": "2022-03-26T21:57:39.997794Z",
     "iopub.status.idle": "2022-03-26T21:57:40.009219Z",
     "shell.execute_reply": "2022-03-26T21:57:40.009768Z",
     "shell.execute_reply.started": "2022-03-26T21:40:54.564915Z"
    },
    "id": "F2xzN9PB7Kfu",
    "outputId": "399a1a41-2514-4a89-93d6-643d80097182",
    "papermill": {
     "duration": 0.102816,
     "end_time": "2022-03-26T21:57:40.010014",
     "exception": false,
     "start_time": "2022-03-26T21:57:39.907198",
     "status": "completed"
    },
    "tags": []
   },
   "outputs": [],
   "source": [
    "# convert data to be usable in sklearn classifiers\n",
    "le = LabelEncoder()\n",
    "obj_cols = cirrhosis.select_dtypes(include=('object')).columns\n",
    "\n",
    "for col in obj_cols:\n",
    "    cirrhosis[col] = le.fit_transform(cirrhosis[col])\n",
    "\n",
    "cirrhosis_y = cirrhosis.iloc[:,-1].values\n",
    "cirrhosis_X = cirrhosis.iloc[:,:-1]\n",
    "cirrhosis_X = cirrhosis_X.values"
   ]
  },
  {
   "cell_type": "code",
   "execution_count": 21,
   "id": "bb0cf3bf",
   "metadata": {
    "execution": {
     "iopub.execute_input": "2022-03-26T21:57:40.193437Z",
     "iopub.status.busy": "2022-03-26T21:57:40.192593Z",
     "iopub.status.idle": "2022-03-26T21:57:40.195890Z",
     "shell.execute_reply": "2022-03-26T21:57:40.196463Z",
     "shell.execute_reply.started": "2022-03-26T21:40:54.926725Z"
    },
    "papermill": {
     "duration": 0.098032,
     "end_time": "2022-03-26T21:57:40.196671",
     "exception": false,
     "start_time": "2022-03-26T21:57:40.098639",
     "status": "completed"
    },
    "tags": []
   },
   "outputs": [],
   "source": [
    "# Create dictionary to compare accuracies and computation time between classifiers\n",
    "comparison_dict = {}"
   ]
  },
  {
   "cell_type": "markdown",
   "id": "684a0057",
   "metadata": {
    "id": "pM4WrPlA7N9E",
    "papermill": {
     "duration": 0.086779,
     "end_time": "2022-03-26T21:57:40.370479",
     "exception": false,
     "start_time": "2022-03-26T21:57:40.283700",
     "status": "completed"
    },
    "tags": []
   },
   "source": [
    "# First Simple Classifier"
   ]
  },
  {
   "cell_type": "markdown",
   "id": "d8e899f3",
   "metadata": {
    "papermill": {
     "duration": 0.08525,
     "end_time": "2022-03-26T21:57:40.542941",
     "exception": false,
     "start_time": "2022-03-26T21:57:40.457691",
     "status": "completed"
    },
    "tags": []
   },
   "source": [
    "## SVM"
   ]
  },
  {
   "cell_type": "code",
   "execution_count": 22,
   "id": "396065b6",
   "metadata": {
    "execution": {
     "iopub.execute_input": "2022-03-26T21:57:40.717846Z",
     "iopub.status.busy": "2022-03-26T21:57:40.717183Z",
     "iopub.status.idle": "2022-03-26T21:57:40.721419Z",
     "shell.execute_reply": "2022-03-26T21:57:40.722018Z",
     "shell.execute_reply.started": "2022-03-26T21:40:56.277268Z"
    },
    "id": "FL8DICoR7Min",
    "papermill": {
     "duration": 0.093149,
     "end_time": "2022-03-26T21:57:40.722194",
     "exception": false,
     "start_time": "2022-03-26T21:57:40.629045",
     "status": "completed"
    },
    "tags": []
   },
   "outputs": [],
   "source": [
    "kfold = StratifiedKFold(n_splits=5, shuffle=True, random_state=1)"
   ]
  },
  {
   "cell_type": "code",
   "execution_count": 23,
   "id": "36876522",
   "metadata": {
    "execution": {
     "iopub.execute_input": "2022-03-26T21:57:40.907263Z",
     "iopub.status.busy": "2022-03-26T21:57:40.906499Z",
     "iopub.status.idle": "2022-03-26T21:57:44.035149Z",
     "shell.execute_reply": "2022-03-26T21:57:44.035821Z"
    },
    "papermill": {
     "duration": 3.22718,
     "end_time": "2022-03-26T21:57:44.036077",
     "exception": false,
     "start_time": "2022-03-26T21:57:40.808897",
     "status": "completed"
    },
    "tags": []
   },
   "outputs": [
    {
     "name": "stdout",
     "output_type": "stream",
     "text": [
      "Fitting 5 folds for each of 30 candidates, totalling 150 fits\n",
      "Best parameters: {'C': 1000.0, 'kernel': 'poly'}\n",
      "Train accuracy: 0.7\n",
      "Train accuracy: 0.67\n",
      "Test accuracy: 0.72\n",
      "Train accuracy: 0.74\n",
      "Test accuracy: 0.67\n",
      "Train accuracy: 0.72\n",
      "Test accuracy: 0.67\n",
      "Train accuracy: 0.7\n",
      "Test accuracy: 0.68\n",
      "Train accuracy: 0.69\n",
      "Test accuracy: 0.67\n",
      "Average train accuracy over 5 folds: 0.7\n",
      "Average test accuracy over 5 folds: 0.68\n",
      "Total k-fold computation time; 0.71\n"
     ]
    }
   ],
   "source": [
    "C_list = np.logspace(-5,3, num=10, base=10)\n",
    "kernel_list = ['poly', 'rbf', 'sigmoid']\n",
    "param_grid = dict(C=C_list, kernel=kernel_list)\n",
    "\n",
    "clf = GridSearchCV(svm.SVC(), param_grid=param_grid, n_jobs=-1, refit=True, cv=5,verbose=2)\n",
    "clf.fit(cirrhosis_X, cirrhosis_y)\n",
    "\n",
    "print('Best parameters:', clf.best_params_)\n",
    "print('Train accuracy:', round(clf.score(cirrhosis_X, cirrhosis_y),2))\n",
    "\n",
    "acc_train = []\n",
    "acc_test = []\n",
    "\n",
    "tik = time.time()\n",
    "for fold, (train_ids, test_ids) in enumerate(kfold.split(cirrhosis_X, cirrhosis_y)):\n",
    "    X_train, X_test = cirrhosis_X[train_ids], cirrhosis_X[test_ids]\n",
    "    Y_train, Y_test = cirrhosis_y[train_ids], cirrhosis_y[test_ids]\n",
    "    \n",
    "    clf_final = svm.SVC(C=clf.best_params_['C'],kernel=clf.best_params_['kernel'])\n",
    "    clf_final.fit(X_train, Y_train)\n",
    "    \n",
    "    print('Train accuracy:', round(clf_final.score(X_train, Y_train),2))\n",
    "    print('Test accuracy:', round(clf_final.score(X_test, Y_test),2))\n",
    "    \n",
    "    acc_train.append(clf_final.score(X_train, Y_train))\n",
    "    acc_test.append(clf_final.score(X_test, Y_test))\n",
    "tok = time.time()    \n",
    "\n",
    "final_acc_test = round(np.mean(acc_test),2)\n",
    "final_acc_train = round(np.mean(acc_train),2)\n",
    "\n",
    "print('Average train accuracy over 5 folds:', final_acc_train)\n",
    "print('Average test accuracy over 5 folds:', final_acc_test)\n",
    "print('Total k-fold computation time;', round(tok-tik, 2))\n",
    "comparison_dict['SVC'] = [final_acc_test, round((tok-tik)/kfold.n_splits,2)]\n"
   ]
  },
  {
   "cell_type": "markdown",
   "id": "02e88f93",
   "metadata": {
    "papermill": {
     "duration": 0.08963,
     "end_time": "2022-03-26T21:57:44.221291",
     "exception": false,
     "start_time": "2022-03-26T21:57:44.131661",
     "status": "completed"
    },
    "tags": []
   },
   "source": [
    "# Dimensionality Reduction"
   ]
  },
  {
   "cell_type": "markdown",
   "id": "9153c445",
   "metadata": {
    "papermill": {
     "duration": 0.086966,
     "end_time": "2022-03-26T21:57:44.396606",
     "exception": false,
     "start_time": "2022-03-26T21:57:44.309640",
     "status": "completed"
    },
    "tags": []
   },
   "source": [
    "## PCA"
   ]
  },
  {
   "cell_type": "code",
   "execution_count": 24,
   "id": "8e2638f5",
   "metadata": {
    "execution": {
     "iopub.execute_input": "2022-03-26T21:57:44.576278Z",
     "iopub.status.busy": "2022-03-26T21:57:44.575609Z",
     "iopub.status.idle": "2022-03-26T21:57:45.026678Z",
     "shell.execute_reply": "2022-03-26T21:57:45.027206Z"
    },
    "id": "45OG9H7l-tVX",
    "outputId": "b03bed45-09a1-49e1-de25-93e1124bb652",
    "papermill": {
     "duration": 0.541836,
     "end_time": "2022-03-26T21:57:45.027381",
     "exception": false,
     "start_time": "2022-03-26T21:57:44.485545",
     "status": "completed"
    },
    "tags": []
   },
   "outputs": [
    {
     "data": {
      "text/plain": [
       "Text(0.5, 0, 'Principal Component 1')"
      ]
     },
     "execution_count": 24,
     "metadata": {},
     "output_type": "execute_result"
    },
    {
     "data": {
      "image/png": "[encoded data removed]",
      "text/plain": [
       "<Figure size 1800x576 with 1 Axes>"
      ]
     },
     "metadata": {
      "needs_background": "light"
     },
     "output_type": "display_data"
    }
   ],
   "source": [
    "pca = PCA(n_components=3)\n",
    "pca.fit(cirrhosis_X)\n",
    "cirrhosis_X_pca = pca.transform(cirrhosis_X)\n",
    "\n",
    "plt.figure(figsize=(25,8))\n",
    "sns.scatterplot(x=cirrhosis_X_pca[:,0], y=cirrhosis_X_pca[:, 1], hue=cirrhosis_y, palette='terrain')\n",
    "plt.title('Principal Components vs Class distribution', fontsize=16)\n",
    "plt.ylabel('Principal Component 2', fontsize=16)\n",
    "plt.xlabel('Principal Component 1', fontsize=16)\n",
    "#plt.xticks(rotation='vertical')"
   ]
  },
  {
   "cell_type": "markdown",
   "id": "4525e2b8",
   "metadata": {
    "papermill": {
     "duration": 0.097888,
     "end_time": "2022-03-26T21:57:45.216763",
     "exception": false,
     "start_time": "2022-03-26T21:57:45.118875",
     "status": "completed"
    },
    "tags": []
   },
   "source": [
    "## Kernel PCA"
   ]
  },
  {
   "cell_type": "code",
   "execution_count": 25,
   "id": "dfd9a5df",
   "metadata": {
    "execution": {
     "iopub.execute_input": "2022-03-26T21:57:45.405097Z",
     "iopub.status.busy": "2022-03-26T21:57:45.404435Z",
     "iopub.status.idle": "2022-03-26T21:57:45.997319Z",
     "shell.execute_reply": "2022-03-26T21:57:45.997836Z"
    },
    "id": "R33VBZPcA4Y2",
    "outputId": "4dfed8ab-7bd1-44d0-e5bf-08399dd3a589",
    "papermill": {
     "duration": 0.687935,
     "end_time": "2022-03-26T21:57:45.998043",
     "exception": false,
     "start_time": "2022-03-26T21:57:45.310108",
     "status": "completed"
    },
    "tags": []
   },
   "outputs": [
    {
     "data": {
      "text/plain": [
       "(array([-0.1,  0. ,  0.1,  0.2,  0.3,  0.4,  0.5,  0.6,  0.7,  0.8]),\n",
       " [Text(0, 0, ''),\n",
       "  Text(0, 0, ''),\n",
       "  Text(0, 0, ''),\n",
       "  Text(0, 0, ''),\n",
       "  Text(0, 0, ''),\n",
       "  Text(0, 0, ''),\n",
       "  Text(0, 0, ''),\n",
       "  Text(0, 0, ''),\n",
       "  Text(0, 0, ''),\n",
       "  Text(0, 0, '')])"
      ]
     },
     "execution_count": 25,
     "metadata": {},
     "output_type": "execute_result"
    },
    {
     "data": {
      "image/png": "[encoded data removed]",
      "text/plain": [
       "<Figure size 1800x576 with 1 Axes>"
      ]
     },
     "metadata": {
      "needs_background": "light"
     },
     "output_type": "display_data"
    }
   ],
   "source": [
    "kernel_pca = KernelPCA(\n",
    "                n_components=2, kernel='rbf', gamma=1, fit_inverse_transform=True, alpha=0.1\n",
    "            )\n",
    "kernel_pca.fit(cirrhosis_X)\n",
    "cirrhosis_X_pca = kernel_pca.transform(cirrhosis_X)\n",
    "\n",
    "plt.figure(figsize=(25,8))\n",
    "sns.scatterplot(x=cirrhosis_X_pca[:,0], y=cirrhosis_X_pca[:, 1], hue=cirrhosis_y, palette='terrain')\n",
    "plt.title('Principal Components vs Class distribution', fontsize=16)\n",
    "plt.ylabel('Principal Component 2', fontsize=16)\n",
    "plt.xlabel('Principal Component 1', fontsize=16)\n",
    "plt.xticks(rotation='vertical')"
   ]
  },
  {
   "cell_type": "code",
   "execution_count": 26,
   "id": "a4c46ce8",
   "metadata": {
    "execution": {
     "iopub.execute_input": "2022-03-26T21:57:46.212304Z",
     "iopub.status.busy": "2022-03-26T21:57:46.211565Z",
     "iopub.status.idle": "2022-03-26T21:57:46.214384Z",
     "shell.execute_reply": "2022-03-26T21:57:46.214958Z"
    },
    "id": "zrfybfl_BsAi",
    "outputId": "e0c971ad-c9ab-4786-bd2c-7207074ac6dc",
    "papermill": {
     "duration": 0.122703,
     "end_time": "2022-03-26T21:57:46.215133",
     "exception": false,
     "start_time": "2022-03-26T21:57:46.092430",
     "status": "completed"
    },
    "tags": []
   },
   "outputs": [
    {
     "data": {
      "text/plain": [
       "\"\\ngamma_list = np.logspace(-5, 5, num=5, base=10)\\nalpha_list = np.logspace(-5, 2, num=5, base=10)\\nkernel_list = ['linear', 'rbf', 'cosine']\\n\\nfor gamma in gamma_list:\\n    for alpha in alpha_list:\\n        for kernel in kernel_list:    \\n            kernel_pca = KernelPCA(\\n                    n_components=2, kernel=kernel, gamma=gamma, fit_inverse_transform=True, alpha=alpha\\n                )\\n\\n            kernel_pca.fit(cirrhosis_X)\\n            cirrhosis_X_kpca = kernel_pca.transform(cirrhosis_X)\\n            \\n            fig = plt.figure()\\n            plt.scatter(cirrhosis_X_kpca[:,0], cirrhosis_X_kpca[:, 1], marker='o', c=cirrhosis_y, s=25, edgecolor='k') \\n            plt.title('2-component KPCA on BC with {gamma}, {alpha}, {kernel}'.format(gamma=np.round(gamma,4), alpha=np.round(alpha,4), kernel=kernel))\\n            plt.xlabel('PC_1')\\n            plt.ylabel('PC_2')\\n            plt.show()\""
      ]
     },
     "execution_count": 26,
     "metadata": {},
     "output_type": "execute_result"
    }
   ],
   "source": [
    "'''\n",
    "gamma_list = np.logspace(-5, 5, num=5, base=10)\n",
    "alpha_list = np.logspace(-5, 2, num=5, base=10)\n",
    "kernel_list = ['linear', 'rbf', 'cosine']\n",
    "\n",
    "for gamma in gamma_list:\n",
    "    for alpha in alpha_list:\n",
    "        for kernel in kernel_list:    \n",
    "            kernel_pca = KernelPCA(\n",
    "                    n_components=2, kernel=kernel, gamma=gamma, fit_inverse_transform=True, alpha=alpha\n",
    "                )\n",
    "\n",
    "            kernel_pca.fit(cirrhosis_X)\n",
    "            cirrhosis_X_kpca = kernel_pca.transform(cirrhosis_X)\n",
    "            \n",
    "            fig = plt.figure()\n",
    "            plt.scatter(cirrhosis_X_kpca[:,0], cirrhosis_X_kpca[:, 1], marker='o', c=cirrhosis_y, s=25, edgecolor='k') \n",
    "            plt.title('2-component KPCA on BC with {gamma}, {alpha}, {kernel}'.format(gamma=np.round(gamma,4), alpha=np.round(alpha,4), kernel=kernel))\n",
    "            plt.xlabel('PC_1')\n",
    "            plt.ylabel('PC_2')\n",
    "            plt.show()'''"
   ]
  },
  {
   "cell_type": "markdown",
   "id": "0cc5be2f",
   "metadata": {
    "papermill": {
     "duration": 0.093478,
     "end_time": "2022-03-26T21:57:46.402774",
     "exception": false,
     "start_time": "2022-03-26T21:57:46.309296",
     "status": "completed"
    },
    "tags": []
   },
   "source": [
    "## PCA+SVM"
   ]
  },
  {
   "cell_type": "code",
   "execution_count": 27,
   "id": "5c0c89bb",
   "metadata": {
    "execution": {
     "iopub.execute_input": "2022-03-26T21:57:46.604288Z",
     "iopub.status.busy": "2022-03-26T21:57:46.603613Z",
     "iopub.status.idle": "2022-03-26T21:57:53.180015Z",
     "shell.execute_reply": "2022-03-26T21:57:53.180578Z",
     "shell.execute_reply.started": "2022-03-26T09:23:14.585218Z"
    },
    "papermill": {
     "duration": 6.683326,
     "end_time": "2022-03-26T21:57:53.180760",
     "exception": false,
     "start_time": "2022-03-26T21:57:46.497434",
     "status": "completed"
    },
    "tags": []
   },
   "outputs": [
    {
     "name": "stdout",
     "output_type": "stream",
     "text": [
      "Fitting 5 folds for each of 30 candidates, totalling 150 fits\n",
      "Best parameters: {'C': 129.15496650148827, 'kernel': 'rbf'}\n",
      "Train accuracy: 0.72\n",
      "Train accuracy: 0.73\n",
      "Test accuracy: 0.76\n",
      "Train accuracy: 0.75\n",
      "Test accuracy: 0.63\n",
      "Train accuracy: 0.74\n",
      "Test accuracy: 0.68\n",
      "Train accuracy: 0.73\n",
      "Test accuracy: 0.66\n",
      "Train accuracy: 0.73\n",
      "Test accuracy: 0.67\n",
      "Average train accuracy over 5 folds: 0.74\n",
      "Average test accuracy over 5 folds: 0.68\n",
      "Total k-fold computation time; 0.12\n"
     ]
    }
   ],
   "source": [
    "C_list = np.logspace(-5, 3, num=10, base=10)\n",
    "kernel_list = ['poly', 'rbf', 'sigmoid']\n",
    "param_grid = dict(C=C_list, kernel=kernel_list)\n",
    "\n",
    "pca = PCA(n_components=4)\n",
    "cirrhosis_X_pca = pca.fit_transform(cirrhosis_X)\n",
    "clf = GridSearchCV(svm.SVC(), param_grid=param_grid, n_jobs=-1, refit=True, cv=5,verbose=1)\n",
    "clf.fit(cirrhosis_X_pca, cirrhosis_y)\n",
    "\n",
    "print('Best parameters:', clf.best_params_)\n",
    "print('Train accuracy:', round(clf.score(cirrhosis_X_pca, cirrhosis_y),2))\n",
    "\n",
    "acc_train = []\n",
    "acc_test = []\n",
    "\n",
    "tik = time.time()\n",
    "for fold, (train_ids, test_ids) in enumerate(kfold.split(cirrhosis_X, cirrhosis_y)):\n",
    "    X_train, X_test = cirrhosis_X[train_ids], cirrhosis_X[test_ids]\n",
    "    Y_train, Y_test = cirrhosis_y[train_ids], cirrhosis_y[test_ids]\n",
    "\n",
    "    pca = PCA(n_components=4)\n",
    "    pca.fit(X_train)\n",
    "    X_train_pca = pca.transform(X_train)\n",
    "    X_test_pca = pca.transform(X_test)\n",
    "    \n",
    "    clf_final = svm.SVC(kernel=clf.best_params_['kernel'], C=clf.best_params_['C'])\n",
    "    clf_final.fit(X_train_pca, Y_train)\n",
    "    \n",
    "    print('Train accuracy:', round(clf_final.score(X_train_pca, Y_train),2))\n",
    "    print('Test accuracy:', round(clf_final.score(X_test_pca, Y_test),2))\n",
    "    \n",
    "    acc_train.append(clf_final.score(X_train_pca, Y_train))\n",
    "    acc_test.append(clf_final.score(X_test_pca, Y_test))\n",
    "tok = time.time()  \n",
    "\n",
    "final_acc_test = round(np.mean(acc_test),2)\n",
    "final_acc_train = round(np.mean(acc_train),2)\n",
    "\n",
    "print('Average train accuracy over 5 folds:', final_acc_train)\n",
    "print('Average test accuracy over 5 folds:', final_acc_test)\n",
    "print('Total k-fold computation time;', round(tok-tik, 2))\n",
    "comparison_dict['PCA+SVC'] = [final_acc_test,  round((tok-tik)/kfold.n_splits,2)]"
   ]
  },
  {
   "cell_type": "markdown",
   "id": "8b91ebf1",
   "metadata": {
    "papermill": {
     "duration": 0.109956,
     "end_time": "2022-03-26T21:57:53.399572",
     "exception": false,
     "start_time": "2022-03-26T21:57:53.289616",
     "status": "completed"
    },
    "tags": []
   },
   "source": [
    "## Kernel PCA+SVM"
   ]
  },
  {
   "cell_type": "code",
   "execution_count": 28,
   "id": "a4ae8836",
   "metadata": {
    "execution": {
     "iopub.execute_input": "2022-03-26T21:57:53.631215Z",
     "iopub.status.busy": "2022-03-26T21:57:53.629258Z",
     "iopub.status.idle": "2022-03-26T21:57:59.988506Z",
     "shell.execute_reply": "2022-03-26T21:57:59.990258Z"
    },
    "papermill": {
     "duration": 6.483503,
     "end_time": "2022-03-26T21:57:59.990696",
     "exception": false,
     "start_time": "2022-03-26T21:57:53.507193",
     "status": "completed"
    },
    "tags": []
   },
   "outputs": [
    {
     "name": "stdout",
     "output_type": "stream",
     "text": [
      "Fitting 5 folds for each of 30 candidates, totalling 150 fits\n",
      "Best parameters: {'C': 129.15496650148827, 'kernel': 'rbf'}\n",
      "Train accuracy: 0.72\n",
      "Train accuracy: 0.73\n",
      "Test accuracy: 0.76\n",
      "Train accuracy: 0.75\n",
      "Test accuracy: 0.63\n",
      "Train accuracy: 0.74\n",
      "Test accuracy: 0.68\n",
      "Train accuracy: 0.73\n",
      "Test accuracy: 0.66\n",
      "Train accuracy: 0.73\n",
      "Test accuracy: 0.67\n",
      "Average train accuracy over 5 folds: 0.74\n",
      "Average test accuracy over 5 folds: 0.68\n",
      "Total k-fold computation time; 0.27\n"
     ]
    }
   ],
   "source": [
    "C_list = np.logspace(-5, 3, num=10, base=10)\n",
    "kernel_list = ['poly', 'rbf', 'sigmoid']\n",
    "param_grid = dict(C=C_list, kernel=kernel_list)\n",
    "\n",
    "kernel_pca = KernelPCA(n_components=4)\n",
    "cirrhosis_X_pca = kernel_pca.fit_transform(cirrhosis_X)\n",
    "clf = GridSearchCV(svm.SVC(), param_grid=param_grid, n_jobs=-1, refit=True, cv=5,verbose=1)\n",
    "clf.fit(cirrhosis_X_pca, cirrhosis_y)\n",
    "\n",
    "print('Best parameters:', clf.best_params_)\n",
    "print('Train accuracy:', round(clf.score(cirrhosis_X_pca, cirrhosis_y),2))\n",
    "\n",
    "acc_train = []\n",
    "acc_test = []\n",
    "\n",
    "tik = time.time()\n",
    "for fold, (train_ids, test_ids) in enumerate(kfold.split(cirrhosis_X, cirrhosis_y)):\n",
    "    X_train, X_test = cirrhosis_X[train_ids], cirrhosis_X[test_ids]\n",
    "    Y_train, Y_test = cirrhosis_y[train_ids], cirrhosis_y[test_ids]\n",
    "\n",
    "    kernel_pca = KernelPCA(n_components=4)\n",
    "    kernel_pca.fit(X_train)\n",
    "    X_train_pca = kernel_pca.transform(X_train)\n",
    "    X_test_pca = kernel_pca.transform(X_test)\n",
    "    \n",
    "    clf_final = svm.SVC(kernel=clf.best_params_['kernel'], C=clf.best_params_['C'])\n",
    "    clf_final.fit(X_train_pca, Y_train)\n",
    "    \n",
    "    print('Train accuracy:', round(clf_final.score(X_train_pca, Y_train),2))\n",
    "    print('Test accuracy:', round(clf_final.score(X_test_pca, Y_test),2))\n",
    "    \n",
    "    acc_train.append(clf_final.score(X_train_pca, Y_train))\n",
    "    acc_test.append(clf_final.score(X_test_pca, Y_test))\n",
    "tok = time.time()  \n",
    "\n",
    "final_acc_test = round(np.mean(acc_test),2)\n",
    "final_acc_train = round(np.mean(acc_train),2)\n",
    "\n",
    "print('Average train accuracy over 5 folds:', final_acc_train)\n",
    "print('Average test accuracy over 5 folds:', final_acc_test)\n",
    "print('Total k-fold computation time;', round(tok-tik, 2))\n",
    "comparison_dict['KPCA+SVC'] = [final_acc_test,  round((tok-tik)/kfold.n_splits,2)]"
   ]
  },
  {
   "cell_type": "markdown",
   "id": "be3e9c61",
   "metadata": {
    "papermill": {
     "duration": 0.095938,
     "end_time": "2022-03-26T21:58:00.214935",
     "exception": false,
     "start_time": "2022-03-26T21:58:00.118997",
     "status": "completed"
    },
    "tags": []
   },
   "source": [
    "## LDA+SVM"
   ]
  },
  {
   "cell_type": "code",
   "execution_count": 29,
   "id": "b71b068f",
   "metadata": {
    "execution": {
     "iopub.execute_input": "2022-03-26T21:58:00.428583Z",
     "iopub.status.busy": "2022-03-26T21:58:00.427873Z",
     "iopub.status.idle": "2022-03-26T21:58:04.876611Z",
     "shell.execute_reply": "2022-03-26T21:58:04.876133Z"
    },
    "papermill": {
     "duration": 4.559227,
     "end_time": "2022-03-26T21:58:04.876762",
     "exception": false,
     "start_time": "2022-03-26T21:58:00.317535",
     "status": "completed"
    },
    "tags": []
   },
   "outputs": [
    {
     "name": "stdout",
     "output_type": "stream",
     "text": [
      "Fitting 5 folds for each of 30 candidates, totalling 150 fits\n",
      "Best parameters: {'C': 0.03593813663804626, 'kernel': 'sigmoid'}\n",
      "Train accuracy: 0.76\n",
      "Train accuracy: 0.74\n",
      "Test accuracy: 0.8\n",
      "Train accuracy: 0.77\n",
      "Test accuracy: 0.69\n",
      "Train accuracy: 0.76\n",
      "Test accuracy: 0.71\n",
      "Train accuracy: 0.74\n",
      "Test accuracy: 0.8\n",
      "Train accuracy: 0.77\n",
      "Test accuracy: 0.71\n",
      "Average train accuracy over 5 folds: 0.75\n",
      "Average test accuracy over 5 folds: 0.74\n",
      "Total k-fold computation time; 0.11\n"
     ]
    },
    {
     "data": {
      "image/png": "[encoded data removed]",
      "text/plain": [
       "<Figure size 432x288 with 1 Axes>"
      ]
     },
     "metadata": {
      "needs_background": "light"
     },
     "output_type": "display_data"
    }
   ],
   "source": [
    "C_list = np.logspace(-5, 3, num=10, base=10)\n",
    "kernel_list = ['poly', 'rbf', 'sigmoid']\n",
    "param_grid = dict(C=C_list, kernel=kernel_list)\n",
    "\n",
    "lda = LinearDiscriminantAnalysis(n_components=1)\n",
    "cirrhosis_X_lda=lda.fit_transform(cirrhosis_X, cirrhosis_y)\n",
    "clf = GridSearchCV(svm.SVC(), param_grid=param_grid, n_jobs=-1, refit=True, cv=5,verbose=1)\n",
    "clf.fit(cirrhosis_X_lda, cirrhosis_y)\n",
    "\n",
    "print('Best parameters:', clf.best_params_)\n",
    "print('Train accuracy:', round(clf.score(cirrhosis_X_lda, cirrhosis_y),2))\n",
    "\n",
    "acc_train = []\n",
    "acc_test = []\n",
    "\n",
    "tik = time.time()\n",
    "for fold, (train_ids, test_ids) in enumerate(kfold.split(cirrhosis_X, cirrhosis_y)):\n",
    "    X_train, X_test = cirrhosis_X[train_ids], cirrhosis_X[test_ids]\n",
    "    Y_train, Y_test = cirrhosis_y[train_ids], cirrhosis_y[test_ids]\n",
    "\n",
    "    lda = LinearDiscriminantAnalysis(n_components=1)\n",
    "    lda.fit(X_train, Y_train)\n",
    "    X_lda_train = lda.transform(X_train)\n",
    "    X_lda_test = lda.transform(X_test)\n",
    "    \n",
    "    clf_final = svm.SVC(kernel=clf.best_params_['kernel'], C=clf.best_params_['C'])\n",
    "    clf_final.fit(X_lda_train, Y_train)\n",
    "    \n",
    "    print('Train accuracy:', round(clf_final.score(X_lda_train, Y_train),2))\n",
    "    print('Test accuracy:', round(clf_final.score(X_lda_test, Y_test),2))\n",
    "    \n",
    "    acc_train.append(clf_final.score(X_lda_train, Y_train))\n",
    "    acc_test.append(clf_final.score(X_lda_test, Y_test))\n",
    "tok = time.time()   \n",
    "\n",
    "final_acc_test = round(np.mean(acc_test),2)\n",
    "final_acc_train = round(np.mean(acc_train),2)\n",
    "\n",
    "print('Average train accuracy over 5 folds:', final_acc_train)\n",
    "print('Average test accuracy over 5 folds:', final_acc_test)\n",
    "print('Total k-fold computation time;', round(tok-tik, 2))\n",
    "comparison_dict['LDA+SVC'] = [final_acc_test,  round((tok-tik)/kfold.n_splits,2)]\n",
    "\n",
    "plt.figure()\n",
    "plt.scatter(X_lda_train[Y_train==0, 0], X_lda_train[Y_train == 0, 0])\n",
    "plt.scatter(X_lda_train[Y_train==1, 0], X_lda_train[Y_train == 1, 0])\n",
    "plt.legend(loc=\"best\", shadow=False, scatterpoints=1)\n",
    "plt.title(\"LDA seperation\")\n",
    "plt.show()\n"
   ]
  },
  {
   "cell_type": "markdown",
   "id": "d10dee44",
   "metadata": {
    "papermill": {
     "duration": 0.100165,
     "end_time": "2022-03-26T21:58:05.074858",
     "exception": false,
     "start_time": "2022-03-26T21:58:04.974693",
     "status": "completed"
    },
    "tags": []
   },
   "source": [
    "## QDA"
   ]
  },
  {
   "cell_type": "code",
   "execution_count": 30,
   "id": "6adb6863",
   "metadata": {
    "execution": {
     "iopub.execute_input": "2022-03-26T21:58:05.284897Z",
     "iopub.status.busy": "2022-03-26T21:58:05.283879Z",
     "iopub.status.idle": "2022-03-26T21:58:05.517997Z",
     "shell.execute_reply": "2022-03-26T21:58:05.518579Z"
    },
    "papermill": {
     "duration": 0.343401,
     "end_time": "2022-03-26T21:58:05.518764",
     "exception": false,
     "start_time": "2022-03-26T21:58:05.175363",
     "status": "completed"
    },
    "tags": []
   },
   "outputs": [
    {
     "name": "stdout",
     "output_type": "stream",
     "text": [
      "Fitting 5 folds for each of 25 candidates, totalling 125 fits\n",
      "Best parameters: {'reg_param': 0.03162277660168379, 'tol': 0.0001}\n",
      "Train accuracy: 0.76\n",
      "Train accuracy: 0.78\n",
      "Test accuracy: 0.72\n",
      "Train accuracy: 0.77\n",
      "Test accuracy: 0.7\n",
      "Train accuracy: 0.78\n",
      "Test accuracy: 0.73\n",
      "Train accuracy: 0.78\n",
      "Test accuracy: 0.74\n",
      "Train accuracy: 0.78\n",
      "Test accuracy: 0.65\n",
      "Average train accuracy over 5 folds: 0.78\n",
      "Average test accuracy over 5 folds: 0.71\n",
      "Total k-fold computation time; 0.02\n"
     ]
    }
   ],
   "source": [
    "reg_list = np.logspace(-4, 1, num=5, base=10)\n",
    "tol_list = np.logspace(-4, 1, num=5, base=10)\n",
    "param_grid = dict(tol=tol_list, reg_param=reg_list)\n",
    "\n",
    "clf = GridSearchCV(QuadraticDiscriminantAnalysis(), param_grid=param_grid, n_jobs=-1, refit=True, cv=5,verbose=1)\n",
    "clf.fit(cirrhosis_X, cirrhosis_y)\n",
    "\n",
    "print('Best parameters:', clf.best_params_)\n",
    "print('Train accuracy:', round(clf.score(cirrhosis_X, cirrhosis_y),2))\n",
    "\n",
    "acc_train = []\n",
    "acc_test = []\n",
    "\n",
    "tik = time.time()\n",
    "for fold, (train_ids, test_ids) in enumerate(kfold.split(cirrhosis_X, cirrhosis_y)):\n",
    "    X_train, X_test = cirrhosis_X[train_ids], cirrhosis_X[test_ids]\n",
    "    Y_train, Y_test = cirrhosis_y[train_ids], cirrhosis_y[test_ids]\n",
    "\n",
    "    clf_final = QuadraticDiscriminantAnalysis(tol=clf.best_params_['tol'],reg_param=clf.best_params_['reg_param'])\n",
    "    clf_final.fit(X_train, Y_train)\n",
    "    \n",
    "    print('Train accuracy:', round(clf_final.score(X_train, Y_train),2))\n",
    "    print('Test accuracy:', round(clf_final.score(X_test, Y_test),2))\n",
    "    \n",
    "    acc_train.append(clf_final.score(X_train, Y_train))\n",
    "    acc_test.append(clf_final.score(X_test, Y_test))\n",
    "tok = time.time()   \n",
    "\n",
    "final_acc_test = round(np.mean(acc_test),2)\n",
    "final_acc_train = round(np.mean(acc_train),2)\n",
    "\n",
    "print('Average train accuracy over 5 folds:', final_acc_train)\n",
    "print('Average test accuracy over 5 folds:', final_acc_test)\n",
    "print('Total k-fold computation time;', round(tok-tik, 2))\n",
    "comparison_dict['QDA'] = [final_acc_test,  round((tok-tik)/kfold.n_splits,2)]"
   ]
  },
  {
   "cell_type": "markdown",
   "id": "b8b4ea6f",
   "metadata": {
    "papermill": {
     "duration": 0.101092,
     "end_time": "2022-03-26T21:58:05.719221",
     "exception": false,
     "start_time": "2022-03-26T21:58:05.618129",
     "status": "completed"
    },
    "tags": []
   },
   "source": [
    "# Boosting"
   ]
  },
  {
   "cell_type": "markdown",
   "id": "25fd25ed",
   "metadata": {
    "id": "D06rzzCrNg-3",
    "papermill": {
     "duration": 0.101167,
     "end_time": "2022-03-26T21:58:05.922730",
     "exception": false,
     "start_time": "2022-03-26T21:58:05.821563",
     "status": "completed"
    },
    "tags": []
   },
   "source": [
    "## AdaBoost"
   ]
  },
  {
   "cell_type": "code",
   "execution_count": 31,
   "id": "e77d1dd1",
   "metadata": {
    "execution": {
     "iopub.execute_input": "2022-03-26T21:58:06.127545Z",
     "iopub.status.busy": "2022-03-26T21:58:06.126238Z",
     "iopub.status.idle": "2022-03-26T21:58:19.570339Z",
     "shell.execute_reply": "2022-03-26T21:58:19.569757Z",
     "shell.execute_reply.started": "2022-03-26T21:56:30.522395Z"
    },
    "papermill": {
     "duration": 13.546005,
     "end_time": "2022-03-26T21:58:19.570495",
     "exception": false,
     "start_time": "2022-03-26T21:58:06.024490",
     "status": "completed"
    },
    "tags": []
   },
   "outputs": [
    {
     "name": "stdout",
     "output_type": "stream",
     "text": [
      "Fitting 5 folds for each of 40 candidates, totalling 200 fits\n",
      "[CV] END ...............................C=1e-05, kernel=poly; total time=   0.0s\n",
      "[CV] END ...............C=7.742636826811278e-05, kernel=poly; total time=   0.0s\n",
      "[CV] END ................C=7.742636826811278e-05, kernel=rbf; total time=   0.0s\n",
      "[CV] END ................C=7.742636826811278e-05, kernel=rbf; total time=   0.0s\n",
      "[CV] END ............C=7.742636826811278e-05, kernel=sigmoid; total time=   0.0s\n",
      "[CV] END ............C=7.742636826811278e-05, kernel=sigmoid; total time=   0.0s\n",
      "[CV] END ...............C=0.0005994842503189409, kernel=poly; total time=   0.0s\n",
      "[CV] END ................C=0.0005994842503189409, kernel=rbf; total time=   0.0s\n",
      "[CV] END ............C=0.0005994842503189409, kernel=sigmoid; total time=   0.0s\n",
      "[CV] END ............C=0.0005994842503189409, kernel=sigmoid; total time=   0.0s\n",
      "[CV] END ............C=0.0005994842503189409, kernel=sigmoid; total time=   0.0s\n",
      "[CV] END ............C=0.0005994842503189409, kernel=sigmoid; total time=   0.0s\n",
      "[CV] END .................C=0.03593813663804626, kernel=poly; total time=   0.0s\n",
      "[CV] END .................C=0.03593813663804626, kernel=poly; total time=   0.0s\n",
      "[CV] END .................C=0.03593813663804626, kernel=poly; total time=   0.0s\n",
      "[CV] END .................C=0.03593813663804626, kernel=poly; total time=   0.0s\n",
      "[CV] END ..............C=0.03593813663804626, kernel=sigmoid; total time=   0.0s\n",
      "[CV] END ..............C=0.03593813663804626, kernel=sigmoid; total time=   0.0s\n",
      "[CV] END ..............C=0.03593813663804626, kernel=sigmoid; total time=   0.0s\n",
      "[CV] END ..................C=0.2782559402207126, kernel=poly; total time=   0.0s\n",
      "[CV] END ..................C=0.2782559402207126, kernel=poly; total time=   0.0s\n",
      "[CV] END ..................C=0.2782559402207126, kernel=poly; total time=   0.0s\n",
      "[CV] END ..................C=0.2782559402207126, kernel=poly; total time=   0.0s\n",
      "[CV] END ..................C=0.2782559402207126, kernel=poly; total time=   0.0s\n",
      "[CV] END ................C=2.154434690031882, kernel=sigmoid; total time=   0.0s\n",
      "[CV] END ..................C=16.681005372000556, kernel=poly; total time=   0.0s\n",
      "[CV] END ..................C=16.681005372000556, kernel=poly; total time=   0.0s\n",
      "[CV] END ..................C=16.681005372000556, kernel=poly; total time=   0.0s\n",
      "[CV] END ..................C=16.681005372000556, kernel=poly; total time=   0.0s\n",
      "[CV] END ..................C=16.681005372000556, kernel=poly; total time=   0.0s\n",
      "[CV] END ...................C=16.681005372000556, kernel=rbf; total time=   0.0s\n",
      "[CV] END ...................C=16.681005372000556, kernel=rbf; total time=   0.0s\n",
      "[CV] END ..............................C=1000.0, kernel=poly; total time=   0.3s\n",
      "[CV] END ...............................C=1000.0, kernel=rbf; total time=   0.0s\n",
      "[CV] END ...........................C=1000.0, kernel=sigmoid; total time=   0.0s\n",
      "[CV] END ...........................C=1000.0, kernel=sigmoid; total time=   0.0s\n",
      "[CV] END ...............learning_rate=0.0001, n_estimators=5; total time=   0.0s\n",
      "[CV] END ..............learning_rate=0.0001, n_estimators=10; total time=   0.0s\n",
      "[CV] END ..............learning_rate=0.0001, n_estimators=20; total time=   0.1s\n",
      "[CV] END ..............learning_rate=0.0001, n_estimators=20; total time=   0.1s\n",
      "[CV] END ..............learning_rate=0.0001, n_estimators=70; total time=   0.2s\n",
      "[CV] END ..............learning_rate=0.0001, n_estimators=70; total time=   0.2s\n",
      "[CV] END .............learning_rate=0.0001, n_estimators=150; total time=   0.5s\n",
      "[CV] END .............learning_rate=0.0001, n_estimators=150; total time=   0.5s\n",
      "[CV] END .............learning_rate=0.0001, n_estimators=150; total time=   0.5s\n",
      "[CV] END .............learning_rate=0.0001, n_estimators=200; total time=   0.6s\n",
      "[CV] END ...............learning_rate=0.001, n_estimators=70; total time=   0.2s\n",
      "[CV] END ..............learning_rate=0.001, n_estimators=100; total time=   0.5s\n",
      "[CV] END ..............learning_rate=0.001, n_estimators=100; total time=   0.5s\n",
      "[CV] END ..............learning_rate=0.001, n_estimators=100; total time=   0.4s\n",
      "[CV] END .................learning_rate=0.01, n_estimators=5; total time=   0.0s\n",
      "[CV] END .................learning_rate=0.01, n_estimators=5; total time=   0.0s\n",
      "[CV] END .................learning_rate=0.01, n_estimators=5; total time=   0.0s\n",
      "[CV] END .................learning_rate=0.01, n_estimators=5; total time=   0.0s\n",
      "[CV] END .................learning_rate=0.01, n_estimators=5; total time=   0.0s\n",
      "[CV] END ................learning_rate=0.01, n_estimators=10; total time=   0.0s\n",
      "[CV] END ................learning_rate=0.01, n_estimators=10; total time=   0.0s\n",
      "[CV] END ................learning_rate=0.01, n_estimators=10; total time=   0.0s\n",
      "[CV] END ................learning_rate=0.01, n_estimators=10; total time=   0.0s\n",
      "[CV] END ................learning_rate=0.01, n_estimators=10; total time=   0.0s\n",
      "[CV] END ................learning_rate=0.01, n_estimators=20; total time=   0.1s\n",
      "[CV] END ................learning_rate=0.01, n_estimators=20; total time=   0.1s\n",
      "[CV] END ................learning_rate=0.01, n_estimators=20; total time=   0.1s\n",
      "[CV] END ................learning_rate=0.01, n_estimators=20; total time=   0.1s\n",
      "[CV] END ................learning_rate=0.01, n_estimators=20; total time=   0.1s\n",
      "[CV] END ................learning_rate=0.01, n_estimators=50; total time=   0.2s\n",
      "[CV] END ................learning_rate=0.01, n_estimators=70; total time=   0.2s\n",
      "[CV] END ................learning_rate=0.01, n_estimators=70; total time=   0.2s\n",
      "[CV] END ................learning_rate=0.01, n_estimators=70; total time=   0.2s\n",
      "[CV] END ................learning_rate=0.01, n_estimators=70; total time=   0.2s\n",
      "[CV] END ...............learning_rate=0.01, n_estimators=100; total time=   0.3s\n",
      "[CV] END ...............learning_rate=0.01, n_estimators=150; total time=   0.5s\n",
      "[CV] END ...............learning_rate=0.01, n_estimators=200; total time=   0.6s\n",
      "[CV] END ..................learning_rate=0.1, n_estimators=5; total time=   0.0s\n",
      "[CV] END ..................learning_rate=0.1, n_estimators=5; total time=   0.0s\n",
      "[CV] END ..................learning_rate=0.1, n_estimators=5; total time=   0.0s\n",
      "[CV] END ..................learning_rate=0.1, n_estimators=5; total time=   0.0s\n",
      "[CV] END ..................learning_rate=0.1, n_estimators=5; total time=   0.0s\n",
      "[CV] END .................learning_rate=0.1, n_estimators=10; total time=   0.0s\n",
      "[CV] END .................learning_rate=0.1, n_estimators=10; total time=   0.0s\n",
      "[CV] END .................learning_rate=0.1, n_estimators=10; total time=   0.0s\n",
      "[CV] END .................learning_rate=0.1, n_estimators=20; total time=   0.1s\n",
      "[CV] END .................learning_rate=0.1, n_estimators=20; total time=   0.1s\n",
      "[CV] END .................learning_rate=0.1, n_estimators=20; total time=   0.1s\n",
      "[CV] END .................learning_rate=0.1, n_estimators=50; total time=   0.2s\n",
      "[CV] END .................learning_rate=0.1, n_estimators=70; total time=   0.2s\n",
      "[CV] END .................learning_rate=0.1, n_estimators=70; total time=   0.2s\n",
      "[CV] END ................learning_rate=0.1, n_estimators=100; total time=   0.3s\n",
      "[CV] END ................learning_rate=0.1, n_estimators=150; total time=   0.5s\n",
      "[CV] END ................learning_rate=0.1, n_estimators=200; total time=   0.7s\n",
      "[CV] END ..................learning_rate=0.5, n_estimators=5; total time=   0.0s\n",
      "[CV] END ..................learning_rate=0.5, n_estimators=5; total time=   0.0s\n",
      "[CV] END ..................learning_rate=0.5, n_estimators=5; total time=   0.0s\n",
      "[CV] END ..................learning_rate=0.5, n_estimators=5; total time=   0.0s\n",
      "[CV] END ..................learning_rate=0.5, n_estimators=5; total time=   0.0s\n",
      "[CV] END .................learning_rate=0.5, n_estimators=10; total time=   0.0s\n",
      "[CV] END .................learning_rate=0.5, n_estimators=10; total time=   0.0s\n",
      "[CV] END .................learning_rate=0.5, n_estimators=10; total time=   0.0s\n",
      "[CV] END .................learning_rate=0.5, n_estimators=20; total time=   0.1s\n",
      "[CV] END .................learning_rate=0.5, n_estimators=20; total time=   0.1s\n",
      "[CV] END .................learning_rate=0.5, n_estimators=50; total time=   0.2s\n",
      "[CV] END .................learning_rate=0.5, n_estimators=50; total time=   0.2s[CV] END ...............................C=1e-05, kernel=poly; total time=   0.0s\n",
      "[CV] END ...............................C=1e-05, kernel=poly; total time=   0.0s\n",
      "[CV] END ................................C=1e-05, kernel=rbf; total time=   0.0s\n",
      "[CV] END ................................C=1e-05, kernel=rbf; total time=   0.0s\n",
      "[CV] END ................................C=1e-05, kernel=rbf; total time=   0.0s\n",
      "[CV] END ............................C=1e-05, kernel=sigmoid; total time=   0.0s\n",
      "[CV] END ............................C=1e-05, kernel=sigmoid; total time=   0.0s\n",
      "[CV] END ...............C=7.742636826811278e-05, kernel=poly; total time=   0.0s\n",
      "[CV] END ...............C=7.742636826811278e-05, kernel=poly; total time=   0.0s\n",
      "[CV] END ................C=7.742636826811278e-05, kernel=rbf; total time=   0.0s\n",
      "[CV] END ................C=7.742636826811278e-05, kernel=rbf; total time=   0.0s\n",
      "[CV] END ............C=7.742636826811278e-05, kernel=sigmoid; total time=   0.0s\n",
      "[CV] END ...............C=0.0005994842503189409, kernel=poly; total time=   0.0s\n",
      "[CV] END ...............C=0.0005994842503189409, kernel=poly; total time=   0.0s\n",
      "[CV] END ................C=0.0005994842503189409, kernel=rbf; total time=   0.0s\n",
      "[CV] END ................C=0.0005994842503189409, kernel=rbf; total time=   0.0s\n",
      "[CV] END ............C=0.0005994842503189409, kernel=sigmoid; total time=   0.0s\n",
      "[CV] END ................C=0.004641588833612777, kernel=poly; total time=   0.0s\n",
      "[CV] END ................C=0.004641588833612777, kernel=poly; total time=   0.0s\n",
      "[CV] END ................C=0.004641588833612777, kernel=poly; total time=   0.0s\n",
      "[CV] END .............C=0.004641588833612777, kernel=sigmoid; total time=   0.0s\n",
      "[CV] END .............C=0.004641588833612777, kernel=sigmoid; total time=   0.0s\n",
      "[CV] END .............C=0.004641588833612777, kernel=sigmoid; total time=   0.0s\n",
      "[CV] END .............C=0.004641588833612777, kernel=sigmoid; total time=   0.0s\n",
      "[CV] END ...................C=0.2782559402207126, kernel=rbf; total time=   0.0s\n",
      "[CV] END ...................C=0.2782559402207126, kernel=rbf; total time=   0.0s\n",
      "[CV] END ...................C=0.2782559402207126, kernel=rbf; total time=   0.0s\n",
      "[CV] END ...................C=0.2782559402207126, kernel=rbf; total time=   0.0s\n",
      "[CV] END ...................C=0.2782559402207126, kernel=rbf; total time=   0.0s\n",
      "[CV] END ...............C=0.2782559402207126, kernel=sigmoid; total time=   0.0s\n",
      "[CV] END ...............C=0.2782559402207126, kernel=sigmoid; total time=   0.0s\n",
      "[CV] END ...............C=0.2782559402207126, kernel=sigmoid; total time=   0.0s\n",
      "[CV] END ...................C=16.681005372000556, kernel=rbf; total time=   0.0s\n",
      "[CV] END ...................C=16.681005372000556, kernel=rbf; total time=   0.0s\n",
      "[CV] END ...................C=16.681005372000556, kernel=rbf; total time=   0.0s\n",
      "[CV] END ...............C=16.681005372000556, kernel=sigmoid; total time=   0.0s\n",
      "[CV] END ...............C=16.681005372000556, kernel=sigmoid; total time=   0.0s\n",
      "[CV] END ...............C=16.681005372000556, kernel=sigmoid; total time=   0.0s\n",
      "[CV] END ...............C=16.681005372000556, kernel=sigmoid; total time=   0.0s\n",
      "[CV] END ...............C=16.681005372000556, kernel=sigmoid; total time=   0.0s\n",
      "[CV] END ..............................C=1000.0, kernel=poly; total time=   0.2s\n",
      "[CV] END ...............................C=1000.0, kernel=rbf; total time=   0.0s\n",
      "[CV] END ...............................C=1000.0, kernel=rbf; total time=   0.0s\n",
      "[CV] END ...............................C=1000.0, kernel=rbf; total time=   0.0s\n",
      "[CV] END ...............................C=1000.0, kernel=rbf; total time=   0.0s\n",
      "[CV] END ...........................C=1000.0, kernel=sigmoid; total time=   0.0s\n",
      "[CV] END ...........................C=1000.0, kernel=sigmoid; total time=   0.0s\n",
      "[CV] END ...........................C=1000.0, kernel=sigmoid; total time=   0.0s\n",
      "[CV] END ...............learning_rate=0.0001, n_estimators=5; total time=   0.0s\n",
      "[CV] END ...............learning_rate=0.0001, n_estimators=5; total time=   0.0s\n",
      "[CV] END ..............learning_rate=0.0001, n_estimators=10; total time=   0.0s\n",
      "[CV] END ..............learning_rate=0.0001, n_estimators=10; total time=   0.0s\n",
      "[CV] END ..............learning_rate=0.0001, n_estimators=50; total time=   0.2s\n",
      "[CV] END ..............learning_rate=0.0001, n_estimators=50; total time=   0.2s\n",
      "[CV] END ..............learning_rate=0.0001, n_estimators=70; total time=   0.2s\n",
      "[CV] END .............learning_rate=0.0001, n_estimators=100; total time=   0.3s\n",
      "[CV] END .............learning_rate=0.0001, n_estimators=100; total time=   0.3s\n",
      "[CV] END .............learning_rate=0.0001, n_estimators=100; total time=   0.3s\n",
      "[CV] END ................learning_rate=0.001, n_estimators=5; total time=   0.0s\n",
      "[CV] END ................learning_rate=0.001, n_estimators=5; total time=   0.0s\n",
      "[CV] END ................learning_rate=0.001, n_estimators=5; total time=   0.0s\n",
      "[CV] END ................learning_rate=0.001, n_estimators=5; total time=   0.0s\n",
      "[CV] END ................learning_rate=0.001, n_estimators=5; total time=   0.0s\n",
      "[CV] END ...............learning_rate=0.001, n_estimators=10; total time=   0.0s\n",
      "[CV] END ...............learning_rate=0.001, n_estimators=10; total time=   0.0s\n",
      "[CV] END ...............learning_rate=0.001, n_estimators=10; total time=   0.0s\n",
      "[CV] END ...............learning_rate=0.001, n_estimators=10; total time=   0.0s\n",
      "[CV] END ...............learning_rate=0.001, n_estimators=10; total time=   0.0s\n",
      "[CV] END ...............learning_rate=0.001, n_estimators=20; total time=   0.1s\n",
      "[CV] END ...............learning_rate=0.001, n_estimators=20; total time=   0.1s\n",
      "[CV] END ...............learning_rate=0.001, n_estimators=20; total time=   0.1s\n",
      "[CV] END ...............learning_rate=0.001, n_estimators=20; total time=   0.1s\n",
      "[CV] END ...............learning_rate=0.001, n_estimators=20; total time=   0.1s\n",
      "[CV] END ...............learning_rate=0.001, n_estimators=50; total time=   0.2s\n",
      "[CV] END ...............learning_rate=0.001, n_estimators=70; total time=   0.2s\n",
      "[CV] END ...............learning_rate=0.001, n_estimators=70; total time=   0.3s\n",
      "[CV] END ...............learning_rate=0.001, n_estimators=70; total time=   0.3s\n",
      "[CV] END ...............learning_rate=0.001, n_estimators=70; total time=   0.2s\n",
      "[CV] END ..............learning_rate=0.001, n_estimators=150; total time=   0.8s\n",
      "[CV] END ..............learning_rate=0.001, n_estimators=150; total time=   0.5s\n",
      "[CV] END ..............learning_rate=0.001, n_estimators=150; total time=   0.5s\n",
      "[CV] END ..............learning_rate=0.001, n_estimators=200; total time=   0.6s\n",
      "[CV] END ...............learning_rate=0.01, n_estimators=100; total time=   0.3s\n",
      "[CV] END ...............learning_rate=0.01, n_estimators=150; total time=   0.5s\n",
      "[CV] END ...............learning_rate=0.01, n_estimators=200; total time=   0.6s\n",
      "[CV] END ...............learning_rate=0.01, n_estimators=200; total time=   0.7s\n",
      "[CV] END .................learning_rate=0.1, n_estimators=70; total time=   0.3s\n",
      "[CV] END ................learning_rate=0.1, n_estimators=100; total time=   0.3s\n",
      "[CV] END ................learning_rate=0.1, n_estimators=100; total time=   0.3s\n",
      "[CV] END ................learning_rate=0.1, n_estimators=150; total time=   0.5s\n",
      "[CV] END ................learning_rate=0.1, n_estimators=200; total time=   0.7s\n",
      "[CV] END .................learning_rate=0.5, n_estimators=10; total time=   0.0s\n",
      "[CV] END .................learning_rate=0.5, n_estimators=10; total time=   0.0s\n",
      "[CV] END .................learning_rate=0.5, n_estimators=20; total time=   0.1s\n",
      "[CV] END .................learning_rate=0.5, n_estimators=20; total time=   0.1s\n",
      "[CV] END .................learning_rate=0.5, n_estimators=20; total time=   0.1s\n",
      "[CV] END .................learning_rate=0.5, n_estimators=50; total time=   0.2s\n",
      "[CV] END .................learning_rate=0.5, n_estimators=70; total time=   0.2s\n",
      "[CV] END .................learning_rate=0.5, n_estimators=70; total time=   0.2s\n",
      "[CV] END ................learning_rate=0.5, n_estimators=100; total time=   0.3s\n",
      "[CV] END ................learning_rate=0.5, n_estimators=150; total time=   0.5s\n",
      "[CV] END ................learning_rate=0.5, n_estimators=200; total time=   0.6sBest parameters: {'learning_rate': 0.5, 'n_estimators': 20}\n",
      "Train accuracy: 0.79\n",
      "Train accuracy: 0.78\n",
      "Test accuracy: 0.8\n",
      "Train accuracy: 0.82\n",
      "Test accuracy: 0.65\n",
      "Train accuracy: 0.84\n",
      "Test accuracy: 0.7\n",
      "Train accuracy: 0.82\n",
      "Test accuracy: 0.74\n",
      "Train accuracy: 0.8\n",
      "Test accuracy: 0.71\n",
      "Average train accuracy over 5 folds: 0.81\n",
      "Average test accuracy over 5 folds: 0.72\n",
      "Total k-fold computation time; 0.29\n"
     ]
    }
   ],
   "source": [
    "n_estimator_list = [5, 10, 20, 50, 70, 100, 150, 200]\n",
    "lr_list = [0.0001,0.001, 0.01, 0.1,0.5]\n",
    "param_grid = dict(n_estimators=n_estimator_list, learning_rate=lr_list)\n",
    "\n",
    "clf = GridSearchCV(AdaBoostClassifier(), param_grid=param_grid, n_jobs=-1, refit=True, cv=5,verbose=2)\n",
    "clf.fit(cirrhosis_X, cirrhosis_y)\n",
    "\n",
    "print('Best parameters:', clf.best_params_)\n",
    "print('Train accuracy:', round(clf.score(cirrhosis_X, cirrhosis_y),2))\n",
    "\n",
    "acc_train = []\n",
    "acc_test = []\n",
    "\n",
    "tik = time.time()\n",
    "for fold, (train_ids, test_ids) in enumerate(kfold.split(cirrhosis_X, cirrhosis_y)):\n",
    "    X_train, X_test = cirrhosis_X[train_ids], cirrhosis_X[test_ids]\n",
    "    Y_train, Y_test = cirrhosis_y[train_ids], cirrhosis_y[test_ids]\n",
    "    \n",
    "    clf_final = AdaBoostClassifier( n_estimators=clf.best_params_['n_estimators'],\n",
    "                                    learning_rate=clf.best_params_['learning_rate'])\n",
    "    clf_final.fit(X_train, Y_train)\n",
    "    \n",
    "    print('Train accuracy:', round(clf_final.score(X_train, Y_train),2))\n",
    "    print('Test accuracy:', round(clf_final.score(X_test, Y_test),2))\n",
    "    \n",
    "    acc_train.append(clf_final.score(X_train, Y_train))\n",
    "    acc_test.append(clf_final.score(X_test, Y_test))\n",
    "tok = time.time()    \n",
    "\n",
    "final_acc_test = round(np.mean(acc_test),2)\n",
    "final_acc_train = round(np.mean(acc_train),2)\n",
    "\n",
    "print('Average train accuracy over 5 folds:', final_acc_train)\n",
    "print('Average test accuracy over 5 folds:', final_acc_test)\n",
    "print('Total k-fold computation time;', round(tok-tik, 2))\n",
    "comparison_dict['AdaBoost'] = [final_acc_test,  round((tok-tik)/kfold.n_splits,2)]"
   ]
  },
  {
   "cell_type": "markdown",
   "id": "9a923b4b",
   "metadata": {
    "id": "_5Do7VTfYNm2",
    "papermill": {
     "duration": 0.101909,
     "end_time": "2022-03-26T21:58:19.779923",
     "exception": false,
     "start_time": "2022-03-26T21:58:19.678014",
     "status": "completed"
    },
    "tags": []
   },
   "source": [
    "## XGBoost"
   ]
  },
  {
   "cell_type": "code",
   "execution_count": 32,
   "id": "6a9cfec0",
   "metadata": {
    "execution": {
     "iopub.execute_input": "2022-03-26T21:58:19.998940Z",
     "iopub.status.busy": "2022-03-26T21:58:19.997838Z",
     "iopub.status.idle": "2022-03-26T22:35:37.305215Z",
     "shell.execute_reply": "2022-03-26T22:35:37.306632Z",
     "shell.execute_reply.started": "2022-03-26T21:54:16.807631Z"
    },
    "papermill": {
     "duration": 2237.425318,
     "end_time": "2022-03-26T22:35:37.306959",
     "exception": false,
     "start_time": "2022-03-26T21:58:19.881641",
     "status": "completed"
    },
    "tags": []
   },
   "outputs": [
    {
     "name": "stdout",
     "output_type": "stream",
     "text": [
      "Fitting 5 folds for each of 30 candidates, totalling 150 fits\n",
      "[CV] END ...............................C=1e-05, kernel=poly; total time=   0.0s\n",
      "[CV] END ................................C=1e-05, kernel=rbf; total time=   0.0s\n",
      "[CV] END ................................C=1e-05, kernel=rbf; total time=   0.0s\n",
      "[CV] END ............................C=1e-05, kernel=sigmoid; total time=   0.0s\n",
      "[CV] END ............................C=1e-05, kernel=sigmoid; total time=   0.0s\n",
      "[CV] END ............................C=1e-05, kernel=sigmoid; total time=   0.0s\n",
      "[CV] END ...............C=7.742636826811278e-05, kernel=poly; total time=   0.0s\n",
      "[CV] END ...............C=7.742636826811278e-05, kernel=poly; total time=   0.0s\n",
      "[CV] END ................C=7.742636826811278e-05, kernel=rbf; total time=   0.0s\n",
      "[CV] END ............C=7.742636826811278e-05, kernel=sigmoid; total time=   0.0s\n",
      "[CV] END ............C=7.742636826811278e-05, kernel=sigmoid; total time=   0.0s\n",
      "[CV] END ...............C=0.0005994842503189409, kernel=poly; total time=   0.0s\n",
      "[CV] END ...............C=0.0005994842503189409, kernel=poly; total time=   0.0s\n",
      "[CV] END ................C=0.0005994842503189409, kernel=rbf; total time=   0.0s\n",
      "[CV] END ................C=0.0005994842503189409, kernel=rbf; total time=   0.0s\n",
      "[CV] END ................C=0.004641588833612777, kernel=poly; total time=   0.0s\n",
      "[CV] END ................C=0.004641588833612777, kernel=poly; total time=   0.0s\n",
      "[CV] END .................C=0.004641588833612777, kernel=rbf; total time=   0.0s\n",
      "[CV] END .................C=0.004641588833612777, kernel=rbf; total time=   0.0s\n",
      "[CV] END .................C=0.03593813663804626, kernel=poly; total time=   0.0s\n",
      "[CV] END ..................C=0.03593813663804626, kernel=rbf; total time=   0.0s\n",
      "[CV] END ..................C=0.03593813663804626, kernel=rbf; total time=   0.0s\n",
      "[CV] END ..................C=0.03593813663804626, kernel=rbf; total time=   0.0s\n",
      "[CV] END ...............C=0.2782559402207126, kernel=sigmoid; total time=   0.0s\n",
      "[CV] END ...............C=0.2782559402207126, kernel=sigmoid; total time=   0.0s\n",
      "[CV] END ...................C=2.154434690031882, kernel=poly; total time=   0.0s\n",
      "[CV] END ...................C=2.154434690031882, kernel=poly; total time=   0.0s\n",
      "[CV] END ...................C=2.154434690031882, kernel=poly; total time=   0.0s\n",
      "[CV] END ...................C=2.154434690031882, kernel=poly; total time=   0.0s\n",
      "[CV] END ...................C=2.154434690031882, kernel=poly; total time=   0.0s\n",
      "[CV] END ....................C=2.154434690031882, kernel=rbf; total time=   0.0s\n",
      "[CV] END ..................C=129.15496650148827, kernel=poly; total time=   0.0s\n",
      "[CV] END ..................C=129.15496650148827, kernel=poly; total time=   0.0s\n",
      "[CV] END ..................C=129.15496650148827, kernel=poly; total time=   0.0s\n",
      "[CV] END ..................C=129.15496650148827, kernel=poly; total time=   0.0s\n",
      "[CV] END ..................C=129.15496650148827, kernel=poly; total time=   0.0s\n",
      "[CV] END ...................C=129.15496650148827, kernel=rbf; total time=   0.0s\n",
      "[CV] END ...................C=129.15496650148827, kernel=rbf; total time=   0.0s\n",
      "[CV] END ...................C=129.15496650148827, kernel=rbf; total time=   0.0s\n",
      "[CV] END ..............................C=1000.0, kernel=poly; total time=   0.2s\n",
      "[CV] END ...............learning_rate=0.0001, n_estimators=5; total time=   0.0s\n",
      "[CV] END ..............learning_rate=0.0001, n_estimators=10; total time=   0.0s\n",
      "[CV] END ..............learning_rate=0.0001, n_estimators=20; total time=   0.1s\n",
      "[CV] END ..............learning_rate=0.0001, n_estimators=20; total time=   0.1s\n",
      "[CV] END ..............learning_rate=0.0001, n_estimators=50; total time=   0.2s\n",
      "[CV] END ..............learning_rate=0.0001, n_estimators=50; total time=   0.2s\n",
      "[CV] END .............learning_rate=0.0001, n_estimators=100; total time=   0.3s\n",
      "[CV] END .............learning_rate=0.0001, n_estimators=100; total time=   0.3s\n",
      "[CV] END .............learning_rate=0.0001, n_estimators=150; total time=   0.5s\n",
      "[CV] END .............learning_rate=0.0001, n_estimators=150; total time=   0.5s\n",
      "[CV] END ...............learning_rate=0.001, n_estimators=50; total time=   0.2s\n",
      "[CV] END ...............learning_rate=0.001, n_estimators=50; total time=   0.2s\n",
      "[CV] END ...............learning_rate=0.001, n_estimators=50; total time=   0.2s\n",
      "[CV] END ...............learning_rate=0.001, n_estimators=50; total time=   0.2s\n",
      "[CV] END ..............learning_rate=0.001, n_estimators=100; total time=   0.4s\n",
      "[CV] END ..............learning_rate=0.001, n_estimators=100; total time=   0.4s\n",
      "[CV] END ..............learning_rate=0.001, n_estimators=150; total time=   0.7s\n",
      "[CV] END ..............learning_rate=0.001, n_estimators=150; total time=   0.5s\n",
      "[CV] END ................learning_rate=0.01, n_estimators=50; total time=   0.2s\n",
      "[CV] END ................learning_rate=0.01, n_estimators=50; total time=   0.2s\n",
      "[CV] END ................learning_rate=0.01, n_estimators=50; total time=   0.2s\n",
      "[CV] END ................learning_rate=0.01, n_estimators=50; total time=   0.2s\n",
      "[CV] END ................learning_rate=0.01, n_estimators=70; total time=   0.2s\n",
      "[CV] END ...............learning_rate=0.01, n_estimators=100; total time=   0.3s\n",
      "[CV] END ...............learning_rate=0.01, n_estimators=100; total time=   0.3s\n",
      "[CV] END ...............learning_rate=0.01, n_estimators=150; total time=   0.5s\n",
      "[CV] END ...............learning_rate=0.01, n_estimators=150; total time=   0.5s\n",
      "[CV] END ...............learning_rate=0.01, n_estimators=200; total time=   0.6s\n",
      "[CV] END .................learning_rate=0.1, n_estimators=50; total time=   0.2s\n",
      "[CV] END .................learning_rate=0.1, n_estimators=50; total time=   0.2s\n",
      "[CV] END .................learning_rate=0.1, n_estimators=70; total time=   0.2s\n",
      "[CV] END ................learning_rate=0.1, n_estimators=100; total time=   0.3s\n",
      "[CV] END ................learning_rate=0.1, n_estimators=150; total time=   0.5s\n",
      "[CV] END ................learning_rate=0.1, n_estimators=200; total time=   0.7s\n",
      "[CV] END ................learning_rate=0.1, n_estimators=200; total time=   0.7s\n",
      "[CV] END .................learning_rate=0.5, n_estimators=70; total time=   0.3s\n",
      "[CV] END ................learning_rate=0.5, n_estimators=100; total time=   0.3s\n",
      "[CV] END ................learning_rate=0.5, n_estimators=100; total time=   0.3s\n",
      "[CV] END ................learning_rate=0.5, n_estimators=150; total time=   0.5s\n",
      "[CV] END ................learning_rate=0.5, n_estimators=200; total time=   0.6s\n",
      "[21:58:21] WARNING: ../src/learner.cc:1115: Starting in XGBoost 1.3.0, the default evaluation metric used with the objective 'binary:logistic' was changed from 'error' to 'logloss'. Explicitly set eval_metric if you'd like to restore the old behavior.\n",
      "[CV] END ..................learning_rate=0.0001, max_depth=2; total time=  25.2s\n",
      "[21:58:46] WARNING: ../src/learner.cc:1115: Starting in XGBoost 1.3.0, the default evaluation metric used with the objective 'binary:logistic' was changed from 'error' to 'logloss'. Explicitly set eval_metric if you'd like to restore the old behavior.\n",
      "[CV] END ..................learning_rate=0.0001, max_depth=2; total time=  25.2s\n",
      "[21:59:12] WARNING: ../src/learner.cc:1115: Starting in XGBoost 1.3.0, the default evaluation metric used with the objective 'binary:logistic' was changed from 'error' to 'logloss'. Explicitly set eval_metric if you'd like to restore the old behavior.\n",
      "[CV] END ..................learning_rate=0.0001, max_depth=3; total time=  41.4s\n",
      "[21:59:53] WARNING: ../src/learner.cc:1115: Starting in XGBoost 1.3.0, the default evaluation metric used with the objective 'binary:logistic' was changed from 'error' to 'logloss'. Explicitly set eval_metric if you'd like to restore the old behavior.\n",
      "[CV] END ..................learning_rate=0.0001, max_depth=4; total time=  38.7s\n",
      "[22:00:32] WARNING: ../src/learner.cc:1115: Starting in XGBoost 1.3.0, the default evaluation metric used with the objective 'binary:logistic' was changed from 'error' to 'logloss'. Explicitly set eval_metric if you'd like to restore the old behavior.\n",
      "[CV] END ..................learning_rate=0.0001, max_depth=5; total time=  53.3s\n",
      "[22:01:26] WARNING: ../src/learner.cc:1115: Starting in XGBoost 1.3.0, the default evaluation metric used with the objective 'binary:logistic' was changed from 'error' to 'logloss'. Explicitly set eval_metric if you'd like to restore the old behavior."
     ]
    },
    {
     "name": "stderr",
     "output_type": "stream",
     "text": [
      "/opt/conda/lib/python3.7/site-packages/sklearn/discriminant_analysis.py:878: UserWarning: Variables are collinear\n",
      "  warnings.warn(\"Variables are collinear\")\n",
      "/opt/conda/lib/python3.7/site-packages/sklearn/discriminant_analysis.py:878: UserWarning: Variables are collinear\n",
      "  warnings.warn(\"Variables are collinear\")\n",
      "/opt/conda/lib/python3.7/site-packages/sklearn/discriminant_analysis.py:878: UserWarning: Variables are collinear\n",
      "  warnings.warn(\"Variables are collinear\")\n",
      "/opt/conda/lib/python3.7/site-packages/sklearn/discriminant_analysis.py:878: UserWarning: Variables are collinear\n",
      "  warnings.warn(\"Variables are collinear\")\n",
      "/opt/conda/lib/python3.7/site-packages/sklearn/discriminant_analysis.py:878: UserWarning: Variables are collinear\n",
      "  warnings.warn(\"Variables are collinear\")\n",
      "/opt/conda/lib/python3.7/site-packages/sklearn/discriminant_analysis.py:878: UserWarning: Variables are collinear\n",
      "  warnings.warn(\"Variables are collinear\")\n",
      "/opt/conda/lib/python3.7/site-packages/sklearn/discriminant_analysis.py:878: UserWarning: Variables are collinear\n",
      "  warnings.warn(\"Variables are collinear\")\n",
      "/opt/conda/lib/python3.7/site-packages/sklearn/discriminant_analysis.py:903: RuntimeWarning: invalid value encountered in power\n",
      "  X2 = np.dot(Xm, R * (S ** (-0.5)))\n",
      "/opt/conda/lib/python3.7/site-packages/sklearn/discriminant_analysis.py:906: RuntimeWarning: invalid value encountered in log\n",
      "  u = np.asarray([np.sum(np.log(s)) for s in self.scalings_])\n",
      "/opt/conda/lib/python3.7/site-packages/sklearn/discriminant_analysis.py:903: RuntimeWarning: invalid value encountered in power\n",
      "  X2 = np.dot(Xm, R * (S ** (-0.5)))\n",
      "/opt/conda/lib/python3.7/site-packages/sklearn/discriminant_analysis.py:906: RuntimeWarning: invalid value encountered in log\n",
      "  u = np.asarray([np.sum(np.log(s)) for s in self.scalings_])\n",
      "/opt/conda/lib/python3.7/site-packages/sklearn/discriminant_analysis.py:903: RuntimeWarning: invalid value encountered in power\n",
      "  X2 = np.dot(Xm, R * (S ** (-0.5)))\n",
      "/opt/conda/lib/python3.7/site-packages/sklearn/discriminant_analysis.py:906: RuntimeWarning: invalid value encountered in log\n",
      "  u = np.asarray([np.sum(np.log(s)) for s in self.scalings_])\n",
      "/opt/conda/lib/python3.7/site-packages/sklearn/discriminant_analysis.py:903: RuntimeWarning: invalid value encountered in power\n",
      "  X2 = np.dot(Xm, R * (S ** (-0.5)))\n",
      "/opt/conda/lib/python3.7/site-packages/sklearn/discriminant_analysis.py:906: RuntimeWarning: invalid value encountered in log\n",
      "  u = np.asarray([np.sum(np.log(s)) for s in self.scalings_])\n",
      "/opt/conda/lib/python3.7/site-packages/sklearn/discriminant_analysis.py:903: RuntimeWarning: invalid value encountered in power\n",
      "  X2 = np.dot(Xm, R * (S ** (-0.5)))\n",
      "/opt/conda/lib/python3.7/site-packages/sklearn/discriminant_analysis.py:906: RuntimeWarning: invalid value encountered in log\n",
      "  u = np.asarray([np.sum(np.log(s)) for s in self.scalings_])\n",
      "/opt/conda/lib/python3.7/site-packages/sklearn/discriminant_analysis.py:903: RuntimeWarning: invalid value encountered in power\n",
      "  X2 = np.dot(Xm, R * (S ** (-0.5)))\n",
      "/opt/conda/lib/python3.7/site-packages/sklearn/discriminant_analysis.py:906: RuntimeWarning: invalid value encountered in log\n",
      "  u = np.asarray([np.sum(np.log(s)) for s in self.scalings_])\n",
      "/opt/conda/lib/python3.7/site-packages/sklearn/discriminant_analysis.py:903: RuntimeWarning: invalid value encountered in power\n",
      "  X2 = np.dot(Xm, R * (S ** (-0.5)))\n",
      "/opt/conda/lib/python3.7/site-packages/sklearn/discriminant_analysis.py:906: RuntimeWarning: invalid value encountered in log\n",
      "  u = np.asarray([np.sum(np.log(s)) for s in self.scalings_])\n",
      "/opt/conda/lib/python3.7/site-packages/sklearn/discriminant_analysis.py:903: RuntimeWarning: invalid value encountered in power\n",
      "  X2 = np.dot(Xm, R * (S ** (-0.5)))\n",
      "/opt/conda/lib/python3.7/site-packages/sklearn/discriminant_analysis.py:906: RuntimeWarning: invalid value encountered in log\n",
      "  u = np.asarray([np.sum(np.log(s)) for s in self.scalings_])\n",
      "/opt/conda/lib/python3.7/site-packages/sklearn/discriminant_analysis.py:878: UserWarning: Variables are collinear\n",
      "  warnings.warn(\"Variables are collinear\")\n",
      "/opt/conda/lib/python3.7/site-packages/sklearn/discriminant_analysis.py:903: RuntimeWarning: invalid value encountered in power\n",
      "  X2 = np.dot(Xm, R * (S ** (-0.5)))\n",
      "/opt/conda/lib/python3.7/site-packages/sklearn/discriminant_analysis.py:906: RuntimeWarning: invalid value encountered in log\n",
      "  u = np.asarray([np.sum(np.log(s)) for s in self.scalings_])\n",
      "/opt/conda/lib/python3.7/site-packages/xgboost/sklearn.py:1224: UserWarning: The use of label encoder in XGBClassifier is deprecated and will be removed in a future release. To remove this warning, do the following: 1) Pass option use_label_encoder=False when constructing XGBClassifier object; and 2) Encode your labels (y) as integers starting with 0, i.e. 0, 1, 2, ..., [num_class - 1].\n",
      "  warnings.warn(label_encoder_deprecation_msg, UserWarning)\n",
      "/opt/conda/lib/python3.7/site-packages/xgboost/sklearn.py:1224: UserWarning: The use of label encoder in XGBClassifier is deprecated and will be removed in a future release. To remove this warning, do the following: 1) Pass option use_label_encoder=False when constructing XGBClassifier object; and 2) Encode your labels (y) as integers starting with 0, i.e. 0, 1, 2, ..., [num_class - 1].\n",
      "  warnings.warn(label_encoder_deprecation_msg, UserWarning)\n",
      "/opt/conda/lib/python3.7/site-packages/xgboost/sklearn.py:1224: UserWarning: The use of label encoder in XGBClassifier is deprecated and will be removed in a future release. To remove this warning, do the following: 1) Pass option use_label_encoder=False when constructing XGBClassifier object; and 2) Encode your labels (y) as integers starting with 0, i.e. 0, 1, 2, ..., [num_class - 1].\n",
      "  warnings.warn(label_encoder_deprecation_msg, UserWarning)\n",
      "/opt/conda/lib/python3.7/site-packages/xgboost/sklearn.py:1224: UserWarning: The use of label encoder in XGBClassifier is deprecated and will be removed in a future release. To remove this warning, do the following: 1) Pass option use_label_encoder=False when constructing XGBClassifier object; and 2) Encode your labels (y) as integers starting with 0, i.e. 0, 1, 2, ..., [num_class - 1].\n",
      "  warnings.warn(label_encoder_deprecation_msg, UserWarning)\n",
      "/opt/conda/lib/python3.7/site-packages/xgboost/sklearn.py:1224: UserWarning: The use of label encoder in XGBClassifier is deprecated and will be removed in a future release. To remove this warning, do the following: 1) Pass option use_label_encoder=False when constructing XGBClassifier object; and 2) Encode your labels (y) as integers starting with 0, i.e. 0, 1, 2, ..., [num_class - 1].\n",
      "  warnings.warn(label_encoder_deprecation_msg, UserWarning)\n",
      "/opt/conda/lib/python3.7/site-packages/xgboost/sklearn.py:1224: UserWarning: The use of label encoder in XGBClassifier is deprecated and will be removed in a future release. To remove this warning, do the following: 1) Pass option use_label_encoder=False when constructing XGBClassifier object; and 2) Encode your labels (y) as integers starting with 0, i.e. 0, 1, 2, ..., [num_class - 1].\n",
      "  warnings.warn(label_encoder_deprecation_msg, UserWarning)\n",
      "/opt/conda/lib/python3.7/site-packages/xgboost/sklearn.py:1224: UserWarning: The use of label encoder in XGBClassifier is deprecated and will be removed in a future release. To remove this warning, do the following: 1) Pass option use_label_encoder=False when constructing XGBClassifier object; and 2) Encode your labels (y) as integers starting with 0, i.e. 0, 1, 2, ..., [num_class - 1].\n",
      "  warnings.warn(label_encoder_deprecation_msg, UserWarning)\n",
      "/opt/conda/lib/python3.7/site-packages/xgboost/sklearn.py:1224: UserWarning: The use of label encoder in XGBClassifier is deprecated and will be removed in a future release. To remove this warning, do the following: 1) Pass option use_label_encoder=False when constructing XGBClassifier object; and 2) Encode your labels (y) as integers starting with 0, i.e. 0, 1, 2, ..., [num_class - 1].\n",
      "  warnings.warn(label_encoder_deprecation_msg, UserWarning)\n",
      "/opt/conda/lib/python3.7/site-packages/xgboost/sklearn.py:1224: UserWarning: The use of label encoder in XGBClassifier is deprecated and will be removed in a future release. To remove this warning, do the following: 1) Pass option use_label_encoder=False when constructing XGBClassifier object; and 2) Encode your labels (y) as integers starting with 0, i.e. 0, 1, 2, ..., [num_class - 1].\n",
      "  warnings.warn(label_encoder_deprecation_msg, UserWarning)\n",
      "/opt/conda/lib/python3.7/site-packages/sklearn/discriminant_analysis.py:878: UserWarning: Variables are collinear\n",
      "  warnings.warn(\"Variables are collinear\")\n",
      "/opt/conda/lib/python3.7/site-packages/sklearn/discriminant_analysis.py:878: UserWarning: Variables are collinear\n",
      "  warnings.warn(\"Variables are collinear\")\n",
      "/opt/conda/lib/python3.7/site-packages/sklearn/discriminant_analysis.py:878: UserWarning: Variables are collinear\n",
      "  warnings.warn(\"Variables are collinear\")\n",
      "/opt/conda/lib/python3.7/site-packages/sklearn/discriminant_analysis.py:878: UserWarning: Variables are collinear\n",
      "  warnings.warn(\"Variables are collinear\")\n",
      "/opt/conda/lib/python3.7/site-packages/sklearn/discriminant_analysis.py:878: UserWarning: Variables are collinear\n",
      "  warnings.warn(\"Variables are collinear\")\n",
      "/opt/conda/lib/python3.7/site-packages/sklearn/discriminant_analysis.py:878: UserWarning: Variables are collinear\n",
      "  warnings.warn(\"Variables are collinear\")\n",
      "/opt/conda/lib/python3.7/site-packages/sklearn/discriminant_analysis.py:878: UserWarning: Variables are collinear\n",
      "  warnings.warn(\"Variables are collinear\")\n",
      "/opt/conda/lib/python3.7/site-packages/sklearn/discriminant_analysis.py:878: UserWarning: Variables are collinear\n",
      "  warnings.warn(\"Variables are collinear\")\n",
      "/opt/conda/lib/python3.7/site-packages/sklearn/discriminant_analysis.py:878: UserWarning: Variables are collinear\n",
      "  warnings.warn(\"Variables are collinear\")\n",
      "/opt/conda/lib/python3.7/site-packages/sklearn/discriminant_analysis.py:878: UserWarning: Variables are collinear\n",
      "  warnings.warn(\"Variables are collinear\")\n",
      "/opt/conda/lib/python3.7/site-packages/sklearn/discriminant_analysis.py:903: RuntimeWarning: invalid value encountered in power\n",
      "  X2 = np.dot(Xm, R * (S ** (-0.5)))\n",
      "/opt/conda/lib/python3.7/site-packages/sklearn/discriminant_analysis.py:906: RuntimeWarning: invalid value encountered in log\n",
      "  u = np.asarray([np.sum(np.log(s)) for s in self.scalings_])\n",
      "/opt/conda/lib/python3.7/site-packages/sklearn/discriminant_analysis.py:903: RuntimeWarning: invalid value encountered in power\n",
      "  X2 = np.dot(Xm, R * (S ** (-0.5)))\n",
      "/opt/conda/lib/python3.7/site-packages/sklearn/discriminant_analysis.py:906: RuntimeWarning: invalid value encountered in log\n",
      "  u = np.asarray([np.sum(np.log(s)) for s in self.scalings_])\n",
      "/opt/conda/lib/python3.7/site-packages/sklearn/discriminant_analysis.py:903: RuntimeWarning: invalid value encountered in power\n",
      "  X2 = np.dot(Xm, R * (S ** (-0.5)))\n",
      "/opt/conda/lib/python3.7/site-packages/sklearn/discriminant_analysis.py:906: RuntimeWarning: invalid value encountered in log\n",
      "  u = np.asarray([np.sum(np.log(s)) for s in self.scalings_])\n",
      "/opt/conda/lib/python3.7/site-packages/sklearn/discriminant_analysis.py:903: RuntimeWarning: invalid value encountered in power\n",
      "  X2 = np.dot(Xm, R * (S ** (-0.5)))\n",
      "/opt/conda/lib/python3.7/site-packages/sklearn/discriminant_analysis.py:906: RuntimeWarning: invalid value encountered in log\n",
      "  u = np.asarray([np.sum(np.log(s)) for s in self.scalings_])\n",
      "/opt/conda/lib/python3.7/site-packages/sklearn/discriminant_analysis.py:878: UserWarning: Variables are collinear\n",
      "  warnings.warn(\"Variables are collinear\")\n",
      "/opt/conda/lib/python3.7/site-packages/sklearn/discriminant_analysis.py:903: RuntimeWarning: invalid value encountered in power\n",
      "  X2 = np.dot(Xm, R * (S ** (-0.5)))\n",
      "/opt/conda/lib/python3.7/site-packages/sklearn/discriminant_analysis.py:906: RuntimeWarning: invalid value encountered in log\n",
      "  u = np.asarray([np.sum(np.log(s)) for s in self.scalings_])\n",
      "/opt/conda/lib/python3.7/site-packages/xgboost/sklearn.py:1224: UserWarning: The use of label encoder in XGBClassifier is deprecated and will be removed in a future release. To remove this warning, do the following: 1) Pass option use_label_encoder=False when constructing XGBClassifier object; and 2) Encode your labels (y) as integers starting with 0, i.e. 0, 1, 2, ..., [num_class - 1].\n",
      "  warnings.warn(label_encoder_deprecation_msg, UserWarning)\n",
      "/opt/conda/lib/python3.7/site-packages/xgboost/sklearn.py:1224: UserWarning: The use of label encoder in XGBClassifier is deprecated and will be removed in a future release. To remove this warning, do the following: 1) Pass option use_label_encoder=False when constructing XGBClassifier object; and 2) Encode your labels (y) as integers starting with 0, i.e. 0, 1, 2, ..., [num_class - 1].\n",
      "  warnings.warn(label_encoder_deprecation_msg, UserWarning)\n",
      "/opt/conda/lib/python3.7/site-packages/xgboost/sklearn.py:1224: UserWarning: The use of label encoder in XGBClassifier is deprecated and will be removed in a future release. To remove this warning, do the following: 1) Pass option use_label_encoder=False when constructing XGBClassifier object; and 2) Encode your labels (y) as integers starting with 0, i.e. 0, 1, 2, ..., [num_class - 1].\n",
      "  warnings.warn(label_encoder_deprecation_msg, UserWarning)\n",
      "/opt/conda/lib/python3.7/site-packages/xgboost/sklearn.py:1224: UserWarning: The use of label encoder in XGBClassifier is deprecated and will be removed in a future release. To remove this warning, do the following: 1) Pass option use_label_encoder=False when constructing XGBClassifier object; and 2) Encode your labels (y) as integers starting with 0, i.e. 0, 1, 2, ..., [num_class - 1].\n",
      "  warnings.warn(label_encoder_deprecation_msg, UserWarning)\n",
      "/opt/conda/lib/python3.7/site-packages/xgboost/sklearn.py:1224: UserWarning: The use of label encoder in XGBClassifier is deprecated and will be removed in a future release. To remove this warning, do the following: 1) Pass option use_label_encoder=False when constructing XGBClassifier object; and 2) Encode your labels (y) as integers starting with 0, i.e. 0, 1, 2, ..., [num_class - 1].\n",
      "  warnings.warn(label_encoder_deprecation_msg, UserWarning)\n",
      "/opt/conda/lib/python3.7/site-packages/xgboost/sklearn.py:1224: UserWarning: The use of label encoder in XGBClassifier is deprecated and will be removed in a future release. To remove this warning, do the following: 1) Pass option use_label_encoder=False when constructing XGBClassifier object; and 2) Encode your labels (y) as integers starting with 0, i.e. 0, 1, 2, ..., [num_class - 1].\n",
      "  warnings.warn(label_encoder_deprecation_msg, UserWarning)\n",
      "/opt/conda/lib/python3.7/site-packages/xgboost/sklearn.py:1224: UserWarning: The use of label encoder in XGBClassifier is deprecated and will be removed in a future release. To remove this warning, do the following: 1) Pass option use_label_encoder=False when constructing XGBClassifier object; and 2) Encode your labels (y) as integers starting with 0, i.e. 0, 1, 2, ..., [num_class - 1].\n",
      "  warnings.warn(label_encoder_deprecation_msg, UserWarning)\n",
      "/opt/conda/lib/python3.7/site-packages/xgboost/sklearn.py:1224: UserWarning: The use of label encoder in XGBClassifier is deprecated and will be removed in a future release. To remove this warning, do the following: 1) Pass option use_label_encoder=False when constructing XGBClassifier object; and 2) Encode your labels (y) as integers starting with 0, i.e. 0, 1, 2, ..., [num_class - 1].\n",
      "  warnings.warn(label_encoder_deprecation_msg, UserWarning)\n",
      "/opt/conda/lib/python3.7/site-packages/xgboost/sklearn.py:1224: UserWarning: The use of label encoder in XGBClassifier is deprecated and will be removed in a future release. To remove this warning, do the following: 1) Pass option use_label_encoder=False when constructing XGBClassifier object; and 2) Encode your labels (y) as integers starting with 0, i.e. 0, 1, 2, ..., [num_class - 1].\n",
      "  warnings.warn(label_encoder_deprecation_msg, UserWarning)\n",
      "/opt/conda/lib/python3.7/site-packages/xgboost/sklearn.py:1224: UserWarning: The use of label encoder in XGBClassifier is deprecated and will be removed in a future release. To remove this warning, do the following: 1) Pass option use_label_encoder=False when constructing XGBClassifier object; and 2) Encode your labels (y) as integers starting with 0, i.e. 0, 1, 2, ..., [num_class - 1].\n",
      "  warnings.warn(label_encoder_deprecation_msg, UserWarning)\n",
      "/opt/conda/lib/python3.7/site-packages/xgboost/sklearn.py:1224: UserWarning: The use of label encoder in XGBClassifier is deprecated and will be removed in a future release. To remove this warning, do the following: 1) Pass option use_label_encoder=False when constructing XGBClassifier object; and 2) Encode your labels (y) as integers starting with 0, i.e. 0, 1, 2, ..., [num_class - 1].\n",
      "  warnings.warn(label_encoder_deprecation_msg, UserWarning)\n"
     ]
    },
    {
     "name": "stdout",
     "output_type": "stream",
     "text": [
      "[CV] END ...............................C=1e-05, kernel=poly; total time=   0.0s\n",
      "[CV] END .................C=0.004641588833612777, kernel=rbf; total time=   0.0s\n",
      "[CV] END .................C=0.004641588833612777, kernel=rbf; total time=   0.0s\n",
      "[CV] END .................C=0.004641588833612777, kernel=rbf; total time=   0.0s\n",
      "[CV] END .............C=0.004641588833612777, kernel=sigmoid; total time=   0.0s\n",
      "[CV] END ..................C=0.03593813663804626, kernel=rbf; total time=   0.0s\n",
      "[CV] END ..................C=0.03593813663804626, kernel=rbf; total time=   0.0s\n",
      "[CV] END ..............C=0.03593813663804626, kernel=sigmoid; total time=   0.0s\n",
      "[CV] END ..............C=0.03593813663804626, kernel=sigmoid; total time=   0.0s\n",
      "[CV] END ....................C=2.154434690031882, kernel=rbf; total time=   0.0s\n",
      "[CV] END ....................C=2.154434690031882, kernel=rbf; total time=   0.0s\n",
      "[CV] END ....................C=2.154434690031882, kernel=rbf; total time=   0.0s\n",
      "[CV] END ....................C=2.154434690031882, kernel=rbf; total time=   0.0s\n",
      "[CV] END ................C=2.154434690031882, kernel=sigmoid; total time=   0.0s\n",
      "[CV] END ................C=2.154434690031882, kernel=sigmoid; total time=   0.0s\n",
      "[CV] END ................C=2.154434690031882, kernel=sigmoid; total time=   0.0s\n",
      "[CV] END ................C=2.154434690031882, kernel=sigmoid; total time=   0.0s\n",
      "[CV] END ...................C=129.15496650148827, kernel=rbf; total time=   0.0s\n",
      "[CV] END ...................C=129.15496650148827, kernel=rbf; total time=   0.0s\n",
      "[CV] END ...............C=129.15496650148827, kernel=sigmoid; total time=   0.0s\n",
      "[CV] END ...............C=129.15496650148827, kernel=sigmoid; total time=   0.0s\n",
      "[CV] END ...............C=129.15496650148827, kernel=sigmoid; total time=   0.0s\n",
      "[CV] END ...............C=129.15496650148827, kernel=sigmoid; total time=   0.0s\n",
      "[CV] END ...............C=129.15496650148827, kernel=sigmoid; total time=   0.0s\n",
      "[CV] END ..............................C=1000.0, kernel=poly; total time=   0.2s\n",
      "[CV] END ..............................C=1000.0, kernel=poly; total time=   0.2s\n",
      "[CV] END ...............learning_rate=0.0001, n_estimators=5; total time=   0.0s\n",
      "[CV] END ..............learning_rate=0.0001, n_estimators=10; total time=   0.0s\n",
      "[CV] END ..............learning_rate=0.0001, n_estimators=20; total time=   0.1s\n",
      "[CV] END ..............learning_rate=0.0001, n_estimators=50; total time=   0.2s\n",
      "[CV] END ..............learning_rate=0.0001, n_estimators=70; total time=   0.2s\n",
      "[CV] END ..............learning_rate=0.0001, n_estimators=70; total time=   0.2s\n",
      "[CV] END .............learning_rate=0.0001, n_estimators=200; total time=   0.6s\n",
      "[CV] END .............learning_rate=0.0001, n_estimators=200; total time=   0.7s\n",
      "[CV] END .............learning_rate=0.0001, n_estimators=200; total time=   0.7s\n",
      "[CV] END .............learning_rate=0.0001, n_estimators=200; total time=   0.9s\n",
      "[CV] END ..............learning_rate=0.001, n_estimators=200; total time=   0.6s\n",
      "[CV] END ..............learning_rate=0.001, n_estimators=200; total time=   0.6s\n",
      "[CV] END ..............learning_rate=0.001, n_estimators=200; total time=   0.6s\n",
      "[CV] END ..............learning_rate=0.001, n_estimators=200; total time=   0.6s\n",
      "[CV] END ...............learning_rate=0.01, n_estimators=100; total time=   0.3s\n",
      "[CV] END ...............learning_rate=0.01, n_estimators=150; total time=   0.5s\n",
      "[CV] END ...............learning_rate=0.01, n_estimators=200; total time=   0.6s\n",
      "[CV] END .................learning_rate=0.1, n_estimators=10; total time=   0.0s\n",
      "[CV] END .................learning_rate=0.1, n_estimators=10; total time=   0.0s\n",
      "[CV] END .................learning_rate=0.1, n_estimators=20; total time=   0.1s\n",
      "[CV] END .................learning_rate=0.1, n_estimators=20; total time=   0.1s\n",
      "[CV] END .................learning_rate=0.1, n_estimators=50; total time=   0.2s\n",
      "[CV] END .................learning_rate=0.1, n_estimators=50; total time=   0.2s\n",
      "[CV] END .................learning_rate=0.1, n_estimators=70; total time=   0.2s\n",
      "[CV] END ................learning_rate=0.1, n_estimators=100; total time=   0.3s\n",
      "[CV] END ................learning_rate=0.1, n_estimators=150; total time=   0.5s\n",
      "[CV] END ................learning_rate=0.1, n_estimators=150; total time=   0.5s\n",
      "[CV] END ................learning_rate=0.1, n_estimators=200; total time=   0.7s\n",
      "[CV] END .................learning_rate=0.5, n_estimators=50; total time=   0.2s\n",
      "[CV] END .................learning_rate=0.5, n_estimators=50; total time=   0.2s\n",
      "[CV] END .................learning_rate=0.5, n_estimators=70; total time=   0.2s\n",
      "[CV] END ................learning_rate=0.5, n_estimators=100; total time=   0.3s\n",
      "[CV] END ................learning_rate=0.5, n_estimators=150; total time=   0.5s\n",
      "[CV] END ................learning_rate=0.5, n_estimators=200; total time=   0.6s\n",
      "[CV] END ................learning_rate=0.5, n_estimators=200; total time=   0.5s\n",
      "[21:58:21] WARNING: ../src/learner.cc:1115: Starting in XGBoost 1.3.0, the default evaluation metric used with the objective 'binary:logistic' was changed from 'error' to 'logloss'. Explicitly set eval_metric if you'd like to restore the old behavior.\n",
      "[CV] END ..................learning_rate=0.0001, max_depth=2; total time=  26.2s\n",
      "[21:58:47] WARNING: ../src/learner.cc:1115: Starting in XGBoost 1.3.0, the default evaluation metric used with the objective 'binary:logistic' was changed from 'error' to 'logloss'. Explicitly set eval_metric if you'd like to restore the old behavior.\n",
      "[CV] END ..................learning_rate=0.0001, max_depth=3; total time=  42.4s\n",
      "[21:59:30] WARNING: ../src/learner.cc:1115: Starting in XGBoost 1.3.0, the default evaluation metric used with the objective 'binary:logistic' was changed from 'error' to 'logloss'. Explicitly set eval_metric if you'd like to restore the old behavior.\n",
      "[CV] END ..................learning_rate=0.0001, max_depth=4; total time= 1.0min\n",
      "[22:00:33] WARNING: ../src/learner.cc:1115: Starting in XGBoost 1.3.0, the default evaluation metric used with the objective 'binary:logistic' was changed from 'error' to 'logloss'. Explicitly set eval_metric if you'd like to restore the old behavior.\n",
      "[CV] END ..................learning_rate=0.0001, max_depth=5; total time=  45.5s\n",
      "[22:01:18] WARNING: ../src/learner.cc:1115: Starting in XGBoost 1.3.0, the default evaluation metric used with the objective 'binary:logistic' was changed from 'error' to 'logloss'. Explicitly set eval_metric if you'd like to restore the old behavior.\n",
      "[CV] END ..................learning_rate=0.0001, max_depth=5; total time= 1.2min\n",
      "[22:02:31] WARNING: ../src/learner.cc:1115: Starting in XGBoost 1.3.0, the default evaluation metric used with the objective 'binary:logistic' was changed from 'error' to 'logloss'. Explicitly set eval_metric if you'd like to restore the old behavior.\n",
      "[CV] END .................learning_rate=0.0001, max_depth=10; total time= 1.5min\n",
      "[22:04:01] WARNING: ../src/learner.cc:1115: Starting in XGBoost 1.3.0, the default evaluation metric used with the objective 'binary:logistic' was changed from 'error' to 'logloss'. Explicitly set eval_metric if you'd like to restore the old behavior.\n",
      "[CV] END .................learning_rate=0.0001, max_depth=15; total time= 1.7min\n",
      "[22:05:45] WARNING: ../src/learner.cc:1115: Starting in XGBoost 1.3.0, the default evaluation metric used with the objective 'binary:logistic' was changed from 'error' to 'logloss'. Explicitly set eval_metric if you'd like to restore the old behavior.\n",
      "[CV] END ...................learning_rate=0.001, max_depth=2; total time=  26.1s\n",
      "[22:06:11] WARNING: ../src/learner.cc:1115: Starting in XGBoost 1.3.0, the default evaluation metric used with the objective 'binary:logistic' was changed from 'error' to 'logloss'. Explicitly set eval_metric if you'd like to restore the old behavior.\n",
      "[CV] END ...................learning_rate=0.001, max_depth=3; total time=  35.6s\n",
      "[22:06:47] WARNING: ../src/learner.cc:1115: Starting in XGBoost 1.3.0, the default evaluation metric used with the objective 'binary:logistic' was changed from 'error' to 'logloss'. Explicitly set eval_metric if you'd like to restore the old behavior.\n",
      "[CV] END ...................learning_rate=0.001, max_depth=3; total time=  42.7s"
     ]
    },
    {
     "name": "stderr",
     "output_type": "stream",
     "text": [
      "/opt/conda/lib/python3.7/site-packages/sklearn/discriminant_analysis.py:878: UserWarning: Variables are collinear\n",
      "  warnings.warn(\"Variables are collinear\")\n",
      "/opt/conda/lib/python3.7/site-packages/sklearn/discriminant_analysis.py:903: RuntimeWarning: invalid value encountered in power\n",
      "  X2 = np.dot(Xm, R * (S ** (-0.5)))\n",
      "/opt/conda/lib/python3.7/site-packages/sklearn/discriminant_analysis.py:906: RuntimeWarning: invalid value encountered in log\n",
      "  u = np.asarray([np.sum(np.log(s)) for s in self.scalings_])\n",
      "/opt/conda/lib/python3.7/site-packages/sklearn/discriminant_analysis.py:903: RuntimeWarning: invalid value encountered in power\n",
      "  X2 = np.dot(Xm, R * (S ** (-0.5)))\n",
      "/opt/conda/lib/python3.7/site-packages/sklearn/discriminant_analysis.py:906: RuntimeWarning: invalid value encountered in log\n",
      "  u = np.asarray([np.sum(np.log(s)) for s in self.scalings_])\n",
      "/opt/conda/lib/python3.7/site-packages/sklearn/discriminant_analysis.py:903: RuntimeWarning: invalid value encountered in power\n",
      "  X2 = np.dot(Xm, R * (S ** (-0.5)))\n",
      "/opt/conda/lib/python3.7/site-packages/sklearn/discriminant_analysis.py:906: RuntimeWarning: invalid value encountered in log\n",
      "  u = np.asarray([np.sum(np.log(s)) for s in self.scalings_])\n",
      "/opt/conda/lib/python3.7/site-packages/sklearn/discriminant_analysis.py:903: RuntimeWarning: invalid value encountered in power\n",
      "  X2 = np.dot(Xm, R * (S ** (-0.5)))\n",
      "/opt/conda/lib/python3.7/site-packages/sklearn/discriminant_analysis.py:906: RuntimeWarning: invalid value encountered in log\n",
      "  u = np.asarray([np.sum(np.log(s)) for s in self.scalings_])\n",
      "/opt/conda/lib/python3.7/site-packages/sklearn/discriminant_analysis.py:903: RuntimeWarning: invalid value encountered in power\n",
      "  X2 = np.dot(Xm, R * (S ** (-0.5)))\n",
      "/opt/conda/lib/python3.7/site-packages/sklearn/discriminant_analysis.py:906: RuntimeWarning: invalid value encountered in log\n",
      "  u = np.asarray([np.sum(np.log(s)) for s in self.scalings_])\n",
      "/opt/conda/lib/python3.7/site-packages/sklearn/discriminant_analysis.py:903: RuntimeWarning: invalid value encountered in power\n",
      "  X2 = np.dot(Xm, R * (S ** (-0.5)))\n",
      "/opt/conda/lib/python3.7/site-packages/sklearn/discriminant_analysis.py:906: RuntimeWarning: invalid value encountered in log\n",
      "  u = np.asarray([np.sum(np.log(s)) for s in self.scalings_])\n",
      "/opt/conda/lib/python3.7/site-packages/sklearn/discriminant_analysis.py:903: RuntimeWarning: invalid value encountered in power\n",
      "  X2 = np.dot(Xm, R * (S ** (-0.5)))\n",
      "/opt/conda/lib/python3.7/site-packages/sklearn/discriminant_analysis.py:906: RuntimeWarning: invalid value encountered in log\n",
      "  u = np.asarray([np.sum(np.log(s)) for s in self.scalings_])\n",
      "/opt/conda/lib/python3.7/site-packages/sklearn/discriminant_analysis.py:903: RuntimeWarning: invalid value encountered in power\n",
      "  X2 = np.dot(Xm, R * (S ** (-0.5)))\n",
      "/opt/conda/lib/python3.7/site-packages/sklearn/discriminant_analysis.py:906: RuntimeWarning: invalid value encountered in log\n",
      "  u = np.asarray([np.sum(np.log(s)) for s in self.scalings_])\n",
      "/opt/conda/lib/python3.7/site-packages/xgboost/sklearn.py:1224: UserWarning: The use of label encoder in XGBClassifier is deprecated and will be removed in a future release. To remove this warning, do the following: 1) Pass option use_label_encoder=False when constructing XGBClassifier object; and 2) Encode your labels (y) as integers starting with 0, i.e. 0, 1, 2, ..., [num_class - 1].\n",
      "  warnings.warn(label_encoder_deprecation_msg, UserWarning)\n",
      "/opt/conda/lib/python3.7/site-packages/xgboost/sklearn.py:1224: UserWarning: The use of label encoder in XGBClassifier is deprecated and will be removed in a future release. To remove this warning, do the following: 1) Pass option use_label_encoder=False when constructing XGBClassifier object; and 2) Encode your labels (y) as integers starting with 0, i.e. 0, 1, 2, ..., [num_class - 1].\n",
      "  warnings.warn(label_encoder_deprecation_msg, UserWarning)\n",
      "/opt/conda/lib/python3.7/site-packages/xgboost/sklearn.py:1224: UserWarning: The use of label encoder in XGBClassifier is deprecated and will be removed in a future release. To remove this warning, do the following: 1) Pass option use_label_encoder=False when constructing XGBClassifier object; and 2) Encode your labels (y) as integers starting with 0, i.e. 0, 1, 2, ..., [num_class - 1].\n",
      "  warnings.warn(label_encoder_deprecation_msg, UserWarning)\n",
      "/opt/conda/lib/python3.7/site-packages/xgboost/sklearn.py:1224: UserWarning: The use of label encoder in XGBClassifier is deprecated and will be removed in a future release. To remove this warning, do the following: 1) Pass option use_label_encoder=False when constructing XGBClassifier object; and 2) Encode your labels (y) as integers starting with 0, i.e. 0, 1, 2, ..., [num_class - 1].\n",
      "  warnings.warn(label_encoder_deprecation_msg, UserWarning)\n",
      "/opt/conda/lib/python3.7/site-packages/xgboost/sklearn.py:1224: UserWarning: The use of label encoder in XGBClassifier is deprecated and will be removed in a future release. To remove this warning, do the following: 1) Pass option use_label_encoder=False when constructing XGBClassifier object; and 2) Encode your labels (y) as integers starting with 0, i.e. 0, 1, 2, ..., [num_class - 1].\n",
      "  warnings.warn(label_encoder_deprecation_msg, UserWarning)\n",
      "/opt/conda/lib/python3.7/site-packages/xgboost/sklearn.py:1224: UserWarning: The use of label encoder in XGBClassifier is deprecated and will be removed in a future release. To remove this warning, do the following: 1) Pass option use_label_encoder=False when constructing XGBClassifier object; and 2) Encode your labels (y) as integers starting with 0, i.e. 0, 1, 2, ..., [num_class - 1].\n",
      "  warnings.warn(label_encoder_deprecation_msg, UserWarning)\n",
      "/opt/conda/lib/python3.7/site-packages/xgboost/sklearn.py:1224: UserWarning: The use of label encoder in XGBClassifier is deprecated and will be removed in a future release. To remove this warning, do the following: 1) Pass option use_label_encoder=False when constructing XGBClassifier object; and 2) Encode your labels (y) as integers starting with 0, i.e. 0, 1, 2, ..., [num_class - 1].\n",
      "  warnings.warn(label_encoder_deprecation_msg, UserWarning)\n",
      "/opt/conda/lib/python3.7/site-packages/xgboost/sklearn.py:1224: UserWarning: The use of label encoder in XGBClassifier is deprecated and will be removed in a future release. To remove this warning, do the following: 1) Pass option use_label_encoder=False when constructing XGBClassifier object; and 2) Encode your labels (y) as integers starting with 0, i.e. 0, 1, 2, ..., [num_class - 1].\n",
      "  warnings.warn(label_encoder_deprecation_msg, UserWarning)\n",
      "/opt/conda/lib/python3.7/site-packages/xgboost/sklearn.py:1224: UserWarning: The use of label encoder in XGBClassifier is deprecated and will be removed in a future release. To remove this warning, do the following: 1) Pass option use_label_encoder=False when constructing XGBClassifier object; and 2) Encode your labels (y) as integers starting with 0, i.e. 0, 1, 2, ..., [num_class - 1].\n",
      "  warnings.warn(label_encoder_deprecation_msg, UserWarning)\n",
      "/opt/conda/lib/python3.7/site-packages/xgboost/sklearn.py:1224: UserWarning: The use of label encoder in XGBClassifier is deprecated and will be removed in a future release. To remove this warning, do the following: 1) Pass option use_label_encoder=False when constructing XGBClassifier object; and 2) Encode your labels (y) as integers starting with 0, i.e. 0, 1, 2, ..., [num_class - 1].\n",
      "  warnings.warn(label_encoder_deprecation_msg, UserWarning)\n",
      "/opt/conda/lib/python3.7/site-packages/xgboost/sklearn.py:1224: UserWarning: The use of label encoder in XGBClassifier is deprecated and will be removed in a future release. To remove this warning, do the following: 1) Pass option use_label_encoder=False when constructing XGBClassifier object; and 2) Encode your labels (y) as integers starting with 0, i.e. 0, 1, 2, ..., [num_class - 1].\n",
      "  warnings.warn(label_encoder_deprecation_msg, UserWarning)\n",
      "/opt/conda/lib/python3.7/site-packages/xgboost/sklearn.py:1224: UserWarning: The use of label encoder in XGBClassifier is deprecated and will be removed in a future release. To remove this warning, do the following: 1) Pass option use_label_encoder=False when constructing XGBClassifier object; and 2) Encode your labels (y) as integers starting with 0, i.e. 0, 1, 2, ..., [num_class - 1].\n",
      "  warnings.warn(label_encoder_deprecation_msg, UserWarning)\n",
      "/opt/conda/lib/python3.7/site-packages/sklearn/discriminant_analysis.py:878: UserWarning: Variables are collinear\n",
      "  warnings.warn(\"Variables are collinear\")\n",
      "/opt/conda/lib/python3.7/site-packages/sklearn/discriminant_analysis.py:878: UserWarning: Variables are collinear\n",
      "  warnings.warn(\"Variables are collinear\")\n",
      "/opt/conda/lib/python3.7/site-packages/sklearn/discriminant_analysis.py:878: UserWarning: Variables are collinear\n",
      "  warnings.warn(\"Variables are collinear\")\n",
      "/opt/conda/lib/python3.7/site-packages/sklearn/discriminant_analysis.py:903: RuntimeWarning: invalid value encountered in power\n",
      "  X2 = np.dot(Xm, R * (S ** (-0.5)))\n",
      "/opt/conda/lib/python3.7/site-packages/sklearn/discriminant_analysis.py:906: RuntimeWarning: invalid value encountered in log\n",
      "  u = np.asarray([np.sum(np.log(s)) for s in self.scalings_])\n",
      "/opt/conda/lib/python3.7/site-packages/sklearn/discriminant_analysis.py:878: UserWarning: Variables are collinear\n",
      "  warnings.warn(\"Variables are collinear\")\n",
      "/opt/conda/lib/python3.7/site-packages/sklearn/discriminant_analysis.py:903: RuntimeWarning: invalid value encountered in power\n",
      "  X2 = np.dot(Xm, R * (S ** (-0.5)))\n",
      "/opt/conda/lib/python3.7/site-packages/sklearn/discriminant_analysis.py:906: RuntimeWarning: invalid value encountered in log\n",
      "  u = np.asarray([np.sum(np.log(s)) for s in self.scalings_])\n",
      "/opt/conda/lib/python3.7/site-packages/sklearn/discriminant_analysis.py:878: UserWarning: Variables are collinear\n",
      "  warnings.warn(\"Variables are collinear\")\n",
      "/opt/conda/lib/python3.7/site-packages/sklearn/discriminant_analysis.py:903: RuntimeWarning: invalid value encountered in power\n",
      "  X2 = np.dot(Xm, R * (S ** (-0.5)))\n",
      "/opt/conda/lib/python3.7/site-packages/sklearn/discriminant_analysis.py:906: RuntimeWarning: invalid value encountered in log\n",
      "  u = np.asarray([np.sum(np.log(s)) for s in self.scalings_])\n",
      "/opt/conda/lib/python3.7/site-packages/xgboost/sklearn.py:1224: UserWarning: The use of label encoder in XGBClassifier is deprecated and will be removed in a future release. To remove this warning, do the following: 1) Pass option use_label_encoder=False when constructing XGBClassifier object; and 2) Encode your labels (y) as integers starting with 0, i.e. 0, 1, 2, ..., [num_class - 1].\n",
      "  warnings.warn(label_encoder_deprecation_msg, UserWarning)\n",
      "/opt/conda/lib/python3.7/site-packages/xgboost/sklearn.py:1224: UserWarning: The use of label encoder in XGBClassifier is deprecated and will be removed in a future release. To remove this warning, do the following: 1) Pass option use_label_encoder=False when constructing XGBClassifier object; and 2) Encode your labels (y) as integers starting with 0, i.e. 0, 1, 2, ..., [num_class - 1].\n",
      "  warnings.warn(label_encoder_deprecation_msg, UserWarning)\n",
      "/opt/conda/lib/python3.7/site-packages/xgboost/sklearn.py:1224: UserWarning: The use of label encoder in XGBClassifier is deprecated and will be removed in a future release. To remove this warning, do the following: 1) Pass option use_label_encoder=False when constructing XGBClassifier object; and 2) Encode your labels (y) as integers starting with 0, i.e. 0, 1, 2, ..., [num_class - 1].\n",
      "  warnings.warn(label_encoder_deprecation_msg, UserWarning)\n",
      "/opt/conda/lib/python3.7/site-packages/xgboost/sklearn.py:1224: UserWarning: The use of label encoder in XGBClassifier is deprecated and will be removed in a future release. To remove this warning, do the following: 1) Pass option use_label_encoder=False when constructing XGBClassifier object; and 2) Encode your labels (y) as integers starting with 0, i.e. 0, 1, 2, ..., [num_class - 1].\n",
      "  warnings.warn(label_encoder_deprecation_msg, UserWarning)\n",
      "/opt/conda/lib/python3.7/site-packages/xgboost/sklearn.py:1224: UserWarning: The use of label encoder in XGBClassifier is deprecated and will be removed in a future release. To remove this warning, do the following: 1) Pass option use_label_encoder=False when constructing XGBClassifier object; and 2) Encode your labels (y) as integers starting with 0, i.e. 0, 1, 2, ..., [num_class - 1].\n",
      "  warnings.warn(label_encoder_deprecation_msg, UserWarning)\n",
      "/opt/conda/lib/python3.7/site-packages/xgboost/sklearn.py:1224: UserWarning: The use of label encoder in XGBClassifier is deprecated and will be removed in a future release. To remove this warning, do the following: 1) Pass option use_label_encoder=False when constructing XGBClassifier object; and 2) Encode your labels (y) as integers starting with 0, i.e. 0, 1, 2, ..., [num_class - 1].\n",
      "  warnings.warn(label_encoder_deprecation_msg, UserWarning)\n",
      "/opt/conda/lib/python3.7/site-packages/xgboost/sklearn.py:1224: UserWarning: The use of label encoder in XGBClassifier is deprecated and will be removed in a future release. To remove this warning, do the following: 1) Pass option use_label_encoder=False when constructing XGBClassifier object; and 2) Encode your labels (y) as integers starting with 0, i.e. 0, 1, 2, ..., [num_class - 1].\n",
      "  warnings.warn(label_encoder_deprecation_msg, UserWarning)\n",
      "/opt/conda/lib/python3.7/site-packages/xgboost/sklearn.py:1224: UserWarning: The use of label encoder in XGBClassifier is deprecated and will be removed in a future release. To remove this warning, do the following: 1) Pass option use_label_encoder=False when constructing XGBClassifier object; and 2) Encode your labels (y) as integers starting with 0, i.e. 0, 1, 2, ..., [num_class - 1].\n",
      "  warnings.warn(label_encoder_deprecation_msg, UserWarning)\n",
      "/opt/conda/lib/python3.7/site-packages/xgboost/sklearn.py:1224: UserWarning: The use of label encoder in XGBClassifier is deprecated and will be removed in a future release. To remove this warning, do the following: 1) Pass option use_label_encoder=False when constructing XGBClassifier object; and 2) Encode your labels (y) as integers starting with 0, i.e. 0, 1, 2, ..., [num_class - 1].\n",
      "  warnings.warn(label_encoder_deprecation_msg, UserWarning)\n",
      "/opt/conda/lib/python3.7/site-packages/xgboost/sklearn.py:1224: UserWarning: The use of label encoder in XGBClassifier is deprecated and will be removed in a future release. To remove this warning, do the following: 1) Pass option use_label_encoder=False when constructing XGBClassifier object; and 2) Encode your labels (y) as integers starting with 0, i.e. 0, 1, 2, ..., [num_class - 1].\n",
      "  warnings.warn(label_encoder_deprecation_msg, UserWarning)\n",
      "/opt/conda/lib/python3.7/site-packages/xgboost/sklearn.py:1224: UserWarning: The use of label encoder in XGBClassifier is deprecated and will be removed in a future release. To remove this warning, do the following: 1) Pass option use_label_encoder=False when constructing XGBClassifier object; and 2) Encode your labels (y) as integers starting with 0, i.e. 0, 1, 2, ..., [num_class - 1].\n",
      "  warnings.warn(label_encoder_deprecation_msg, UserWarning)\n",
      "/opt/conda/lib/python3.7/site-packages/xgboost/sklearn.py:1224: UserWarning: The use of label encoder in XGBClassifier is deprecated and will be removed in a future release. To remove this warning, do the following: 1) Pass option use_label_encoder=False when constructing XGBClassifier object; and 2) Encode your labels (y) as integers starting with 0, i.e. 0, 1, 2, ..., [num_class - 1].\n",
      "  warnings.warn(label_encoder_deprecation_msg, UserWarning)\n",
      "/opt/conda/lib/python3.7/site-packages/xgboost/sklearn.py:1224: UserWarning: The use of label encoder in XGBClassifier is deprecated and will be removed in a future release. To remove this warning, do the following: 1) Pass option use_label_encoder=False when constructing XGBClassifier object; and 2) Encode your labels (y) as integers starting with 0, i.e. 0, 1, 2, ..., [num_class - 1].\n",
      "  warnings.warn(label_encoder_deprecation_msg, UserWarning)\n",
      "/opt/conda/lib/python3.7/site-packages/xgboost/sklearn.py:1224: UserWarning: The use of label encoder in XGBClassifier is deprecated and will be removed in a future release. To remove this warning, do the following: 1) Pass option use_label_encoder=False when constructing XGBClassifier object; and 2) Encode your labels (y) as integers starting with 0, i.e. 0, 1, 2, ..., [num_class - 1].\n",
      "  warnings.warn(label_encoder_deprecation_msg, UserWarning)\n",
      "/opt/conda/lib/python3.7/site-packages/xgboost/sklearn.py:1224: UserWarning: The use of label encoder in XGBClassifier is deprecated and will be removed in a future release. To remove this warning, do the following: 1) Pass option use_label_encoder=False when constructing XGBClassifier object; and 2) Encode your labels (y) as integers starting with 0, i.e. 0, 1, 2, ..., [num_class - 1].\n",
      "  warnings.warn(label_encoder_deprecation_msg, UserWarning)\n"
     ]
    },
    {
     "name": "stdout",
     "output_type": "stream",
     "text": [
      "\n",
      "[CV] END .................learning_rate=0.5, n_estimators=70; total time=   0.2s\n",
      "[CV] END ................learning_rate=0.5, n_estimators=100; total time=   0.3s\n",
      "[CV] END ................learning_rate=0.5, n_estimators=150; total time=   0.5s\n",
      "[CV] END ................learning_rate=0.5, n_estimators=150; total time=   0.5s\n",
      "[CV] END ................learning_rate=0.5, n_estimators=200; total time=   0.6s\n",
      "[21:58:21] WARNING: ../src/learner.cc:1115: Starting in XGBoost 1.3.0, the default evaluation metric used with the objective 'binary:logistic' was changed from 'error' to 'logloss'. Explicitly set eval_metric if you'd like to restore the old behavior.\n",
      "[CV] END ..................learning_rate=0.0001, max_depth=2; total time=  25.8s\n",
      "[21:58:47] WARNING: ../src/learner.cc:1115: Starting in XGBoost 1.3.0, the default evaluation metric used with the objective 'binary:logistic' was changed from 'error' to 'logloss'. Explicitly set eval_metric if you'd like to restore the old behavior.\n",
      "[CV] END ..................learning_rate=0.0001, max_depth=3; total time=  32.4s\n",
      "[21:59:20] WARNING: ../src/learner.cc:1115: Starting in XGBoost 1.3.0, the default evaluation metric used with the objective 'binary:logistic' was changed from 'error' to 'logloss'. Explicitly set eval_metric if you'd like to restore the old behavior.\n",
      "[CV] END ..................learning_rate=0.0001, max_depth=3; total time=  36.9s\n",
      "[21:59:57] WARNING: ../src/learner.cc:1115: Starting in XGBoost 1.3.0, the default evaluation metric used with the objective 'binary:logistic' was changed from 'error' to 'logloss'. Explicitly set eval_metric if you'd like to restore the old behavior.\n",
      "[CV] END ..................learning_rate=0.0001, max_depth=4; total time= 1.0min\n",
      "[22:00:57] WARNING: ../src/learner.cc:1115: Starting in XGBoost 1.3.0, the default evaluation metric used with the objective 'binary:logistic' was changed from 'error' to 'logloss'. Explicitly set eval_metric if you'd like to restore the old behavior.\n",
      "[CV] END ..................learning_rate=0.0001, max_depth=5; total time= 1.1min\n",
      "[22:02:05] WARNING: ../src/learner.cc:1115: Starting in XGBoost 1.3.0, the default evaluation metric used with the objective 'binary:logistic' was changed from 'error' to 'logloss'. Explicitly set eval_metric if you'd like to restore the old behavior.\n",
      "[CV] END .................learning_rate=0.0001, max_depth=10; total time= 1.2min\n",
      "[22:03:15] WARNING: ../src/learner.cc:1115: Starting in XGBoost 1.3.0, the default evaluation metric used with the objective 'binary:logistic' was changed from 'error' to 'logloss'. Explicitly set eval_metric if you'd like to restore the old behavior.\n",
      "[CV] END .................learning_rate=0.0001, max_depth=15; total time= 2.1min\n",
      "[22:05:20] WARNING: ../src/learner.cc:1115: Starting in XGBoost 1.3.0, the default evaluation metric used with the objective 'binary:logistic' was changed from 'error' to 'logloss'. Explicitly set eval_metric if you'd like to restore the old behavior.\n",
      "[CV] END ...................learning_rate=0.001, max_depth=2; total time=  24.6s\n",
      "[22:05:45] WARNING: ../src/learner.cc:1115: Starting in XGBoost 1.3.0, the default evaluation metric used with the objective 'binary:logistic' was changed from 'error' to 'logloss'. Explicitly set eval_metric if you'd like to restore the old behavior.\n",
      "[CV] END ...................learning_rate=0.001, max_depth=2; total time=  26.1s\n",
      "[22:06:11] WARNING: ../src/learner.cc:1115: Starting in XGBoost 1.3.0, the default evaluation metric used with the objective 'binary:logistic' was changed from 'error' to 'logloss'. Explicitly set eval_metric if you'd like to restore the old behavior.\n",
      "[CV] END ...................learning_rate=0.001, max_depth=3; total time=  39.0s\n",
      "[22:06:50] WARNING: ../src/learner.cc:1115: Starting in XGBoost 1.3.0, the default evaluation metric used with the objective 'binary:logistic' was changed from 'error' to 'logloss'. Explicitly set eval_metric if you'd like to restore the old behavior.\n",
      "[CV] END ...................learning_rate=0.001, max_depth=4; total time= 1.1min\n",
      "[22:07:54] WARNING: ../src/learner.cc:1115: Starting in XGBoost 1.3.0, the default evaluation metric used with the objective 'binary:logistic' was changed from 'error' to 'logloss'. Explicitly set eval_metric if you'd like to restore the old behavior.\n",
      "[CV] END ...................learning_rate=0.001, max_depth=5; total time= 1.2min\n",
      "[22:09:06] WARNING: ../src/learner.cc:1115: Starting in XGBoost 1.3.0, the default evaluation metric used with the objective 'binary:logistic' was changed from 'error' to 'logloss'. Explicitly set eval_metric if you'd like to restore the old behavior.\n",
      "[CV] END ...................learning_rate=0.001, max_depth=5; total time= 1.1min\n",
      "[22:10:14] WARNING: ../src/learner.cc:1115: Starting in XGBoost 1.3.0, the default evaluation metric used with the objective 'binary:logistic' was changed from 'error' to 'logloss'. Explicitly set eval_metric if you'd like to restore the old behavior.\n",
      "[CV] END ..................learning_rate=0.001, max_depth=10; total time= 1.6min\n",
      "[22:11:53] WARNING: ../src/learner.cc:1115: Starting in XGBoost 1.3.0, the default evaluation metric used with the objective 'binary:logistic' was changed from 'error' to 'logloss'. Explicitly set eval_metric if you'd like to restore the old behavior.\n",
      "[CV] END ..................learning_rate=0.001, max_depth=15; total time= 1.6min\n",
      "[22:13:27] WARNING: ../src/learner.cc:1115: Starting in XGBoost 1.3.0, the default evaluation metric used with the objective 'binary:logistic' was changed from 'error' to 'logloss'. Explicitly set eval_metric if you'd like to restore the old behavior.\n",
      "[CV] END ....................learning_rate=0.01, max_depth=2; total time=  29.3s\n",
      "[22:13:57] WARNING: ../src/learner.cc:1115: Starting in XGBoost 1.3.0, the default evaluation metric used with the objective 'binary:logistic' was changed from 'error' to 'logloss'. Explicitly set eval_metric if you'd like to restore the old behavior.\n",
      "[CV] END ....................learning_rate=0.01, max_depth=2; total time=  28.9s\n",
      "[22:14:26] WARNING: ../src/learner.cc:1115: Starting in XGBoost 1.3.0, the default evaluation metric used with the objective 'binary:logistic' was changed from 'error' to 'logloss'. Explicitly set eval_metric if you'd like to restore the old behavior.\n",
      "[CV] END ....................learning_rate=0.01, max_depth=3; total time=  42.9s\n",
      "[22:15:09] WARNING: ../src/learner.cc:1115: Starting in XGBoost 1.3.0, the default evaluation metric used with the objective 'binary:logistic' was changed from 'error' to 'logloss'. Explicitly set eval_metric if you'd like to restore the old behavior.\n",
      "[CV] END ....................learning_rate=0.01, max_depth=4; total time=  56.8s\n",
      "[22:16:06] WARNING: ../src/learner.cc:1115: Starting in XGBoost 1.3.0, the default evaluation metric used with the objective 'binary:logistic' was changed from 'error' to 'logloss'. Explicitly set eval_metric if you'd like to restore the old behavior.\n",
      "[CV] END ....................learning_rate=0.01, max_depth=4; total time= 1.1min\n",
      "[22:17:10] WARNING: ../src/learner.cc:1115: Starting in XGBoost 1.3.0, the default evaluation metric used with the objective 'binary:logistic' was changed from 'error' to 'logloss'. Explicitly set eval_metric if you'd like to restore the old behavior.\n",
      "[CV] END ....................learning_rate=0.01, max_depth=5; total time= 1.2min\n",
      "[22:18:20] WARNING: ../src/learner.cc:1115: Starting in XGBoost 1.3.0, the default evaluation metric used with the objective 'binary:logistic' was changed from 'error' to 'logloss'. Explicitly set eval_metric if you'd like to restore the old behavior.\n",
      "[CV] END ...................learning_rate=0.01, max_depth=10; total time= 1.5min\n",
      "[22:19:50] WARNING: ../src/learner.cc:1115: Starting in XGBoost 1.3.0, the default evaluation metric used with the objective 'binary:logistic' was changed from 'error' to 'logloss'. Explicitly set eval_metric if you'd like to restore the old behavior.\n",
      "[CV] END ...................learning_rate=0.01, max_depth=15; total time= 2.2min\n",
      "[22:22:04] WARNING: ../src/learner.cc:1115: Starting in XGBoost 1.3.0, the default evaluation metric used with the objective 'binary:logistic' was changed from 'error' to 'logloss'. Explicitly set eval_metric if you'd like to restore the old behavior.\n",
      "[21:58:21] WARNING: ../src/learner.cc:1115: Starting in XGBoost 1.3.0, the default evaluation metric used with the objective 'binary:logistic' was changed from 'error' to 'logloss'. Explicitly set eval_metric if you'd like to restore the old behavior.\n",
      "[CV] END ..................learning_rate=0.0001, max_depth=2; total time=  28.5s\n",
      "[21:58:50] WARNING: ../src/learner.cc:1115: Starting in XGBoost 1.3.0, the default evaluation metric used with the objective 'binary:logistic' was changed from 'error' to 'logloss'. Explicitly set eval_metric if you'd like to restore the old behavior.\n",
      "[CV] END ..................learning_rate=0.0001, max_depth=3; total time=  34.1s\n",
      "[21:59:24] WARNING: ../src/learner.cc:1115: Starting in XGBoost 1.3.0, the default evaluation metric used with the objective 'binary:logistic' was changed from 'error' to 'logloss'. Explicitly set eval_metric if you'd like to restore the old behavior.\n",
      "[CV] END ..................learning_rate=0.0001, max_depth=4; total time=  55.4s\n",
      "[22:00:20] WARNING: ../src/learner.cc:1115: Starting in XGBoost 1.3.0, the default evaluation metric used with the objective 'binary:logistic' was changed from 'error' to 'logloss'. Explicitly set eval_metric if you'd like to restore the old behavior.\n",
      "[CV] END ..................learning_rate=0.0001, max_depth=4; total time=  37.7s\n",
      "[22:00:57] WARNING: ../src/learner.cc:1115: Starting in XGBoost 1.3.0, the default evaluation metric used with the objective 'binary:logistic' was changed from 'error' to 'logloss'. Explicitly set eval_metric if you'd like to restore the old behavior.\n",
      "[CV] END ..................learning_rate=0.0001, max_depth=5; total time=  49.0s\n",
      "[22:01:46] WARNING: ../src/learner.cc:1115: Starting in XGBoost 1.3.0, the default evaluation metric used with the objective 'binary:logistic' was changed from 'error' to 'logloss'. Explicitly set eval_metric if you'd like to restore the old behavior.\n",
      "[CV] END .................learning_rate=0.0001, max_depth=10; total time=  58.2s\n",
      "[22:02:45] WARNING: ../src/learner.cc:1115: Starting in XGBoost 1.3.0, the default evaluation metric used with the objective 'binary:logistic' was changed from 'error' to 'logloss'. Explicitly set eval_metric if you'd like to restore the old behavior.\n",
      "[CV] END .................learning_rate=0.0001, max_depth=10; total time= 1.3min\n",
      "[22:04:01] WARNING: ../src/learner.cc:1115: Starting in XGBoost 1.3.0, the default evaluation metric used with the objective 'binary:logistic' was changed from 'error' to 'logloss'. Explicitly set eval_metric if you'd like to restore the old behavior.\n",
      "[CV] END .................learning_rate=0.0001, max_depth=15; total time= 1.3min\n",
      "[22:05:18] WARNING: ../src/learner.cc:1115: Starting in XGBoost 1.3.0, the default evaluation metric used with the objective 'binary:logistic' was changed from 'error' to 'logloss'. Explicitly set eval_metric if you'd like to restore the old behavior.\n",
      "[CV] END ...................learning_rate=0.001, max_depth=2; total time=  30.4s\n",
      "[22:05:48] WARNING: ../src/learner.cc:1115: Starting in XGBoost 1.3.0, the default evaluation metric used with the objective 'binary:logistic' was changed from 'error' to 'logloss'. Explicitly set eval_metric if you'd like to restore the old behavior.\n",
      "[CV] END ...................learning_rate=0.001, max_depth=2; total time=  24.8s\n",
      "[22:06:13] WARNING: ../src/learner.cc:1115: Starting in XGBoost 1.3.0, the default evaluation metric used with the objective 'binary:logistic' was changed from 'error' to 'logloss'. Explicitly set eval_metric if you'd like to restore the old behavior.\n",
      "[CV] END ...................learning_rate=0.001, max_depth=3; total time=  35.2s\n",
      "[22:06:49] WARNING: ../src/learner.cc:1115: Starting in XGBoost 1.3.0, the default evaluation metric used with the objective 'binary:logistic' was changed from 'error' to 'logloss'. Explicitly set eval_metric if you'd like to restore the old behavior.\n",
      "[CV] END ...................learning_rate=0.001, max_depth=4; total time= 1.0min\n",
      "[22:07:50] WARNING: ../src/learner.cc:1115: Starting in XGBoost 1.3.0, the default evaluation metric used with the objective 'binary:logistic' was changed from 'error' to 'logloss'. Explicitly set eval_metric if you'd like to restore the old behavior.\n",
      "[CV] END ...................learning_rate=0.001, max_depth=4; total time= 1.0min\n",
      "[22:08:51] WARNING: ../src/learner.cc:1115: Starting in XGBoost 1.3.0, the default evaluation metric used with the objective 'binary:logistic' was changed from 'error' to 'logloss'. Explicitly set eval_metric if you'd like to restore the old behavior.\n",
      "[CV] END ...................learning_rate=0.001, max_depth=5; total time=  57.1s\n",
      "[22:09:49] WARNING: ../src/learner.cc:1115: Starting in XGBoost 1.3.0, the default evaluation metric used with the objective 'binary:logistic' was changed from 'error' to 'logloss'. Explicitly set eval_metric if you'd like to restore the old behavior.\n",
      "[CV] END ..................learning_rate=0.001, max_depth=10; total time= 1.8min\n",
      "[22:11:38] WARNING: ../src/learner.cc:1115: Starting in XGBoost 1.3.0, the default evaluation metric used with the objective 'binary:logistic' was changed from 'error' to 'logloss'. Explicitly set eval_metric if you'd like to restore the old behavior.\n",
      "[CV] END ..................learning_rate=0.001, max_depth=15; total time= 1.9min\n",
      "[22:13:34] WARNING: ../src/learner.cc:1115: Starting in XGBoost 1.3.0, the default evaluation metric used with the objective 'binary:logistic' was changed from 'error' to 'logloss'. Explicitly set eval_metric if you'd like to restore the old behavior.\n",
      "[CV] END ....................learning_rate=0.01, max_depth=2; total time=  30.9s\n",
      "[22:14:05] WARNING: ../src/learner.cc:1115: Starting in XGBoost 1.3.0, the default evaluation metric used with the objective 'binary:logistic' was changed from 'error' to 'logloss'. Explicitly set eval_metric if you'd like to restore the old behavior.\n",
      "[CV] END ....................learning_rate=0.01, max_depth=2; total time=  30.0s\n",
      "[22:14:35] WARNING: ../src/learner.cc:1115: Starting in XGBoost 1.3.0, the default evaluation metric used with the objective 'binary:logistic' was changed from 'error' to 'logloss'. Explicitly set eval_metric if you'd like to restore the old behavior.\n",
      "[CV] END ....................learning_rate=0.01, max_depth=3; total time=  43.6s\n",
      "[22:15:18] WARNING: ../src/learner.cc:1115: Starting in XGBoost 1.3.0, the default evaluation metric used with the objective 'binary:logistic' was changed from 'error' to 'logloss'. Explicitly set eval_metric if you'd like to restore the old behavior.\n",
      "[CV] END ....................learning_rate=0.01, max_depth=4; total time=  55.0s\n",
      "[22:16:14] WARNING: ../src/learner.cc:1115: Starting in XGBoost 1.3.0, the default evaluation metric used with the objective 'binary:logistic' was changed from 'error' to 'logloss'. Explicitly set eval_metric if you'd like to restore the old behavior.\n",
      "[CV] END ....................learning_rate=0.01, max_depth=5; total time= 1.1min\n",
      "[22:17:17] WARNING: ../src/learner.cc:1115: Starting in XGBoost 1.3.0, the default evaluation metric used with the objective 'binary:logistic' was changed from 'error' to 'logloss'. Explicitly set eval_metric if you'd like to restore the old behavior.\n",
      "[CV] END ....................learning_rate=0.01, max_depth=5; total time= 1.3min\n",
      "[22:18:33] WARNING: ../src/learner.cc:1115: Starting in XGBoost 1.3.0, the default evaluation metric used with the objective 'binary:logistic' was changed from 'error' to 'logloss'. Explicitly set eval_metric if you'd like to restore the old behavior.\n",
      "[CV] END ...................learning_rate=0.01, max_depth=10; total time= 1.9min\n",
      "[22:20:29] WARNING: ../src/learner.cc:1115: Starting in XGBoost 1.3.0, the default evaluation metric used with the objective 'binary:logistic' was changed from 'error' to 'logloss'. Explicitly set eval_metric if you'd like to restore the old behavior.\n",
      "[CV] END ...................learning_rate=0.01, max_depth=15; total time= 2.0min\n",
      "[22:22:29] WARNING: ../src/learner.cc:1115: Starting in XGBoost 1.3.0, the default evaluation metric used with the objective 'binary:logistic' was changed from 'error' to 'logloss'. Explicitly set eval_metric if you'd like to restore the old behavior."
     ]
    },
    {
     "name": "stderr",
     "output_type": "stream",
     "text": [
      "/opt/conda/lib/python3.7/site-packages/xgboost/sklearn.py:1224: UserWarning: The use of label encoder in XGBClassifier is deprecated and will be removed in a future release. To remove this warning, do the following: 1) Pass option use_label_encoder=False when constructing XGBClassifier object; and 2) Encode your labels (y) as integers starting with 0, i.e. 0, 1, 2, ..., [num_class - 1].\n",
      "  warnings.warn(label_encoder_deprecation_msg, UserWarning)\n",
      "/opt/conda/lib/python3.7/site-packages/xgboost/sklearn.py:1224: UserWarning: The use of label encoder in XGBClassifier is deprecated and will be removed in a future release. To remove this warning, do the following: 1) Pass option use_label_encoder=False when constructing XGBClassifier object; and 2) Encode your labels (y) as integers starting with 0, i.e. 0, 1, 2, ..., [num_class - 1].\n",
      "  warnings.warn(label_encoder_deprecation_msg, UserWarning)\n",
      "/opt/conda/lib/python3.7/site-packages/xgboost/sklearn.py:1224: UserWarning: The use of label encoder in XGBClassifier is deprecated and will be removed in a future release. To remove this warning, do the following: 1) Pass option use_label_encoder=False when constructing XGBClassifier object; and 2) Encode your labels (y) as integers starting with 0, i.e. 0, 1, 2, ..., [num_class - 1].\n",
      "  warnings.warn(label_encoder_deprecation_msg, UserWarning)\n",
      "/opt/conda/lib/python3.7/site-packages/xgboost/sklearn.py:1224: UserWarning: The use of label encoder in XGBClassifier is deprecated and will be removed in a future release. To remove this warning, do the following: 1) Pass option use_label_encoder=False when constructing XGBClassifier object; and 2) Encode your labels (y) as integers starting with 0, i.e. 0, 1, 2, ..., [num_class - 1].\n",
      "  warnings.warn(label_encoder_deprecation_msg, UserWarning)\n",
      "/opt/conda/lib/python3.7/site-packages/xgboost/sklearn.py:1224: UserWarning: The use of label encoder in XGBClassifier is deprecated and will be removed in a future release. To remove this warning, do the following: 1) Pass option use_label_encoder=False when constructing XGBClassifier object; and 2) Encode your labels (y) as integers starting with 0, i.e. 0, 1, 2, ..., [num_class - 1].\n",
      "  warnings.warn(label_encoder_deprecation_msg, UserWarning)\n",
      "/opt/conda/lib/python3.7/site-packages/xgboost/sklearn.py:1224: UserWarning: The use of label encoder in XGBClassifier is deprecated and will be removed in a future release. To remove this warning, do the following: 1) Pass option use_label_encoder=False when constructing XGBClassifier object; and 2) Encode your labels (y) as integers starting with 0, i.e. 0, 1, 2, ..., [num_class - 1].\n",
      "  warnings.warn(label_encoder_deprecation_msg, UserWarning)\n",
      "/opt/conda/lib/python3.7/site-packages/xgboost/sklearn.py:1224: UserWarning: The use of label encoder in XGBClassifier is deprecated and will be removed in a future release. To remove this warning, do the following: 1) Pass option use_label_encoder=False when constructing XGBClassifier object; and 2) Encode your labels (y) as integers starting with 0, i.e. 0, 1, 2, ..., [num_class - 1].\n",
      "  warnings.warn(label_encoder_deprecation_msg, UserWarning)\n",
      "/opt/conda/lib/python3.7/site-packages/xgboost/sklearn.py:1224: UserWarning: The use of label encoder in XGBClassifier is deprecated and will be removed in a future release. To remove this warning, do the following: 1) Pass option use_label_encoder=False when constructing XGBClassifier object; and 2) Encode your labels (y) as integers starting with 0, i.e. 0, 1, 2, ..., [num_class - 1].\n",
      "  warnings.warn(label_encoder_deprecation_msg, UserWarning)\n",
      "/opt/conda/lib/python3.7/site-packages/xgboost/sklearn.py:1224: UserWarning: The use of label encoder in XGBClassifier is deprecated and will be removed in a future release. To remove this warning, do the following: 1) Pass option use_label_encoder=False when constructing XGBClassifier object; and 2) Encode your labels (y) as integers starting with 0, i.e. 0, 1, 2, ..., [num_class - 1].\n",
      "  warnings.warn(label_encoder_deprecation_msg, UserWarning)\n",
      "/opt/conda/lib/python3.7/site-packages/xgboost/sklearn.py:1224: UserWarning: The use of label encoder in XGBClassifier is deprecated and will be removed in a future release. To remove this warning, do the following: 1) Pass option use_label_encoder=False when constructing XGBClassifier object; and 2) Encode your labels (y) as integers starting with 0, i.e. 0, 1, 2, ..., [num_class - 1].\n",
      "  warnings.warn(label_encoder_deprecation_msg, UserWarning)\n",
      "/opt/conda/lib/python3.7/site-packages/xgboost/sklearn.py:1224: UserWarning: The use of label encoder in XGBClassifier is deprecated and will be removed in a future release. To remove this warning, do the following: 1) Pass option use_label_encoder=False when constructing XGBClassifier object; and 2) Encode your labels (y) as integers starting with 0, i.e. 0, 1, 2, ..., [num_class - 1].\n",
      "  warnings.warn(label_encoder_deprecation_msg, UserWarning)\n",
      "/opt/conda/lib/python3.7/site-packages/xgboost/sklearn.py:1224: UserWarning: The use of label encoder in XGBClassifier is deprecated and will be removed in a future release. To remove this warning, do the following: 1) Pass option use_label_encoder=False when constructing XGBClassifier object; and 2) Encode your labels (y) as integers starting with 0, i.e. 0, 1, 2, ..., [num_class - 1].\n",
      "  warnings.warn(label_encoder_deprecation_msg, UserWarning)\n",
      "/opt/conda/lib/python3.7/site-packages/xgboost/sklearn.py:1224: UserWarning: The use of label encoder in XGBClassifier is deprecated and will be removed in a future release. To remove this warning, do the following: 1) Pass option use_label_encoder=False when constructing XGBClassifier object; and 2) Encode your labels (y) as integers starting with 0, i.e. 0, 1, 2, ..., [num_class - 1].\n",
      "  warnings.warn(label_encoder_deprecation_msg, UserWarning)\n",
      "/opt/conda/lib/python3.7/site-packages/xgboost/sklearn.py:1224: UserWarning: The use of label encoder in XGBClassifier is deprecated and will be removed in a future release. To remove this warning, do the following: 1) Pass option use_label_encoder=False when constructing XGBClassifier object; and 2) Encode your labels (y) as integers starting with 0, i.e. 0, 1, 2, ..., [num_class - 1].\n",
      "  warnings.warn(label_encoder_deprecation_msg, UserWarning)\n",
      "/opt/conda/lib/python3.7/site-packages/xgboost/sklearn.py:1224: UserWarning: The use of label encoder in XGBClassifier is deprecated and will be removed in a future release. To remove this warning, do the following: 1) Pass option use_label_encoder=False when constructing XGBClassifier object; and 2) Encode your labels (y) as integers starting with 0, i.e. 0, 1, 2, ..., [num_class - 1].\n",
      "  warnings.warn(label_encoder_deprecation_msg, UserWarning)\n",
      "/opt/conda/lib/python3.7/site-packages/xgboost/sklearn.py:1224: UserWarning: The use of label encoder in XGBClassifier is deprecated and will be removed in a future release. To remove this warning, do the following: 1) Pass option use_label_encoder=False when constructing XGBClassifier object; and 2) Encode your labels (y) as integers starting with 0, i.e. 0, 1, 2, ..., [num_class - 1].\n",
      "  warnings.warn(label_encoder_deprecation_msg, UserWarning)\n",
      "/opt/conda/lib/python3.7/site-packages/xgboost/sklearn.py:1224: UserWarning: The use of label encoder in XGBClassifier is deprecated and will be removed in a future release. To remove this warning, do the following: 1) Pass option use_label_encoder=False when constructing XGBClassifier object; and 2) Encode your labels (y) as integers starting with 0, i.e. 0, 1, 2, ..., [num_class - 1].\n",
      "  warnings.warn(label_encoder_deprecation_msg, UserWarning)\n",
      "/opt/conda/lib/python3.7/site-packages/xgboost/sklearn.py:1224: UserWarning: The use of label encoder in XGBClassifier is deprecated and will be removed in a future release. To remove this warning, do the following: 1) Pass option use_label_encoder=False when constructing XGBClassifier object; and 2) Encode your labels (y) as integers starting with 0, i.e. 0, 1, 2, ..., [num_class - 1].\n",
      "  warnings.warn(label_encoder_deprecation_msg, UserWarning)\n",
      "/opt/conda/lib/python3.7/site-packages/xgboost/sklearn.py:1224: UserWarning: The use of label encoder in XGBClassifier is deprecated and will be removed in a future release. To remove this warning, do the following: 1) Pass option use_label_encoder=False when constructing XGBClassifier object; and 2) Encode your labels (y) as integers starting with 0, i.e. 0, 1, 2, ..., [num_class - 1].\n",
      "  warnings.warn(label_encoder_deprecation_msg, UserWarning)\n",
      "/opt/conda/lib/python3.7/site-packages/xgboost/sklearn.py:1224: UserWarning: The use of label encoder in XGBClassifier is deprecated and will be removed in a future release. To remove this warning, do the following: 1) Pass option use_label_encoder=False when constructing XGBClassifier object; and 2) Encode your labels (y) as integers starting with 0, i.e. 0, 1, 2, ..., [num_class - 1].\n",
      "  warnings.warn(label_encoder_deprecation_msg, UserWarning)\n",
      "/opt/conda/lib/python3.7/site-packages/xgboost/sklearn.py:1224: UserWarning: The use of label encoder in XGBClassifier is deprecated and will be removed in a future release. To remove this warning, do the following: 1) Pass option use_label_encoder=False when constructing XGBClassifier object; and 2) Encode your labels (y) as integers starting with 0, i.e. 0, 1, 2, ..., [num_class - 1].\n",
      "  warnings.warn(label_encoder_deprecation_msg, UserWarning)\n",
      "/opt/conda/lib/python3.7/site-packages/xgboost/sklearn.py:1224: UserWarning: The use of label encoder in XGBClassifier is deprecated and will be removed in a future release. To remove this warning, do the following: 1) Pass option use_label_encoder=False when constructing XGBClassifier object; and 2) Encode your labels (y) as integers starting with 0, i.e. 0, 1, 2, ..., [num_class - 1].\n",
      "  warnings.warn(label_encoder_deprecation_msg, UserWarning)\n",
      "/opt/conda/lib/python3.7/site-packages/xgboost/sklearn.py:1224: UserWarning: The use of label encoder in XGBClassifier is deprecated and will be removed in a future release. To remove this warning, do the following: 1) Pass option use_label_encoder=False when constructing XGBClassifier object; and 2) Encode your labels (y) as integers starting with 0, i.e. 0, 1, 2, ..., [num_class - 1].\n",
      "  warnings.warn(label_encoder_deprecation_msg, UserWarning)\n",
      "/opt/conda/lib/python3.7/site-packages/xgboost/sklearn.py:1224: UserWarning: The use of label encoder in XGBClassifier is deprecated and will be removed in a future release. To remove this warning, do the following: 1) Pass option use_label_encoder=False when constructing XGBClassifier object; and 2) Encode your labels (y) as integers starting with 0, i.e. 0, 1, 2, ..., [num_class - 1].\n",
      "  warnings.warn(label_encoder_deprecation_msg, UserWarning)\n",
      "/opt/conda/lib/python3.7/site-packages/xgboost/sklearn.py:1224: UserWarning: The use of label encoder in XGBClassifier is deprecated and will be removed in a future release. To remove this warning, do the following: 1) Pass option use_label_encoder=False when constructing XGBClassifier object; and 2) Encode your labels (y) as integers starting with 0, i.e. 0, 1, 2, ..., [num_class - 1].\n",
      "  warnings.warn(label_encoder_deprecation_msg, UserWarning)\n",
      "/opt/conda/lib/python3.7/site-packages/xgboost/sklearn.py:1224: UserWarning: The use of label encoder in XGBClassifier is deprecated and will be removed in a future release. To remove this warning, do the following: 1) Pass option use_label_encoder=False when constructing XGBClassifier object; and 2) Encode your labels (y) as integers starting with 0, i.e. 0, 1, 2, ..., [num_class - 1].\n",
      "  warnings.warn(label_encoder_deprecation_msg, UserWarning)\n",
      "/opt/conda/lib/python3.7/site-packages/xgboost/sklearn.py:1224: UserWarning: The use of label encoder in XGBClassifier is deprecated and will be removed in a future release. To remove this warning, do the following: 1) Pass option use_label_encoder=False when constructing XGBClassifier object; and 2) Encode your labels (y) as integers starting with 0, i.e. 0, 1, 2, ..., [num_class - 1].\n",
      "  warnings.warn(label_encoder_deprecation_msg, UserWarning)\n",
      "/opt/conda/lib/python3.7/site-packages/xgboost/sklearn.py:1224: UserWarning: The use of label encoder in XGBClassifier is deprecated and will be removed in a future release. To remove this warning, do the following: 1) Pass option use_label_encoder=False when constructing XGBClassifier object; and 2) Encode your labels (y) as integers starting with 0, i.e. 0, 1, 2, ..., [num_class - 1].\n",
      "  warnings.warn(label_encoder_deprecation_msg, UserWarning)\n",
      "/opt/conda/lib/python3.7/site-packages/xgboost/sklearn.py:1224: UserWarning: The use of label encoder in XGBClassifier is deprecated and will be removed in a future release. To remove this warning, do the following: 1) Pass option use_label_encoder=False when constructing XGBClassifier object; and 2) Encode your labels (y) as integers starting with 0, i.e. 0, 1, 2, ..., [num_class - 1].\n",
      "  warnings.warn(label_encoder_deprecation_msg, UserWarning)\n",
      "/opt/conda/lib/python3.7/site-packages/xgboost/sklearn.py:1224: UserWarning: The use of label encoder in XGBClassifier is deprecated and will be removed in a future release. To remove this warning, do the following: 1) Pass option use_label_encoder=False when constructing XGBClassifier object; and 2) Encode your labels (y) as integers starting with 0, i.e. 0, 1, 2, ..., [num_class - 1].\n",
      "  warnings.warn(label_encoder_deprecation_msg, UserWarning)\n",
      "/opt/conda/lib/python3.7/site-packages/xgboost/sklearn.py:1224: UserWarning: The use of label encoder in XGBClassifier is deprecated and will be removed in a future release. To remove this warning, do the following: 1) Pass option use_label_encoder=False when constructing XGBClassifier object; and 2) Encode your labels (y) as integers starting with 0, i.e. 0, 1, 2, ..., [num_class - 1].\n",
      "  warnings.warn(label_encoder_deprecation_msg, UserWarning)\n",
      "/opt/conda/lib/python3.7/site-packages/xgboost/sklearn.py:1224: UserWarning: The use of label encoder in XGBClassifier is deprecated and will be removed in a future release. To remove this warning, do the following: 1) Pass option use_label_encoder=False when constructing XGBClassifier object; and 2) Encode your labels (y) as integers starting with 0, i.e. 0, 1, 2, ..., [num_class - 1].\n",
      "  warnings.warn(label_encoder_deprecation_msg, UserWarning)\n",
      "/opt/conda/lib/python3.7/site-packages/xgboost/sklearn.py:1224: UserWarning: The use of label encoder in XGBClassifier is deprecated and will be removed in a future release. To remove this warning, do the following: 1) Pass option use_label_encoder=False when constructing XGBClassifier object; and 2) Encode your labels (y) as integers starting with 0, i.e. 0, 1, 2, ..., [num_class - 1].\n",
      "  warnings.warn(label_encoder_deprecation_msg, UserWarning)\n",
      "/opt/conda/lib/python3.7/site-packages/xgboost/sklearn.py:1224: UserWarning: The use of label encoder in XGBClassifier is deprecated and will be removed in a future release. To remove this warning, do the following: 1) Pass option use_label_encoder=False when constructing XGBClassifier object; and 2) Encode your labels (y) as integers starting with 0, i.e. 0, 1, 2, ..., [num_class - 1].\n",
      "  warnings.warn(label_encoder_deprecation_msg, UserWarning)\n",
      "/opt/conda/lib/python3.7/site-packages/xgboost/sklearn.py:1224: UserWarning: The use of label encoder in XGBClassifier is deprecated and will be removed in a future release. To remove this warning, do the following: 1) Pass option use_label_encoder=False when constructing XGBClassifier object; and 2) Encode your labels (y) as integers starting with 0, i.e. 0, 1, 2, ..., [num_class - 1].\n",
      "  warnings.warn(label_encoder_deprecation_msg, UserWarning)\n",
      "/opt/conda/lib/python3.7/site-packages/xgboost/sklearn.py:1224: UserWarning: The use of label encoder in XGBClassifier is deprecated and will be removed in a future release. To remove this warning, do the following: 1) Pass option use_label_encoder=False when constructing XGBClassifier object; and 2) Encode your labels (y) as integers starting with 0, i.e. 0, 1, 2, ..., [num_class - 1].\n",
      "  warnings.warn(label_encoder_deprecation_msg, UserWarning)\n",
      "/opt/conda/lib/python3.7/site-packages/xgboost/sklearn.py:1224: UserWarning: The use of label encoder in XGBClassifier is deprecated and will be removed in a future release. To remove this warning, do the following: 1) Pass option use_label_encoder=False when constructing XGBClassifier object; and 2) Encode your labels (y) as integers starting with 0, i.e. 0, 1, 2, ..., [num_class - 1].\n",
      "  warnings.warn(label_encoder_deprecation_msg, UserWarning)\n",
      "/opt/conda/lib/python3.7/site-packages/xgboost/sklearn.py:1224: UserWarning: The use of label encoder in XGBClassifier is deprecated and will be removed in a future release. To remove this warning, do the following: 1) Pass option use_label_encoder=False when constructing XGBClassifier object; and 2) Encode your labels (y) as integers starting with 0, i.e. 0, 1, 2, ..., [num_class - 1].\n",
      "  warnings.warn(label_encoder_deprecation_msg, UserWarning)\n",
      "/opt/conda/lib/python3.7/site-packages/xgboost/sklearn.py:1224: UserWarning: The use of label encoder in XGBClassifier is deprecated and will be removed in a future release. To remove this warning, do the following: 1) Pass option use_label_encoder=False when constructing XGBClassifier object; and 2) Encode your labels (y) as integers starting with 0, i.e. 0, 1, 2, ..., [num_class - 1].\n",
      "  warnings.warn(label_encoder_deprecation_msg, UserWarning)\n",
      "/opt/conda/lib/python3.7/site-packages/xgboost/sklearn.py:1224: UserWarning: The use of label encoder in XGBClassifier is deprecated and will be removed in a future release. To remove this warning, do the following: 1) Pass option use_label_encoder=False when constructing XGBClassifier object; and 2) Encode your labels (y) as integers starting with 0, i.e. 0, 1, 2, ..., [num_class - 1].\n",
      "  warnings.warn(label_encoder_deprecation_msg, UserWarning)\n",
      "/opt/conda/lib/python3.7/site-packages/xgboost/sklearn.py:1224: UserWarning: The use of label encoder in XGBClassifier is deprecated and will be removed in a future release. To remove this warning, do the following: 1) Pass option use_label_encoder=False when constructing XGBClassifier object; and 2) Encode your labels (y) as integers starting with 0, i.e. 0, 1, 2, ..., [num_class - 1].\n",
      "  warnings.warn(label_encoder_deprecation_msg, UserWarning)\n",
      "/opt/conda/lib/python3.7/site-packages/xgboost/sklearn.py:1224: UserWarning: The use of label encoder in XGBClassifier is deprecated and will be removed in a future release. To remove this warning, do the following: 1) Pass option use_label_encoder=False when constructing XGBClassifier object; and 2) Encode your labels (y) as integers starting with 0, i.e. 0, 1, 2, ..., [num_class - 1].\n",
      "  warnings.warn(label_encoder_deprecation_msg, UserWarning)\n",
      "/opt/conda/lib/python3.7/site-packages/xgboost/sklearn.py:1224: UserWarning: The use of label encoder in XGBClassifier is deprecated and will be removed in a future release. To remove this warning, do the following: 1) Pass option use_label_encoder=False when constructing XGBClassifier object; and 2) Encode your labels (y) as integers starting with 0, i.e. 0, 1, 2, ..., [num_class - 1].\n",
      "  warnings.warn(label_encoder_deprecation_msg, UserWarning)\n",
      "/opt/conda/lib/python3.7/site-packages/xgboost/sklearn.py:1224: UserWarning: The use of label encoder in XGBClassifier is deprecated and will be removed in a future release. To remove this warning, do the following: 1) Pass option use_label_encoder=False when constructing XGBClassifier object; and 2) Encode your labels (y) as integers starting with 0, i.e. 0, 1, 2, ..., [num_class - 1].\n",
      "  warnings.warn(label_encoder_deprecation_msg, UserWarning)\n",
      "/opt/conda/lib/python3.7/site-packages/xgboost/sklearn.py:1224: UserWarning: The use of label encoder in XGBClassifier is deprecated and will be removed in a future release. To remove this warning, do the following: 1) Pass option use_label_encoder=False when constructing XGBClassifier object; and 2) Encode your labels (y) as integers starting with 0, i.e. 0, 1, 2, ..., [num_class - 1].\n",
      "  warnings.warn(label_encoder_deprecation_msg, UserWarning)\n",
      "/opt/conda/lib/python3.7/site-packages/xgboost/sklearn.py:1224: UserWarning: The use of label encoder in XGBClassifier is deprecated and will be removed in a future release. To remove this warning, do the following: 1) Pass option use_label_encoder=False when constructing XGBClassifier object; and 2) Encode your labels (y) as integers starting with 0, i.e. 0, 1, 2, ..., [num_class - 1].\n",
      "  warnings.warn(label_encoder_deprecation_msg, UserWarning)\n",
      "/opt/conda/lib/python3.7/site-packages/xgboost/sklearn.py:1224: UserWarning: The use of label encoder in XGBClassifier is deprecated and will be removed in a future release. To remove this warning, do the following: 1) Pass option use_label_encoder=False when constructing XGBClassifier object; and 2) Encode your labels (y) as integers starting with 0, i.e. 0, 1, 2, ..., [num_class - 1].\n",
      "  warnings.warn(label_encoder_deprecation_msg, UserWarning)\n",
      "/opt/conda/lib/python3.7/site-packages/xgboost/sklearn.py:1224: UserWarning: The use of label encoder in XGBClassifier is deprecated and will be removed in a future release. To remove this warning, do the following: 1) Pass option use_label_encoder=False when constructing XGBClassifier object; and 2) Encode your labels (y) as integers starting with 0, i.e. 0, 1, 2, ..., [num_class - 1].\n",
      "  warnings.warn(label_encoder_deprecation_msg, UserWarning)\n",
      "/opt/conda/lib/python3.7/site-packages/xgboost/sklearn.py:1224: UserWarning: The use of label encoder in XGBClassifier is deprecated and will be removed in a future release. To remove this warning, do the following: 1) Pass option use_label_encoder=False when constructing XGBClassifier object; and 2) Encode your labels (y) as integers starting with 0, i.e. 0, 1, 2, ..., [num_class - 1].\n",
      "  warnings.warn(label_encoder_deprecation_msg, UserWarning)\n",
      "/opt/conda/lib/python3.7/site-packages/xgboost/sklearn.py:1224: UserWarning: The use of label encoder in XGBClassifier is deprecated and will be removed in a future release. To remove this warning, do the following: 1) Pass option use_label_encoder=False when constructing XGBClassifier object; and 2) Encode your labels (y) as integers starting with 0, i.e. 0, 1, 2, ..., [num_class - 1].\n",
      "  warnings.warn(label_encoder_deprecation_msg, UserWarning)\n",
      "/opt/conda/lib/python3.7/site-packages/xgboost/sklearn.py:1224: UserWarning: The use of label encoder in XGBClassifier is deprecated and will be removed in a future release. To remove this warning, do the following: 1) Pass option use_label_encoder=False when constructing XGBClassifier object; and 2) Encode your labels (y) as integers starting with 0, i.e. 0, 1, 2, ..., [num_class - 1].\n",
      "  warnings.warn(label_encoder_deprecation_msg, UserWarning)\n",
      "/opt/conda/lib/python3.7/site-packages/xgboost/sklearn.py:1224: UserWarning: The use of label encoder in XGBClassifier is deprecated and will be removed in a future release. To remove this warning, do the following: 1) Pass option use_label_encoder=False when constructing XGBClassifier object; and 2) Encode your labels (y) as integers starting with 0, i.e. 0, 1, 2, ..., [num_class - 1].\n",
      "  warnings.warn(label_encoder_deprecation_msg, UserWarning)\n",
      "/opt/conda/lib/python3.7/site-packages/xgboost/sklearn.py:1224: UserWarning: The use of label encoder in XGBClassifier is deprecated and will be removed in a future release. To remove this warning, do the following: 1) Pass option use_label_encoder=False when constructing XGBClassifier object; and 2) Encode your labels (y) as integers starting with 0, i.e. 0, 1, 2, ..., [num_class - 1].\n",
      "  warnings.warn(label_encoder_deprecation_msg, UserWarning)\n",
      "/opt/conda/lib/python3.7/site-packages/xgboost/sklearn.py:1224: UserWarning: The use of label encoder in XGBClassifier is deprecated and will be removed in a future release. To remove this warning, do the following: 1) Pass option use_label_encoder=False when constructing XGBClassifier object; and 2) Encode your labels (y) as integers starting with 0, i.e. 0, 1, 2, ..., [num_class - 1].\n",
      "  warnings.warn(label_encoder_deprecation_msg, UserWarning)\n",
      "/opt/conda/lib/python3.7/site-packages/xgboost/sklearn.py:1224: UserWarning: The use of label encoder in XGBClassifier is deprecated and will be removed in a future release. To remove this warning, do the following: 1) Pass option use_label_encoder=False when constructing XGBClassifier object; and 2) Encode your labels (y) as integers starting with 0, i.e. 0, 1, 2, ..., [num_class - 1].\n",
      "  warnings.warn(label_encoder_deprecation_msg, UserWarning)\n",
      "/opt/conda/lib/python3.7/site-packages/xgboost/sklearn.py:1224: UserWarning: The use of label encoder in XGBClassifier is deprecated and will be removed in a future release. To remove this warning, do the following: 1) Pass option use_label_encoder=False when constructing XGBClassifier object; and 2) Encode your labels (y) as integers starting with 0, i.e. 0, 1, 2, ..., [num_class - 1].\n",
      "  warnings.warn(label_encoder_deprecation_msg, UserWarning)\n",
      "/opt/conda/lib/python3.7/site-packages/xgboost/sklearn.py:1224: UserWarning: The use of label encoder in XGBClassifier is deprecated and will be removed in a future release. To remove this warning, do the following: 1) Pass option use_label_encoder=False when constructing XGBClassifier object; and 2) Encode your labels (y) as integers starting with 0, i.e. 0, 1, 2, ..., [num_class - 1].\n",
      "  warnings.warn(label_encoder_deprecation_msg, UserWarning)\n"
     ]
    },
    {
     "name": "stdout",
     "output_type": "stream",
     "text": [
      "\n",
      "[CV] END .................learning_rate=0.0001, max_depth=10; total time= 1.6min\n",
      "[22:03:03] WARNING: ../src/learner.cc:1115: Starting in XGBoost 1.3.0, the default evaluation metric used with the objective 'binary:logistic' was changed from 'error' to 'logloss'. Explicitly set eval_metric if you'd like to restore the old behavior.\n",
      "[CV] END .................learning_rate=0.0001, max_depth=15; total time= 1.9min\n",
      "[22:04:57] WARNING: ../src/learner.cc:1115: Starting in XGBoost 1.3.0, the default evaluation metric used with the objective 'binary:logistic' was changed from 'error' to 'logloss'. Explicitly set eval_metric if you'd like to restore the old behavior.\n",
      "[CV] END .................learning_rate=0.0001, max_depth=15; total time= 1.5min\n",
      "[22:06:25] WARNING: ../src/learner.cc:1115: Starting in XGBoost 1.3.0, the default evaluation metric used with the objective 'binary:logistic' was changed from 'error' to 'logloss'. Explicitly set eval_metric if you'd like to restore the old behavior.\n",
      "[CV] END ...................learning_rate=0.001, max_depth=3; total time=  42.3s\n",
      "[22:07:07] WARNING: ../src/learner.cc:1115: Starting in XGBoost 1.3.0, the default evaluation metric used with the objective 'binary:logistic' was changed from 'error' to 'logloss'. Explicitly set eval_metric if you'd like to restore the old behavior.\n",
      "[CV] END ...................learning_rate=0.001, max_depth=4; total time=  54.1s\n",
      "[22:08:01] WARNING: ../src/learner.cc:1115: Starting in XGBoost 1.3.0, the default evaluation metric used with the objective 'binary:logistic' was changed from 'error' to 'logloss'. Explicitly set eval_metric if you'd like to restore the old behavior.\n",
      "[CV] END ...................learning_rate=0.001, max_depth=5; total time= 1.2min\n",
      "[22:09:15] WARNING: ../src/learner.cc:1115: Starting in XGBoost 1.3.0, the default evaluation metric used with the objective 'binary:logistic' was changed from 'error' to 'logloss'. Explicitly set eval_metric if you'd like to restore the old behavior.\n",
      "[CV] END ..................learning_rate=0.001, max_depth=10; total time= 1.7min\n",
      "[22:10:56] WARNING: ../src/learner.cc:1115: Starting in XGBoost 1.3.0, the default evaluation metric used with the objective 'binary:logistic' was changed from 'error' to 'logloss'. Explicitly set eval_metric if you'd like to restore the old behavior.\n",
      "[CV] END ..................learning_rate=0.001, max_depth=10; total time= 1.9min\n",
      "[22:12:50] WARNING: ../src/learner.cc:1115: Starting in XGBoost 1.3.0, the default evaluation metric used with the objective 'binary:logistic' was changed from 'error' to 'logloss'. Explicitly set eval_metric if you'd like to restore the old behavior.\n",
      "[CV] END ..................learning_rate=0.001, max_depth=15; total time= 1.3min\n",
      "[22:14:09] WARNING: ../src/learner.cc:1115: Starting in XGBoost 1.3.0, the default evaluation metric used with the objective 'binary:logistic' was changed from 'error' to 'logloss'. Explicitly set eval_metric if you'd like to restore the old behavior.\n",
      "[CV] END ....................learning_rate=0.01, max_depth=2; total time=  29.2s\n",
      "[22:14:38] WARNING: ../src/learner.cc:1115: Starting in XGBoost 1.3.0, the default evaluation metric used with the objective 'binary:logistic' was changed from 'error' to 'logloss'. Explicitly set eval_metric if you'd like to restore the old behavior.\n",
      "[CV] END ....................learning_rate=0.01, max_depth=3; total time=  45.1s\n",
      "[22:15:23] WARNING: ../src/learner.cc:1115: Starting in XGBoost 1.3.0, the default evaluation metric used with the objective 'binary:logistic' was changed from 'error' to 'logloss'. Explicitly set eval_metric if you'd like to restore the old behavior.\n",
      "[CV] END ....................learning_rate=0.01, max_depth=4; total time= 1.0min\n",
      "[22:16:26] WARNING: ../src/learner.cc:1115: Starting in XGBoost 1.3.0, the default evaluation metric used with the objective 'binary:logistic' was changed from 'error' to 'logloss'. Explicitly set eval_metric if you'd like to restore the old behavior.\n",
      "[CV] END ....................learning_rate=0.01, max_depth=5; total time= 1.2min\n",
      "[22:17:40] WARNING: ../src/learner.cc:1115: Starting in XGBoost 1.3.0, the default evaluation metric used with the objective 'binary:logistic' was changed from 'error' to 'logloss'. Explicitly set eval_metric if you'd like to restore the old behavior.\n",
      "[CV] END ...................learning_rate=0.01, max_depth=10; total time= 1.7min\n",
      "[22:19:23] WARNING: ../src/learner.cc:1115: Starting in XGBoost 1.3.0, the default evaluation metric used with the objective 'binary:logistic' was changed from 'error' to 'logloss'. Explicitly set eval_metric if you'd like to restore the old behavior.\n",
      "[CV] END ...................learning_rate=0.01, max_depth=10; total time= 2.0min\n",
      "[22:21:23] WARNING: ../src/learner.cc:1115: Starting in XGBoost 1.3.0, the default evaluation metric used with the objective 'binary:logistic' was changed from 'error' to 'logloss'. Explicitly set eval_metric if you'd like to restore the old behavior.\n",
      "[CV] END ...................learning_rate=0.01, max_depth=15; total time= 1.8min\n",
      "[22:23:12] WARNING: ../src/learner.cc:1115: Starting in XGBoost 1.3.0, the default evaluation metric used with the objective 'binary:logistic' was changed from 'error' to 'logloss'. Explicitly set eval_metric if you'd like to restore the old behavior.\n",
      "[CV] END .....................learning_rate=0.1, max_depth=3; total time=  40.8s\n",
      "[22:23:53] WARNING: ../src/learner.cc:1115: Starting in XGBoost 1.3.0, the default evaluation metric used with the objective 'binary:logistic' was changed from 'error' to 'logloss'. Explicitly set eval_metric if you'd like to restore the old behavior.\n",
      "[CV] END .....................learning_rate=0.1, max_depth=4; total time=  53.9s\n",
      "[22:24:47] WARNING: ../src/learner.cc:1115: Starting in XGBoost 1.3.0, the default evaluation metric used with the objective 'binary:logistic' was changed from 'error' to 'logloss'. Explicitly set eval_metric if you'd like to restore the old behavior.\n",
      "[CV] END .....................learning_rate=0.1, max_depth=4; total time=  53.0s\n",
      "[22:25:40] WARNING: ../src/learner.cc:1115: Starting in XGBoost 1.3.0, the default evaluation metric used with the objective 'binary:logistic' was changed from 'error' to 'logloss'. Explicitly set eval_metric if you'd like to restore the old behavior.\n",
      "[CV] END .....................learning_rate=0.1, max_depth=5; total time= 1.1min\n",
      "[22:26:49] WARNING: ../src/learner.cc:1115: Starting in XGBoost 1.3.0, the default evaluation metric used with the objective 'binary:logistic' was changed from 'error' to 'logloss'. Explicitly set eval_metric if you'd like to restore the old behavior.\n",
      "[CV] END ....................learning_rate=0.1, max_depth=10; total time= 1.4min\n",
      "[22:28:11] WARNING: ../src/learner.cc:1115: Starting in XGBoost 1.3.0, the default evaluation metric used with the objective 'binary:logistic' was changed from 'error' to 'logloss'. Explicitly set eval_metric if you'd like to restore the old behavior.\n",
      "[CV] END ....................learning_rate=0.1, max_depth=15; total time= 1.2min\n",
      "[22:29:22] WARNING: ../src/learner.cc:1115: Starting in XGBoost 1.3.0, the default evaluation metric used with the objective 'binary:logistic' was changed from 'error' to 'logloss'. Explicitly set eval_metric if you'd like to restore the old behavior.\n",
      "[CV] END .....................learning_rate=0.5, max_depth=2; total time=  26.1s\n",
      "[22:29:48] WARNING: ../src/learner.cc:1115: Starting in XGBoost 1.3.0, the default evaluation metric used with the objective 'binary:logistic' was changed from 'error' to 'logloss'. Explicitly set eval_metric if you'd like to restore the old behavior.\n",
      "[CV] END .....................learning_rate=0.5, max_depth=2; total time=  29.2s\n",
      "[22:30:17] WARNING: ../src/learner.cc:1115: Starting in XGBoost 1.3.0, the default evaluation metric used with the objective 'binary:logistic' was changed from 'error' to 'logloss'. Explicitly set eval_metric if you'd like to restore the old behavior.\n",
      "[CV] END .....................learning_rate=0.5, max_depth=3; total time=  32.4s\n",
      "[22:30:49] WARNING: ../src/learner.cc:1115: Starting in XGBoost 1.3.0, the default evaluation metric used with the objective 'binary:logistic' was changed from 'error' to 'logloss'. Explicitly set eval_metric if you'd like to restore the old behavior."
     ]
    },
    {
     "name": "stderr",
     "output_type": "stream",
     "text": [
      "/opt/conda/lib/python3.7/site-packages/xgboost/sklearn.py:1224: UserWarning: The use of label encoder in XGBClassifier is deprecated and will be removed in a future release. To remove this warning, do the following: 1) Pass option use_label_encoder=False when constructing XGBClassifier object; and 2) Encode your labels (y) as integers starting with 0, i.e. 0, 1, 2, ..., [num_class - 1].\n",
      "  warnings.warn(label_encoder_deprecation_msg, UserWarning)\n",
      "/opt/conda/lib/python3.7/site-packages/xgboost/sklearn.py:1224: UserWarning: The use of label encoder in XGBClassifier is deprecated and will be removed in a future release. To remove this warning, do the following: 1) Pass option use_label_encoder=False when constructing XGBClassifier object; and 2) Encode your labels (y) as integers starting with 0, i.e. 0, 1, 2, ..., [num_class - 1].\n",
      "  warnings.warn(label_encoder_deprecation_msg, UserWarning)\n",
      "/opt/conda/lib/python3.7/site-packages/xgboost/sklearn.py:1224: UserWarning: The use of label encoder in XGBClassifier is deprecated and will be removed in a future release. To remove this warning, do the following: 1) Pass option use_label_encoder=False when constructing XGBClassifier object; and 2) Encode your labels (y) as integers starting with 0, i.e. 0, 1, 2, ..., [num_class - 1].\n",
      "  warnings.warn(label_encoder_deprecation_msg, UserWarning)\n",
      "/opt/conda/lib/python3.7/site-packages/xgboost/sklearn.py:1224: UserWarning: The use of label encoder in XGBClassifier is deprecated and will be removed in a future release. To remove this warning, do the following: 1) Pass option use_label_encoder=False when constructing XGBClassifier object; and 2) Encode your labels (y) as integers starting with 0, i.e. 0, 1, 2, ..., [num_class - 1].\n",
      "  warnings.warn(label_encoder_deprecation_msg, UserWarning)\n",
      "/opt/conda/lib/python3.7/site-packages/xgboost/sklearn.py:1224: UserWarning: The use of label encoder in XGBClassifier is deprecated and will be removed in a future release. To remove this warning, do the following: 1) Pass option use_label_encoder=False when constructing XGBClassifier object; and 2) Encode your labels (y) as integers starting with 0, i.e. 0, 1, 2, ..., [num_class - 1].\n",
      "  warnings.warn(label_encoder_deprecation_msg, UserWarning)\n",
      "/opt/conda/lib/python3.7/site-packages/xgboost/sklearn.py:1224: UserWarning: The use of label encoder in XGBClassifier is deprecated and will be removed in a future release. To remove this warning, do the following: 1) Pass option use_label_encoder=False when constructing XGBClassifier object; and 2) Encode your labels (y) as integers starting with 0, i.e. 0, 1, 2, ..., [num_class - 1].\n",
      "  warnings.warn(label_encoder_deprecation_msg, UserWarning)\n",
      "/opt/conda/lib/python3.7/site-packages/xgboost/sklearn.py:1224: UserWarning: The use of label encoder in XGBClassifier is deprecated and will be removed in a future release. To remove this warning, do the following: 1) Pass option use_label_encoder=False when constructing XGBClassifier object; and 2) Encode your labels (y) as integers starting with 0, i.e. 0, 1, 2, ..., [num_class - 1].\n",
      "  warnings.warn(label_encoder_deprecation_msg, UserWarning)\n",
      "/opt/conda/lib/python3.7/site-packages/xgboost/sklearn.py:1224: UserWarning: The use of label encoder in XGBClassifier is deprecated and will be removed in a future release. To remove this warning, do the following: 1) Pass option use_label_encoder=False when constructing XGBClassifier object; and 2) Encode your labels (y) as integers starting with 0, i.e. 0, 1, 2, ..., [num_class - 1].\n",
      "  warnings.warn(label_encoder_deprecation_msg, UserWarning)\n",
      "/opt/conda/lib/python3.7/site-packages/xgboost/sklearn.py:1224: UserWarning: The use of label encoder in XGBClassifier is deprecated and will be removed in a future release. To remove this warning, do the following: 1) Pass option use_label_encoder=False when constructing XGBClassifier object; and 2) Encode your labels (y) as integers starting with 0, i.e. 0, 1, 2, ..., [num_class - 1].\n",
      "  warnings.warn(label_encoder_deprecation_msg, UserWarning)\n",
      "/opt/conda/lib/python3.7/site-packages/xgboost/sklearn.py:1224: UserWarning: The use of label encoder in XGBClassifier is deprecated and will be removed in a future release. To remove this warning, do the following: 1) Pass option use_label_encoder=False when constructing XGBClassifier object; and 2) Encode your labels (y) as integers starting with 0, i.e. 0, 1, 2, ..., [num_class - 1].\n",
      "  warnings.warn(label_encoder_deprecation_msg, UserWarning)\n",
      "/opt/conda/lib/python3.7/site-packages/xgboost/sklearn.py:1224: UserWarning: The use of label encoder in XGBClassifier is deprecated and will be removed in a future release. To remove this warning, do the following: 1) Pass option use_label_encoder=False when constructing XGBClassifier object; and 2) Encode your labels (y) as integers starting with 0, i.e. 0, 1, 2, ..., [num_class - 1].\n",
      "  warnings.warn(label_encoder_deprecation_msg, UserWarning)\n",
      "/opt/conda/lib/python3.7/site-packages/xgboost/sklearn.py:1224: UserWarning: The use of label encoder in XGBClassifier is deprecated and will be removed in a future release. To remove this warning, do the following: 1) Pass option use_label_encoder=False when constructing XGBClassifier object; and 2) Encode your labels (y) as integers starting with 0, i.e. 0, 1, 2, ..., [num_class - 1].\n",
      "  warnings.warn(label_encoder_deprecation_msg, UserWarning)\n",
      "/opt/conda/lib/python3.7/site-packages/xgboost/sklearn.py:1224: UserWarning: The use of label encoder in XGBClassifier is deprecated and will be removed in a future release. To remove this warning, do the following: 1) Pass option use_label_encoder=False when constructing XGBClassifier object; and 2) Encode your labels (y) as integers starting with 0, i.e. 0, 1, 2, ..., [num_class - 1].\n",
      "  warnings.warn(label_encoder_deprecation_msg, UserWarning)\n",
      "/opt/conda/lib/python3.7/site-packages/xgboost/sklearn.py:1224: UserWarning: The use of label encoder in XGBClassifier is deprecated and will be removed in a future release. To remove this warning, do the following: 1) Pass option use_label_encoder=False when constructing XGBClassifier object; and 2) Encode your labels (y) as integers starting with 0, i.e. 0, 1, 2, ..., [num_class - 1].\n",
      "  warnings.warn(label_encoder_deprecation_msg, UserWarning)\n",
      "/opt/conda/lib/python3.7/site-packages/xgboost/sklearn.py:1224: UserWarning: The use of label encoder in XGBClassifier is deprecated and will be removed in a future release. To remove this warning, do the following: 1) Pass option use_label_encoder=False when constructing XGBClassifier object; and 2) Encode your labels (y) as integers starting with 0, i.e. 0, 1, 2, ..., [num_class - 1].\n",
      "  warnings.warn(label_encoder_deprecation_msg, UserWarning)\n",
      "/opt/conda/lib/python3.7/site-packages/xgboost/sklearn.py:1224: UserWarning: The use of label encoder in XGBClassifier is deprecated and will be removed in a future release. To remove this warning, do the following: 1) Pass option use_label_encoder=False when constructing XGBClassifier object; and 2) Encode your labels (y) as integers starting with 0, i.e. 0, 1, 2, ..., [num_class - 1].\n",
      "  warnings.warn(label_encoder_deprecation_msg, UserWarning)\n",
      "/opt/conda/lib/python3.7/site-packages/xgboost/sklearn.py:1224: UserWarning: The use of label encoder in XGBClassifier is deprecated and will be removed in a future release. To remove this warning, do the following: 1) Pass option use_label_encoder=False when constructing XGBClassifier object; and 2) Encode your labels (y) as integers starting with 0, i.e. 0, 1, 2, ..., [num_class - 1].\n",
      "  warnings.warn(label_encoder_deprecation_msg, UserWarning)\n",
      "/opt/conda/lib/python3.7/site-packages/xgboost/sklearn.py:1224: UserWarning: The use of label encoder in XGBClassifier is deprecated and will be removed in a future release. To remove this warning, do the following: 1) Pass option use_label_encoder=False when constructing XGBClassifier object; and 2) Encode your labels (y) as integers starting with 0, i.e. 0, 1, 2, ..., [num_class - 1].\n",
      "  warnings.warn(label_encoder_deprecation_msg, UserWarning)\n",
      "/opt/conda/lib/python3.7/site-packages/xgboost/sklearn.py:1224: UserWarning: The use of label encoder in XGBClassifier is deprecated and will be removed in a future release. To remove this warning, do the following: 1) Pass option use_label_encoder=False when constructing XGBClassifier object; and 2) Encode your labels (y) as integers starting with 0, i.e. 0, 1, 2, ..., [num_class - 1].\n",
      "  warnings.warn(label_encoder_deprecation_msg, UserWarning)\n"
     ]
    },
    {
     "name": "stdout",
     "output_type": "stream",
     "text": [
      "\n",
      "[22:07:30] WARNING: ../src/learner.cc:1115: Starting in XGBoost 1.3.0, the default evaluation metric used with the objective 'binary:logistic' was changed from 'error' to 'logloss'. Explicitly set eval_metric if you'd like to restore the old behavior.\n",
      "[CV] END ...................learning_rate=0.001, max_depth=4; total time=  59.8s\n",
      "[22:08:30] WARNING: ../src/learner.cc:1115: Starting in XGBoost 1.3.0, the default evaluation metric used with the objective 'binary:logistic' was changed from 'error' to 'logloss'. Explicitly set eval_metric if you'd like to restore the old behavior.\n",
      "[CV] END ...................learning_rate=0.001, max_depth=5; total time= 1.1min\n",
      "[22:09:35] WARNING: ../src/learner.cc:1115: Starting in XGBoost 1.3.0, the default evaluation metric used with the objective 'binary:logistic' was changed from 'error' to 'logloss'. Explicitly set eval_metric if you'd like to restore the old behavior.\n",
      "[CV] END ..................learning_rate=0.001, max_depth=10; total time= 1.6min\n",
      "[22:11:08] WARNING: ../src/learner.cc:1115: Starting in XGBoost 1.3.0, the default evaluation metric used with the objective 'binary:logistic' was changed from 'error' to 'logloss'. Explicitly set eval_metric if you'd like to restore the old behavior.\n",
      "[CV] END ..................learning_rate=0.001, max_depth=15; total time= 1.6min\n",
      "[22:12:46] WARNING: ../src/learner.cc:1115: Starting in XGBoost 1.3.0, the default evaluation metric used with the objective 'binary:logistic' was changed from 'error' to 'logloss'. Explicitly set eval_metric if you'd like to restore the old behavior.\n",
      "[CV] END ..................learning_rate=0.001, max_depth=15; total time= 1.5min\n",
      "[22:14:13] WARNING: ../src/learner.cc:1115: Starting in XGBoost 1.3.0, the default evaluation metric used with the objective 'binary:logistic' was changed from 'error' to 'logloss'. Explicitly set eval_metric if you'd like to restore the old behavior.\n",
      "[CV] END ....................learning_rate=0.01, max_depth=3; total time=  45.5s\n",
      "[22:14:58] WARNING: ../src/learner.cc:1115: Starting in XGBoost 1.3.0, the default evaluation metric used with the objective 'binary:logistic' was changed from 'error' to 'logloss'. Explicitly set eval_metric if you'd like to restore the old behavior.\n",
      "[CV] END ....................learning_rate=0.01, max_depth=3; total time=  39.9s\n",
      "[22:15:39] WARNING: ../src/learner.cc:1115: Starting in XGBoost 1.3.0, the default evaluation metric used with the objective 'binary:logistic' was changed from 'error' to 'logloss'. Explicitly set eval_metric if you'd like to restore the old behavior.\n",
      "[CV] END ....................learning_rate=0.01, max_depth=4; total time=  52.8s\n",
      "[22:16:31] WARNING: ../src/learner.cc:1115: Starting in XGBoost 1.3.0, the default evaluation metric used with the objective 'binary:logistic' was changed from 'error' to 'logloss'. Explicitly set eval_metric if you'd like to restore the old behavior.\n",
      "[CV] END ....................learning_rate=0.01, max_depth=5; total time= 1.0min\n",
      "[22:17:35] WARNING: ../src/learner.cc:1115: Starting in XGBoost 1.3.0, the default evaluation metric used with the objective 'binary:logistic' was changed from 'error' to 'logloss'. Explicitly set eval_metric if you'd like to restore the old behavior.\n",
      "[CV] END ...................learning_rate=0.01, max_depth=10; total time= 2.1min\n",
      "[22:19:42] WARNING: ../src/learner.cc:1115: Starting in XGBoost 1.3.0, the default evaluation metric used with the objective 'binary:logistic' was changed from 'error' to 'logloss'. Explicitly set eval_metric if you'd like to restore the old behavior.\n",
      "[CV] END ...................learning_rate=0.01, max_depth=15; total time= 1.8min\n",
      "[22:21:29] WARNING: ../src/learner.cc:1115: Starting in XGBoost 1.3.0, the default evaluation metric used with the objective 'binary:logistic' was changed from 'error' to 'logloss'. Explicitly set eval_metric if you'd like to restore the old behavior.\n",
      "[CV] END ...................learning_rate=0.01, max_depth=15; total time= 1.7min\n",
      "[22:23:12] WARNING: ../src/learner.cc:1115: Starting in XGBoost 1.3.0, the default evaluation metric used with the objective 'binary:logistic' was changed from 'error' to 'logloss'. Explicitly set eval_metric if you'd like to restore the old behavior.\n",
      "[CV] END .....................learning_rate=0.1, max_depth=3; total time=  40.7s\n",
      "[22:23:53] WARNING: ../src/learner.cc:1115: Starting in XGBoost 1.3.0, the default evaluation metric used with the objective 'binary:logistic' was changed from 'error' to 'logloss'. Explicitly set eval_metric if you'd like to restore the old behavior.\n",
      "[CV] END .....................learning_rate=0.1, max_depth=3; total time=  41.5s\n",
      "[22:24:34] WARNING: ../src/learner.cc:1115: Starting in XGBoost 1.3.0, the default evaluation metric used with the objective 'binary:logistic' was changed from 'error' to 'logloss'. Explicitly set eval_metric if you'd like to restore the old behavior.\n",
      "[CV] END .....................learning_rate=0.1, max_depth=4; total time=  51.9s\n",
      "[22:25:26] WARNING: ../src/learner.cc:1115: Starting in XGBoost 1.3.0, the default evaluation metric used with the objective 'binary:logistic' was changed from 'error' to 'logloss'. Explicitly set eval_metric if you'd like to restore the old behavior.\n",
      "[CV] END .....................learning_rate=0.1, max_depth=5; total time= 1.2min\n",
      "[22:26:37] WARNING: ../src/learner.cc:1115: Starting in XGBoost 1.3.0, the default evaluation metric used with the objective 'binary:logistic' was changed from 'error' to 'logloss'. Explicitly set eval_metric if you'd like to restore the old behavior.\n",
      "[CV] END ....................learning_rate=0.1, max_depth=10; total time= 1.9min\n",
      "[22:28:32] WARNING: ../src/learner.cc:1115: Starting in XGBoost 1.3.0, the default evaluation metric used with the objective 'binary:logistic' was changed from 'error' to 'logloss'. Explicitly set eval_metric if you'd like to restore the old behavior.\n",
      "[CV] END ....................learning_rate=0.1, max_depth=15; total time= 1.2min\n",
      "[22:29:45] WARNING: ../src/learner.cc:1115: Starting in XGBoost 1.3.0, the default evaluation metric used with the objective 'binary:logistic' was changed from 'error' to 'logloss'. Explicitly set eval_metric if you'd like to restore the old behavior.\n",
      "[CV] END .....................learning_rate=0.5, max_depth=2; total time=  28.6s\n",
      "[22:30:13] WARNING: ../src/learner.cc:1115: Starting in XGBoost 1.3.0, the default evaluation metric used with the objective 'binary:logistic' was changed from 'error' to 'logloss'. Explicitly set eval_metric if you'd like to restore the old behavior.\n",
      "[CV] END .....................learning_rate=0.5, max_depth=2; total time=  19.5s\n",
      "[22:30:33] WARNING: ../src/learner.cc:1115: Starting in XGBoost 1.3.0, the default evaluation metric used with the objective 'binary:logistic' was changed from 'error' to 'logloss'. Explicitly set eval_metric if you'd like to restore the old behavior.\n",
      "[CV] END .....................learning_rate=0.5, max_depth=3; total time=  30.9s\n",
      "[22:31:04] WARNING: ../src/learner.cc:1115: Starting in XGBoost 1.3.0, the default evaluation metric used with the objective 'binary:logistic' was changed from 'error' to 'logloss'. Explicitly set eval_metric if you'd like to restore the old behavior.\n",
      "[CV] END .....................learning_rate=0.5, max_depth=4; total time=  44.0s\n",
      "[22:31:48] WARNING: ../src/learner.cc:1115: Starting in XGBoost 1.3.0, the default evaluation metric used with the objective 'binary:logistic' was changed from 'error' to 'logloss'. Explicitly set eval_metric if you'd like to restore the old behavior.\n",
      "[CV] END .....................learning_rate=0.5, max_depth=4; total time=  50.1s\n",
      "[22:32:39] WARNING: ../src/learner.cc:1115: Starting in XGBoost 1.3.0, the default evaluation metric used with the objective 'binary:logistic' was changed from 'error' to 'logloss'. Explicitly set eval_metric if you'd like to restore the old behavior.\n",
      "[CV] END .....................learning_rate=0.5, max_depth=5; total time=  38.6s\n",
      "[22:33:18] WARNING: ../src/learner.cc:1115: Starting in XGBoost 1.3.0, the default evaluation metric used with the objective 'binary:logistic' was changed from 'error' to 'logloss'. Explicitly set eval_metric if you'd like to restore the old behavior.Best parameters: {'learning_rate': 0.1, 'max_depth': 2}\n",
      "Train accuracy: 0.87\n",
      "Train accuracy: 0.86\n",
      "Test accuracy: 0.81\n",
      "Train accuracy: 0.88\n",
      "Test accuracy: 0.75\n",
      "Train accuracy: 0.88\n",
      "Test accuracy: 0.72\n",
      "Train accuracy: 0.88\n",
      "Test accuracy: 0.77\n",
      "Train accuracy: 0.88\n",
      "Test accuracy: 0.74\n",
      "Average train accuracy over 5 folds: 0.88\n",
      "Average test accuracy over 5 folds: 0.76\n",
      "Total k-fold computation time; 2.49\n"
     ]
    }
   ],
   "source": [
    "max_depth_list = [2, 3, 4, 5, 10, 15]\n",
    "lr_list = [0.0001,0.001, 0.01, 0.1,0.5]\n",
    "param_grid = dict(max_depth=max_depth_list, learning_rate=lr_list)\n",
    "\n",
    "clf = GridSearchCV(XGBClassifier(), param_grid=param_grid, n_jobs=-1, refit=True, cv=5,verbose=2)\n",
    "clf.fit(cirrhosis_X, cirrhosis_y)\n",
    "\n",
    "print('Best parameters:', clf.best_params_)\n",
    "print('Train accuracy:', round(clf.score(cirrhosis_X, cirrhosis_y),2))\n",
    "\n",
    "acc_train = []\n",
    "acc_test = []\n",
    "\n",
    "tik = time.time()\n",
    "for fold, (train_ids, test_ids) in enumerate(kfold.split(cirrhosis_X, cirrhosis_y)):\n",
    "    X_train, X_test = cirrhosis_X[train_ids], cirrhosis_X[test_ids]\n",
    "    Y_train, Y_test = cirrhosis_y[train_ids], cirrhosis_y[test_ids]\n",
    "    \n",
    "    clf_final = XGBClassifier(  max_depth=clf.best_params_['max_depth'],\n",
    "                                learning_rate=clf.best_params_['learning_rate'])\n",
    "    clf_final.fit(X_train, Y_train)\n",
    "    \n",
    "    print('Train accuracy:', round(clf_final.score(X_train, Y_train),2))\n",
    "    print('Test accuracy:', round(clf_final.score(X_test, Y_test),2))\n",
    "    \n",
    "    acc_train.append(clf_final.score(X_train, Y_train))\n",
    "    acc_test.append(clf_final.score(X_test, Y_test))\n",
    "tok = time.time()    \n",
    "\n",
    "final_acc_test = round(np.mean(acc_test),2)\n",
    "final_acc_train = round(np.mean(acc_train),2)\n",
    "\n",
    "print('Average train accuracy over 5 folds:', final_acc_train)\n",
    "print('Average test accuracy over 5 folds:', final_acc_test)\n",
    "print('Total k-fold computation time;', round(tok-tik, 2))\n",
    "comparison_dict['XGBoost'] = [final_acc_test,  round((tok-tik)/kfold.n_splits,2)]"
   ]
  },
  {
   "cell_type": "markdown",
   "id": "18bfc019",
   "metadata": {
    "papermill": {
     "duration": 0.12236,
     "end_time": "2022-03-26T22:35:37.559310",
     "exception": false,
     "start_time": "2022-03-26T22:35:37.436950",
     "status": "completed"
    },
    "tags": []
   },
   "source": [
    "# Various other methods"
   ]
  },
  {
   "cell_type": "markdown",
   "id": "8933b138",
   "metadata": {
    "papermill": {
     "duration": 0.131662,
     "end_time": "2022-03-26T22:35:37.814310",
     "exception": false,
     "start_time": "2022-03-26T22:35:37.682648",
     "status": "completed"
    },
    "tags": []
   },
   "source": [
    "## KNN"
   ]
  },
  {
   "cell_type": "code",
   "execution_count": 33,
   "id": "737d953d",
   "metadata": {
    "execution": {
     "iopub.execute_input": "2022-03-26T22:35:38.089382Z",
     "iopub.status.busy": "2022-03-26T22:35:38.077226Z",
     "iopub.status.idle": "2022-03-26T22:35:38.568253Z",
     "shell.execute_reply": "2022-03-26T22:35:38.567652Z"
    },
    "papermill": {
     "duration": 0.624791,
     "end_time": "2022-03-26T22:35:38.568407",
     "exception": false,
     "start_time": "2022-03-26T22:35:37.943616",
     "status": "completed"
    },
    "tags": []
   },
   "outputs": [
    {
     "name": "stdout",
     "output_type": "stream",
     "text": [
      "Fitting 5 folds for each of 9 candidates, totalling 45 fits\n",
      "Best parameters: {'n_neighbors': 3}\n",
      "Train accuracy: 0.79\n",
      "Train accuracy: 0.81\n",
      "Test accuracy: 0.64\n",
      "Train accuracy: 0.81\n",
      "Test accuracy: 0.55\n",
      "Train accuracy: 0.79\n",
      "Test accuracy: 0.62\n",
      "Train accuracy: 0.79\n",
      "Test accuracy: 0.61\n",
      "Train accuracy: 0.77\n",
      "Test accuracy: 0.66\n",
      "Average train accuracy over 5 folds: 0.79\n",
      "Average test accuracy over 5 folds: 0.62\n",
      "Total k-fold computation time; 0.25\n"
     ]
    }
   ],
   "source": [
    "from sklearn.neighbors import KNeighborsClassifier\n",
    "\n",
    "n_list = [2, 3, 4, 5, 6, 7, 8, 9, 10]\n",
    "param_grid = dict(n_neighbors=n_list)\n",
    "\n",
    "clf = GridSearchCV(KNeighborsClassifier(), param_grid=param_grid, n_jobs=-1, refit=True, cv=5,verbose=1)\n",
    "clf.fit(cirrhosis_X, cirrhosis_y)\n",
    "\n",
    "print('Best parameters:', clf.best_params_)\n",
    "print('Train accuracy:', round(clf.score(cirrhosis_X, cirrhosis_y),2))\n",
    "\n",
    "acc_train = []\n",
    "acc_test = []\n",
    "\n",
    "tik = time.time()\n",
    "for fold, (train_ids, test_ids) in enumerate(kfold.split(cirrhosis_X, cirrhosis_y)):\n",
    "    X_train, X_test = cirrhosis_X[train_ids], cirrhosis_X[test_ids]\n",
    "    Y_train, Y_test = cirrhosis_y[train_ids], cirrhosis_y[test_ids]\n",
    "    \n",
    "    clf_final = KNeighborsClassifier( n_neighbors=clf.best_params_['n_neighbors'])\n",
    "    clf_final.fit(X_train, Y_train)\n",
    "    \n",
    "    print('Train accuracy:', round(clf_final.score(X_train, Y_train),2))\n",
    "    print('Test accuracy:', round(clf_final.score(X_test, Y_test),2))\n",
    "    \n",
    "    acc_train.append(clf_final.score(X_train, Y_train))\n",
    "    acc_test.append(clf_final.score(X_test, Y_test))\n",
    "tok = time.time()    \n",
    "\n",
    "final_acc_test = round(np.mean(acc_test),2)\n",
    "final_acc_train = round(np.mean(acc_train),2)\n",
    "\n",
    "print('Average train accuracy over 5 folds:', final_acc_train)\n",
    "print('Average test accuracy over 5 folds:', final_acc_test)\n",
    "print('Total k-fold computation time;', round(tok-tik, 2))\n",
    "comparison_dict['KNeighbors'] = [final_acc_test,  round((tok-tik)/kfold.n_splits,2)]"
   ]
  },
  {
   "cell_type": "markdown",
   "id": "e2c94c62",
   "metadata": {
    "papermill": {
     "duration": 0.130795,
     "end_time": "2022-03-26T22:35:38.832822",
     "exception": false,
     "start_time": "2022-03-26T22:35:38.702027",
     "status": "completed"
    },
    "tags": []
   },
   "source": [
    "## Neural Network"
   ]
  },
  {
   "cell_type": "code",
   "execution_count": 34,
   "id": "5cd21b71",
   "metadata": {
    "execution": {
     "iopub.execute_input": "2022-03-26T22:35:39.105157Z",
     "iopub.status.busy": "2022-03-26T22:35:39.100381Z",
     "iopub.status.idle": "2022-03-26T22:35:40.214785Z",
     "shell.execute_reply": "2022-03-26T22:35:40.215966Z"
    },
    "id": "jpRwkFMwwV-T",
    "papermill": {
     "duration": 1.255492,
     "end_time": "2022-03-26T22:35:40.216377",
     "exception": false,
     "start_time": "2022-03-26T22:35:38.960885",
     "status": "completed"
    },
    "tags": []
   },
   "outputs": [
    {
     "name": "stdout",
     "output_type": "stream",
     "text": [
      "Train accuracy: 0.65\n",
      "Test accuracy: 0.65\n",
      "Train accuracy: 0.64\n",
      "Test accuracy: 0.66\n",
      "Train accuracy: 0.65\n",
      "Test accuracy: 0.65\n",
      "Train accuracy: 0.65\n",
      "Test accuracy: 0.63\n",
      "Train accuracy: 0.64\n",
      "Test accuracy: 0.66\n",
      "Average train accuracy over 5 folds: 0.65\n",
      "Average test accuracy over 5 folds: 0.65\n",
      "Total k-fold computation time; 1.09\n"
     ]
    }
   ],
   "source": [
    "from sklearn.neural_network import MLPClassifier\n",
    "\n",
    "acc_train = []\n",
    "acc_test = []\n",
    "\n",
    "tik = time.time()\n",
    "for fold, (train_ids, test_ids) in enumerate(kfold.split(cirrhosis_X, cirrhosis_y)):\n",
    "    X_train, X_test = cirrhosis_X[train_ids], cirrhosis_X[test_ids]\n",
    "    Y_train, Y_test = cirrhosis_y[train_ids], cirrhosis_y[test_ids]\n",
    "    \n",
    "    clf=MLPClassifier(hidden_layer_sizes=(32,32),activation=\"tanh\",solver=\"sgd\",\n",
    "                      learning_rate='adaptive', learning_rate_init=0.001,\n",
    "                      n_iter_no_change=10,max_iter=1000,alpha=0.0001)\n",
    "    clf.fit(X_train, Y_train)\n",
    "    \n",
    "    print('Train accuracy:', round(clf.score(X_train, Y_train),2))\n",
    "    print('Test accuracy:', round(clf.score(X_test, Y_test),2))\n",
    "    \n",
    "    acc_train.append(clf.score(X_train, Y_train))\n",
    "    acc_test.append(clf.score(X_test, Y_test))\n",
    "tok = time.time()\n",
    "\n",
    "final_acc_test = round(np.mean(acc_test),2)\n",
    "final_acc_train = round(np.mean(acc_train),2)\n",
    "\n",
    "print('Average train accuracy over 5 folds:', final_acc_train)\n",
    "print('Average test accuracy over 5 folds:', final_acc_test)\n",
    "print('Total k-fold computation time;', round(tok-tik, 2))\n",
    "comparison_dict['NN'] = [final_acc_test,  round((tok-tik)/kfold.n_splits,2)]"
   ]
  },
  {
   "cell_type": "markdown",
   "id": "078cb597",
   "metadata": {
    "papermill": {
     "duration": 0.13681,
     "end_time": "2022-03-26T22:35:40.542425",
     "exception": false,
     "start_time": "2022-03-26T22:35:40.405615",
     "status": "completed"
    },
    "tags": []
   },
   "source": [
    "## Gaussian Naive Bayes"
   ]
  },
  {
   "cell_type": "code",
   "execution_count": 35,
   "id": "bd8d46d5",
   "metadata": {
    "execution": {
     "iopub.execute_input": "2022-03-26T22:35:40.827955Z",
     "iopub.status.busy": "2022-03-26T22:35:40.826196Z",
     "iopub.status.idle": "2022-03-26T22:35:40.857095Z",
     "shell.execute_reply": "2022-03-26T22:35:40.857654Z",
     "shell.execute_reply.started": "2022-03-26T21:51:26.918592Z"
    },
    "papermill": {
     "duration": 0.177028,
     "end_time": "2022-03-26T22:35:40.857868",
     "exception": false,
     "start_time": "2022-03-26T22:35:40.680840",
     "status": "completed"
    },
    "tags": []
   },
   "outputs": [
    {
     "name": "stdout",
     "output_type": "stream",
     "text": [
      "Train accuracy: 0.72\n",
      "Test accuracy: 0.71\n",
      "Train accuracy: 0.74\n",
      "Test accuracy: 0.71\n",
      "Train accuracy: 0.73\n",
      "Test accuracy: 0.73\n",
      "Train accuracy: 0.74\n",
      "Test accuracy: 0.79\n",
      "Train accuracy: 0.75\n",
      "Test accuracy: 0.71\n",
      "Average train accuracy over 5 folds: 0.74\n",
      "Average test accuracy over 5 folds: 0.73\n",
      "Total k-fold computation time; 0.02\n"
     ]
    }
   ],
   "source": [
    "acc_train = []\n",
    "acc_test = []\n",
    "              \n",
    "tik = time.time()\n",
    "for fold, (train_ids, test_ids) in enumerate(kfold.split(cirrhosis_X, cirrhosis_y)):\n",
    "    X_train, X_test = cirrhosis_X[train_ids], cirrhosis_X[test_ids]\n",
    "    Y_train, Y_test = cirrhosis_y[train_ids], cirrhosis_y[test_ids]\n",
    "    \n",
    "    clf = GaussianNB()\n",
    "    clf.fit(X_train, Y_train)\n",
    "    \n",
    "    print('Train accuracy:', round(clf.score(X_train, Y_train),2))\n",
    "    print('Test accuracy:', round(clf.score(X_test, Y_test),2))\n",
    "    \n",
    "    acc_train.append(clf.score(X_train, Y_train))\n",
    "    acc_test.append(clf.score(X_test, Y_test))\n",
    "tok = time.time()\n",
    "\n",
    "final_acc_test = round(np.mean(acc_test),2)\n",
    "final_acc_train = round(np.mean(acc_train),2)\n",
    "\n",
    "print('Average train accuracy over 5 folds:', final_acc_train)\n",
    "print('Average test accuracy over 5 folds:', final_acc_test)\n",
    "print('Total k-fold computation time;', round(tok-tik, 2))\n",
    "comparison_dict['Gaussian_Naive_Bayes'] = [final_acc_test,  round((tok-tik)/kfold.n_splits,2)]"
   ]
  },
  {
   "cell_type": "markdown",
   "id": "3dfc0df5",
   "metadata": {
    "papermill": {
     "duration": 0.132058,
     "end_time": "2022-03-26T22:35:41.125315",
     "exception": false,
     "start_time": "2022-03-26T22:35:40.993257",
     "status": "completed"
    },
    "tags": []
   },
   "source": [
    "## Random Forest"
   ]
  },
  {
   "cell_type": "code",
   "execution_count": 36,
   "id": "a0bc1e03",
   "metadata": {
    "execution": {
     "iopub.execute_input": "2022-03-26T22:35:41.401634Z",
     "iopub.status.busy": "2022-03-26T22:35:41.400133Z",
     "iopub.status.idle": "2022-03-26T22:37:27.551576Z",
     "shell.execute_reply": "2022-03-26T22:37:27.550755Z",
     "shell.execute_reply.started": "2022-03-26T21:41:08.773818Z"
    },
    "papermill": {
     "duration": 106.294831,
     "end_time": "2022-03-26T22:37:27.551807",
     "exception": false,
     "start_time": "2022-03-26T22:35:41.256976",
     "status": "completed"
    },
    "tags": []
   },
   "outputs": [
    {
     "name": "stdout",
     "output_type": "stream",
     "text": [
      "Best parameters: {'max_depth': 8, 'n_estimators': 360}\n",
      "Train accuracy: 0.97\n",
      "Train accuracy: 0.97\n",
      "Test accuracy: 0.75\n",
      "Train accuracy: 0.97\n",
      "Test accuracy: 0.73\n",
      "Train accuracy: 0.97\n",
      "Test accuracy: 0.73\n",
      "Train accuracy: 0.97\n",
      "Test accuracy: 0.76\n",
      "Train accuracy: 0.98\n",
      "Test accuracy: 0.72\n",
      "Average train accuracy over 5 folds: 0.97\n",
      "Average test accuracy over 5 folds: 0.74\n",
      "Total k-fold computation time; 5.22\n"
     ]
    }
   ],
   "source": [
    "from sklearn.ensemble import RandomForestClassifier\n",
    "\n",
    "max_depth_list =  np.arange(start=2,stop=20,step=2)\n",
    "n_estimators_list = np.arange(start=10,stop=500,step=50)\n",
    "param_grid = dict(max_depth=max_depth_list,\n",
    "                  n_estimators=n_estimators_list)\n",
    "\n",
    "clf_rf = GridSearchCV(RandomForestClassifier(), param_grid=param_grid, n_jobs=-1, refit=True, cv=5)\n",
    "clf_rf.fit(cirrhosis_X, cirrhosis_y)\n",
    "rf_params = clf_rf.best_params_\n",
    "\n",
    "print('Best parameters:', clf_rf.best_params_)\n",
    "print('Train accuracy:', round(clf_rf.score(cirrhosis_X, cirrhosis_y),2))\n",
    "\n",
    "acc_train = []\n",
    "acc_test = []\n",
    "\n",
    "tik = time.time()\n",
    "for fold, (train_ids, test_ids) in enumerate(kfold.split(cirrhosis_X, cirrhosis_y)):\n",
    "    X_train, X_test = cirrhosis_X[train_ids], cirrhosis_X[test_ids]\n",
    "    Y_train, Y_test = cirrhosis_y[train_ids], cirrhosis_y[test_ids]\n",
    "    \n",
    "    clf_final = RandomForestClassifier( max_depth=clf_rf.best_params_['max_depth'],\n",
    "                                        n_estimators=clf_rf.best_params_['n_estimators'])\n",
    "    clf_final.fit(X_train, Y_train)\n",
    "    \n",
    "    print('Train accuracy:', round(clf_final.score(X_train, Y_train),2))\n",
    "    print('Test accuracy:', round(clf_final.score(X_test, Y_test),2))\n",
    "    \n",
    "    acc_train.append(clf_final.score(X_train, Y_train))\n",
    "    acc_test.append(clf_final.score(X_test, Y_test))\n",
    "tok = time.time()    \n",
    "\n",
    "final_acc_test = round(np.mean(acc_test),2)\n",
    "final_acc_train = round(np.mean(acc_train),2)\n",
    "\n",
    "print('Average train accuracy over 5 folds:', final_acc_train)\n",
    "print('Average test accuracy over 5 folds:', final_acc_test)\n",
    "print('Total k-fold computation time;', round(tok-tik, 2))\n",
    "comparison_dict['RF'] = [final_acc_test,  round((tok-tik)/kfold.n_splits,2)]"
   ]
  },
  {
   "cell_type": "markdown",
   "id": "1079c49d",
   "metadata": {
    "papermill": {
     "duration": 0.157217,
     "end_time": "2022-03-26T22:37:27.872426",
     "exception": false,
     "start_time": "2022-03-26T22:37:27.715209",
     "status": "completed"
    },
    "tags": []
   },
   "source": [
    "# Feature Selection"
   ]
  },
  {
   "cell_type": "markdown",
   "id": "0e5b7d80",
   "metadata": {
    "papermill": {
     "duration": 0.166872,
     "end_time": "2022-03-26T22:37:28.199017",
     "exception": false,
     "start_time": "2022-03-26T22:37:28.032145",
     "status": "completed"
    },
    "tags": []
   },
   "source": [
    "## Using the Random Forest from above"
   ]
  },
  {
   "cell_type": "code",
   "execution_count": 37,
   "id": "8d308f8a",
   "metadata": {
    "execution": {
     "iopub.execute_input": "2022-03-26T22:37:28.618684Z",
     "iopub.status.busy": "2022-03-26T22:37:28.617728Z",
     "iopub.status.idle": "2022-03-26T22:37:29.114921Z",
     "shell.execute_reply": "2022-03-26T22:37:29.115519Z",
     "shell.execute_reply.started": "2022-03-26T21:42:54.116588Z"
    },
    "papermill": {
     "duration": 0.691519,
     "end_time": "2022-03-26T22:37:29.115726",
     "exception": false,
     "start_time": "2022-03-26T22:37:28.424207",
     "status": "completed"
    },
    "tags": []
   },
   "outputs": [
    {
     "data": {
      "image/png": "[encoded data removed]",
      "text/plain": [
       "<Figure size 432x288 with 1 Axes>"
      ]
     },
     "metadata": {
      "needs_background": "light"
     },
     "output_type": "display_data"
    }
   ],
   "source": [
    "feature_names=cirrhosis.drop(columns=\"Stage\").columns.values\n",
    "importances = clf_final.feature_importances_\n",
    "std = np.std([tree.feature_importances_ for tree in clf_final.estimators_], axis=0)\n",
    "forest_importances = pd.Series(importances, index=feature_names)\n",
    "\n",
    "fig, ax = plt.subplots()\n",
    "forest_importances.plot.bar(yerr=std, ax=ax)\n",
    "ax.set_title(\"Feature importances using MDI\")\n",
    "ax.set_ylabel(\"Mean decrease in impurity\")\n",
    "fig.tight_layout()\n",
    "plt.savefig(\"RF_selection\")"
   ]
  },
  {
   "cell_type": "code",
   "execution_count": 38,
   "id": "2f0c628c",
   "metadata": {
    "execution": {
     "iopub.execute_input": "2022-03-26T22:37:29.524532Z",
     "iopub.status.busy": "2022-03-26T22:37:29.523399Z",
     "iopub.status.idle": "2022-03-26T23:04:19.554933Z",
     "shell.execute_reply": "2022-03-26T23:04:19.555847Z",
     "shell.execute_reply.started": "2022-03-26T21:46:50.063960Z"
    },
    "papermill": {
     "duration": 1610.266855,
     "end_time": "2022-03-26T23:04:19.556148",
     "exception": false,
     "start_time": "2022-03-26T22:37:29.289293",
     "status": "completed"
    },
    "tags": []
   },
   "outputs": [
    {
     "name": "stderr",
     "output_type": "stream",
     "text": [
      "/opt/conda/lib/python3.7/site-packages/xgboost/sklearn.py:1224: UserWarning: The use of label encoder in XGBClassifier is deprecated and will be removed in a future release. To remove this warning, do the following: 1) Pass option use_label_encoder=False when constructing XGBClassifier object; and 2) Encode your labels (y) as integers starting with 0, i.e. 0, 1, 2, ..., [num_class - 1].\n",
      "  warnings.warn(label_encoder_deprecation_msg, UserWarning)\n",
      "/opt/conda/lib/python3.7/site-packages/xgboost/sklearn.py:1224: UserWarning: The use of label encoder in XGBClassifier is deprecated and will be removed in a future release. To remove this warning, do the following: 1) Pass option use_label_encoder=False when constructing XGBClassifier object; and 2) Encode your labels (y) as integers starting with 0, i.e. 0, 1, 2, ..., [num_class - 1].\n",
      "  warnings.warn(label_encoder_deprecation_msg, UserWarning)\n",
      "/opt/conda/lib/python3.7/site-packages/xgboost/sklearn.py:1224: UserWarning: The use of label encoder in XGBClassifier is deprecated and will be removed in a future release. To remove this warning, do the following: 1) Pass option use_label_encoder=False when constructing XGBClassifier object; and 2) Encode your labels (y) as integers starting with 0, i.e. 0, 1, 2, ..., [num_class - 1].\n",
      "  warnings.warn(label_encoder_deprecation_msg, UserWarning)\n",
      "/opt/conda/lib/python3.7/site-packages/xgboost/sklearn.py:1224: UserWarning: The use of label encoder in XGBClassifier is deprecated and will be removed in a future release. To remove this warning, do the following: 1) Pass option use_label_encoder=False when constructing XGBClassifier object; and 2) Encode your labels (y) as integers starting with 0, i.e. 0, 1, 2, ..., [num_class - 1].\n",
      "  warnings.warn(label_encoder_deprecation_msg, UserWarning)\n",
      "/opt/conda/lib/python3.7/site-packages/xgboost/sklearn.py:1224: UserWarning: The use of label encoder in XGBClassifier is deprecated and will be removed in a future release. To remove this warning, do the following: 1) Pass option use_label_encoder=False when constructing XGBClassifier object; and 2) Encode your labels (y) as integers starting with 0, i.e. 0, 1, 2, ..., [num_class - 1].\n",
      "  warnings.warn(label_encoder_deprecation_msg, UserWarning)\n",
      "/opt/conda/lib/python3.7/site-packages/xgboost/sklearn.py:1224: UserWarning: The use of label encoder in XGBClassifier is deprecated and will be removed in a future release. To remove this warning, do the following: 1) Pass option use_label_encoder=False when constructing XGBClassifier object; and 2) Encode your labels (y) as integers starting with 0, i.e. 0, 1, 2, ..., [num_class - 1].\n",
      "  warnings.warn(label_encoder_deprecation_msg, UserWarning)\n",
      "/opt/conda/lib/python3.7/site-packages/xgboost/sklearn.py:1224: UserWarning: The use of label encoder in XGBClassifier is deprecated and will be removed in a future release. To remove this warning, do the following: 1) Pass option use_label_encoder=False when constructing XGBClassifier object; and 2) Encode your labels (y) as integers starting with 0, i.e. 0, 1, 2, ..., [num_class - 1].\n",
      "  warnings.warn(label_encoder_deprecation_msg, UserWarning)\n",
      "/opt/conda/lib/python3.7/site-packages/xgboost/sklearn.py:1224: UserWarning: The use of label encoder in XGBClassifier is deprecated and will be removed in a future release. To remove this warning, do the following: 1) Pass option use_label_encoder=False when constructing XGBClassifier object; and 2) Encode your labels (y) as integers starting with 0, i.e. 0, 1, 2, ..., [num_class - 1].\n",
      "  warnings.warn(label_encoder_deprecation_msg, UserWarning)\n",
      "/opt/conda/lib/python3.7/site-packages/xgboost/sklearn.py:1224: UserWarning: The use of label encoder in XGBClassifier is deprecated and will be removed in a future release. To remove this warning, do the following: 1) Pass option use_label_encoder=False when constructing XGBClassifier object; and 2) Encode your labels (y) as integers starting with 0, i.e. 0, 1, 2, ..., [num_class - 1].\n",
      "  warnings.warn(label_encoder_deprecation_msg, UserWarning)\n",
      "/opt/conda/lib/python3.7/site-packages/xgboost/sklearn.py:1224: UserWarning: The use of label encoder in XGBClassifier is deprecated and will be removed in a future release. To remove this warning, do the following: 1) Pass option use_label_encoder=False when constructing XGBClassifier object; and 2) Encode your labels (y) as integers starting with 0, i.e. 0, 1, 2, ..., [num_class - 1].\n",
      "  warnings.warn(label_encoder_deprecation_msg, UserWarning)\n",
      "/opt/conda/lib/python3.7/site-packages/xgboost/sklearn.py:1224: UserWarning: The use of label encoder in XGBClassifier is deprecated and will be removed in a future release. To remove this warning, do the following: 1) Pass option use_label_encoder=False when constructing XGBClassifier object; and 2) Encode your labels (y) as integers starting with 0, i.e. 0, 1, 2, ..., [num_class - 1].\n",
      "  warnings.warn(label_encoder_deprecation_msg, UserWarning)\n",
      "/opt/conda/lib/python3.7/site-packages/xgboost/sklearn.py:1224: UserWarning: The use of label encoder in XGBClassifier is deprecated and will be removed in a future release. To remove this warning, do the following: 1) Pass option use_label_encoder=False when constructing XGBClassifier object; and 2) Encode your labels (y) as integers starting with 0, i.e. 0, 1, 2, ..., [num_class - 1].\n",
      "  warnings.warn(label_encoder_deprecation_msg, UserWarning)\n",
      "/opt/conda/lib/python3.7/site-packages/xgboost/sklearn.py:1224: UserWarning: The use of label encoder in XGBClassifier is deprecated and will be removed in a future release. To remove this warning, do the following: 1) Pass option use_label_encoder=False when constructing XGBClassifier object; and 2) Encode your labels (y) as integers starting with 0, i.e. 0, 1, 2, ..., [num_class - 1].\n",
      "  warnings.warn(label_encoder_deprecation_msg, UserWarning)\n",
      "/opt/conda/lib/python3.7/site-packages/xgboost/sklearn.py:1224: UserWarning: The use of label encoder in XGBClassifier is deprecated and will be removed in a future release. To remove this warning, do the following: 1) Pass option use_label_encoder=False when constructing XGBClassifier object; and 2) Encode your labels (y) as integers starting with 0, i.e. 0, 1, 2, ..., [num_class - 1].\n",
      "  warnings.warn(label_encoder_deprecation_msg, UserWarning)\n",
      "/opt/conda/lib/python3.7/site-packages/xgboost/sklearn.py:1224: UserWarning: The use of label encoder in XGBClassifier is deprecated and will be removed in a future release. To remove this warning, do the following: 1) Pass option use_label_encoder=False when constructing XGBClassifier object; and 2) Encode your labels (y) as integers starting with 0, i.e. 0, 1, 2, ..., [num_class - 1].\n",
      "  warnings.warn(label_encoder_deprecation_msg, UserWarning)\n",
      "/opt/conda/lib/python3.7/site-packages/xgboost/sklearn.py:1224: UserWarning: The use of label encoder in XGBClassifier is deprecated and will be removed in a future release. To remove this warning, do the following: 1) Pass option use_label_encoder=False when constructing XGBClassifier object; and 2) Encode your labels (y) as integers starting with 0, i.e. 0, 1, 2, ..., [num_class - 1].\n",
      "  warnings.warn(label_encoder_deprecation_msg, UserWarning)\n",
      "/opt/conda/lib/python3.7/site-packages/xgboost/sklearn.py:1224: UserWarning: The use of label encoder in XGBClassifier is deprecated and will be removed in a future release. To remove this warning, do the following: 1) Pass option use_label_encoder=False when constructing XGBClassifier object; and 2) Encode your labels (y) as integers starting with 0, i.e. 0, 1, 2, ..., [num_class - 1].\n",
      "  warnings.warn(label_encoder_deprecation_msg, UserWarning)\n",
      "/opt/conda/lib/python3.7/site-packages/xgboost/sklearn.py:1224: UserWarning: The use of label encoder in XGBClassifier is deprecated and will be removed in a future release. To remove this warning, do the following: 1) Pass option use_label_encoder=False when constructing XGBClassifier object; and 2) Encode your labels (y) as integers starting with 0, i.e. 0, 1, 2, ..., [num_class - 1].\n",
      "  warnings.warn(label_encoder_deprecation_msg, UserWarning)\n",
      "/opt/conda/lib/python3.7/site-packages/xgboost/sklearn.py:1224: UserWarning: The use of label encoder in XGBClassifier is deprecated and will be removed in a future release. To remove this warning, do the following: 1) Pass option use_label_encoder=False when constructing XGBClassifier object; and 2) Encode your labels (y) as integers starting with 0, i.e. 0, 1, 2, ..., [num_class - 1].\n",
      "  warnings.warn(label_encoder_deprecation_msg, UserWarning)\n",
      "/opt/conda/lib/python3.7/site-packages/xgboost/sklearn.py:1224: UserWarning: The use of label encoder in XGBClassifier is deprecated and will be removed in a future release. To remove this warning, do the following: 1) Pass option use_label_encoder=False when constructing XGBClassifier object; and 2) Encode your labels (y) as integers starting with 0, i.e. 0, 1, 2, ..., [num_class - 1].\n",
      "  warnings.warn(label_encoder_deprecation_msg, UserWarning)\n",
      "/opt/conda/lib/python3.7/site-packages/xgboost/sklearn.py:1224: UserWarning: The use of label encoder in XGBClassifier is deprecated and will be removed in a future release. To remove this warning, do the following: 1) Pass option use_label_encoder=False when constructing XGBClassifier object; and 2) Encode your labels (y) as integers starting with 0, i.e. 0, 1, 2, ..., [num_class - 1].\n",
      "  warnings.warn(label_encoder_deprecation_msg, UserWarning)\n",
      "/opt/conda/lib/python3.7/site-packages/xgboost/sklearn.py:1224: UserWarning: The use of label encoder in XGBClassifier is deprecated and will be removed in a future release. To remove this warning, do the following: 1) Pass option use_label_encoder=False when constructing XGBClassifier object; and 2) Encode your labels (y) as integers starting with 0, i.e. 0, 1, 2, ..., [num_class - 1].\n",
      "  warnings.warn(label_encoder_deprecation_msg, UserWarning)\n",
      "/opt/conda/lib/python3.7/site-packages/xgboost/sklearn.py:1224: UserWarning: The use of label encoder in XGBClassifier is deprecated and will be removed in a future release. To remove this warning, do the following: 1) Pass option use_label_encoder=False when constructing XGBClassifier object; and 2) Encode your labels (y) as integers starting with 0, i.e. 0, 1, 2, ..., [num_class - 1].\n",
      "  warnings.warn(label_encoder_deprecation_msg, UserWarning)\n",
      "/opt/conda/lib/python3.7/site-packages/xgboost/sklearn.py:1224: UserWarning: The use of label encoder in XGBClassifier is deprecated and will be removed in a future release. To remove this warning, do the following: 1) Pass option use_label_encoder=False when constructing XGBClassifier object; and 2) Encode your labels (y) as integers starting with 0, i.e. 0, 1, 2, ..., [num_class - 1].\n",
      "  warnings.warn(label_encoder_deprecation_msg, UserWarning)\n",
      "/opt/conda/lib/python3.7/site-packages/xgboost/sklearn.py:1224: UserWarning: The use of label encoder in XGBClassifier is deprecated and will be removed in a future release. To remove this warning, do the following: 1) Pass option use_label_encoder=False when constructing XGBClassifier object; and 2) Encode your labels (y) as integers starting with 0, i.e. 0, 1, 2, ..., [num_class - 1].\n",
      "  warnings.warn(label_encoder_deprecation_msg, UserWarning)\n",
      "/opt/conda/lib/python3.7/site-packages/xgboost/sklearn.py:1224: UserWarning: The use of label encoder in XGBClassifier is deprecated and will be removed in a future release. To remove this warning, do the following: 1) Pass option use_label_encoder=False when constructing XGBClassifier object; and 2) Encode your labels (y) as integers starting with 0, i.e. 0, 1, 2, ..., [num_class - 1].\n",
      "  warnings.warn(label_encoder_deprecation_msg, UserWarning)\n",
      "/opt/conda/lib/python3.7/site-packages/xgboost/sklearn.py:1224: UserWarning: The use of label encoder in XGBClassifier is deprecated and will be removed in a future release. To remove this warning, do the following: 1) Pass option use_label_encoder=False when constructing XGBClassifier object; and 2) Encode your labels (y) as integers starting with 0, i.e. 0, 1, 2, ..., [num_class - 1].\n",
      "  warnings.warn(label_encoder_deprecation_msg, UserWarning)\n",
      "/opt/conda/lib/python3.7/site-packages/xgboost/sklearn.py:1224: UserWarning: The use of label encoder in XGBClassifier is deprecated and will be removed in a future release. To remove this warning, do the following: 1) Pass option use_label_encoder=False when constructing XGBClassifier object; and 2) Encode your labels (y) as integers starting with 0, i.e. 0, 1, 2, ..., [num_class - 1].\n",
      "  warnings.warn(label_encoder_deprecation_msg, UserWarning)\n",
      "/opt/conda/lib/python3.7/site-packages/xgboost/sklearn.py:1224: UserWarning: The use of label encoder in XGBClassifier is deprecated and will be removed in a future release. To remove this warning, do the following: 1) Pass option use_label_encoder=False when constructing XGBClassifier object; and 2) Encode your labels (y) as integers starting with 0, i.e. 0, 1, 2, ..., [num_class - 1].\n",
      "  warnings.warn(label_encoder_deprecation_msg, UserWarning)\n",
      "/opt/conda/lib/python3.7/site-packages/xgboost/sklearn.py:1224: UserWarning: The use of label encoder in XGBClassifier is deprecated and will be removed in a future release. To remove this warning, do the following: 1) Pass option use_label_encoder=False when constructing XGBClassifier object; and 2) Encode your labels (y) as integers starting with 0, i.e. 0, 1, 2, ..., [num_class - 1].\n",
      "  warnings.warn(label_encoder_deprecation_msg, UserWarning)\n",
      "/opt/conda/lib/python3.7/site-packages/xgboost/sklearn.py:1224: UserWarning: The use of label encoder in XGBClassifier is deprecated and will be removed in a future release. To remove this warning, do the following: 1) Pass option use_label_encoder=False when constructing XGBClassifier object; and 2) Encode your labels (y) as integers starting with 0, i.e. 0, 1, 2, ..., [num_class - 1].\n",
      "  warnings.warn(label_encoder_deprecation_msg, UserWarning)\n",
      "/opt/conda/lib/python3.7/site-packages/xgboost/sklearn.py:1224: UserWarning: The use of label encoder in XGBClassifier is deprecated and will be removed in a future release. To remove this warning, do the following: 1) Pass option use_label_encoder=False when constructing XGBClassifier object; and 2) Encode your labels (y) as integers starting with 0, i.e. 0, 1, 2, ..., [num_class - 1].\n",
      "  warnings.warn(label_encoder_deprecation_msg, UserWarning)\n",
      "/opt/conda/lib/python3.7/site-packages/xgboost/sklearn.py:1224: UserWarning: The use of label encoder in XGBClassifier is deprecated and will be removed in a future release. To remove this warning, do the following: 1) Pass option use_label_encoder=False when constructing XGBClassifier object; and 2) Encode your labels (y) as integers starting with 0, i.e. 0, 1, 2, ..., [num_class - 1].\n",
      "  warnings.warn(label_encoder_deprecation_msg, UserWarning)\n",
      "/opt/conda/lib/python3.7/site-packages/xgboost/sklearn.py:1224: UserWarning: The use of label encoder in XGBClassifier is deprecated and will be removed in a future release. To remove this warning, do the following: 1) Pass option use_label_encoder=False when constructing XGBClassifier object; and 2) Encode your labels (y) as integers starting with 0, i.e. 0, 1, 2, ..., [num_class - 1].\n",
      "  warnings.warn(label_encoder_deprecation_msg, UserWarning)\n",
      "/opt/conda/lib/python3.7/site-packages/xgboost/sklearn.py:1224: UserWarning: The use of label encoder in XGBClassifier is deprecated and will be removed in a future release. To remove this warning, do the following: 1) Pass option use_label_encoder=False when constructing XGBClassifier object; and 2) Encode your labels (y) as integers starting with 0, i.e. 0, 1, 2, ..., [num_class - 1].\n",
      "  warnings.warn(label_encoder_deprecation_msg, UserWarning)\n",
      "/opt/conda/lib/python3.7/site-packages/xgboost/sklearn.py:1224: UserWarning: The use of label encoder in XGBClassifier is deprecated and will be removed in a future release. To remove this warning, do the following: 1) Pass option use_label_encoder=False when constructing XGBClassifier object; and 2) Encode your labels (y) as integers starting with 0, i.e. 0, 1, 2, ..., [num_class - 1].\n",
      "  warnings.warn(label_encoder_deprecation_msg, UserWarning)\n",
      "/opt/conda/lib/python3.7/site-packages/xgboost/sklearn.py:1224: UserWarning: The use of label encoder in XGBClassifier is deprecated and will be removed in a future release. To remove this warning, do the following: 1) Pass option use_label_encoder=False when constructing XGBClassifier object; and 2) Encode your labels (y) as integers starting with 0, i.e. 0, 1, 2, ..., [num_class - 1].\n",
      "  warnings.warn(label_encoder_deprecation_msg, UserWarning)\n",
      "/opt/conda/lib/python3.7/site-packages/xgboost/sklearn.py:1224: UserWarning: The use of label encoder in XGBClassifier is deprecated and will be removed in a future release. To remove this warning, do the following: 1) Pass option use_label_encoder=False when constructing XGBClassifier object; and 2) Encode your labels (y) as integers starting with 0, i.e. 0, 1, 2, ..., [num_class - 1].\n",
      "  warnings.warn(label_encoder_deprecation_msg, UserWarning)\n",
      "/opt/conda/lib/python3.7/site-packages/xgboost/sklearn.py:1224: UserWarning: The use of label encoder in XGBClassifier is deprecated and will be removed in a future release. To remove this warning, do the following: 1) Pass option use_label_encoder=False when constructing XGBClassifier object; and 2) Encode your labels (y) as integers starting with 0, i.e. 0, 1, 2, ..., [num_class - 1].\n",
      "  warnings.warn(label_encoder_deprecation_msg, UserWarning)\n",
      "/opt/conda/lib/python3.7/site-packages/xgboost/sklearn.py:1224: UserWarning: The use of label encoder in XGBClassifier is deprecated and will be removed in a future release. To remove this warning, do the following: 1) Pass option use_label_encoder=False when constructing XGBClassifier object; and 2) Encode your labels (y) as integers starting with 0, i.e. 0, 1, 2, ..., [num_class - 1].\n",
      "  warnings.warn(label_encoder_deprecation_msg, UserWarning)\n",
      "/opt/conda/lib/python3.7/site-packages/xgboost/sklearn.py:1224: UserWarning: The use of label encoder in XGBClassifier is deprecated and will be removed in a future release. To remove this warning, do the following: 1) Pass option use_label_encoder=False when constructing XGBClassifier object; and 2) Encode your labels (y) as integers starting with 0, i.e. 0, 1, 2, ..., [num_class - 1].\n",
      "  warnings.warn(label_encoder_deprecation_msg, UserWarning)\n",
      "/opt/conda/lib/python3.7/site-packages/xgboost/sklearn.py:1224: UserWarning: The use of label encoder in XGBClassifier is deprecated and will be removed in a future release. To remove this warning, do the following: 1) Pass option use_label_encoder=False when constructing XGBClassifier object; and 2) Encode your labels (y) as integers starting with 0, i.e. 0, 1, 2, ..., [num_class - 1].\n",
      "  warnings.warn(label_encoder_deprecation_msg, UserWarning)\n",
      "/opt/conda/lib/python3.7/site-packages/xgboost/sklearn.py:1224: UserWarning: The use of label encoder in XGBClassifier is deprecated and will be removed in a future release. To remove this warning, do the following: 1) Pass option use_label_encoder=False when constructing XGBClassifier object; and 2) Encode your labels (y) as integers starting with 0, i.e. 0, 1, 2, ..., [num_class - 1].\n",
      "  warnings.warn(label_encoder_deprecation_msg, UserWarning)\n",
      "/opt/conda/lib/python3.7/site-packages/xgboost/sklearn.py:1224: UserWarning: The use of label encoder in XGBClassifier is deprecated and will be removed in a future release. To remove this warning, do the following: 1) Pass option use_label_encoder=False when constructing XGBClassifier object; and 2) Encode your labels (y) as integers starting with 0, i.e. 0, 1, 2, ..., [num_class - 1].\n",
      "  warnings.warn(label_encoder_deprecation_msg, UserWarning)\n",
      "/opt/conda/lib/python3.7/site-packages/xgboost/sklearn.py:1224: UserWarning: The use of label encoder in XGBClassifier is deprecated and will be removed in a future release. To remove this warning, do the following: 1) Pass option use_label_encoder=False when constructing XGBClassifier object; and 2) Encode your labels (y) as integers starting with 0, i.e. 0, 1, 2, ..., [num_class - 1].\n",
      "  warnings.warn(label_encoder_deprecation_msg, UserWarning)\n",
      "/opt/conda/lib/python3.7/site-packages/xgboost/sklearn.py:1224: UserWarning: The use of label encoder in XGBClassifier is deprecated and will be removed in a future release. To remove this warning, do the following: 1) Pass option use_label_encoder=False when constructing XGBClassifier object; and 2) Encode your labels (y) as integers starting with 0, i.e. 0, 1, 2, ..., [num_class - 1].\n",
      "  warnings.warn(label_encoder_deprecation_msg, UserWarning)\n",
      "/opt/conda/lib/python3.7/site-packages/xgboost/sklearn.py:1224: UserWarning: The use of label encoder in XGBClassifier is deprecated and will be removed in a future release. To remove this warning, do the following: 1) Pass option use_label_encoder=False when constructing XGBClassifier object; and 2) Encode your labels (y) as integers starting with 0, i.e. 0, 1, 2, ..., [num_class - 1].\n",
      "  warnings.warn(label_encoder_deprecation_msg, UserWarning)\n",
      "/opt/conda/lib/python3.7/site-packages/xgboost/sklearn.py:1224: UserWarning: The use of label encoder in XGBClassifier is deprecated and will be removed in a future release. To remove this warning, do the following: 1) Pass option use_label_encoder=False when constructing XGBClassifier object; and 2) Encode your labels (y) as integers starting with 0, i.e. 0, 1, 2, ..., [num_class - 1].\n",
      "  warnings.warn(label_encoder_deprecation_msg, UserWarning)\n",
      "/opt/conda/lib/python3.7/site-packages/xgboost/sklearn.py:1224: UserWarning: The use of label encoder in XGBClassifier is deprecated and will be removed in a future release. To remove this warning, do the following: 1) Pass option use_label_encoder=False when constructing XGBClassifier object; and 2) Encode your labels (y) as integers starting with 0, i.e. 0, 1, 2, ..., [num_class - 1].\n",
      "  warnings.warn(label_encoder_deprecation_msg, UserWarning)\n",
      "/opt/conda/lib/python3.7/site-packages/xgboost/sklearn.py:1224: UserWarning: The use of label encoder in XGBClassifier is deprecated and will be removed in a future release. To remove this warning, do the following: 1) Pass option use_label_encoder=False when constructing XGBClassifier object; and 2) Encode your labels (y) as integers starting with 0, i.e. 0, 1, 2, ..., [num_class - 1].\n",
      "  warnings.warn(label_encoder_deprecation_msg, UserWarning)\n",
      "/opt/conda/lib/python3.7/site-packages/xgboost/sklearn.py:1224: UserWarning: The use of label encoder in XGBClassifier is deprecated and will be removed in a future release. To remove this warning, do the following: 1) Pass option use_label_encoder=False when constructing XGBClassifier object; and 2) Encode your labels (y) as integers starting with 0, i.e. 0, 1, 2, ..., [num_class - 1].\n",
      "  warnings.warn(label_encoder_deprecation_msg, UserWarning)\n",
      "/opt/conda/lib/python3.7/site-packages/xgboost/sklearn.py:1224: UserWarning: The use of label encoder in XGBClassifier is deprecated and will be removed in a future release. To remove this warning, do the following: 1) Pass option use_label_encoder=False when constructing XGBClassifier object; and 2) Encode your labels (y) as integers starting with 0, i.e. 0, 1, 2, ..., [num_class - 1].\n",
      "  warnings.warn(label_encoder_deprecation_msg, UserWarning)\n",
      "/opt/conda/lib/python3.7/site-packages/xgboost/sklearn.py:1224: UserWarning: The use of label encoder in XGBClassifier is deprecated and will be removed in a future release. To remove this warning, do the following: 1) Pass option use_label_encoder=False when constructing XGBClassifier object; and 2) Encode your labels (y) as integers starting with 0, i.e. 0, 1, 2, ..., [num_class - 1].\n",
      "  warnings.warn(label_encoder_deprecation_msg, UserWarning)\n",
      "/opt/conda/lib/python3.7/site-packages/xgboost/sklearn.py:1224: UserWarning: The use of label encoder in XGBClassifier is deprecated and will be removed in a future release. To remove this warning, do the following: 1) Pass option use_label_encoder=False when constructing XGBClassifier object; and 2) Encode your labels (y) as integers starting with 0, i.e. 0, 1, 2, ..., [num_class - 1].\n",
      "  warnings.warn(label_encoder_deprecation_msg, UserWarning)\n",
      "/opt/conda/lib/python3.7/site-packages/xgboost/sklearn.py:1224: UserWarning: The use of label encoder in XGBClassifier is deprecated and will be removed in a future release. To remove this warning, do the following: 1) Pass option use_label_encoder=False when constructing XGBClassifier object; and 2) Encode your labels (y) as integers starting with 0, i.e. 0, 1, 2, ..., [num_class - 1].\n",
      "  warnings.warn(label_encoder_deprecation_msg, UserWarning)\n",
      "/opt/conda/lib/python3.7/site-packages/xgboost/sklearn.py:1224: UserWarning: The use of label encoder in XGBClassifier is deprecated and will be removed in a future release. To remove this warning, do the following: 1) Pass option use_label_encoder=False when constructing XGBClassifier object; and 2) Encode your labels (y) as integers starting with 0, i.e. 0, 1, 2, ..., [num_class - 1].\n",
      "  warnings.warn(label_encoder_deprecation_msg, UserWarning)\n",
      "/opt/conda/lib/python3.7/site-packages/xgboost/sklearn.py:1224: UserWarning: The use of label encoder in XGBClassifier is deprecated and will be removed in a future release. To remove this warning, do the following: 1) Pass option use_label_encoder=False when constructing XGBClassifier object; and 2) Encode your labels (y) as integers starting with 0, i.e. 0, 1, 2, ..., [num_class - 1].\n",
      "  warnings.warn(label_encoder_deprecation_msg, UserWarning)\n"
     ]
    },
    {
     "name": "stdout",
     "output_type": "stream",
     "text": [
      "\n",
      "[CV] END .....................learning_rate=0.1, max_depth=2; total time=  22.4s\n",
      "[22:22:52] WARNING: ../src/learner.cc:1115: Starting in XGBoost 1.3.0, the default evaluation metric used with the objective 'binary:logistic' was changed from 'error' to 'logloss'. Explicitly set eval_metric if you'd like to restore the old behavior.\n",
      "[CV] END .....................learning_rate=0.1, max_depth=2; total time=  31.2s\n",
      "[22:23:23] WARNING: ../src/learner.cc:1115: Starting in XGBoost 1.3.0, the default evaluation metric used with the objective 'binary:logistic' was changed from 'error' to 'logloss'. Explicitly set eval_metric if you'd like to restore the old behavior.\n",
      "[CV] END .....................learning_rate=0.1, max_depth=3; total time=  38.9s\n",
      "[22:24:02] WARNING: ../src/learner.cc:1115: Starting in XGBoost 1.3.0, the default evaluation metric used with the objective 'binary:logistic' was changed from 'error' to 'logloss'. Explicitly set eval_metric if you'd like to restore the old behavior.\n",
      "[CV] END .....................learning_rate=0.1, max_depth=4; total time=  53.1s\n",
      "[22:24:56] WARNING: ../src/learner.cc:1115: Starting in XGBoost 1.3.0, the default evaluation metric used with the objective 'binary:logistic' was changed from 'error' to 'logloss'. Explicitly set eval_metric if you'd like to restore the old behavior.\n",
      "[CV] END .....................learning_rate=0.1, max_depth=5; total time=  56.3s\n",
      "[22:25:52] WARNING: ../src/learner.cc:1115: Starting in XGBoost 1.3.0, the default evaluation metric used with the objective 'binary:logistic' was changed from 'error' to 'logloss'. Explicitly set eval_metric if you'd like to restore the old behavior.\n",
      "[CV] END .....................learning_rate=0.1, max_depth=5; total time=  54.8s\n",
      "[22:26:47] WARNING: ../src/learner.cc:1115: Starting in XGBoost 1.3.0, the default evaluation metric used with the objective 'binary:logistic' was changed from 'error' to 'logloss'. Explicitly set eval_metric if you'd like to restore the old behavior.\n",
      "[CV] END ....................learning_rate=0.1, max_depth=10; total time= 1.8min\n",
      "[22:28:38] WARNING: ../src/learner.cc:1115: Starting in XGBoost 1.3.0, the default evaluation metric used with the objective 'binary:logistic' was changed from 'error' to 'logloss'. Explicitly set eval_metric if you'd like to restore the old behavior.\n",
      "[CV] END ....................learning_rate=0.1, max_depth=15; total time=  30.6s\n",
      "[22:29:08] WARNING: ../src/learner.cc:1115: Starting in XGBoost 1.3.0, the default evaluation metric used with the objective 'binary:logistic' was changed from 'error' to 'logloss'. Explicitly set eval_metric if you'd like to restore the old behavior.\n",
      "[CV] END ....................learning_rate=0.1, max_depth=15; total time= 1.3min\n",
      "[22:30:28] WARNING: ../src/learner.cc:1115: Starting in XGBoost 1.3.0, the default evaluation metric used with the objective 'binary:logistic' was changed from 'error' to 'logloss'. Explicitly set eval_metric if you'd like to restore the old behavior.\n",
      "[CV] END .....................learning_rate=0.5, max_depth=3; total time=  39.9s\n",
      "[22:31:09] WARNING: ../src/learner.cc:1115: Starting in XGBoost 1.3.0, the default evaluation metric used with the objective 'binary:logistic' was changed from 'error' to 'logloss'. Explicitly set eval_metric if you'd like to restore the old behavior.\n",
      "[CV] END .....................learning_rate=0.5, max_depth=4; total time=  41.3s\n",
      "[22:31:50] WARNING: ../src/learner.cc:1115: Starting in XGBoost 1.3.0, the default evaluation metric used with the objective 'binary:logistic' was changed from 'error' to 'logloss'. Explicitly set eval_metric if you'd like to restore the old behavior.\n",
      "[CV] END .....................learning_rate=0.5, max_depth=5; total time=  54.9s\n",
      "[22:32:45] WARNING: ../src/learner.cc:1115: Starting in XGBoost 1.3.0, the default evaluation metric used with the objective 'binary:logistic' was changed from 'error' to 'logloss'. Explicitly set eval_metric if you'd like to restore the old behavior.\n",
      "[CV] END ....................learning_rate=0.5, max_depth=10; total time=  57.6s\n",
      "[22:33:42] WARNING: ../src/learner.cc:1115: Starting in XGBoost 1.3.0, the default evaluation metric used with the objective 'binary:logistic' was changed from 'error' to 'logloss'. Explicitly set eval_metric if you'd like to restore the old behavior.\n",
      "[CV] END ....................learning_rate=0.5, max_depth=10; total time=  44.9s\n",
      "[22:34:28] WARNING: ../src/learner.cc:1115: Starting in XGBoost 1.3.0, the default evaluation metric used with the objective 'binary:logistic' was changed from 'error' to 'logloss'. Explicitly set eval_metric if you'd like to restore the old behavior.\n",
      "[CV] END ....................learning_rate=0.5, max_depth=15; total time= 1.1min\n",
      "[22:37:30] WARNING: ../src/learner.cc:1115: Starting in XGBoost 1.3.0, the default evaluation metric used with the objective 'binary:logistic' was changed from 'error' to 'logloss'. Explicitly set eval_metric if you'd like to restore the old behavior.\n",
      "[22:37:56] WARNING: ../src/learner.cc:1115: Starting in XGBoost 1.3.0, the default evaluation metric used with the objective 'binary:logistic' was changed from 'error' to 'logloss'. Explicitly set eval_metric if you'd like to restore the old behavior.\n",
      "[22:38:16] WARNING: ../src/learner.cc:1115: Starting in XGBoost 1.3.0, the default evaluation metric used with the objective 'binary:logistic' was changed from 'error' to 'logloss'. Explicitly set eval_metric if you'd like to restore the old behavior.\n",
      "[22:39:29] WARNING: ../src/learner.cc:1115: Starting in XGBoost 1.3.0, the default evaluation metric used with the objective 'binary:logistic' was changed from 'error' to 'logloss'. Explicitly set eval_metric if you'd like to restore the old behavior.\n",
      "[22:40:54] WARNING: ../src/learner.cc:1115: Starting in XGBoost 1.3.0, the default evaluation metric used with the objective 'binary:logistic' was changed from 'error' to 'logloss'. Explicitly set eval_metric if you'd like to restore the old behavior.\n",
      "[22:42:13] WARNING: ../src/learner.cc:1115: Starting in XGBoost 1.3.0, the default evaluation metric used with the objective 'binary:logistic' was changed from 'error' to 'logloss'. Explicitly set eval_metric if you'd like to restore the old behavior.\n",
      "[22:42:41] WARNING: ../src/learner.cc:1115: Starting in XGBoost 1.3.0, the default evaluation metric used with the objective 'binary:logistic' was changed from 'error' to 'logloss'. Explicitly set eval_metric if you'd like to restore the old behavior.\n",
      "[22:43:10] WARNING: ../src/learner.cc:1115: Starting in XGBoost 1.3.0, the default evaluation metric used with the objective 'binary:logistic' was changed from 'error' to 'logloss'. Explicitly set eval_metric if you'd like to restore the old behavior.\n",
      "[22:43:35] WARNING: ../src/learner.cc:1115: Starting in XGBoost 1.3.0, the default evaluation metric used with the objective 'binary:logistic' was changed from 'error' to 'logloss'. Explicitly set eval_metric if you'd like to restore the old behavior.\n",
      "[22:44:25] WARNING: ../src/learner.cc:1115: Starting in XGBoost 1.3.0, the default evaluation metric used with the objective 'binary:logistic' was changed from 'error' to 'logloss'. Explicitly set eval_metric if you'd like to restore the old behavior.\n",
      "[22:45:51] WARNING: ../src/learner.cc:1115: Starting in XGBoost 1.3.0, the default evaluation metric used with the objective 'binary:logistic' was changed from 'error' to 'logloss'. Explicitly set eval_metric if you'd like to restore the old behavior.\n",
      "[22:47:25] WARNING: ../src/learner.cc:1115: Starting in XGBoost 1.3.0, the default evaluation metric used with the objective 'binary:logistic' was changed from 'error' to 'logloss'. Explicitly set eval_metric if you'd like to restore the old behavior.\n",
      "[22:48:57] WARNING: ../src/learner.cc:1115: Starting in XGBoost 1.3.0, the default evaluation metric used with the objective 'binary:logistic' was changed from 'error' to 'logloss'. Explicitly set eval_metric if you'd like to restore the old behavior.\n",
      "[22:49:58] WARNING: ../src/learner.cc:1115: Starting in XGBoost 1.3.0, the default evaluation metric used with the objective 'binary:logistic' was changed from 'error' to 'logloss'. Explicitly set eval_metric if you'd like to restore the old behavior.\n",
      "[CV] END .....................learning_rate=0.1, max_depth=2; total time=  25.8s\n",
      "[22:22:29] WARNING: ../src/learner.cc:1115: Starting in XGBoost 1.3.0, the default evaluation metric used with the objective 'binary:logistic' was changed from 'error' to 'logloss'. Explicitly set eval_metric if you'd like to restore the old behavior.\n",
      "[CV] END .....................learning_rate=0.1, max_depth=2; total time=  27.1s\n",
      "[22:22:57] WARNING: ../src/learner.cc:1115: Starting in XGBoost 1.3.0, the default evaluation metric used with the objective 'binary:logistic' was changed from 'error' to 'logloss'. Explicitly set eval_metric if you'd like to restore the old behavior.\n",
      "[CV] END .....................learning_rate=0.1, max_depth=2; total time=  27.4s\n",
      "[22:23:24] WARNING: ../src/learner.cc:1115: Starting in XGBoost 1.3.0, the default evaluation metric used with the objective 'binary:logistic' was changed from 'error' to 'logloss'. Explicitly set eval_metric if you'd like to restore the old behavior.\n",
      "[CV] END .....................learning_rate=0.1, max_depth=3; total time=  41.9s\n",
      "[22:24:06] WARNING: ../src/learner.cc:1115: Starting in XGBoost 1.3.0, the default evaluation metric used with the objective 'binary:logistic' was changed from 'error' to 'logloss'. Explicitly set eval_metric if you'd like to restore the old behavior.\n",
      "[CV] END .....................learning_rate=0.1, max_depth=4; total time=  49.8s\n",
      "[22:24:56] WARNING: ../src/learner.cc:1115: Starting in XGBoost 1.3.0, the default evaluation metric used with the objective 'binary:logistic' was changed from 'error' to 'logloss'. Explicitly set eval_metric if you'd like to restore the old behavior.\n",
      "[CV] END .....................learning_rate=0.1, max_depth=5; total time= 1.1min\n",
      "[22:26:02] WARNING: ../src/learner.cc:1115: Starting in XGBoost 1.3.0, the default evaluation metric used with the objective 'binary:logistic' was changed from 'error' to 'logloss'. Explicitly set eval_metric if you'd like to restore the old behavior.\n",
      "[CV] END ....................learning_rate=0.1, max_depth=10; total time= 1.7min\n",
      "[22:27:46] WARNING: ../src/learner.cc:1115: Starting in XGBoost 1.3.0, the default evaluation metric used with the objective 'binary:logistic' was changed from 'error' to 'logloss'. Explicitly set eval_metric if you'd like to restore the old behavior.\n",
      "[CV] END ....................learning_rate=0.1, max_depth=10; total time= 1.5min\n",
      "[22:29:16] WARNING: ../src/learner.cc:1115: Starting in XGBoost 1.3.0, the default evaluation metric used with the objective 'binary:logistic' was changed from 'error' to 'logloss'. Explicitly set eval_metric if you'd like to restore the old behavior.\n",
      "[CV] END ....................learning_rate=0.1, max_depth=15; total time=  50.3s\n",
      "[22:30:06] WARNING: ../src/learner.cc:1115: Starting in XGBoost 1.3.0, the default evaluation metric used with the objective 'binary:logistic' was changed from 'error' to 'logloss'. Explicitly set eval_metric if you'd like to restore the old behavior.\n",
      "[CV] END .....................learning_rate=0.5, max_depth=2; total time=  26.3s\n",
      "[22:30:32] WARNING: ../src/learner.cc:1115: Starting in XGBoost 1.3.0, the default evaluation metric used with the objective 'binary:logistic' was changed from 'error' to 'logloss'. Explicitly set eval_metric if you'd like to restore the old behavior.\n",
      "[CV] END .....................learning_rate=0.5, max_depth=3; total time=  32.1s\n",
      "[22:31:05] WARNING: ../src/learner.cc:1115: Starting in XGBoost 1.3.0, the default evaluation metric used with the objective 'binary:logistic' was changed from 'error' to 'logloss'. Explicitly set eval_metric if you'd like to restore the old behavior.\n",
      "[CV] END .....................learning_rate=0.5, max_depth=4; total time=  43.7s\n",
      "[22:31:49] WARNING: ../src/learner.cc:1115: Starting in XGBoost 1.3.0, the default evaluation metric used with the objective 'binary:logistic' was changed from 'error' to 'logloss'. Explicitly set eval_metric if you'd like to restore the old behavior.\n",
      "[CV] END .....................learning_rate=0.5, max_depth=5; total time=  46.0s\n",
      "[22:32:35] WARNING: ../src/learner.cc:1115: Starting in XGBoost 1.3.0, the default evaluation metric used with the objective 'binary:logistic' was changed from 'error' to 'logloss'. Explicitly set eval_metric if you'd like to restore the old behavior.\n",
      "[CV] END .....................learning_rate=0.5, max_depth=5; total time=  57.3s\n",
      "[22:33:32] WARNING: ../src/learner.cc:1115: Starting in XGBoost 1.3.0, the default evaluation metric used with the objective 'binary:logistic' was changed from 'error' to 'logloss'. Explicitly set eval_metric if you'd like to restore the old behavior.\n",
      "[CV] END ....................learning_rate=0.5, max_depth=10; total time= 1.1min\n",
      "[22:34:39] WARNING: ../src/learner.cc:1115: Starting in XGBoost 1.3.0, the default evaluation metric used with the objective 'binary:logistic' was changed from 'error' to 'logloss'. Explicitly set eval_metric if you'd like to restore the old behavior.\n",
      "[CV] END ....................learning_rate=0.5, max_depth=15; total time=  55.8s\n",
      "[22:37:30] WARNING: ../src/learner.cc:1115: Starting in XGBoost 1.3.0, the default evaluation metric used with the objective 'binary:logistic' was changed from 'error' to 'logloss'. Explicitly set eval_metric if you'd like to restore the old behavior.\n",
      "[22:37:56] WARNING: ../src/learner.cc:1115: Starting in XGBoost 1.3.0, the default evaluation metric used with the objective 'binary:logistic' was changed from 'error' to 'logloss'. Explicitly set eval_metric if you'd like to restore the old behavior.\n",
      "[22:39:00] WARNING: ../src/learner.cc:1115: Starting in XGBoost 1.3.0, the default evaluation metric used with the objective 'binary:logistic' was changed from 'error' to 'logloss'. Explicitly set eval_metric if you'd like to restore the old behavior.\n",
      "[22:40:15] WARNING: ../src/learner.cc:1115: Starting in XGBoost 1.3.0, the default evaluation metric used with the objective 'binary:logistic' was changed from 'error' to 'logloss'. Explicitly set eval_metric if you'd like to restore the old behavior.\n",
      "[22:41:51] WARNING: ../src/learner.cc:1115: Starting in XGBoost 1.3.0, the default evaluation metric used with the objective 'binary:logistic' was changed from 'error' to 'logloss'. Explicitly set eval_metric if you'd like to restore the old behavior.\n",
      "[22:43:10] WARNING: ../src/learner.cc:1115: Starting in XGBoost 1.3.0, the default evaluation metric used with the objective 'binary:logistic' was changed from 'error' to 'logloss'. Explicitly set eval_metric if you'd like to restore the old behavior.\n",
      "[22:43:36] WARNING: ../src/learner.cc:1115: Starting in XGBoost 1.3.0, the default evaluation metric used with the objective 'binary:logistic' was changed from 'error' to 'logloss'. Explicitly set eval_metric if you'd like to restore the old behavior.\n",
      "[22:44:45] WARNING: ../src/learner.cc:1115: Starting in XGBoost 1.3.0, the default evaluation metric used with the objective 'binary:logistic' was changed from 'error' to 'logloss'. Explicitly set eval_metric if you'd like to restore the old behavior.\n",
      "[22:46:38] WARNING: ../src/learner.cc:1115: Starting in XGBoost 1.3.0, the default evaluation metric used with the objective 'binary:logistic' was changed from 'error' to 'logloss'. Explicitly set eval_metric if you'd like to restore the old behavior.\n",
      "[22:48:00] WARNING: ../src/learner.cc:1115: Starting in XGBoost 1.3.0, the default evaluation metric used with the objective 'binary:logistic' was changed from 'error' to 'logloss'. Explicitly set eval_metric if you'd like to restore the old behavior.\n",
      "[22:48:29] WARNING: ../src/learner.cc:1115: Starting in XGBoost 1.3.0, the default evaluation metric used with the objective 'binary:logistic' was changed from 'error' to 'logloss'. Explicitly set eval_metric if you'd like to restore the old behavior.\n",
      "[22:48:57] WARNING: ../src/learner.cc:1115: Starting in XGBoost 1.3.0, the default evaluation metric used with the objective 'binary:logistic' was changed from 'error' to 'logloss'. Explicitly set eval_metric if you'd like to restore the old behavior.\n",
      "[22:49:59] WARNING: ../src/learner.cc:1115: Starting in XGBoost 1.3.0, the default evaluation metric used with the objective 'binary:logistic' was changed from 'error' to 'logloss'. Explicitly set eval_metric if you'd like to restore the old behavior."
     ]
    },
    {
     "name": "stderr",
     "output_type": "stream",
     "text": [
      "/opt/conda/lib/python3.7/site-packages/xgboost/sklearn.py:1224: UserWarning: The use of label encoder in XGBClassifier is deprecated and will be removed in a future release. To remove this warning, do the following: 1) Pass option use_label_encoder=False when constructing XGBClassifier object; and 2) Encode your labels (y) as integers starting with 0, i.e. 0, 1, 2, ..., [num_class - 1].\n",
      "  warnings.warn(label_encoder_deprecation_msg, UserWarning)\n",
      "/opt/conda/lib/python3.7/site-packages/xgboost/sklearn.py:1224: UserWarning: The use of label encoder in XGBClassifier is deprecated and will be removed in a future release. To remove this warning, do the following: 1) Pass option use_label_encoder=False when constructing XGBClassifier object; and 2) Encode your labels (y) as integers starting with 0, i.e. 0, 1, 2, ..., [num_class - 1].\n",
      "  warnings.warn(label_encoder_deprecation_msg, UserWarning)\n",
      "/opt/conda/lib/python3.7/site-packages/xgboost/sklearn.py:1224: UserWarning: The use of label encoder in XGBClassifier is deprecated and will be removed in a future release. To remove this warning, do the following: 1) Pass option use_label_encoder=False when constructing XGBClassifier object; and 2) Encode your labels (y) as integers starting with 0, i.e. 0, 1, 2, ..., [num_class - 1].\n",
      "  warnings.warn(label_encoder_deprecation_msg, UserWarning)\n",
      "/opt/conda/lib/python3.7/site-packages/xgboost/sklearn.py:1224: UserWarning: The use of label encoder in XGBClassifier is deprecated and will be removed in a future release. To remove this warning, do the following: 1) Pass option use_label_encoder=False when constructing XGBClassifier object; and 2) Encode your labels (y) as integers starting with 0, i.e. 0, 1, 2, ..., [num_class - 1].\n",
      "  warnings.warn(label_encoder_deprecation_msg, UserWarning)\n",
      "/opt/conda/lib/python3.7/site-packages/xgboost/sklearn.py:1224: UserWarning: The use of label encoder in XGBClassifier is deprecated and will be removed in a future release. To remove this warning, do the following: 1) Pass option use_label_encoder=False when constructing XGBClassifier object; and 2) Encode your labels (y) as integers starting with 0, i.e. 0, 1, 2, ..., [num_class - 1].\n",
      "  warnings.warn(label_encoder_deprecation_msg, UserWarning)\n",
      "/opt/conda/lib/python3.7/site-packages/xgboost/sklearn.py:1224: UserWarning: The use of label encoder in XGBClassifier is deprecated and will be removed in a future release. To remove this warning, do the following: 1) Pass option use_label_encoder=False when constructing XGBClassifier object; and 2) Encode your labels (y) as integers starting with 0, i.e. 0, 1, 2, ..., [num_class - 1].\n",
      "  warnings.warn(label_encoder_deprecation_msg, UserWarning)\n",
      "/opt/conda/lib/python3.7/site-packages/xgboost/sklearn.py:1224: UserWarning: The use of label encoder in XGBClassifier is deprecated and will be removed in a future release. To remove this warning, do the following: 1) Pass option use_label_encoder=False when constructing XGBClassifier object; and 2) Encode your labels (y) as integers starting with 0, i.e. 0, 1, 2, ..., [num_class - 1].\n",
      "  warnings.warn(label_encoder_deprecation_msg, UserWarning)\n",
      "/opt/conda/lib/python3.7/site-packages/xgboost/sklearn.py:1224: UserWarning: The use of label encoder in XGBClassifier is deprecated and will be removed in a future release. To remove this warning, do the following: 1) Pass option use_label_encoder=False when constructing XGBClassifier object; and 2) Encode your labels (y) as integers starting with 0, i.e. 0, 1, 2, ..., [num_class - 1].\n",
      "  warnings.warn(label_encoder_deprecation_msg, UserWarning)\n",
      "/opt/conda/lib/python3.7/site-packages/xgboost/sklearn.py:1224: UserWarning: The use of label encoder in XGBClassifier is deprecated and will be removed in a future release. To remove this warning, do the following: 1) Pass option use_label_encoder=False when constructing XGBClassifier object; and 2) Encode your labels (y) as integers starting with 0, i.e. 0, 1, 2, ..., [num_class - 1].\n",
      "  warnings.warn(label_encoder_deprecation_msg, UserWarning)\n",
      "/opt/conda/lib/python3.7/site-packages/xgboost/sklearn.py:1224: UserWarning: The use of label encoder in XGBClassifier is deprecated and will be removed in a future release. To remove this warning, do the following: 1) Pass option use_label_encoder=False when constructing XGBClassifier object; and 2) Encode your labels (y) as integers starting with 0, i.e. 0, 1, 2, ..., [num_class - 1].\n",
      "  warnings.warn(label_encoder_deprecation_msg, UserWarning)\n",
      "/opt/conda/lib/python3.7/site-packages/xgboost/sklearn.py:1224: UserWarning: The use of label encoder in XGBClassifier is deprecated and will be removed in a future release. To remove this warning, do the following: 1) Pass option use_label_encoder=False when constructing XGBClassifier object; and 2) Encode your labels (y) as integers starting with 0, i.e. 0, 1, 2, ..., [num_class - 1].\n",
      "  warnings.warn(label_encoder_deprecation_msg, UserWarning)\n",
      "/opt/conda/lib/python3.7/site-packages/xgboost/sklearn.py:1224: UserWarning: The use of label encoder in XGBClassifier is deprecated and will be removed in a future release. To remove this warning, do the following: 1) Pass option use_label_encoder=False when constructing XGBClassifier object; and 2) Encode your labels (y) as integers starting with 0, i.e. 0, 1, 2, ..., [num_class - 1].\n",
      "  warnings.warn(label_encoder_deprecation_msg, UserWarning)\n",
      "/opt/conda/lib/python3.7/site-packages/xgboost/sklearn.py:1224: UserWarning: The use of label encoder in XGBClassifier is deprecated and will be removed in a future release. To remove this warning, do the following: 1) Pass option use_label_encoder=False when constructing XGBClassifier object; and 2) Encode your labels (y) as integers starting with 0, i.e. 0, 1, 2, ..., [num_class - 1].\n",
      "  warnings.warn(label_encoder_deprecation_msg, UserWarning)\n",
      "/opt/conda/lib/python3.7/site-packages/xgboost/sklearn.py:1224: UserWarning: The use of label encoder in XGBClassifier is deprecated and will be removed in a future release. To remove this warning, do the following: 1) Pass option use_label_encoder=False when constructing XGBClassifier object; and 2) Encode your labels (y) as integers starting with 0, i.e. 0, 1, 2, ..., [num_class - 1].\n",
      "  warnings.warn(label_encoder_deprecation_msg, UserWarning)\n",
      "/opt/conda/lib/python3.7/site-packages/xgboost/sklearn.py:1224: UserWarning: The use of label encoder in XGBClassifier is deprecated and will be removed in a future release. To remove this warning, do the following: 1) Pass option use_label_encoder=False when constructing XGBClassifier object; and 2) Encode your labels (y) as integers starting with 0, i.e. 0, 1, 2, ..., [num_class - 1].\n",
      "  warnings.warn(label_encoder_deprecation_msg, UserWarning)\n",
      "/opt/conda/lib/python3.7/site-packages/xgboost/sklearn.py:1224: UserWarning: The use of label encoder in XGBClassifier is deprecated and will be removed in a future release. To remove this warning, do the following: 1) Pass option use_label_encoder=False when constructing XGBClassifier object; and 2) Encode your labels (y) as integers starting with 0, i.e. 0, 1, 2, ..., [num_class - 1].\n",
      "  warnings.warn(label_encoder_deprecation_msg, UserWarning)\n",
      "/opt/conda/lib/python3.7/site-packages/xgboost/sklearn.py:1224: UserWarning: The use of label encoder in XGBClassifier is deprecated and will be removed in a future release. To remove this warning, do the following: 1) Pass option use_label_encoder=False when constructing XGBClassifier object; and 2) Encode your labels (y) as integers starting with 0, i.e. 0, 1, 2, ..., [num_class - 1].\n",
      "  warnings.warn(label_encoder_deprecation_msg, UserWarning)\n",
      "/opt/conda/lib/python3.7/site-packages/xgboost/sklearn.py:1224: UserWarning: The use of label encoder in XGBClassifier is deprecated and will be removed in a future release. To remove this warning, do the following: 1) Pass option use_label_encoder=False when constructing XGBClassifier object; and 2) Encode your labels (y) as integers starting with 0, i.e. 0, 1, 2, ..., [num_class - 1].\n",
      "  warnings.warn(label_encoder_deprecation_msg, UserWarning)\n",
      "/opt/conda/lib/python3.7/site-packages/xgboost/sklearn.py:1224: UserWarning: The use of label encoder in XGBClassifier is deprecated and will be removed in a future release. To remove this warning, do the following: 1) Pass option use_label_encoder=False when constructing XGBClassifier object; and 2) Encode your labels (y) as integers starting with 0, i.e. 0, 1, 2, ..., [num_class - 1].\n",
      "  warnings.warn(label_encoder_deprecation_msg, UserWarning)\n"
     ]
    },
    {
     "name": "stdout",
     "output_type": "stream",
     "text": [
      "Best parameters: {'learning_rate': 0.1, 'max_depth': 5}\n",
      "Train accuracy: 0.97\n",
      "Train accuracy: 0.96\n",
      "Test accuracy: 0.99\n",
      "Train accuracy: 0.97\n",
      "Test accuracy: 0.98\n",
      "Train accuracy: 0.97\n",
      "Test accuracy: 0.95\n",
      "Train accuracy: 0.97\n",
      "Test accuracy: 0.98\n",
      "Train accuracy: 0.97\n",
      "Test accuracy: 0.95\n",
      "Average train accuracy over 5 folds: 0.97\n",
      "Average test accuracy over 5 folds: 0.97\n",
      "Total k-fold computation time; 7.62\n"
     ]
    }
   ],
   "source": [
    "acc_train = []\n",
    "acc_test = []\n",
    "\n",
    "cirrhosis_X_red=cirrhosis_X[:,np.where(importances>=0.08)].squeeze()\n",
    "\n",
    "max_depth_list = [2, 5, 10, 15]\n",
    "lr_list = [0.0001,0.001, 0.01, 0.1,0.5]\n",
    "param_grid = dict(max_depth=max_depth_list, learning_rate=lr_list)\n",
    "\n",
    "clf = GridSearchCV(XGBClassifier(), param_grid=param_grid, n_jobs=-1, refit=True, cv=5)\n",
    "clf.fit(cirrhosis_X_red, cirrhosis_y)\n",
    "\n",
    "print('Best parameters:', clf.best_params_)\n",
    "print('Train accuracy:', round(clf.score(cirrhosis_X_red, cirrhosis_y),2))\n",
    "\n",
    "tik = time.time()\n",
    "for fold, (train_ids, test_ids) in enumerate(kfold.split(cirrhosis_X_red, cirrhosis_y)):\n",
    "    X_train, X_test = cirrhosis_X_red[train_ids], cirrhosis_X_red[test_ids]\n",
    "    Y_train, Y_test = cirrhosis_y[train_ids], cirrhosis_y[test_ids]\n",
    "\n",
    "    clf_rf = RandomForestClassifier( max_depth=rf_params['max_depth'],\n",
    "                                        n_estimators=rf_params['n_estimators'])\n",
    "    clf_rf.fit(X_train, Y_train)\n",
    "    importances = clf_rf.feature_importances_\n",
    "    X_train_rf = X_train[:,np.where(importances>=0.08)].squeeze()\n",
    "    X_test_rf = X_test[:,np.where(importances>=0.08)].squeeze()\n",
    "\n",
    "    clf_final = XGBClassifier(  max_depth=clf.best_params_['max_depth'],\n",
    "                                learning_rate=clf.best_params_['learning_rate'])\n",
    "    clf_final.fit(X_train_rf, Y_train)\n",
    "    \n",
    "    print('Train accuracy:', round(clf.score(X_train_rf, Y_train),2))\n",
    "    print('Test accuracy:', round(clf.score(X_test_rf, Y_test),2))\n",
    "    \n",
    "    acc_train.append(clf.score(X_train_rf, Y_train))\n",
    "    acc_test.append(clf.score(X_test_rf, Y_test))\n",
    "tok = time.time()    \n",
    "\n",
    "final_acc_test = round(np.mean(acc_test),2)\n",
    "final_acc_train = round(np.mean(acc_train),2)\n",
    "\n",
    "print('Average train accuracy over 5 folds:', final_acc_train)\n",
    "print('Average test accuracy over 5 folds:', final_acc_test)\n",
    "print('Total k-fold computation time;', round(tok-tik, 2))\n",
    "comparison_dict['RF+XGBoost'] = [final_acc_test,  round((tok-tik)/kfold.n_splits,2)]"
   ]
  },
  {
   "cell_type": "markdown",
   "id": "bd928c1a",
   "metadata": {
    "papermill": {
     "duration": 0.16698,
     "end_time": "2022-03-26T23:04:19.906027",
     "exception": false,
     "start_time": "2022-03-26T23:04:19.739047",
     "status": "completed"
    },
    "tags": []
   },
   "source": [
    "## Feature Selection with LASSO"
   ]
  },
  {
   "cell_type": "code",
   "execution_count": 39,
   "id": "cfc4cd95",
   "metadata": {
    "execution": {
     "iopub.execute_input": "2022-03-26T23:04:20.223263Z",
     "iopub.status.busy": "2022-03-26T23:04:20.221452Z",
     "iopub.status.idle": "2022-03-26T23:04:20.649507Z",
     "shell.execute_reply": "2022-03-26T23:04:20.646354Z",
     "shell.execute_reply.started": "2022-03-26T10:57:56.68816Z"
    },
    "papermill": {
     "duration": 0.586286,
     "end_time": "2022-03-26T23:04:20.649739",
     "exception": false,
     "start_time": "2022-03-26T23:04:20.063453",
     "status": "completed"
    },
    "tags": []
   },
   "outputs": [
    {
     "name": "stdout",
     "output_type": "stream",
     "text": [
      "alpha: 1e-05\n",
      "New shape of train data for fold 0 : (329, 15)\n",
      "New shape of train data for fold 1 : (329, 15)\n",
      "New shape of train data for fold 2 : (330, 15)\n",
      "New shape of train data for fold 3 : (330, 15)\n",
      "New shape of train data for fold 4 : (330, 15)\n",
      "alpha: 3.0000000000000004e-05\n",
      "New shape of train data for fold 0 : (329, 15)\n",
      "New shape of train data for fold 1 : (329, 15)\n",
      "New shape of train data for fold 2 : (330, 15)\n",
      "New shape of train data for fold 3 : (330, 15)\n",
      "New shape of train data for fold 4 : (330, 15)\n",
      "alpha: 5e-05\n",
      "New shape of train data for fold 0 : (329, 15)\n",
      "New shape of train data for fold 1 : (329, 15)\n",
      "New shape of train data for fold 2 : (330, 15)\n",
      "New shape of train data for fold 3 : (330, 15)\n",
      "New shape of train data for fold 4 : (330, 15)\n",
      "alpha: 8e-05\n",
      "New shape of train data for fold 0 : (329, 15)\n",
      "New shape of train data for fold 1 : (329, 15)\n",
      "New shape of train data for fold 2 : (330, 15)\n",
      "New shape of train data for fold 3 : (330, 15)\n",
      "New shape of train data for fold 4 : (330, 15)\n",
      "alpha: 0.0001\n",
      "New shape of train data for fold 0 : (329, 15)\n",
      "New shape of train data for fold 1 : (329, 15)\n",
      "New shape of train data for fold 2 : (330, 15)\n",
      "New shape of train data for fold 3 : (330, 15)\n",
      "New shape of train data for fold 4 : (330, 15)\n",
      "alpha: 0.00030000000000000003\n",
      "New shape of train data for fold 0 : (329, 15)\n",
      "New shape of train data for fold 1 : (329, 15)\n",
      "New shape of train data for fold 2 : (330, 15)\n",
      "New shape of train data for fold 3 : (330, 15)\n",
      "New shape of train data for fold 4 : (330, 15)\n",
      "alpha: 0.0005\n",
      "New shape of train data for fold 0 : (329, 15)\n",
      "New shape of train data for fold 1 : (329, 15)\n",
      "New shape of train data for fold 2 : (330, 15)\n",
      "New shape of train data for fold 3 : (330, 15)\n",
      "New shape of train data for fold 4 : (330, 14)\n",
      "alpha: 0.0008\n",
      "New shape of train data for fold 0 : (329, 15)\n",
      "New shape of train data for fold 1 : (329, 14)\n",
      "New shape of train data for fold 2 : (330, 15)\n",
      "New shape of train data for fold 3 : (330, 15)\n",
      "New shape of train data for fold 4 : (330, 14)\n",
      "alpha: 0.001\n",
      "New shape of train data for fold 0 : (329, 15)\n",
      "New shape of train data for fold 1 : (329, 14)\n",
      "New shape of train data for fold 2 : (330, 15)\n",
      "New shape of train data for fold 3 : (330, 14)\n",
      "New shape of train data for fold 4 : (330, 13)\n",
      "alpha: 0.003\n",
      "New shape of train data for fold 0 : (329, 14)\n",
      "New shape of train data for fold 1 : (329, 12)\n",
      "New shape of train data for fold 2 : (330, 14)\n",
      "New shape of train data for fold 3 : (330, 12)\n",
      "New shape of train data for fold 4 : (330, 12)\n",
      "alpha: 0.005\n",
      "New shape of train data for fold 0 : (329, 14)\n",
      "New shape of train data for fold 1 : (329, 11)\n",
      "New shape of train data for fold 2 : (330, 13)\n",
      "New shape of train data for fold 3 : (330, 12)\n",
      "New shape of train data for fold 4 : (330, 12)\n",
      "alpha: 0.008\n",
      "New shape of train data for fold 0 : (329, 13)\n",
      "New shape of train data for fold 1 : (329, 11)\n",
      "New shape of train data for fold 2 : (330, 12)\n",
      "New shape of train data for fold 3 : (330, 10)\n",
      "New shape of train data for fold 4 : (330, 12)\n",
      "alpha: 0.01\n",
      "New shape of train data for fold 0 : (329, 12)\n",
      "New shape of train data for fold 1 : (329, 11)\n",
      "New shape of train data for fold 2 : (330, 11)\n",
      "New shape of train data for fold 3 : (330, 10)\n",
      "New shape of train data for fold 4 : (330, 11)\n",
      "alpha: 0.03\n",
      "New shape of train data for fold 0 : (329, 10)\n",
      "New shape of train data for fold 1 : (329, 10)\n",
      "New shape of train data for fold 2 : (330, 10)\n",
      "New shape of train data for fold 3 : (330, 10)\n",
      "New shape of train data for fold 4 : (330, 10)\n",
      "alpha: 0.05\n",
      "New shape of train data for fold 0 : (329, 9)\n",
      "New shape of train data for fold 1 : (329, 9)\n",
      "New shape of train data for fold 2 : (330, 9)\n",
      "New shape of train data for fold 3 : (330, 9)\n",
      "New shape of train data for fold 4 : (330, 9)\n",
      "alpha: 0.08\n",
      "New shape of train data for fold 0 : (329, 8)\n",
      "New shape of train data for fold 1 : (329, 9)\n",
      "New shape of train data for fold 2 : (330, 9)\n",
      "New shape of train data for fold 3 : (330, 8)\n",
      "New shape of train data for fold 4 : (330, 9)\n",
      "alpha: 0.1\n",
      "New shape of train data for fold 0 : (329, 8)\n",
      "New shape of train data for fold 1 : (329, 8)\n",
      "New shape of train data for fold 2 : (330, 8)\n",
      "New shape of train data for fold 3 : (330, 8)\n",
      "New shape of train data for fold 4 : (330, 9)\n",
      "alpha: 0.30000000000000004\n",
      "New shape of train data for fold 0 : (329, 7)\n",
      "New shape of train data for fold 1 : (329, 6)\n",
      "New shape of train data for fold 2 : (330, 7)\n",
      "New shape of train data for fold 3 : (330, 7)\n",
      "New shape of train data for fold 4 : (330, 7)\n",
      "alpha: 0.5\n",
      "New shape of train data for fold 0 : (329, 7)\n",
      "New shape of train data for fold 1 : (329, 6)\n",
      "New shape of train data for fold 2 : (330, 7)\n",
      "New shape of train data for fold 3 : (330, 7)\n",
      "New shape of train data for fold 4 : (330, 6)\n",
      "alpha: 0.8\n",
      "New shape of train data for fold 0 : (329, 7)\n",
      "New shape of train data for fold 1 : (329, 6)\n",
      "New shape of train data for fold 2 : (330, 6)\n",
      "New shape of train data for fold 3 : (330, 6)\n",
      "New shape of train data for fold 4 : (330, 6)\n",
      "alpha: 1\n",
      "New shape of train data for fold 0 : (329, 7)\n",
      "New shape of train data for fold 1 : (329, 6)\n",
      "New shape of train data for fold 2 : (330, 6)\n",
      "New shape of train data for fold 3 : (330, 6)\n",
      "New shape of train data for fold 4 : (330, 5)\n",
      "alpha: 3\n",
      "New shape of train data for fold 0 : (329, 5)\n",
      "New shape of train data for fold 1 : (329, 5)\n",
      "New shape of train data for fold 2 : (330, 5)\n",
      "New shape of train data for fold 3 : (330, 5)\n",
      "New shape of train data for fold 4 : (330, 5)\n",
      "alpha: 5\n",
      "New shape of train data for fold 0 : (329, 4)\n",
      "New shape of train data for fold 1 : (329, 4)\n",
      "New shape of train data for fold 2 : (330, 5)\n",
      "New shape of train data for fold 3 : (330, 4)\n",
      "New shape of train data for fold 4 : (330, 5)\n",
      "alpha: 8\n",
      "New shape of train data for fold 0 : (329, 3)\n",
      "New shape of train data for fold 1 : (329, 4)\n",
      "New shape of train data for fold 2 : (330, 2)\n",
      "New shape of train data for fold 3 : (330, 3)\n",
      "New shape of train data for fold 4 : (330, 3)\n"
     ]
    }
   ],
   "source": [
    "alpha_list = [k*10**(-i) for i in reversed(range(6)) for k in [1,3,5,8]]\n",
    "\n",
    "acc_train = []\n",
    "acc_test = []\n",
    "times = []\n",
    "selected_features = []\n",
    "\n",
    "\n",
    "for alpha in alpha_list:\n",
    "    tik = time.time()\n",
    "    print('alpha:', alpha)\n",
    "    clf_lasso = Lasso(alpha=alpha)\n",
    "    acc_train_alpha = []\n",
    "    acc_test_alpha = []\n",
    "    for fold, (train_ids, test_ids) in enumerate(kfold.split(cirrhosis_X, cirrhosis_y)):\n",
    "        X_train, X_test = cirrhosis_X[train_ids], cirrhosis_X[test_ids]\n",
    "        Y_train, Y_test = cirrhosis_y[train_ids], cirrhosis_y[test_ids]\n",
    "        \n",
    "        clf_lasso.fit(X_train, Y_train)\n",
    "        \n",
    "        support = (clf_lasso.coef_!=0.0)\n",
    "        print('New shape of train data for fold',fold, ':', X_train[:, support].shape)\n",
    "        selected_features.append([i for i, val in enumerate(support) if val])\n",
    "        \n",
    "        preds_lasso_train = (clf_lasso.predict(X_train)>0.5)\n",
    "        acc_train_alpha.append(round(((Y_train==preds_lasso_train).sum()/len(Y_train)),2))\n",
    "        preds_lasso_test = (clf_lasso.predict(X_test)>0.5)\n",
    "        acc_test_alpha.append(round(((Y_test==preds_lasso_test).sum()/len(Y_test)),2))\n",
    "    tok = time.time()\n",
    "    times.append( round((tok-tik)/kfold.n_splits,2))\n",
    "    acc_train.append(np.mean(acc_train_alpha))\n",
    "    acc_test.append(np.mean(acc_test_alpha))\n",
    "\n",
    "selected_features=sum(selected_features, [])"
   ]
  },
  {
   "cell_type": "code",
   "execution_count": 40,
   "id": "027255a1",
   "metadata": {
    "execution": {
     "iopub.execute_input": "2022-03-26T23:04:21.009408Z",
     "iopub.status.busy": "2022-03-26T23:04:21.008505Z",
     "iopub.status.idle": "2022-03-26T23:04:22.274415Z",
     "shell.execute_reply": "2022-03-26T23:04:22.273791Z",
     "shell.execute_reply.started": "2022-03-26T10:58:01.008709Z"
    },
    "papermill": {
     "duration": 1.450335,
     "end_time": "2022-03-26T23:04:22.274598",
     "exception": false,
     "start_time": "2022-03-26T23:04:20.824263",
     "status": "completed"
    },
    "tags": []
   },
   "outputs": [
    {
     "data": {
      "text/plain": [
       "Text(0.5, 1.0, 'Test accuracy with Logistic Regression+LASSO Feature Selection')"
      ]
     },
     "execution_count": 40,
     "metadata": {},
     "output_type": "execute_result"
    },
    {
     "data": {
      "image/png": "[encoded data removed]",
      "text/plain": [
       "<Figure size 432x288 with 1 Axes>"
      ]
     },
     "metadata": {
      "needs_background": "light"
     },
     "output_type": "display_data"
    }
   ],
   "source": [
    "plt.plot(alpha_list, acc_test)\n",
    "plt.xscale('log')\n",
    "plt.xlabel('Alpha')\n",
    "plt.ylabel('Accuracy')\n",
    "plt.title('Test accuracy with Logistic Regression+LASSO Feature Selection')"
   ]
  },
  {
   "cell_type": "code",
   "execution_count": 41,
   "id": "fdbf01a3",
   "metadata": {
    "execution": {
     "iopub.execute_input": "2022-03-26T23:04:22.595828Z",
     "iopub.status.busy": "2022-03-26T23:04:22.594004Z",
     "iopub.status.idle": "2022-03-26T23:04:22.604957Z",
     "shell.execute_reply": "2022-03-26T23:04:22.605756Z",
     "shell.execute_reply.started": "2022-03-26T10:58:04.036442Z"
    },
    "papermill": {
     "duration": 0.177033,
     "end_time": "2022-03-26T23:04:22.606001",
     "exception": false,
     "start_time": "2022-03-26T23:04:22.428968",
     "status": "completed"
    },
    "tags": []
   },
   "outputs": [
    {
     "name": "stdout",
     "output_type": "stream",
     "text": [
      "Maximal test accuracy with Logistic Regression + LASSO: 0.73 achieved at alpha = 0.0005\n"
     ]
    }
   ],
   "source": [
    "print('Maximal test accuracy with Logistic Regression + LASSO:', round(np.max(acc_test),2), 'achieved at alpha =', alpha_list[np.argmax(acc_test)])\n",
    "comparison_dict['Lasso']=[round(np.max(acc_test),2),times[np.argmax(acc_test)]]"
   ]
  },
  {
   "cell_type": "code",
   "execution_count": 42,
   "id": "d79575ca",
   "metadata": {
    "execution": {
     "iopub.execute_input": "2022-03-26T23:04:22.925633Z",
     "iopub.status.busy": "2022-03-26T23:04:22.924884Z",
     "iopub.status.idle": "2022-03-26T23:04:23.217861Z",
     "shell.execute_reply": "2022-03-26T23:04:23.218414Z"
    },
    "papermill": {
     "duration": 0.455126,
     "end_time": "2022-03-26T23:04:23.218666",
     "exception": false,
     "start_time": "2022-03-26T23:04:22.763540",
     "status": "completed"
    },
    "tags": []
   },
   "outputs": [
    {
     "name": "stdout",
     "output_type": "stream",
     "text": [
      "Most frequently selected features: [ 7  9 10 13  1]\n"
     ]
    },
    {
     "data": {
      "image/png": "[encoded data removed]",
      "text/plain": [
       "<Figure size 432x288 with 1 Axes>"
      ]
     },
     "metadata": {
      "needs_background": "light"
     },
     "output_type": "display_data"
    },
    {
     "data": {
      "text/plain": [
       "<Figure size 432x288 with 0 Axes>"
      ]
     },
     "metadata": {},
     "output_type": "display_data"
    }
   ],
   "source": [
    "y, x, _ = plt.hist(selected_features, bins=range(16))\n",
    "print('Most frequently selected features:', np.argpartition(y, -5)[-5:])\n",
    "plt.show()\n",
    "plt.savefig(\"Sel_feat_lasso\")"
   ]
  },
  {
   "cell_type": "markdown",
   "id": "8ec988c2",
   "metadata": {
    "papermill": {
     "duration": 0.15784,
     "end_time": "2022-03-26T23:04:23.544547",
     "exception": false,
     "start_time": "2022-03-26T23:04:23.386707",
     "status": "completed"
    },
    "tags": []
   },
   "source": [
    "## Feature Selection LASSO+SVC"
   ]
  },
  {
   "cell_type": "code",
   "execution_count": 43,
   "id": "e5efaef3",
   "metadata": {
    "execution": {
     "iopub.execute_input": "2022-03-26T23:04:23.893741Z",
     "iopub.status.busy": "2022-03-26T23:04:23.885296Z",
     "iopub.status.idle": "2022-03-26T23:04:25.547348Z",
     "shell.execute_reply": "2022-03-26T23:04:25.546694Z",
     "shell.execute_reply.started": "2022-03-26T10:58:06.563531Z"
    },
    "papermill": {
     "duration": 1.838174,
     "end_time": "2022-03-26T23:04:25.547513",
     "exception": false,
     "start_time": "2022-03-26T23:04:23.709339",
     "status": "completed"
    },
    "tags": []
   },
   "outputs": [
    {
     "name": "stdout",
     "output_type": "stream",
     "text": [
      "C: 0.01\n",
      "New shape of train data for fold 0 : (329, 7)\n",
      "New shape of train data for fold 1 : (329, 7)\n",
      "New shape of train data for fold 2 : (330, 8)\n",
      "New shape of train data for fold 3 : (330, 9)\n",
      "New shape of train data for fold 4 : (330, 7)\n",
      "C: 0.03\n",
      "New shape of train data for fold 0 : (329, 11)\n",
      "New shape of train data for fold 1 : (329, 11)\n",
      "New shape of train data for fold 2 : (330, 11)\n",
      "New shape of train data for fold 3 : (330, 10)\n",
      "New shape of train data for fold 4 : (330, 10)\n",
      "C: 0.05\n",
      "New shape of train data for fold 0 : (329, 12)\n",
      "New shape of train data for fold 1 : (329, 11)\n",
      "New shape of train data for fold 2 : (330, 11)\n",
      "New shape of train data for fold 3 : (330, 11)\n",
      "New shape of train data for fold 4 : (330, 11)\n",
      "C: 0.08\n",
      "New shape of train data for fold 0 : (329, 12)\n",
      "New shape of train data for fold 1 : (329, 11)\n",
      "New shape of train data for fold 2 : (330, 11)\n",
      "New shape of train data for fold 3 : (330, 11)\n",
      "New shape of train data for fold 4 : (330, 11)\n",
      "C: 0.1\n",
      "New shape of train data for fold 0 : (329, 13)\n",
      "New shape of train data for fold 1 : (329, 11)\n",
      "New shape of train data for fold 2 : (330, 12)\n",
      "New shape of train data for fold 3 : (330, 9)\n",
      "New shape of train data for fold 4 : (330, 12)\n",
      "C: 0.30000000000000004\n",
      "New shape of train data for fold 0 : (329, 14)\n",
      "New shape of train data for fold 1 : (329, 12)\n",
      "New shape of train data for fold 2 : (330, 14)\n",
      "New shape of train data for fold 3 : (330, 13)\n",
      "New shape of train data for fold 4 : (330, 12)\n",
      "C: 0.5\n",
      "New shape of train data for fold 0 : (329, 14)\n",
      "New shape of train data for fold 1 : (329, 13)\n",
      "New shape of train data for fold 2 : (330, 15)\n",
      "New shape of train data for fold 3 : (330, 14)\n",
      "New shape of train data for fold 4 : (330, 13)\n",
      "C: 0.8\n",
      "New shape of train data for fold 0 : (329, 15)\n",
      "New shape of train data for fold 1 : (329, 14)\n",
      "New shape of train data for fold 2 : (330, 15)\n",
      "New shape of train data for fold 3 : (330, 14)\n",
      "New shape of train data for fold 4 : (330, 13)\n",
      "C: 1\n",
      "New shape of train data for fold 0 : (329, 15)\n",
      "New shape of train data for fold 1 : (329, 15)\n",
      "New shape of train data for fold 2 : (330, 15)\n",
      "New shape of train data for fold 3 : (330, 14)\n",
      "New shape of train data for fold 4 : (330, 14)\n",
      "C: 3\n",
      "New shape of train data for fold 0 : (329, 15)\n",
      "New shape of train data for fold 1 : (329, 15)\n",
      "New shape of train data for fold 2 : (330, 15)\n",
      "New shape of train data for fold 3 : (330, 15)\n",
      "New shape of train data for fold 4 : (330, 15)\n",
      "C: 5\n",
      "New shape of train data for fold 0 : (329, 15)\n",
      "New shape of train data for fold 1 : (329, 15)\n",
      "New shape of train data for fold 2 : (330, 15)\n",
      "New shape of train data for fold 3 : (330, 15)\n",
      "New shape of train data for fold 4 : (330, 15)\n",
      "C: 8\n",
      "New shape of train data for fold 0 : (329, 15)\n",
      "New shape of train data for fold 1 : (329, 15)\n",
      "New shape of train data for fold 2 : (330, 15)\n",
      "New shape of train data for fold 3 : (330, 15)\n",
      "New shape of train data for fold 4 : (330, 15)\n",
      "C: 10\n",
      "New shape of train data for fold 0 : (329, 15)\n",
      "New shape of train data for fold 1 : (329, 15)\n",
      "New shape of train data for fold 2 : (330, 15)\n",
      "New shape of train data for fold 3 : (330, 15)\n",
      "New shape of train data for fold 4 : (330, 15)\n",
      "C: 30\n",
      "New shape of train data for fold 0 : (329, 15)\n",
      "New shape of train data for fold 1 : (329, 15)\n",
      "New shape of train data for fold 2 : (330, 15)\n",
      "New shape of train data for fold 3 : (330, 15)\n",
      "New shape of train data for fold 4 : (330, 15)\n",
      "C: 50\n",
      "New shape of train data for fold 0 : (329, 15)\n",
      "New shape of train data for fold 1 : (329, 15)\n",
      "New shape of train data for fold 2 : (330, 15)\n",
      "New shape of train data for fold 3 : (330, 15)\n",
      "New shape of train data for fold 4 : (330, 15)\n",
      "C: 80\n",
      "New shape of train data for fold 0 : (329, 15)\n",
      "New shape of train data for fold 1 : (329, 15)\n",
      "New shape of train data for fold 2 : (330, 15)\n",
      "New shape of train data for fold 3 : (330, 15)\n",
      "New shape of train data for fold 4 : (330, 15)\n",
      "C: 100\n",
      "New shape of train data for fold 0 : (329, 15)\n",
      "New shape of train data for fold 1 : (329, 15)\n",
      "New shape of train data for fold 2 : (330, 15)\n",
      "New shape of train data for fold 3 : (330, 15)\n",
      "New shape of train data for fold 4 : (330, 15)\n",
      "C: 300\n",
      "New shape of train data for fold 0 : (329, 15)\n",
      "New shape of train data for fold 1 : (329, 15)\n",
      "New shape of train data for fold 2 : (330, 15)\n",
      "New shape of train data for fold 3 : (330, 15)\n",
      "New shape of train data for fold 4 : (330, 15)\n",
      "C: 500\n",
      "New shape of train data for fold 0 : (329, 15)\n",
      "New shape of train data for fold 1 : (329, 15)\n",
      "New shape of train data for fold 2 : (330, 15)\n",
      "New shape of train data for fold 3 : (330, 15)\n",
      "New shape of train data for fold 4 : (330, 15)\n",
      "C: 800\n",
      "New shape of train data for fold 0 : (329, 15)\n",
      "New shape of train data for fold 1 : (329, 15)\n",
      "New shape of train data for fold 2 : (330, 15)\n",
      "New shape of train data for fold 3 : (330, 15)\n",
      "New shape of train data for fold 4 : (330, 15)\n",
      "C: 1000\n",
      "New shape of train data for fold 0 : (329, 15)\n",
      "New shape of train data for fold 1 : (329, 15)\n",
      "New shape of train data for fold 2 : (330, 15)\n",
      "New shape of train data for fold 3 : (330, 15)\n",
      "New shape of train data for fold 4 : (330, 15)\n",
      "C: 3000\n",
      "New shape of train data for fold 0 : (329, 15)\n",
      "New shape of train data for fold 1 : (329, 15)\n",
      "New shape of train data for fold 2 : (330, 15)\n",
      "New shape of train data for fold 3 : (330, 15)\n",
      "New shape of train data for fold 4 : (330, 15)\n",
      "C: 5000\n",
      "New shape of train data for fold 0 : (329, 15)\n",
      "New shape of train data for fold 1 : (329, 15)\n",
      "New shape of train data for fold 2 : (330, 15)\n",
      "New shape of train data for fold 3 : (330, 15)\n",
      "New shape of train data for fold 4 : (330, 15)\n",
      "C: 8000\n",
      "New shape of train data for fold 0 : (329, 15)\n",
      "New shape of train data for fold 1 : (329, 15)\n",
      "New shape of train data for fold 2 : (330, 15)\n",
      "New shape of train data for fold 3 : (330, 15)\n",
      "New shape of train data for fold 4 : (330, 15)\n"
     ]
    }
   ],
   "source": [
    "C_list = [k*10**(i) for i in range(-2,4) for k in [1,3,5,8]]\n",
    "\n",
    "acc_train = []\n",
    "acc_test = []\n",
    "times = []\n",
    "selected_features = []\n",
    "\n",
    "for C in C_list:\n",
    "    tik = time.time()   \n",
    "    print('C:', C)\n",
    "    clf_svc = LinearSVC(C=C, penalty='l1', dual=False)\n",
    "    acc_train_C = []\n",
    "    acc_test_C = []\n",
    "    \n",
    "    for fold, (train_ids, test_ids) in enumerate(kfold.split(cirrhosis_X, cirrhosis_y)):\n",
    "        X_train, X_test = cirrhosis_X[train_ids], cirrhosis_X[test_ids]\n",
    "        Y_train, Y_test = cirrhosis_y[train_ids], cirrhosis_y[test_ids]\n",
    "        \n",
    "        clf_svc.fit(X_train, Y_train)\n",
    "        \n",
    "        support = (clf_svc.coef_!=0.0).flatten()\n",
    "        print('New shape of train data for fold',fold, ':', X_train[:, support].shape)\n",
    "        selected_features.append([i for i, val in enumerate(support) if val])\n",
    "        \n",
    "        preds_lasso_train = (clf_svc.predict(X_train)>0.5)\n",
    "        acc_train_alpha.append(round(((Y_train==preds_lasso_train).sum()/len(Y_train)),2))\n",
    "        preds_lasso_test = (clf_svc.predict(X_test)>0.5)\n",
    "        acc_test_alpha.append(round(((Y_test==preds_lasso_test).sum()/len(Y_test)),2))\n",
    "        \n",
    "    acc_train.append(np.mean(acc_train_alpha))\n",
    "    acc_test.append(np.mean(acc_test_alpha))\n",
    "    tok = time.time()\n",
    "    times.append(round((tok-tik)/kfold.n_splits,2))\n",
    "    \n",
    "selected_features=sum(selected_features, [])"
   ]
  },
  {
   "cell_type": "code",
   "execution_count": 44,
   "id": "403c5a9e",
   "metadata": {
    "execution": {
     "iopub.execute_input": "2022-03-26T23:04:25.961778Z",
     "iopub.status.busy": "2022-03-26T23:04:25.961049Z",
     "iopub.status.idle": "2022-03-26T23:04:27.199995Z",
     "shell.execute_reply": "2022-03-26T23:04:27.200691Z",
     "shell.execute_reply.started": "2022-03-26T10:58:11.864104Z"
    },
    "papermill": {
     "duration": 1.456536,
     "end_time": "2022-03-26T23:04:27.200901",
     "exception": false,
     "start_time": "2022-03-26T23:04:25.744365",
     "status": "completed"
    },
    "tags": []
   },
   "outputs": [
    {
     "data": {
      "text/plain": [
       "Text(0.5, 1.0, 'Test accuracy with LASSO+SVC Feature Selection')"
      ]
     },
     "execution_count": 44,
     "metadata": {},
     "output_type": "execute_result"
    },
    {
     "data": {
      "image/png": "[encoded data removed]",
      "text/plain": [
       "<Figure size 432x288 with 1 Axes>"
      ]
     },
     "metadata": {
      "needs_background": "light"
     },
     "output_type": "display_data"
    }
   ],
   "source": [
    "plt.plot(alpha_list, acc_test)\n",
    "plt.xscale('log')\n",
    "plt.xlabel('C')\n",
    "plt.ylabel('Accuracy')\n",
    "plt.title('Test accuracy with LASSO+SVC Feature Selection')"
   ]
  },
  {
   "cell_type": "code",
   "execution_count": 45,
   "id": "1b8f3bf1",
   "metadata": {
    "execution": {
     "iopub.execute_input": "2022-03-26T23:04:27.556651Z",
     "iopub.status.busy": "2022-03-26T23:04:27.555046Z",
     "iopub.status.idle": "2022-03-26T23:04:27.560821Z",
     "shell.execute_reply": "2022-03-26T23:04:27.563984Z",
     "shell.execute_reply.started": "2022-03-26T10:58:14.272796Z"
    },
    "papermill": {
     "duration": 0.196018,
     "end_time": "2022-03-26T23:04:27.565998",
     "exception": false,
     "start_time": "2022-03-26T23:04:27.369980",
     "status": "completed"
    },
    "tags": []
   },
   "outputs": [
    {
     "name": "stdout",
     "output_type": "stream",
     "text": [
      "Maximal test accuracy with Linear SVM + LASSO: 0.7239199999999999 achieved at C = 8\n"
     ]
    }
   ],
   "source": [
    "print('Maximal test accuracy with Linear SVM + LASSO:', np.max(acc_test), 'achieved at C =', alpha_list[np.argmax(acc_test)])\n",
    "comparison_dict['Lasso+LinearSVC']=[round(np.max(acc_test),2), times[np.argmax(acc_test)]]"
   ]
  },
  {
   "cell_type": "code",
   "execution_count": 46,
   "id": "fca8f40c",
   "metadata": {
    "execution": {
     "iopub.execute_input": "2022-03-26T23:04:27.932839Z",
     "iopub.status.busy": "2022-03-26T23:04:27.931531Z",
     "iopub.status.idle": "2022-03-26T23:04:28.230086Z",
     "shell.execute_reply": "2022-03-26T23:04:28.231723Z"
    },
    "papermill": {
     "duration": 0.484366,
     "end_time": "2022-03-26T23:04:28.232359",
     "exception": false,
     "start_time": "2022-03-26T23:04:27.747993",
     "status": "completed"
    },
    "tags": []
   },
   "outputs": [
    {
     "name": "stdout",
     "output_type": "stream",
     "text": [
      "Most frequently selected features: [13 10  1  9  7]\n"
     ]
    },
    {
     "data": {
      "image/png": "[encoded data removed]",
      "text/plain": [
       "<Figure size 432x288 with 1 Axes>"
      ]
     },
     "metadata": {
      "needs_background": "light"
     },
     "output_type": "display_data"
    }
   ],
   "source": [
    "y, x, _ = plt.hist(selected_features, bins=range(16))\n",
    "print('Most frequently selected features:', np.argpartition(y, -5)[-5:])"
   ]
  },
  {
   "cell_type": "markdown",
   "id": "e23a44e6",
   "metadata": {
    "papermill": {
     "duration": 0.17684,
     "end_time": "2022-03-26T23:04:28.590927",
     "exception": false,
     "start_time": "2022-03-26T23:04:28.414087",
     "status": "completed"
    },
    "tags": []
   },
   "source": [
    "## Feature Selection ElasticNet"
   ]
  },
  {
   "cell_type": "code",
   "execution_count": 47,
   "id": "fb4317d1",
   "metadata": {
    "execution": {
     "iopub.execute_input": "2022-03-26T23:04:28.935473Z",
     "iopub.status.busy": "2022-03-26T23:04:28.934601Z",
     "iopub.status.idle": "2022-03-26T23:04:29.310341Z",
     "shell.execute_reply": "2022-03-26T23:04:29.309472Z",
     "shell.execute_reply.started": "2022-03-26T10:58:16.996812Z"
    },
    "papermill": {
     "duration": 0.554689,
     "end_time": "2022-03-26T23:04:29.310568",
     "exception": false,
     "start_time": "2022-03-26T23:04:28.755879",
     "status": "completed"
    },
    "tags": []
   },
   "outputs": [
    {
     "name": "stdout",
     "output_type": "stream",
     "text": [
      "alpha: 1e-05\n",
      "New shape of train data for fold 0 : (329, 15)\n",
      "New shape of train data for fold 1 : (329, 15)\n",
      "New shape of train data for fold 2 : (330, 15)\n",
      "New shape of train data for fold 3 : (330, 15)\n",
      "New shape of train data for fold 4 : (330, 15)\n",
      "alpha: 3.0000000000000004e-05\n",
      "New shape of train data for fold 0 : (329, 15)\n",
      "New shape of train data for fold 1 : (329, 15)\n",
      "New shape of train data for fold 2 : (330, 15)\n",
      "New shape of train data for fold 3 : (330, 15)\n",
      "New shape of train data for fold 4 : (330, 15)\n",
      "alpha: 5e-05\n",
      "New shape of train data for fold 0 : (329, 15)\n",
      "New shape of train data for fold 1 : (329, 15)\n",
      "New shape of train data for fold 2 : (330, 15)\n",
      "New shape of train data for fold 3 : (330, 15)\n",
      "New shape of train data for fold 4 : (330, 15)\n",
      "alpha: 8e-05\n",
      "New shape of train data for fold 0 : (329, 15)\n",
      "New shape of train data for fold 1 : (329, 15)\n",
      "New shape of train data for fold 2 : (330, 15)\n",
      "New shape of train data for fold 3 : (330, 15)\n",
      "New shape of train data for fold 4 : (330, 15)\n",
      "alpha: 0.0001\n",
      "New shape of train data for fold 0 : (329, 15)\n",
      "New shape of train data for fold 1 : (329, 15)\n",
      "New shape of train data for fold 2 : (330, 15)\n",
      "New shape of train data for fold 3 : (330, 15)\n",
      "New shape of train data for fold 4 : (330, 15)\n",
      "alpha: 0.00030000000000000003\n",
      "New shape of train data for fold 0 : (329, 15)\n",
      "New shape of train data for fold 1 : (329, 15)\n",
      "New shape of train data for fold 2 : (330, 15)\n",
      "New shape of train data for fold 3 : (330, 15)\n",
      "New shape of train data for fold 4 : (330, 15)\n",
      "alpha: 0.0005\n",
      "New shape of train data for fold 0 : (329, 15)\n",
      "New shape of train data for fold 1 : (329, 15)\n",
      "New shape of train data for fold 2 : (330, 15)\n",
      "New shape of train data for fold 3 : (330, 15)\n",
      "New shape of train data for fold 4 : (330, 15)\n",
      "alpha: 0.0008\n",
      "New shape of train data for fold 0 : (329, 15)\n",
      "New shape of train data for fold 1 : (329, 15)\n",
      "New shape of train data for fold 2 : (330, 15)\n",
      "New shape of train data for fold 3 : (330, 15)\n",
      "New shape of train data for fold 4 : (330, 14)\n",
      "alpha: 0.001\n",
      "New shape of train data for fold 0 : (329, 15)\n",
      "New shape of train data for fold 1 : (329, 14)\n",
      "New shape of train data for fold 2 : (330, 15)\n",
      "New shape of train data for fold 3 : (330, 15)\n",
      "New shape of train data for fold 4 : (330, 14)\n",
      "alpha: 0.003\n",
      "New shape of train data for fold 0 : (329, 14)\n",
      "New shape of train data for fold 1 : (329, 13)\n",
      "New shape of train data for fold 2 : (330, 15)\n",
      "New shape of train data for fold 3 : (330, 14)\n",
      "New shape of train data for fold 4 : (330, 12)\n",
      "alpha: 0.005\n",
      "New shape of train data for fold 0 : (329, 14)\n",
      "New shape of train data for fold 1 : (329, 12)\n",
      "New shape of train data for fold 2 : (330, 13)\n",
      "New shape of train data for fold 3 : (330, 12)\n",
      "New shape of train data for fold 4 : (330, 12)\n",
      "alpha: 0.008\n",
      "New shape of train data for fold 0 : (329, 13)\n",
      "New shape of train data for fold 1 : (329, 11)\n",
      "New shape of train data for fold 2 : (330, 13)\n",
      "New shape of train data for fold 3 : (330, 10)\n",
      "New shape of train data for fold 4 : (330, 12)\n",
      "alpha: 0.01\n",
      "New shape of train data for fold 0 : (329, 13)\n",
      "New shape of train data for fold 1 : (329, 11)\n",
      "New shape of train data for fold 2 : (330, 12)\n",
      "New shape of train data for fold 3 : (330, 10)\n",
      "New shape of train data for fold 4 : (330, 12)\n",
      "alpha: 0.03\n",
      "New shape of train data for fold 0 : (329, 12)\n",
      "New shape of train data for fold 1 : (329, 11)\n",
      "New shape of train data for fold 2 : (330, 11)\n",
      "New shape of train data for fold 3 : (330, 11)\n",
      "New shape of train data for fold 4 : (330, 10)\n",
      "alpha: 0.05\n",
      "New shape of train data for fold 0 : (329, 10)\n",
      "New shape of train data for fold 1 : (329, 10)\n",
      "New shape of train data for fold 2 : (330, 10)\n",
      "New shape of train data for fold 3 : (330, 10)\n",
      "New shape of train data for fold 4 : (330, 9)\n",
      "alpha: 0.08\n",
      "New shape of train data for fold 0 : (329, 9)\n",
      "New shape of train data for fold 1 : (329, 9)\n",
      "New shape of train data for fold 2 : (330, 9)\n",
      "New shape of train data for fold 3 : (330, 9)\n",
      "New shape of train data for fold 4 : (330, 9)\n",
      "alpha: 0.1\n",
      "New shape of train data for fold 0 : (329, 9)\n",
      "New shape of train data for fold 1 : (329, 9)\n",
      "New shape of train data for fold 2 : (330, 9)\n",
      "New shape of train data for fold 3 : (330, 8)\n",
      "New shape of train data for fold 4 : (330, 9)\n",
      "alpha: 0.30000000000000004\n",
      "New shape of train data for fold 0 : (329, 8)\n",
      "New shape of train data for fold 1 : (329, 7)\n",
      "New shape of train data for fold 2 : (330, 8)\n",
      "New shape of train data for fold 3 : (330, 7)\n",
      "New shape of train data for fold 4 : (330, 8)\n",
      "alpha: 0.5\n",
      "New shape of train data for fold 0 : (329, 7)\n",
      "New shape of train data for fold 1 : (329, 6)\n",
      "New shape of train data for fold 2 : (330, 7)\n",
      "New shape of train data for fold 3 : (330, 7)\n",
      "New shape of train data for fold 4 : (330, 6)\n",
      "alpha: 0.8\n",
      "New shape of train data for fold 0 : (329, 7)\n",
      "New shape of train data for fold 1 : (329, 6)\n",
      "New shape of train data for fold 2 : (330, 7)\n",
      "New shape of train data for fold 3 : (330, 7)\n",
      "New shape of train data for fold 4 : (330, 6)\n",
      "alpha: 1\n",
      "New shape of train data for fold 0 : (329, 7)\n",
      "New shape of train data for fold 1 : (329, 6)\n",
      "New shape of train data for fold 2 : (330, 6)\n",
      "New shape of train data for fold 3 : (330, 6)\n",
      "New shape of train data for fold 4 : (330, 6)\n",
      "alpha: 3\n",
      "New shape of train data for fold 0 : (329, 5)\n",
      "New shape of train data for fold 1 : (329, 5)\n",
      "New shape of train data for fold 2 : (330, 6)\n",
      "New shape of train data for fold 3 : (330, 5)\n",
      "New shape of train data for fold 4 : (330, 5)\n",
      "alpha: 5\n",
      "New shape of train data for fold 0 : (329, 5)\n",
      "New shape of train data for fold 1 : (329, 5)\n",
      "New shape of train data for fold 2 : (330, 5)\n",
      "New shape of train data for fold 3 : (330, 5)\n",
      "New shape of train data for fold 4 : (330, 5)\n",
      "alpha: 8\n",
      "New shape of train data for fold 0 : (329, 4)\n",
      "New shape of train data for fold 1 : (329, 4)\n",
      "New shape of train data for fold 2 : (330, 4)\n",
      "New shape of train data for fold 3 : (330, 4)\n",
      "New shape of train data for fold 4 : (330, 5)\n"
     ]
    }
   ],
   "source": [
    "alpha_list = [k*10**(-i) for i in reversed(range(6)) for k in [1,3,5,8]]\n",
    "\n",
    "acc_train = []\n",
    "acc_test = []\n",
    "times = []\n",
    "selected_features = []\n",
    "\n",
    "for alpha in alpha_list:\n",
    "    tik = time.time()\n",
    "    print('alpha:', alpha)\n",
    "    clf_en = ElasticNet(alpha=alpha, l1_ratio=0.7)\n",
    "    acc_train_alpha = []\n",
    "    acc_test_alpha = []\n",
    "    for fold, (train_ids, test_ids) in enumerate(kfold.split(cirrhosis_X, cirrhosis_y)):\n",
    "        X_train, X_test = cirrhosis_X[train_ids], cirrhosis_X[test_ids]\n",
    "        Y_train, Y_test = cirrhosis_y[train_ids], cirrhosis_y[test_ids]\n",
    "        \n",
    "        clf_en.fit(X_train, Y_train)\n",
    "        \n",
    "        support = (clf_en.coef_!=0.0)\n",
    "        print('New shape of train data for fold',fold, ':', X_train[:, support].shape)\n",
    "        selected_features.append([i for i, val in enumerate(support) if val])\n",
    "        \n",
    "        preds_lasso_train = (clf_en.predict(X_train)>0.5)\n",
    "        acc_train_alpha.append(round(((Y_train==preds_lasso_train).sum()/len(Y_train)),2))\n",
    "        preds_lasso_test = (clf_en.predict(X_test)>0.5)\n",
    "        acc_test_alpha.append(round(((Y_test==preds_lasso_test).sum()/len(Y_test)),2))\n",
    "    tok = time.time() \n",
    "    acc_train.append(np.mean(acc_train_alpha))\n",
    "    acc_test.append(np.mean(acc_test_alpha))\n",
    "    times.append( round((tok-tik)/kfold.n_splits,2))\n",
    "\n",
    "selected_features=sum(selected_features, [])"
   ]
  },
  {
   "cell_type": "code",
   "execution_count": 48,
   "id": "9f6da65f",
   "metadata": {
    "execution": {
     "iopub.execute_input": "2022-03-26T23:04:29.689730Z",
     "iopub.status.busy": "2022-03-26T23:04:29.688742Z",
     "iopub.status.idle": "2022-03-26T23:04:30.589658Z",
     "shell.execute_reply": "2022-03-26T23:04:30.588576Z",
     "shell.execute_reply.started": "2022-03-26T10:58:20.716886Z"
    },
    "papermill": {
     "duration": 1.094494,
     "end_time": "2022-03-26T23:04:30.589895",
     "exception": false,
     "start_time": "2022-03-26T23:04:29.495401",
     "status": "completed"
    },
    "tags": []
   },
   "outputs": [
    {
     "data": {
      "text/plain": [
       "Text(0.5, 1.0, 'Test accuracy with ElasticNet Feature Selection')"
      ]
     },
     "execution_count": 48,
     "metadata": {},
     "output_type": "execute_result"
    },
    {
     "data": {
      "image/png": "[encoded data removed]",
      "text/plain": [
       "<Figure size 432x288 with 1 Axes>"
      ]
     },
     "metadata": {
      "needs_background": "light"
     },
     "output_type": "display_data"
    }
   ],
   "source": [
    "plt.plot(alpha_list, acc_test)\n",
    "plt.xscale('log')\n",
    "plt.xlabel('Alpha')\n",
    "plt.ylabel('Accuracy')\n",
    "plt.title('Test accuracy with ElasticNet Feature Selection')"
   ]
  },
  {
   "cell_type": "code",
   "execution_count": 49,
   "id": "28cbe162",
   "metadata": {
    "execution": {
     "iopub.execute_input": "2022-03-26T23:04:30.932830Z",
     "iopub.status.busy": "2022-03-26T23:04:30.928448Z",
     "iopub.status.idle": "2022-03-26T23:04:30.938608Z",
     "shell.execute_reply": "2022-03-26T23:04:30.937483Z",
     "shell.execute_reply.started": "2022-03-26T10:58:25.422927Z"
    },
    "papermill": {
     "duration": 0.182115,
     "end_time": "2022-03-26T23:04:30.938839",
     "exception": false,
     "start_time": "2022-03-26T23:04:30.756724",
     "status": "completed"
    },
    "tags": []
   },
   "outputs": [
    {
     "name": "stdout",
     "output_type": "stream",
     "text": [
      "Maximal test accuracy with Elastic Net: 0.732 achieved at alpha = 0.008\n"
     ]
    }
   ],
   "source": [
    "print('Maximal test accuracy with Elastic Net:', np.max(acc_test), 'achieved at alpha =', alpha_list[np.argmax(acc_test)])\n",
    "comparison_dict['Elasticnet']=[round(np.max(acc_test),2), times[np.argmax(acc_test)]]"
   ]
  },
  {
   "cell_type": "code",
   "execution_count": 50,
   "id": "eed9b598",
   "metadata": {
    "execution": {
     "iopub.execute_input": "2022-03-26T23:04:31.279407Z",
     "iopub.status.busy": "2022-03-26T23:04:31.278576Z",
     "iopub.status.idle": "2022-03-26T23:04:31.555497Z",
     "shell.execute_reply": "2022-03-26T23:04:31.554553Z"
    },
    "papermill": {
     "duration": 0.449204,
     "end_time": "2022-03-26T23:04:31.555708",
     "exception": false,
     "start_time": "2022-03-26T23:04:31.106504",
     "status": "completed"
    },
    "tags": []
   },
   "outputs": [
    {
     "name": "stdout",
     "output_type": "stream",
     "text": [
      "Most frequently selected features: [ 7 13  1  9 10]\n"
     ]
    },
    {
     "data": {
      "image/png": "[encoded data removed]",
      "text/plain": [
       "<Figure size 432x288 with 1 Axes>"
      ]
     },
     "metadata": {
      "needs_background": "light"
     },
     "output_type": "display_data"
    },
    {
     "data": {
      "text/plain": [
       "<Figure size 432x288 with 0 Axes>"
      ]
     },
     "metadata": {},
     "output_type": "display_data"
    }
   ],
   "source": [
    "y, x, _ = plt.hist(selected_features, bins=range(16))\n",
    "print('Most frequently selected features:', np.argpartition(y, -5)[-5:])\n",
    "plt.show()\n",
    "plt.savefig(\"Sel_feat_Elastic\")"
   ]
  },
  {
   "cell_type": "markdown",
   "id": "fe4b11c8",
   "metadata": {
    "papermill": {
     "duration": 0.16675,
     "end_time": "2022-03-26T23:04:31.892494",
     "exception": false,
     "start_time": "2022-03-26T23:04:31.725744",
     "status": "completed"
    },
    "tags": []
   },
   "source": [
    "There seems to be a strong consensus on the most important features: 1, 7, 9, 10, 13 which are (in order) Age, Cholesterol, Copper, Alk-Phos, Prothrombin"
   ]
  },
  {
   "cell_type": "markdown",
   "id": "2e8292fc",
   "metadata": {
    "papermill": {
     "duration": 0.171478,
     "end_time": "2022-03-26T23:04:32.225449",
     "exception": false,
     "start_time": "2022-03-26T23:04:32.053971",
     "status": "completed"
    },
    "tags": []
   },
   "source": [
    "# Ensemble Methods"
   ]
  },
  {
   "cell_type": "markdown",
   "id": "b5bc3c03",
   "metadata": {
    "papermill": {
     "duration": 0.166648,
     "end_time": "2022-03-26T23:04:32.560947",
     "exception": false,
     "start_time": "2022-03-26T23:04:32.394299",
     "status": "completed"
    },
    "tags": []
   },
   "source": [
    "## Majority Vote on XGBoost"
   ]
  },
  {
   "cell_type": "markdown",
   "id": "81edd595",
   "metadata": {
    "papermill": {
     "duration": 0.169205,
     "end_time": "2022-03-26T23:04:32.893472",
     "exception": false,
     "start_time": "2022-03-26T23:04:32.724267",
     "status": "completed"
    },
    "tags": []
   },
   "source": [
    "To improve upon the performance of XGBoost, we train XGBoost on five different training sets and collect the five classifiers. We then use a majority vote on all five trained classifiers and test its performance on a seperate test set that the models never saw during training."
   ]
  },
  {
   "cell_type": "code",
   "execution_count": 51,
   "id": "a1c195e8",
   "metadata": {
    "execution": {
     "iopub.execute_input": "2022-03-26T23:04:33.230531Z",
     "iopub.status.busy": "2022-03-26T23:04:33.229579Z",
     "iopub.status.idle": "2022-03-26T23:04:33.231765Z",
     "shell.execute_reply": "2022-03-26T23:04:33.232247Z",
     "shell.execute_reply.started": "2022-03-26T10:44:15.348813Z"
    },
    "papermill": {
     "duration": 0.175938,
     "end_time": "2022-03-26T23:04:33.232465",
     "exception": false,
     "start_time": "2022-03-26T23:04:33.056527",
     "status": "completed"
    },
    "tags": []
   },
   "outputs": [],
   "source": [
    "# Train-Test-Split to be used in majority vote\n",
    "cirrhosis_X_train, cirrhosis_X_test, cirrhosis_y_train, cirrhosis_y_test = train_test_split(cirrhosis_X, cirrhosis_y, test_size=0.2, random_state=1)"
   ]
  },
  {
   "cell_type": "code",
   "execution_count": 52,
   "id": "de40a0f9",
   "metadata": {
    "execution": {
     "iopub.execute_input": "2022-03-26T23:04:33.586278Z",
     "iopub.status.busy": "2022-03-26T23:04:33.572905Z",
     "iopub.status.idle": "2022-03-26T23:04:38.150542Z",
     "shell.execute_reply": "2022-03-26T23:04:38.151211Z",
     "shell.execute_reply.started": "2022-03-26T10:49:17.377204Z"
    },
    "papermill": {
     "duration": 4.750447,
     "end_time": "2022-03-26T23:04:38.151436",
     "exception": false,
     "start_time": "2022-03-26T23:04:33.400989",
     "status": "completed"
    },
    "tags": []
   },
   "outputs": [
    {
     "name": "stdout",
     "output_type": "stream",
     "text": [
      "Train accuracy: 0.91\n",
      "Test accuracy: 0.7\n",
      "Train accuracy: 0.91\n",
      "Test accuracy: 0.73\n",
      "Train accuracy: 0.89\n",
      "Test accuracy: 0.8\n",
      "Train accuracy: 0.89\n",
      "Test accuracy: 0.74\n",
      "Train accuracy: 0.89\n",
      "Test accuracy: 0.69\n",
      "Average train accuracy over 5 folds: 0.9\n",
      "Average test accuracy over 5 folds: 0.73\n",
      "Accuracy on seperate test set of majority vote: 0.77\n"
     ]
    }
   ],
   "source": [
    "acc_train = []\n",
    "acc_test = []\n",
    "\n",
    "max_depth_list = [2, 3, 4, 5, 10, 15, 20, 50, 100, 200]\n",
    "lr_list = [0.1, 0.2, 0.3, 0.4, 0.5, 0.6, 0.7]\n",
    "\n",
    "model_list = []\n",
    "tik=time.time()\n",
    "for fold, (train_ids, test_ids) in enumerate(kfold.split(cirrhosis_X_train, cirrhosis_y_train)):\n",
    "    X_train, X_test = cirrhosis_X_train[train_ids], cirrhosis_X_train[test_ids]\n",
    "    Y_train, Y_test = cirrhosis_y_train[train_ids], cirrhosis_y_train[test_ids]\n",
    "    \n",
    "    clf = XGBClassifier(max_depth=2, eta=0.1)\n",
    "    clf.fit(X_train, Y_train)\n",
    "    model_list.append(clf)\n",
    "    \n",
    "    print('Train accuracy:', round(clf.score(X_train, Y_train),2))\n",
    "    print('Test accuracy:', round(clf.score(X_test, Y_test),2))\n",
    "    \n",
    "    acc_train.append(clf.score(X_train, Y_train))\n",
    "    acc_test.append(clf.score(X_test, Y_test))\n",
    "final_acc_test = round(np.mean(acc_test),2)\n",
    "final_acc_train = round(np.mean(acc_train),2)\n",
    "\n",
    "print('Average train accuracy over 5 folds:', final_acc_train)\n",
    "print('Average test accuracy over 5 folds:', final_acc_test)\n",
    "\n",
    "majority_vote = []\n",
    "for i in range(len(cirrhosis_y_test)):\n",
    "    proportions = 0\n",
    "    for model in model_list:\n",
    "        proportions += model.predict(cirrhosis_X_test)[i]\n",
    "    proportions/=5\n",
    "    majority_vote.append(int(proportions>=3/5))\n",
    "majority_vote = np.asarray(majority_vote)\n",
    "test_acc=round(sum(majority_vote==cirrhosis_y_test)/len(cirrhosis_y_test),2)\n",
    "tok=time.time()\n",
    "\n",
    "\n",
    "comparison_dict['MajorityVoteXGB'] = [test_acc, round(tok-tik,2)]\n",
    "print('Accuracy on seperate test set of majority vote:', comparison_dict['MajorityVoteXGB'][0])"
   ]
  },
  {
   "cell_type": "markdown",
   "id": "566c4056",
   "metadata": {
    "papermill": {
     "duration": 0.166225,
     "end_time": "2022-03-26T23:04:38.489472",
     "exception": false,
     "start_time": "2022-03-26T23:04:38.323247",
     "status": "completed"
    },
    "tags": []
   },
   "source": [
    "## Ensemble Vote Classifier on XGBoost"
   ]
  },
  {
   "cell_type": "markdown",
   "id": "821030ed",
   "metadata": {
    "papermill": {
     "duration": 0.172112,
     "end_time": "2022-03-26T23:04:38.831076",
     "exception": false,
     "start_time": "2022-03-26T23:04:38.658964",
     "status": "completed"
    },
    "tags": []
   },
   "source": [
    "This is a precoded implementation of the majority vote, allowing for weight adjustments of each model. We obtain our best predictions yet.\n",
    "\n",
    "https://rasbt.github.io/mlxtend/user_guide/classifier/EnsembleVoteClassifier/"
   ]
  },
  {
   "cell_type": "code",
   "execution_count": 53,
   "id": "553684d7",
   "metadata": {
    "execution": {
     "iopub.execute_input": "2022-03-26T23:04:39.180870Z",
     "iopub.status.busy": "2022-03-26T23:04:39.179652Z",
     "iopub.status.idle": "2022-03-26T23:04:41.770634Z",
     "shell.execute_reply": "2022-03-26T23:04:41.772049Z",
     "shell.execute_reply.started": "2022-03-26T10:49:59.449823Z"
    },
    "papermill": {
     "duration": 2.774132,
     "end_time": "2022-03-26T23:04:41.772295",
     "exception": false,
     "start_time": "2022-03-26T23:04:38.998163",
     "status": "completed"
    },
    "tags": []
   },
   "outputs": [
    {
     "name": "stdout",
     "output_type": "stream",
     "text": [
      "Accuracy on seperate test set of majority vote: 0.8\n"
     ]
    }
   ],
   "source": [
    "from mlxtend.classifier import EnsembleVoteClassifier\n",
    "\n",
    "tik=time.time()\n",
    "eclf = EnsembleVoteClassifier(clfs=model_list, weights=[1,1,2,1,0.5])\n",
    "eclf.fit(cirrhosis_X_train, cirrhosis_y_train)\n",
    "eclf.predict(cirrhosis_X_test)\n",
    "eclf.score(cirrhosis_X_test, cirrhosis_y_test)\n",
    "tok=time.time()\n",
    "comparison_dict['ECLF_XGBoost'] = [round(eclf.score(cirrhosis_X_test, cirrhosis_y_test),2), round(tok-tik,2)]\n",
    "print('Accuracy on seperate test set of majority vote:', comparison_dict['ECLF_XGBoost'][0])"
   ]
  },
  {
   "cell_type": "markdown",
   "id": "e6cac3aa",
   "metadata": {
    "papermill": {
     "duration": 0.179156,
     "end_time": "2022-03-26T23:04:42.122993",
     "exception": false,
     "start_time": "2022-03-26T23:04:41.943837",
     "status": "completed"
    },
    "tags": []
   },
   "source": [
    "# Comparison of the Methods"
   ]
  },
  {
   "cell_type": "code",
   "execution_count": 54,
   "id": "c963f844",
   "metadata": {
    "execution": {
     "iopub.execute_input": "2022-03-26T23:04:42.473421Z",
     "iopub.status.busy": "2022-03-26T23:04:42.472757Z",
     "iopub.status.idle": "2022-03-26T23:04:42.969040Z",
     "shell.execute_reply": "2022-03-26T23:04:42.967793Z",
     "shell.execute_reply.started": "2022-03-26T10:50:13.401712Z"
    },
    "papermill": {
     "duration": 0.669204,
     "end_time": "2022-03-26T23:04:42.969379",
     "exception": false,
     "start_time": "2022-03-26T23:04:42.300175",
     "status": "completed"
    },
    "tags": []
   },
   "outputs": [
    {
     "data": {
      "image/png": "[encoded data removed]",
      "text/plain": [
       "<Figure size 1440x720 with 2 Axes>"
      ]
     },
     "metadata": {
      "needs_background": "light"
     },
     "output_type": "display_data"
    },
    {
     "data": {
      "text/plain": [
       "<Figure size 432x288 with 0 Axes>"
      ]
     },
     "metadata": {},
     "output_type": "display_data"
    }
   ],
   "source": [
    "##Add second y-axis\n",
    "\n",
    "fig, ax1 = plt.subplots(figsize=(20, 10))\n",
    "ax2=ax1.twinx()\n",
    "\n",
    "dict_sort=dict(sorted(comparison_dict.items(), key=lambda item: item[1][0]))\n",
    "methods = list(dict_sort.keys())\n",
    "accuracies = [item[0] for item in dict_sort.values()]\n",
    "times = [item[1] for item in dict_sort.values()]\n",
    "ax1.bar(methods, accuracies,alpha=.5)\n",
    "ax2.plot(methods, times,lw=5)\n",
    "ax1.set_xlabel(\"Models\")\n",
    "ax1.set_ylabel(\"Accuracies\")\n",
    "ax1.set_ylim(0.6)\n",
    "ax2.set_ylabel(\"Computational times\")\n",
    "plt.show()\n",
    "plt.savefig(\"Summary\")"
   ]
  },
  {
   "cell_type": "code",
   "execution_count": 55,
   "id": "7f42243f",
   "metadata": {
    "execution": {
     "iopub.execute_input": "2022-03-26T23:04:43.336248Z",
     "iopub.status.busy": "2022-03-26T23:04:43.335344Z",
     "iopub.status.idle": "2022-03-26T23:04:43.339494Z",
     "shell.execute_reply": "2022-03-26T23:04:43.340378Z",
     "shell.execute_reply.started": "2022-03-26T10:56:50.455663Z"
    },
    "papermill": {
     "duration": 0.197561,
     "end_time": "2022-03-26T23:04:43.340582",
     "exception": false,
     "start_time": "2022-03-26T23:04:43.143021",
     "status": "completed"
    },
    "tags": []
   },
   "outputs": [],
   "source": [
    "# load csv module\n",
    "import csv\n",
    "\n",
    "# open file for writing, \"w\" is writing\n",
    "w = csv.writer(open(\"output_dict.csv\", \"w\"),delimiter=',')\n",
    "\n",
    "# loop over dictionary keys and values\n",
    "for key, val in dict_sort.items():\n",
    "    # write every key and value to file\n",
    "    w.writerow([key, val[0],val[1]])\n"
   ]
  }
 ],
 "metadata": {
  "kernelspec": {
   "display_name": "Python 3",
   "language": "python",
   "name": "python3"
  },
  "language_info": {
   "codemirror_mode": {
    "name": "ipython",
    "version": 3
   },
   "file_extension": ".py",
   "mimetype": "text/x-python",
   "name": "python",
   "nbconvert_exporter": "python",
   "pygments_lexer": "ipython3",
   "version": "3.7.12"
  },
  "papermill": {
   "default_parameters": {},
   "duration": 4043.682306,
   "end_time": "2022-03-26T23:04:44.755698",
   "environment_variables": {},
   "exception": null,
   "input_path": "__notebook__.ipynb",
   "output_path": "__notebook__.ipynb",
   "parameters": {},
   "start_time": "2022-03-26T21:57:21.073392",
   "version": "2.3.3"
  }
 },
 "nbformat": 4,
 "nbformat_minor": 5
}
